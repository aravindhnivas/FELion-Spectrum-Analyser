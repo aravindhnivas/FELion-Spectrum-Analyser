{
 "cells": [
  {
   "cell_type": "code",
   "execution_count": 1,
   "metadata": {},
   "outputs": [],
   "source": [
    "import os\n",
    "from symfit import variables, Parameter, Model, Fit, exp\n",
    "from symfit.contrib.interactive_guess import InteractiveGuess2D\n",
    "import numpy as np\n",
    "import matplotlib.pyplot as plt\n",
    "#%matplotlib widget\n",
    "\n",
    "from ipywidgets import interact, interactive, fixed, interact_manual\n",
    "import ipywidgets as widgets\n",
    "from IPython.display import display\n",
    "from uncertainties import ufloat\n",
    "%matplotlib inline"
   ]
  },
  {
   "cell_type": "code",
   "execution_count": 2,
   "metadata": {},
   "outputs": [
    {
     "data": {
      "image/png": "[encoded data removed]",
      "text/plain": [
       "<Figure size 432x288 with 1 Axes>"
      ]
     },
     "metadata": {
      "needs_background": "light"
     },
     "output_type": "display_data"
    }
   ],
   "source": [
    "from glob import glob\n",
    "import datetime\n",
    "\n",
    "#%matplotlib widget\n",
    "\n",
    "os.chdir(r'D:\\SurfDrive\\backup_for_surfacePro\\Work\\C3H3+\\Data\\datas\\full_report_felixFiles\\linear_depletion_scan\\DATA')\n",
    "file = glob('*.cfelix')\n",
    "\n",
    "wn1, inten1, *_ = np.genfromtxt(file[2]).T\n",
    "plt.plot(wn1, inten1, '.')\n",
    "plt.grid()"
   ]
  },
  {
   "cell_type": "code",
   "execution_count": 3,
   "metadata": {},
   "outputs": [
    {
     "name": "stdout",
     "output_type": "stream",
     "text": [
      "OFF: 4445.31+/-139.95, ON: 3473.95+/-139.95\n",
      "Depletion: 0.22+/-0.04\n",
      "Depletion %: 21.85+/-4.00\n"
     ]
    }
   ],
   "source": [
    "base1 = 4200\n",
    "mean1 = inten1[inten1>=base1].mean()\n",
    "std1 = inten1[inten1>=base1].std()\n",
    "off1 = ufloat(mean1, std1)\n",
    "on1 = ufloat(inten1.min()+std1, std1)\n",
    "print(f'OFF: {off1:.2f}, ON: {on1:.2f}')\n",
    "d1 = 1-on1/off1\n",
    "print(f'Depletion: {d1:.2f}')\n",
    "d1_perc = d1*100\n",
    "print(f'Depletion %: {d1_perc:.2f}')"
   ]
  },
  {
   "cell_type": "code",
   "execution_count": null,
   "metadata": {},
   "outputs": [],
   "source": []
  },
  {
   "cell_type": "code",
   "execution_count": null,
   "metadata": {},
   "outputs": [],
   "source": []
  },
  {
   "cell_type": "code",
   "execution_count": null,
   "metadata": {},
   "outputs": [],
   "source": []
  },
  {
   "cell_type": "code",
   "execution_count": 4,
   "metadata": {},
   "outputs": [],
   "source": [
    "# Propargyl chloride\n",
    "t = np.array([1.63, 2.63, 3.63])\n",
    "rel_inten = np.array([0.17, 0.17, 0.22])\n",
    "err = np.array([0.04, 0.04, 0.04])\n",
    "\n",
    "E = 3.3/1000\n",
    "n = 10\n",
    "\n",
    "trap_time = n*t*E\n",
    "\n",
    "x, y = variables('x, y')\n",
    "A = Parameter('A')\n",
    "k = Parameter('k')\n",
    "model = Model({\n",
    "    y: A*(1-exp(-k*x))\n",
    "})"
   ]
  },
  {
   "cell_type": "code",
   "execution_count": 5,
   "metadata": {},
   "outputs": [
    {
     "data": {
      "application/vnd.jupyter.widget-view+json": {
       "model_id": "df323274990f4e65a432e32be8dd6854",
       "version_major": 2,
       "version_minor": 0
      },
      "text/plain": [
       "Tab(children=(Accordion(children=(HBox(children=(Label(value='A'), FloatSlider(value=0.2, max=1.0, step=0.01),…"
      ]
     },
     "metadata": {},
     "output_type": "display_data"
    },
    {
     "data": {
      "application/vnd.jupyter.widget-view+json": {
       "model_id": "2cea38106e904d03abf6f1b036201853",
       "version_major": 2,
       "version_minor": 0
      },
      "text/plain": [
       "Output()"
      ]
     },
     "metadata": {},
     "output_type": "display_data"
    },
    {
     "data": {
      "application/vnd.jupyter.widget-view+json": {
       "model_id": "226b5ed8438a47019bdf9b8413677263",
       "version_major": 2,
       "version_minor": 0
      },
      "text/plain": [
       "HBox(children=(VBox(children=(Text(value='Depletion_Plot'), Button(description='Save', layout=Layout(width='30…"
      ]
     },
     "metadata": {},
     "output_type": "display_data"
    }
   ],
   "source": [
    "class depletion_model:\n",
    "\n",
    "    def __init__(self):\n",
    "        \n",
    "        width = widgets.IntSlider(min=5,max=20,step=1,value=10)\n",
    "        height = widgets.IntSlider(min=2,max=10,step=1,value=5)\n",
    "        dpi = widgets.IntSlider(min=70,max=200,step=1,value=100)\n",
    "\n",
    "        xlabel = widgets.Text('n*t*E')\n",
    "        ylabel = widgets.Text('Relative abundance of active isomer')\n",
    "        title = widgets.Text('Depletion Model')\n",
    "\n",
    "        accordion_figure = widgets.Accordion(children=[\n",
    "            widgets.HBox([ widgets.Label(value=\"Width\"), width, widgets.Label(value=\"Height\"), height, widgets.Label(value=\"DPI\"), dpi]),\n",
    "            widgets.HBox([widgets.Label(value=\"X-label \"), xlabel, widgets.Label(value=\"Y-Label \"), ylabel, widgets.Label(value=\"Title \"), title])\n",
    "                                               ])\n",
    "        accordion_figure.set_title(0, 'Size:')\n",
    "        accordion_figure.set_title(1, 'Labels')\n",
    "\n",
    "        a = widgets.FloatSlider(min=0,max=1,step=0.01,value=0.2, desciption='A')\n",
    "        K = widgets.FloatSlider(min=0,max=50,step=0.1,value=5)\n",
    "\n",
    "        accordion_params = widgets.Accordion(children=[widgets.HBox([widgets.Label(value=\"A\"), a, widgets.Label(value=\"k\"), K])])\n",
    "        accordion_params.set_title(0, 'Main Parameters:')\n",
    "\n",
    "        tab_nest = widgets.Tab()\n",
    "        tab_nest.children = [accordion_params, accordion_figure]\n",
    "        tab_nest.set_title(0, 'Parameters')\n",
    "        tab_nest.set_title(1, 'Figure Properties')\n",
    "        \n",
    "        self.save_name = widgets.Text('Depletion_Plot')\n",
    "        save_button = widgets.Button(\n",
    "            description='Save',\n",
    "            layout={'width': '300px'}\n",
    "        )\n",
    "        \n",
    "        save_button.on_click(self.save_plot)\n",
    "        self.print_save = widgets.Label(value = '')\n",
    "        \n",
    "        save_layout = widgets.VBox([self.save_name, save_button, self.print_save])\n",
    "        \n",
    "        last_layout = widgets.HBox([save_layout, widgets.Label(value = f'Location: {os.getcwd()}')])\n",
    "        self.out = widgets.interactive_output(self.plot, {'a': a, 'K': K, 'width': width, 'height': height, 'dpi': dpi, 'xlabel': xlabel, 'ylabel': ylabel, 'title': title})\n",
    "        display(tab_nest, self.out, last_layout)\n",
    "        \n",
    "    def plot(self, a, K, width, height, dpi, xlabel, ylabel, title):\n",
    "\n",
    "        xdata = np.linspace(0, 0.3, 10)\n",
    "        y = model(x=xdata, A=a, k=K)\n",
    "        self.fig, ax = plt.subplots(figsize = (width, height), dpi=dpi)\n",
    "        ax.errorbar(trap_time, rel_inten, yerr = err, fmt='.', label='Exp')\n",
    "        ax.plot(xdata, y[0], label=f'fit: A:{a:.2f}, k:{K} /J')\n",
    "\n",
    "        ax.set_ylabel(ylabel)\n",
    "        ax.set_xlabel(xlabel)\n",
    "        ax.set_title(title)\n",
    "        ax.legend()\n",
    "        ax.grid()\n",
    "        \n",
    "    def save_plot(self, event):\n",
    "        self.fig.savefig(f'./{self.save_name.value}.png')\n",
    "        \n",
    "        t = datetime.datetime.now()\n",
    "        self.print_save.value=f'File \"{self.save_name.value}\" Saved; {t.ctime()}'\n",
    "        \n",
    "app = depletion_model()"
   ]
  },
  {
   "cell_type": "code",
   "execution_count": 6,
   "metadata": {},
   "outputs": [
    {
     "name": "stdout",
     "output_type": "stream",
     "text": [
      "\n",
      "Parameter Value        Standard Deviation\n",
      "A         2.196611e-01 4.819853e-02\n",
      "k         2.404860e+01 1.666646e+01\n",
      "Fitting status message: Optimization terminated successfully.\n",
      "Number of iterations:   79\n",
      "Regression Coefficient: 0.5350933175276621\n",
      "\n"
     ]
    }
   ],
   "source": [
    "fit = Fit(model, x=trap_time, y=rel_inten)\n",
    "fit_result = fit.execute()\n",
    "print(fit_result)"
   ]
  },
  {
   "cell_type": "code",
   "execution_count": 7,
   "metadata": {},
   "outputs": [
    {
     "data": {
      "text/plain": [
       "'Thu May  2 20:39:57 2019'"
      ]
     },
     "execution_count": 7,
     "metadata": {},
     "output_type": "execute_result"
    }
   ],
   "source": [
    "t = datetime.datetime.now()\n",
    "t.ctime()"
   ]
  },
  {
   "cell_type": "code",
   "execution_count": 8,
   "metadata": {},
   "outputs": [
    {
     "data": {
      "image/png": "[encoded data removed]",
      "text/plain": [
       "<Figure size 432x288 with 3 Axes>"
      ]
     },
     "metadata": {
      "needs_background": "light"
     },
     "output_type": "display_data"
    }
   ],
   "source": [
    "guess = InteractiveGuess2D(model, x=trap_time, y=rel_inten)\n",
    "#guess_results = guess.execute()"
   ]
  },
  {
   "cell_type": "code",
   "execution_count": 9,
   "metadata": {},
   "outputs": [
    {
     "name": "stdout",
     "output_type": "stream",
     "text": [
      "[0.05379 0.08679 0.11979] \n",
      "Parameter Value        Standard Deviation\n",
      "A         2.196611e-01 4.819853e-02\n",
      "k         2.404860e+01 1.666646e+01\n",
      "Fitting status message: Optimization terminated successfully.\n",
      "Number of iterations:   79\n",
      "Regression Coefficient: 0.5350933175276621\n",
      "\n"
     ]
    }
   ],
   "source": [
    "fit = Fit(model, x=trap_time, y=rel_inten)\n",
    "fit_result = fit.execute()\n",
    "print(trap_time, fit_result)"
   ]
  },
  {
   "cell_type": "code",
   "execution_count": 10,
   "metadata": {},
   "outputs": [
    {
     "data": {
      "text/plain": [
       "array([1., 1.])"
      ]
     },
     "execution_count": 10,
     "metadata": {},
     "output_type": "execute_result"
    }
   ],
   "source": [
    "fit.initial_guesses"
   ]
  },
  {
   "cell_type": "code",
   "execution_count": null,
   "metadata": {},
   "outputs": [],
   "source": []
  }
 ],
 "metadata": {
  "kernelspec": {
   "display_name": "Python 3",
   "language": "python",
   "name": "python3"
  },
  "language_info": {
   "codemirror_mode": {
    "name": "ipython",
    "version": 3
   },
   "file_extension": ".py",
   "mimetype": "text/x-python",
   "name": "python",
   "nbconvert_exporter": "python",
   "pygments_lexer": "ipython3",
   "version": "3.7.3"
  }
 },
 "nbformat": 4,
 "nbformat_minor": 2
}
