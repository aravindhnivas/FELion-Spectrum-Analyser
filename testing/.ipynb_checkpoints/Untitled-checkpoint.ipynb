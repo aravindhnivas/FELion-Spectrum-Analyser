{
 "cells": [
  {
   "cell_type": "code",
   "execution_count": 2,
   "metadata": {},
   "outputs": [],
   "source": [
    "\n",
    "import numpy as np\n",
    "from matplotlib import pyplot as plt\n",
    "from os import chdir as c\n",
    "import os\n"
   ]
  },
  {
   "cell_type": "code",
   "execution_count": 11,
   "metadata": {},
   "outputs": [],
   "source": [
    "c('D:\\\\FELion-Spectrum-Analyser\\\\testing\\\\_datas')"
   ]
  },
  {
   "cell_type": "code",
   "execution_count": 12,
   "metadata": {},
   "outputs": [
    {
     "data": {
      "text/plain": [
       "['01_06_18-1.mass',\n",
       " '04_06_18-1.mass',\n",
       " '04_06_18-2.mass',\n",
       " '19_11_18-5.mass',\n",
       " '21_11_18-10.mass',\n",
       " '25_04_18-7.base',\n",
       " '25_04_18-7.felix',\n",
       " '25_04_18-7.pow',\n",
       " '25_04_18-9.base',\n",
       " '25_04_18-9.felix',\n",
       " '25_04_18-9.pow',\n",
       " 'average.dat',\n",
       " 'basefile.base',\n",
       " 'felixdata.dat',\n",
       " 'felixfile.felix',\n",
       " 'massScan.mass',\n",
       " 'powerfile.pow',\n",
       " 'timescan.scan']"
      ]
     },
     "execution_count": 12,
     "metadata": {},
     "output_type": "execute_result"
    }
   ],
   "source": [
    "os.listdir()"
   ]
  },
  {
   "cell_type": "code",
   "execution_count": 29,
   "metadata": {
    "scrolled": false
   },
   "outputs": [],
   "source": [
    "def fopen(x, n=0, op=0):\n",
    "    if n>0:\n",
    "        return np.genfromtxt(x)\n",
    "    if op>0:\n",
    "        with open(x,'r') as f:\n",
    "            return np.array(f.readlines())"
   ]
  },
  {
   "cell_type": "code",
   "execution_count": 183,
   "metadata": {
    "scrolled": false
   },
   "outputs": [
    {
     "name": "stdout",
     "output_type": "stream",
     "text": [
      "1\n"
     ]
    }
   ],
   "source": [
    "f = fopen('massScan.mass',n=0, op=1)\n",
    "\n",
    "res_name = f[-14].split('\\t\\t')[2].split('#')[-1].strip()\n",
    "mass_res = round(float(f[-14].split('\\t\\t')[3].split('#')[-1].strip()))\n",
    "\n",
    "if res_name == 'm03_ao13_reso':\n",
    "    print(mass_res)\n",
    "else:\n",
    "    print('ERROR: parameter found here was: 'res_name)"
   ]
  },
  {
   "cell_type": "code",
   "execution_count": 176,
   "metadata": {},
   "outputs": [
    {
     "data": {
      "text/plain": [
       "1"
      ]
     },
     "execution_count": 176,
     "metadata": {},
     "output_type": "execute_result"
    }
   ],
   "source": [
    "\n",
    "round(0.999939)"
   ]
  }
 ],
 "metadata": {
  "kernelspec": {
   "display_name": "Python 3",
   "language": "python",
   "name": "python3"
  },
  "language_info": {
   "codemirror_mode": {
    "name": "ipython",
    "version": 3
   },
   "file_extension": ".py",
   "mimetype": "text/x-python",
   "name": "python",
   "nbconvert_exporter": "python",
   "pygments_lexer": "ipython3",
   "version": "3.7.0"
  }
 },
 "nbformat": 4,
 "nbformat_minor": 2
}
