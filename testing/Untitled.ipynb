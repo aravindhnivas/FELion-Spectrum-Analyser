{
 "cells": [
  {
   "cell_type": "markdown",
   "metadata": {},
   "source": [
    "Baseline Correction using rampy"
   ]
  },
  {
   "cell_type": "code",
   "execution_count": 2,
   "metadata": {},
   "outputs": [],
   "source": [
    "import matplotlib.pyplot as plt\n",
    "import numpy as np\n",
    "import rampy as rp"
   ]
  },
  {
   "cell_type": "code",
   "execution_count": null,
   "metadata": {},
   "outputs": [],
   "source": [
    "spectrum = np.genfromtxt(\"myspectrum.txt\")\n",
    "\n",
    "bir = np.array([[0,100., 200., 1000]]) # the frequency regions devoid of signal, used by rp.baseline()\n",
    "y_corrected, background = rp.baseline(spectrum[:,0],spectrum[:,1],bir,\"arPLS\",lam=10**10)\n",
    "\n",
    "plt.figure()\n",
    "plt.plot(spectrum[:,0],spectrum[:,1],\"k\",label=\"raw data\")\n",
    "plt.plot(spectrum[:,0],background,\"k\",label=\"background\")\n",
    "plt.plot(spectrum[:,0],y_corrected,\"k\",label=\"corrected signal\")\n",
    "plt.show()\n",
    "\n",
    "print(\"Signal centroid is %.2f\" % rp.centroid(spectrum[:,0],y_corrected))"
   ]
  }
 ],
 "metadata": {
  "kernelspec": {
   "display_name": "Python 3",
   "language": "python",
   "name": "python3"
  },
  "language_info": {
   "codemirror_mode": {
    "name": "ipython",
    "version": 3
   },
   "file_extension": ".py",
   "mimetype": "text/x-python",
   "name": "python",
   "nbconvert_exporter": "python",
   "pygments_lexer": "ipython3",
   "version": "3.7.0"
  }
 },
 "nbformat": 4,
 "nbformat_minor": 2
}
