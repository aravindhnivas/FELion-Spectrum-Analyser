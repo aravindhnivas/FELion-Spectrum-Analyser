{
 "cells": [
  {
   "cell_type": "code",
   "execution_count": 13,
   "metadata": {},
   "outputs": [],
   "source": [
    "import matplotlib.pyplot as plt\n",
    "import os\n",
    "import math as m"
   ]
  },
  {
   "cell_type": "code",
   "execution_count": 14,
   "metadata": {},
   "outputs": [
    {
     "data": {
      "text/plain": [
       "['.ipynb_checkpoints',\n",
       " '08_01_19-3.scan',\n",
       " '08_01_19-3.scan.png',\n",
       " '09_01_19-1.scan',\n",
       " '09_01_19-1.scan.png',\n",
       " '09_01_19-3.scan',\n",
       " '11_01_19-3.scan',\n",
       " '11_01_19-3.scan.png',\n",
       " '11_01_19-4.scan',\n",
       " '11_01_19-4.scan.png',\n",
       " 'Baseline.bat',\n",
       " 'errorBar.ipynb',\n",
       " 'FELion_avgSpec.py',\n",
       " 'FELion_baseline.py',\n",
       " 'FELion_GUI_Baseline_v2.py',\n",
       " 'FELion_GUI_v2.py',\n",
       " 'FELion_Icon.ico',\n",
       " 'FELion_massSpec.py',\n",
       " 'FELion_normline.py',\n",
       " 'FELion_power.py',\n",
       " 'FELion_sa.py',\n",
       " 'GUI_Baseline.py',\n",
       " 'GUI_Normline.py',\n",
       " 'GUI_Powerfile.py',\n",
       " 'GUI_settings.py',\n",
       " 'GUI_test1.py',\n",
       " 'just_avg.py',\n",
       " 'LICENSE',\n",
       " 'Normline.bat',\n",
       " 'Powerfile.bat',\n",
       " 'README.md',\n",
       " 'test_baseline.bat',\n",
       " 'test_normline.bat',\n",
       " 'test_run.py',\n",
       " '__pycache__']"
      ]
     },
     "execution_count": 14,
     "metadata": {},
     "output_type": "execute_result"
    }
   ],
   "source": [
    "os.listdir()"
   ]
  },
  {
   "cell_type": "code",
   "execution_count": 45,
   "metadata": {},
   "outputs": [
    {
     "data": {
      "image/png": "[encoded data removed]",
      "text/plain": [
       "<Figure size 432x288 with 1 Axes>"
      ]
     },
     "metadata": {
      "needs_background": "light"
     },
     "output_type": "display_data"
    }
   ],
   "source": [
    "filename = \"11_01_19-4.scan\"\n",
    "datas = []\n",
    "f = open(filename, \"r\")\n",
    "\n",
    "for line in f:\n",
    "    if not line[0] == \"#\" and not line == \"\\n\":\n",
    "        a = line.split()\n",
    "        datas.append(a)\n",
    "        if line.strip() == \"ALL:\":\n",
    "            del datas[-1]\n",
    "            break\n",
    "no_of_mass = len(datas[0])-2\n",
    "\n",
    "f.close()\n",
    "\n",
    "\n",
    "\n",
    "d = {}\n",
    "\n",
    "for i in range(no_of_mass):\n",
    "    d[\"mass_#{0}\".format(i)] = []\n",
    "\n",
    "for i in range(len(d)):\n",
    "    d['mass_#{}'.format(i)] = [float(j[i+1]) for j in datas]\n",
    "\n",
    "time = [float(i[0]) for i in datas]\n",
    "\n",
    "for i in range(no_of_mass):\n",
    "    plt.scatter(time, d['mass_#{}'.format(i)])\n",
    "    plt.plot(time, d['mass_#{}'.format(i)], label = mass_values[i])\n",
    "\n",
    "plt.grid(True)\n",
    "plt.xlabel(\"Time (ms)\")\n",
    "plt.ylabel(\"Ion Counts\")\n",
    "plt.legend()\n",
    "plt.title(filename)\n",
    "plt.savefig(filename+\".png\")\n",
    "plt.show()\n",
    "plt.close()"
   ]
  },
  {
   "cell_type": "code",
   "execution_count": null,
   "metadata": {},
   "outputs": [],
   "source": []
  },
  {
   "cell_type": "code",
   "execution_count": 41,
   "metadata": {},
   "outputs": [],
   "source": [
    "#Error bar calculations:\n",
    "f = open(filename, \"r\")\n",
    "mass_values = []\n",
    "for line in f:\n",
    "    if line.find(\"#mass\")>=0:\n",
    "        tmp = line[5:].split(\":\")\n",
    "        tmp.append(\":\")\n",
    "        tmp = tmp[0].strip()+tmp[-1]+tmp[1].strip()\n",
    "        mass_values.append(tmp)\n",
    "f.close()\n",
    "\n",
    "iterations = [int(i.split(\":\")[-1]) for i in mass_values]\n",
    "\n",
    "f = open(filename, \"r\")\n",
    "start = False\n",
    "no_of_times = 0\n",
    "raw_datas = []\n",
    "for line in f:\n",
    "    if not line[0]==\"#\" and not line == \"\\n\":\n",
    "        line.strip()\n",
    "        tmp = line.split()\n",
    "        if tmp[0]==\"ALL:\":\n",
    "            start = True\n",
    "            continue\n",
    "        if start:\n",
    "            no_of_times += 1\n",
    "            raw_datas.append(line.strip())\n",
    "f.close()\n",
    "no_of_datas_for_each_iterations = int(no_of_times/sum(iterations))\n",
    "\n",
    "\n",
    "values = []\n",
    "for datas in raw_datas:\n",
    "    values.append(datas.split())\n",
    "values = [[float(i) for i in j] for j in values]\n",
    "\n",
    "#Separating data set for every iteration for all masses combined\n",
    "all_datas = []\n",
    "total =  no_of_datas_for_each_iterations\n",
    "for j in range(sum(iterations)):\n",
    "    i = j*total\n",
    "    all_datas.append(values[i:i+total])\n",
    "\n",
    "# Giving the data sets according to the iterations for each mass separately\n",
    "# The mass variables are stored like a dictionary\n",
    "samples = {}\n",
    "for i in range(no_of_mass):\n",
    "    samples[\"mass_sample_{}\".format(i)] = []\n",
    "\n",
    "k,l = 0, -1\n",
    "for i in iterations:\n",
    "    l += 1\n",
    "    for j in range(i):\n",
    "        samples[\"mass_sample_{}\".format(l)].append(all_datas[k])\n",
    "        k += 1\n",
    "\n",
    "# Getting all the ion counts and also calculating the mean of it for the iteration number of times\n",
    "k = 0\n",
    "data_run = no_of_datas_for_each_iterations\n",
    "mass_count_avg, all_mass_count = [], []\n",
    "\n",
    "for i in iterations:\n",
    "    \n",
    "    if i>1:\n",
    "        to_avg = [[samples[\"mass_sample_{}\".format(k)][j][m][2] for m in range(data_run)] for j in range(i)]\n",
    "        all_mass_count.append(to_avg)\n",
    "        mass = [[to_avg[l][j] for l in range(i)] for j in range(data_run)]\n",
    "        mass_count = [sum(mass[j])/i for j in range(len(mass))]\n",
    "        mass_count_avg.append(mass_count)\n",
    "    k += 1\n",
    "    \n",
    "# Calculating varience\n",
    "more_iterations_count = 0\n",
    "for i in iterations:\n",
    "    if i>1:\n",
    "        more_iterations_count += 1\n",
    "\n",
    "varience_adder, varience_collector, varience = [],[],[]\n",
    "\n",
    "for i in range(more_iterations_count):\n",
    "    \n",
    "    for j in range(data_run):\n",
    "        \n",
    "        for k in range(len(all_mass_count[i])):\n",
    "            x, mu = all_mass_count[i][k][j], mass_count_avg[i][j]\n",
    "            varience_adder.append((x-mu)**2)\n",
    "            \n",
    "        varience_collector.append(sum(varience_adder)/(len(varience_adder)-1))\n",
    "        varience_adder = []\n",
    "        \n",
    "    varience.append(varience_collector)\n",
    "    varience_collector = []\n",
    "\n",
    "#Standard deviations and standard error\n",
    "no_of_moreiterations = []\n",
    "for i in iterations:\n",
    "    if i>1:\n",
    "        no_of_moreiterations.append(i)\n",
    "\n",
    "standard_deviation = [[m.sqrt(i) for i in varience[j]] for j in range(len(varience))]\n",
    "standard_error = [[i/m.sqrt(no_of_moreiterations[j]) for i in standard_deviation[j]] for j in range(len(standard_deviation))]"
   ]
  },
  {
   "cell_type": "code",
   "execution_count": 50,
   "metadata": {
    "scrolled": false
   },
   "outputs": [
    {
     "data": {
      "text/plain": [
       "16"
      ]
     },
     "execution_count": 50,
     "metadata": {},
     "output_type": "execute_result"
    }
   ],
   "source": [
    "data_run"
   ]
  },
  {
   "cell_type": "code",
   "execution_count": null,
   "metadata": {},
   "outputs": [],
   "source": []
  },
  {
   "cell_type": "code",
   "execution_count": 43,
   "metadata": {
    "scrolled": false
   },
   "outputs": [],
   "source": []
  },
  {
   "cell_type": "code",
   "execution_count": null,
   "metadata": {},
   "outputs": [],
   "source": []
  },
  {
   "cell_type": "code",
   "execution_count": null,
   "metadata": {
    "scrolled": true
   },
   "outputs": [],
   "source": []
  },
  {
   "cell_type": "code",
   "execution_count": null,
   "metadata": {},
   "outputs": [],
   "source": []
  },
  {
   "cell_type": "code",
   "execution_count": 21,
   "metadata": {
    "scrolled": false
   },
   "outputs": [],
   "source": []
  },
  {
   "cell_type": "code",
   "execution_count": 22,
   "metadata": {},
   "outputs": [],
   "source": []
  },
  {
   "cell_type": "code",
   "execution_count": 23,
   "metadata": {
    "scrolled": false
   },
   "outputs": [
    {
     "name": "stdout",
     "output_type": "stream",
     "text": [
      "[[29635.0, 64491.666666666664, 155279.0, 14138.25, 137684.91666666666, 59749.583333333336, 237641.66666666666, 166968.0, 40356.666666666664, 81029.66666666667, 50560.666666666664, 85346.91666666667, 50079.333333333336, 150764.25, 101266.0, 21987.0], [3.5833333333333335, 3552.9166666666665, 16436.666666666668, 75665.0, 43556.25, 569.5833333333334, 3397.6666666666665, 7904.25, 7276.333333333333, 3104.9166666666665, 5474.666666666667, 7020.666666666667, 5451.333333333333, 3132.25, 2211.0, 3748.6666666666665]] \n",
      " [[172.1481919742406, 253.95209522007622, 394.0545647496042, 118.90437334261512, 371.05918216191156, 244.43727893538116, 487.4850425055795, 408.6171802555541, 200.8896878056877, 284.6571036645084, 224.8569915894693, 292.1419460924204, 223.78412216538808, 388.28372358367017, 318.22319211521966, 148.28014027508877], [1.8929694486000912, 59.60634753670675, 128.2055641018231, 275.0727176584403, 208.7013416344035, 23.86594505426788, 58.28950734623399, 88.90584907642466, 85.30142632648842, 55.721779105361186, 73.99099044253069, 83.7894185841307, 73.83314522173177, 55.96650784174407, 47.02127178203499, 61.22635598062869]] \n",
      " [[86.0740959871203, 126.97604761003811, 197.0272823748021, 59.45218667130756, 185.52959108095578, 122.21863946769058, 243.74252125278974, 204.30859012777705, 100.44484390284384, 142.3285518322542, 112.42849579473464, 146.0709730462102, 111.89206108269404, 194.14186179183508, 159.11159605760983, 74.14007013754438], [0.9464847243000456, 29.803173768353375, 64.10278205091154, 137.53635882922015, 104.35067081720175, 11.93297252713394, 29.144753673116995, 44.45292453821233, 42.65071316324421, 27.860889552680593, 36.995495221265344, 41.89470929206535, 36.916572610865884, 27.983253920872034, 23.510635891017493, 30.613177990314345]]\n"
     ]
    }
   ],
   "source": [
    "print(varience, \"\\n\",\n",
    "     standard_deviation,\"\\n\",\n",
    "     standard_error)"
   ]
  }
 ],
 "metadata": {
  "kernelspec": {
   "display_name": "Python 3",
   "language": "python",
   "name": "python3"
  }
 },
 "nbformat": 4,
 "nbformat_minor": 2
}
