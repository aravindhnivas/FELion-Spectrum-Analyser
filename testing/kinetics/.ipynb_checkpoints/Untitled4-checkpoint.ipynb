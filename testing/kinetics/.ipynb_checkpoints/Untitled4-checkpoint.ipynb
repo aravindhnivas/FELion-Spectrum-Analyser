{
 "cells": [
  {
   "cell_type": "code",
   "execution_count": 4,
   "metadata": {},
   "outputs": [],
   "source": [
    "import os\n",
    "from symfit import variables, Parameter, Model, Fit, exp\n",
    "from symfit.contrib.interactive_guess import InteractiveGuess2D\n",
    "import numpy as np\n",
    "import matplotlib.pyplot as plt\n",
    "%matplotlib tk"
   ]
  },
  {
   "cell_type": "code",
   "execution_count": 5,
   "metadata": {},
   "outputs": [
    {
     "data": {
      "text/plain": [
       "[<matplotlib.lines.Line2D at 0x1e934fb2e10>]"
      ]
     },
     "execution_count": 5,
     "metadata": {},
     "output_type": "execute_result"
    }
   ],
   "source": [
    "os.chdir(r'D:\\SurfDrive\\backup_for_surfacePro\\Work\\C3H3+\\Data\\datas\\full_report_felixFiles\\linear_depletion_scan')\n",
    "file = 'depletion_linear.txt'\n",
    "t, inten = np.genfromtxt(file).T\n",
    "plt.plot(t, inten, '.--')"
   ]
  },
  {
   "cell_type": "code",
   "execution_count": null,
   "metadata": {},
   "outputs": [],
   "source": [
    "n = 10\n",
    "E = 3.3/1000\n",
    "\n",
    "trap_time = n*t*E\n",
    "inten_off = [inten.max(), inten.max(), inten.max()]\n",
    "rel_inten = 1-inten/inten_off\n",
    "\n",
    "x, y = variables('x, y')\n",
    "A = Parameter('A', min=0, max=1)\n",
    "k = Parameter('k', min=0, max=10)\n",
    "\n",
    "model = Model({\n",
    "    y: A*(1-exp(-k*x))\n",
    "})\n",
    "\n",
    "xdata = np.linspace(0, 0.5, 10)\n",
    "\n",
    "guess = InteractiveGuess2D(model, x=trap_time, y=rel_inten)\n",
    "guess.execute()"
   ]
  },
  {
   "cell_type": "code",
   "execution_count": 15,
   "metadata": {},
   "outputs": [],
   "source": []
  },
  {
   "cell_type": "code",
   "execution_count": 15,
   "metadata": {},
   "outputs": [
    {
     "name": "stdout",
     "output_type": "stream",
     "text": [
      "[0.05379 0.08679 0.11979] \n",
      "Parameter Value        Standard Deviation\n",
      "A         1.000000e+00 7.278867e+00\n",
      "k         4.442967e+00 4.058148e+01\n",
      "Fitting status message: b'CONVERGENCE: NORM_OF_PROJECTED_GRADIENT_<=_PGTOL'\n",
      "Number of iterations:   8\n",
      "Regression Coefficient: 0.5669091063279286\n",
      "\n"
     ]
    }
   ],
   "source": [
    "y = model(x=xdata, A=0.7, k=4)\n",
    "plt.plot(trap_time, rel_inten, '.')\n",
    "plt.plot(xdata, y[0])\n",
    "\n",
    "#fit = Fit(model, x=trap_time, y=rel_inten)\n",
    "#fit_result = fit.execute()\n",
    "#print(trap_time, fit_result)"
   ]
  },
  {
   "cell_type": "code",
   "execution_count": null,
   "metadata": {},
   "outputs": [],
   "source": []
  },
  {
   "cell_type": "code",
   "execution_count": 104,
   "metadata": {},
   "outputs": [
    {
     "data": {
      "text/plain": [
       "[<matplotlib.lines.Line2D at 0x254f650dd68>]"
      ]
     },
     "execution_count": 104,
     "metadata": {},
     "output_type": "execute_result"
    }
   ],
   "source": [
    "xdata = np.linspace(0, 0.5, 10)\n",
    "\n"
   ]
  },
  {
   "cell_type": "code",
   "execution_count": null,
   "metadata": {},
   "outputs": [],
   "source": []
  }
 ],
 "metadata": {
  "kernelspec": {
   "display_name": "Python 3",
   "language": "python",
   "name": "python3"
  },
  "language_info": {
   "codemirror_mode": {
    "name": "ipython",
    "version": 3
   },
   "file_extension": ".py",
   "mimetype": "text/x-python",
   "name": "python",
   "nbconvert_exporter": "python",
   "pygments_lexer": "ipython3",
   "version": "3.7.0"
  }
 },
 "nbformat": 4,
 "nbformat_minor": 2
}
