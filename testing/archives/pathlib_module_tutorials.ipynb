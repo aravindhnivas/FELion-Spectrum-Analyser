{
 "cells": [
  {
   "cell_type": "code",
   "execution_count": 29,
   "metadata": {},
   "outputs": [],
   "source": [
    "from pathlib import Path as path\n",
    "import os\n",
    "import numpy as np"
   ]
  },
  {
   "cell_type": "code",
   "execution_count": 30,
   "metadata": {},
   "outputs": [
    {
     "name": "stdout",
     "output_type": "stream",
     "text": [
      "Location: D:\\FELion-Spectrum-Analyser\\testing\\archives\n",
      "Home: C:\\Users\\admin-aravindh\n",
      "Join Path (example, such as ): D:\\FELion-Spectrum-Analyser\\testing\\archives\\testing\\python.py\n"
     ]
    }
   ],
   "source": [
    "location = path.cwd()\n",
    "print(f'Location: {location}')\n",
    "\n",
    "user_home_dir = path.home()\n",
    "print(f'Home: {user_home_dir}')\n",
    "\n",
    "join_path = location.joinpath('testing', 'python.py')\n",
    "print(f'Join Path (example, such as ): {join_path}')"
   ]
  },
  {
   "cell_type": "code",
   "execution_count": 32,
   "metadata": {},
   "outputs": [
    {
     "data": {
      "text/plain": [
       "('python.py', 'python', '.py')"
      ]
     },
     "execution_count": 32,
     "metadata": {},
     "output_type": "execute_result"
    }
   ],
   "source": [
    "join_path.name, join_path.stem, join_path.suffix,"
   ]
  },
  {
   "cell_type": "code",
   "execution_count": 33,
   "metadata": {},
   "outputs": [
    {
     "data": {
      "text/plain": [
       "(WindowsPath('D:/FELion-Spectrum-Analyser/testing/archives/testing'),\n",
       " 'D:\\\\',\n",
       " WindowsPath('D:/FELion-Spectrum-Analyser/testing/archives'),\n",
       " 'D:')"
      ]
     },
     "execution_count": 33,
     "metadata": {},
     "output_type": "execute_result"
    }
   ],
   "source": [
    "join_path.parent, join_path.anchor,join_path.parent.parent, join_path.drive"
   ]
  },
  {
   "cell_type": "code",
   "execution_count": 90,
   "metadata": {},
   "outputs": [
    {
     "data": {
      "text/plain": [
       "WindowsPath('D:/FELion-Spectrum-Analyser/testing/archives')"
      ]
     },
     "execution_count": 90,
     "metadata": {},
     "output_type": "execute_result"
    }
   ],
   "source": [
    "test = join_path.parent.parent\n",
    "test"
   ]
  },
  {
   "cell_type": "code",
   "execution_count": 3,
   "metadata": {},
   "outputs": [
    {
     "data": {
      "text/plain": [
       "(WindowsPath('D:/FELion-Spectrum-Analyser/testing/archives/testing/python.md'),\n",
       " WindowsPath('D:/FELion-Spectrum-Analyser/testing/archives/testing/python.md'),\n",
       " [WindowsPath('D:/FELion-Spectrum-Analyser/testing/archives/testing'),\n",
       "  WindowsPath('D:/FELion-Spectrum-Analyser/testing/archives'),\n",
       "  WindowsPath('D:/FELion-Spectrum-Analyser/testing'),\n",
       "  WindowsPath('D:/FELion-Spectrum-Analyser'),\n",
       "  WindowsPath('D:/')],\n",
       " False)"
      ]
     },
     "execution_count": 3,
     "metadata": {},
     "output_type": "execute_result"
    }
   ],
   "source": [
    "join_path.with_suffix('.md'), join_path.with_name('python.md'), list(join_path.parents), join_path.exists()"
   ]
  },
  {
   "cell_type": "code",
   "execution_count": 4,
   "metadata": {},
   "outputs": [
    {
     "data": {
      "text/plain": [
       "[WindowsPath('D:/FELion-Spectrum-Analyser/testing/archives/baseline.ipynb'),\n",
       " WindowsPath('D:/FELion-Spectrum-Analyser/testing/archives/baseline_plot.ipynb'),\n",
       " WindowsPath('D:/FELion-Spectrum-Analyser/testing/archives/chempy.ipynb'),\n",
       " WindowsPath('D:/FELion-Spectrum-Analyser/testing/archives/depletion_timescan.ipynb'),\n",
       " WindowsPath('D:/FELion-Spectrum-Analyser/testing/archives/event handling.ipynb'),\n",
       " WindowsPath('D:/FELion-Spectrum-Analyser/testing/archives/felion_baseline_definitions_test.ipynb'),\n",
       " WindowsPath('D:/FELion-Spectrum-Analyser/testing/archives/FELion_NormlineModifications.ipynb'),\n",
       " WindowsPath('D:/FELion-Spectrum-Analyser/testing/archives/FELion_tkinter.ipynb'),\n",
       " WindowsPath('D:/FELion-Spectrum-Analyser/testing/archives/ipython_widgets.ipynb'),\n",
       " WindowsPath('D:/FELion-Spectrum-Analyser/testing/archives/matplotlib event handling.ipynb'),\n",
       " WindowsPath('D:/FELion-Spectrum-Analyser/testing/archives/matplotlib.ipynb'),\n",
       " WindowsPath('D:/FELion-Spectrum-Analyser/testing/archives/matplotlib_tips.ipynb'),\n",
       " WindowsPath('D:/FELion-Spectrum-Analyser/testing/archives/pathlib_module_tutorials.ipynb'),\n",
       " WindowsPath('D:/FELion-Spectrum-Analyser/testing/archives/plotly.ipynb'),\n",
       " WindowsPath('D:/FELion-Spectrum-Analyser/testing/archives/unit_conversion.ipynb'),\n",
       " WindowsPath('D:/FELion-Spectrum-Analyser/testing/archives/Untitled.ipynb'),\n",
       " WindowsPath('D:/FELion-Spectrum-Analyser/testing/archives/Untitled1.ipynb'),\n",
       " WindowsPath('D:/FELion-Spectrum-Analyser/testing/archives/Untitled2.ipynb'),\n",
       " WindowsPath('D:/FELion-Spectrum-Analyser/testing/archives/Untitled3.ipynb'),\n",
       " WindowsPath('D:/FELion-Spectrum-Analyser/testing/archives/Untitled4.ipynb'),\n",
       " WindowsPath('D:/FELion-Spectrum-Analyser/testing/archives/Untitled5.ipynb'),\n",
       " WindowsPath('D:/FELion-Spectrum-Analyser/testing/archives/Untitled6.ipynb')]"
      ]
     },
     "execution_count": 4,
     "metadata": {},
     "output_type": "execute_result"
    }
   ],
   "source": [
    "list(location.glob('*.ipynb'))"
   ]
  },
  {
   "cell_type": "code",
   "execution_count": 5,
   "metadata": {},
   "outputs": [
    {
     "data": {
      "text/plain": [
       "[WindowsPath('D:/FELion-Spectrum-Analyser/testing/archives/.ipynb_checkpoints'),\n",
       " WindowsPath('D:/FELion-Spectrum-Analyser/testing/archives/Baseline.bat'),\n",
       " WindowsPath('D:/FELion-Spectrum-Analyser/testing/archives/baseline.ipynb'),\n",
       " WindowsPath('D:/FELion-Spectrum-Analyser/testing/archives/baseline_plot.ipynb'),\n",
       " WindowsPath('D:/FELion-Spectrum-Analyser/testing/archives/chempy.ipynb'),\n",
       " WindowsPath('D:/FELion-Spectrum-Analyser/testing/archives/depletion_plot.py'),\n",
       " WindowsPath('D:/FELion-Spectrum-Analyser/testing/archives/depletion_timescan.ipynb'),\n",
       " WindowsPath('D:/FELion-Spectrum-Analyser/testing/archives/event handling.ipynb'),\n",
       " WindowsPath('D:/FELion-Spectrum-Analyser/testing/archives/event_handling.py'),\n",
       " WindowsPath('D:/FELion-Spectrum-Analyser/testing/archives/FELion_avgSpec.py'),\n",
       " WindowsPath('D:/FELion-Spectrum-Analyser/testing/archives/FELion_baseline.py'),\n",
       " WindowsPath('D:/FELion-Spectrum-Analyser/testing/archives/FELion_baseline_1.py'),\n",
       " WindowsPath('D:/FELion-Spectrum-Analyser/testing/archives/felion_baseline_definitions_test.ipynb'),\n",
       " WindowsPath('D:/FELion-Spectrum-Analyser/testing/archives/FELion_baseline_modified.py'),\n",
       " WindowsPath('D:/FELion-Spectrum-Analyser/testing/archives/FELion_baseline_saved.py'),\n",
       " WindowsPath('D:/FELion-Spectrum-Analyser/testing/archives/FELion_definitions.py'),\n",
       " WindowsPath('D:/FELion-Spectrum-Analyser/testing/archives/FELion_GUI_Baseline_v2.py'),\n",
       " WindowsPath('D:/FELion-Spectrum-Analyser/testing/archives/FELion_GUI_Baseline_v3.py'),\n",
       " WindowsPath('D:/FELion-Spectrum-Analyser/testing/archives/FELion_GUI_v2.py'),\n",
       " WindowsPath('D:/FELion-Spectrum-Analyser/testing/archives/FELion_GUI_v3.py'),\n",
       " WindowsPath('D:/FELion-Spectrum-Analyser/testing/archives/FELion_Icon.ico'),\n",
       " WindowsPath('D:/FELion-Spectrum-Analyser/testing/archives/FELion_massSpec.py'),\n",
       " WindowsPath('D:/FELion-Spectrum-Analyser/testing/archives/FELion_normline.py'),\n",
       " WindowsPath('D:/FELion-Spectrum-Analyser/testing/archives/FELion_NormlineModifications.ipynb'),\n",
       " WindowsPath('D:/FELion-Spectrum-Analyser/testing/archives/FELion_Normline_mod.py'),\n",
       " WindowsPath('D:/FELion-Spectrum-Analyser/testing/archives/FELion_power.py'),\n",
       " WindowsPath('D:/FELion-Spectrum-Analyser/testing/archives/FELion_sa.py'),\n",
       " WindowsPath('D:/FELion-Spectrum-Analyser/testing/archives/FELion_tkinter.ipynb'),\n",
       " WindowsPath('D:/FELion-Spectrum-Analyser/testing/archives/fig_axes_labels_simple.py'),\n",
       " WindowsPath('D:/FELion-Spectrum-Analyser/testing/archives/ipython_widgets.ipynb'),\n",
       " WindowsPath('D:/FELion-Spectrum-Analyser/testing/archives/just_avg.py'),\n",
       " WindowsPath('D:/FELion-Spectrum-Analyser/testing/archives/just_plot.py'),\n",
       " WindowsPath('D:/FELion-Spectrum-Analyser/testing/archives/LICENSE'),\n",
       " WindowsPath('D:/FELion-Spectrum-Analyser/testing/archives/matplotlib event handling.ipynb'),\n",
       " WindowsPath('D:/FELion-Spectrum-Analyser/testing/archives/matplotlib.ipynb'),\n",
       " WindowsPath('D:/FELion-Spectrum-Analyser/testing/archives/matplotlib_interactive.py'),\n",
       " WindowsPath('D:/FELion-Spectrum-Analyser/testing/archives/matplotlib_tips.ipynb'),\n",
       " WindowsPath('D:/FELion-Spectrum-Analyser/testing/archives/Normline.bat'),\n",
       " WindowsPath('D:/FELion-Spectrum-Analyser/testing/archives/norm_featscale.py'),\n",
       " WindowsPath('D:/FELion-Spectrum-Analyser/testing/archives/pathlib_module_tutorials.ipynb'),\n",
       " WindowsPath('D:/FELion-Spectrum-Analyser/testing/archives/pip_install.py'),\n",
       " WindowsPath('D:/FELion-Spectrum-Analyser/testing/archives/plotly.ipynb'),\n",
       " WindowsPath('D:/FELion-Spectrum-Analyser/testing/archives/poly_editor.py'),\n",
       " WindowsPath('D:/FELion-Spectrum-Analyser/testing/archives/README.md'),\n",
       " WindowsPath('D:/FELion-Spectrum-Analyser/testing/archives/setup.py'),\n",
       " WindowsPath('D:/FELion-Spectrum-Analyser/testing/archives/test.py'),\n",
       " WindowsPath('D:/FELion-Spectrum-Analyser/testing/archives/timescan_plot.py'),\n",
       " WindowsPath('D:/FELion-Spectrum-Analyser/testing/archives/unit_conversion.ipynb'),\n",
       " WindowsPath('D:/FELion-Spectrum-Analyser/testing/archives/Untitled.ipynb'),\n",
       " WindowsPath('D:/FELion-Spectrum-Analyser/testing/archives/Untitled1.ipynb'),\n",
       " WindowsPath('D:/FELion-Spectrum-Analyser/testing/archives/Untitled2.ipynb'),\n",
       " WindowsPath('D:/FELion-Spectrum-Analyser/testing/archives/Untitled3.ipynb'),\n",
       " WindowsPath('D:/FELion-Spectrum-Analyser/testing/archives/Untitled4.ipynb'),\n",
       " WindowsPath('D:/FELion-Spectrum-Analyser/testing/archives/Untitled5.ipynb'),\n",
       " WindowsPath('D:/FELion-Spectrum-Analyser/testing/archives/Untitled6.ipynb'),\n",
       " WindowsPath('D:/FELion-Spectrum-Analyser/testing/archives/.ipynb_checkpoints/pathlib_module_tutorials-checkpoint.ipynb')]"
      ]
     },
     "execution_count": 5,
     "metadata": {},
     "output_type": "execute_result"
    }
   ],
   "source": [
    "list(location.rglob('*'))"
   ]
  },
  {
   "cell_type": "markdown",
   "metadata": {},
   "source": [
    "## Directories and files can be deleted using .rmdir() and .unlink() respectively. (Again, be careful!)"
   ]
  },
  {
   "cell_type": "code",
   "execution_count": 6,
   "metadata": {},
   "outputs": [
    {
     "data": {
      "text/plain": [
       "[WindowsPath('D:/FELion-Spectrum-Analyser/testing/archives/.ipynb_checkpoints'),\n",
       " WindowsPath('D:/FELion-Spectrum-Analyser/testing/archives/Baseline.bat'),\n",
       " WindowsPath('D:/FELion-Spectrum-Analyser/testing/archives/baseline.ipynb'),\n",
       " WindowsPath('D:/FELion-Spectrum-Analyser/testing/archives/baseline_plot.ipynb'),\n",
       " WindowsPath('D:/FELion-Spectrum-Analyser/testing/archives/chempy.ipynb'),\n",
       " WindowsPath('D:/FELion-Spectrum-Analyser/testing/archives/depletion_plot.py'),\n",
       " WindowsPath('D:/FELion-Spectrum-Analyser/testing/archives/depletion_timescan.ipynb'),\n",
       " WindowsPath('D:/FELion-Spectrum-Analyser/testing/archives/event handling.ipynb'),\n",
       " WindowsPath('D:/FELion-Spectrum-Analyser/testing/archives/event_handling.py'),\n",
       " WindowsPath('D:/FELion-Spectrum-Analyser/testing/archives/FELion_avgSpec.py'),\n",
       " WindowsPath('D:/FELion-Spectrum-Analyser/testing/archives/FELion_baseline.py'),\n",
       " WindowsPath('D:/FELion-Spectrum-Analyser/testing/archives/FELion_baseline_1.py'),\n",
       " WindowsPath('D:/FELion-Spectrum-Analyser/testing/archives/felion_baseline_definitions_test.ipynb'),\n",
       " WindowsPath('D:/FELion-Spectrum-Analyser/testing/archives/FELion_baseline_modified.py'),\n",
       " WindowsPath('D:/FELion-Spectrum-Analyser/testing/archives/FELion_baseline_saved.py'),\n",
       " WindowsPath('D:/FELion-Spectrum-Analyser/testing/archives/FELion_definitions.py'),\n",
       " WindowsPath('D:/FELion-Spectrum-Analyser/testing/archives/FELion_GUI_Baseline_v2.py'),\n",
       " WindowsPath('D:/FELion-Spectrum-Analyser/testing/archives/FELion_GUI_Baseline_v3.py'),\n",
       " WindowsPath('D:/FELion-Spectrum-Analyser/testing/archives/FELion_GUI_v2.py'),\n",
       " WindowsPath('D:/FELion-Spectrum-Analyser/testing/archives/FELion_GUI_v3.py'),\n",
       " WindowsPath('D:/FELion-Spectrum-Analyser/testing/archives/FELion_Icon.ico'),\n",
       " WindowsPath('D:/FELion-Spectrum-Analyser/testing/archives/FELion_massSpec.py'),\n",
       " WindowsPath('D:/FELion-Spectrum-Analyser/testing/archives/FELion_normline.py'),\n",
       " WindowsPath('D:/FELion-Spectrum-Analyser/testing/archives/FELion_NormlineModifications.ipynb'),\n",
       " WindowsPath('D:/FELion-Spectrum-Analyser/testing/archives/FELion_Normline_mod.py'),\n",
       " WindowsPath('D:/FELion-Spectrum-Analyser/testing/archives/FELion_power.py'),\n",
       " WindowsPath('D:/FELion-Spectrum-Analyser/testing/archives/FELion_sa.py'),\n",
       " WindowsPath('D:/FELion-Spectrum-Analyser/testing/archives/FELion_tkinter.ipynb'),\n",
       " WindowsPath('D:/FELion-Spectrum-Analyser/testing/archives/fig_axes_labels_simple.py'),\n",
       " WindowsPath('D:/FELion-Spectrum-Analyser/testing/archives/ipython_widgets.ipynb'),\n",
       " WindowsPath('D:/FELion-Spectrum-Analyser/testing/archives/just_avg.py'),\n",
       " WindowsPath('D:/FELion-Spectrum-Analyser/testing/archives/just_plot.py'),\n",
       " WindowsPath('D:/FELion-Spectrum-Analyser/testing/archives/LICENSE'),\n",
       " WindowsPath('D:/FELion-Spectrum-Analyser/testing/archives/matplotlib event handling.ipynb'),\n",
       " WindowsPath('D:/FELion-Spectrum-Analyser/testing/archives/matplotlib.ipynb'),\n",
       " WindowsPath('D:/FELion-Spectrum-Analyser/testing/archives/matplotlib_interactive.py'),\n",
       " WindowsPath('D:/FELion-Spectrum-Analyser/testing/archives/matplotlib_tips.ipynb'),\n",
       " WindowsPath('D:/FELion-Spectrum-Analyser/testing/archives/Normline.bat'),\n",
       " WindowsPath('D:/FELion-Spectrum-Analyser/testing/archives/norm_featscale.py'),\n",
       " WindowsPath('D:/FELion-Spectrum-Analyser/testing/archives/pathlib_module_tutorials.ipynb'),\n",
       " WindowsPath('D:/FELion-Spectrum-Analyser/testing/archives/pip_install.py'),\n",
       " WindowsPath('D:/FELion-Spectrum-Analyser/testing/archives/plotly.ipynb'),\n",
       " WindowsPath('D:/FELion-Spectrum-Analyser/testing/archives/poly_editor.py'),\n",
       " WindowsPath('D:/FELion-Spectrum-Analyser/testing/archives/README.md'),\n",
       " WindowsPath('D:/FELion-Spectrum-Analyser/testing/archives/setup.py'),\n",
       " WindowsPath('D:/FELion-Spectrum-Analyser/testing/archives/test.py'),\n",
       " WindowsPath('D:/FELion-Spectrum-Analyser/testing/archives/timescan_plot.py'),\n",
       " WindowsPath('D:/FELion-Spectrum-Analyser/testing/archives/unit_conversion.ipynb'),\n",
       " WindowsPath('D:/FELion-Spectrum-Analyser/testing/archives/Untitled.ipynb'),\n",
       " WindowsPath('D:/FELion-Spectrum-Analyser/testing/archives/Untitled1.ipynb'),\n",
       " WindowsPath('D:/FELion-Spectrum-Analyser/testing/archives/Untitled2.ipynb'),\n",
       " WindowsPath('D:/FELion-Spectrum-Analyser/testing/archives/Untitled3.ipynb'),\n",
       " WindowsPath('D:/FELion-Spectrum-Analyser/testing/archives/Untitled4.ipynb'),\n",
       " WindowsPath('D:/FELion-Spectrum-Analyser/testing/archives/Untitled5.ipynb'),\n",
       " WindowsPath('D:/FELion-Spectrum-Analyser/testing/archives/Untitled6.ipynb')]"
      ]
     },
     "execution_count": 6,
     "metadata": {},
     "output_type": "execute_result"
    }
   ],
   "source": [
    "list(location.iterdir())"
   ]
  },
  {
   "cell_type": "code",
   "execution_count": 7,
   "metadata": {},
   "outputs": [
    {
     "data": {
      "text/plain": [
       "False"
      ]
     },
     "execution_count": 7,
     "metadata": {},
     "output_type": "execute_result"
    }
   ],
   "source": [
    "# cheking whether it is a file or directory\n",
    "location.is_dir()\n",
    "location.is_file()"
   ]
  },
  {
   "cell_type": "code",
   "execution_count": null,
   "metadata": {},
   "outputs": [],
   "source": []
  },
  {
   "cell_type": "code",
   "execution_count": null,
   "metadata": {},
   "outputs": [],
   "source": []
  },
  {
   "cell_type": "code",
   "execution_count": 8,
   "metadata": {},
   "outputs": [
    {
     "data": {
      "text/plain": [
       "Counter({'': 2, '.bat': 2, '.ipynb': 22, '.py': 27, '.ico': 1, '.md': 1})"
      ]
     },
     "execution_count": 8,
     "metadata": {},
     "output_type": "execute_result"
    }
   ],
   "source": [
    "import collections as collect\n",
    "\n",
    "file_types = collect.Counter(f.suffix for f in location.iterdir())\n",
    "file_types"
   ]
  },
  {
   "cell_type": "markdown",
   "metadata": {},
   "source": [
    "# Last modified file"
   ]
  },
  {
   "cell_type": "code",
   "execution_count": 9,
   "metadata": {},
   "outputs": [
    {
     "name": "stdout",
     "output_type": "stream",
     "text": [
      "2019-06-18 16:27:47.212062: D:\\FELion-Spectrum-Analyser\\testing\\archives\\.ipynb_checkpoints\n"
     ]
    }
   ],
   "source": [
    "from datetime import datetime\n",
    "\n",
    "time, file_path = max((f.stat().st_mtime, f) for f in location.iterdir())\n",
    "time = datetime.fromtimestamp(time)\n",
    "\n",
    "print(f\"{time}: {file_path}\")"
   ]
  },
  {
   "cell_type": "code",
   "execution_count": 10,
   "metadata": {},
   "outputs": [
    {
     "name": "stdout",
     "output_type": "stream",
     "text": [
      "os.stat_result(st_mode=33206, st_ino=281474976887260, st_dev=2525670316, st_nlink=1, st_uid=0, st_gid=0, st_size=13232, st_atime=1560758757, st_mtime=1560758757, st_ctime=1560758757)\n"
     ]
    },
    {
     "data": {
      "text/plain": [
       "(True, True)"
      ]
     },
     "execution_count": 10,
     "metadata": {},
     "output_type": "execute_result"
    }
   ],
   "source": [
    "file = location / 'pathlib_module_tutorials.ipynb'\n",
    "print(file.stat())\n",
    "file.is_file(), file.exists()"
   ]
  },
  {
   "cell_type": "code",
   "execution_count": 11,
   "metadata": {},
   "outputs": [
    {
     "data": {
      "text/plain": [
       "12.921875"
      ]
     },
     "execution_count": 11,
     "metadata": {},
     "output_type": "execute_result"
    }
   ],
   "source": [
    "file.stat().st_size # in bytes\n",
    "file.stat().st_size/1024 # in KB"
   ]
  },
  {
   "cell_type": "markdown",
   "metadata": {},
   "source": [
    "# Create a Unique File Name"
   ]
  },
  {
   "cell_type": "code",
   "execution_count": 91,
   "metadata": {},
   "outputs": [
    {
     "data": {
      "text/plain": [
       "WindowsPath('D:/FELion-Spectrum-Analyser/testing/archives/test001.txt')"
      ]
     },
     "execution_count": 91,
     "metadata": {},
     "output_type": "execute_result"
    }
   ],
   "source": [
    "def unique_path(directory, name_pattern):\n",
    "    counter = 0\n",
    "    while True:\n",
    "        counter += 1\n",
    "        path = directory / name_pattern.format(counter)\n",
    "        if not path.exists():\n",
    "            return path\n",
    "\n",
    "new_file = unique_path(location, 'test{:03d}.txt')\n",
    "\n",
    "# If the directory already contains the files test001.txt and test002.txt, the above code will set path to test003.txt.\n",
    "\n",
    "new_file"
   ]
  },
  {
   "cell_type": "code",
   "execution_count": 92,
   "metadata": {},
   "outputs": [
    {
     "data": {
      "text/plain": [
       "WindowsPath('D:/FELion-Spectrum-Analyser/testing/archives/pathlib_module_tutorials.ipynb/test')"
      ]
     },
     "execution_count": 92,
     "metadata": {},
     "output_type": "execute_result"
    }
   ],
   "source": [
    "location/'pathlib_module_tutorials.ipynb'/'test'"
   ]
  },
  {
   "cell_type": "code",
   "execution_count": null,
   "metadata": {},
   "outputs": [],
   "source": []
  },
  {
   "cell_type": "code",
   "execution_count": null,
   "metadata": {},
   "outputs": [],
   "source": []
  },
  {
   "cell_type": "code",
   "execution_count": null,
   "metadata": {},
   "outputs": [],
   "source": []
  }
 ],
 "metadata": {
  "kernelspec": {
   "display_name": "Python 3",
   "language": "python",
   "name": "python3"
  },
  "language_info": {
   "codemirror_mode": {
    "name": "ipython",
    "version": 3
   },
   "file_extension": ".py",
   "mimetype": "text/x-python",
   "name": "python",
   "nbconvert_exporter": "python",
   "pygments_lexer": "ipython3",
   "version": "3.7.3"
  }
 },
 "nbformat": 4,
 "nbformat_minor": 2
}
