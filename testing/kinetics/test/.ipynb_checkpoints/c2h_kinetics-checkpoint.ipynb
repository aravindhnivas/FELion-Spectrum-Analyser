{
 "cells": [
  {
   "cell_type": "code",
   "execution_count": 5,
   "metadata": {},
   "outputs": [],
   "source": [
    "import os\n",
    "from symfit import variables, Parameter, ODEModel, D, Fit, parameters\n",
    "import numpy as np\n",
    "import matplotlib.pyplot as plt\n",
    "from symfit.contrib.interactive_guess import InteractiveGuess2D\n",
    "%matplotlib tk"
   ]
  },
  {
   "cell_type": "code",
   "execution_count": 6,
   "metadata": {},
   "outputs": [
    {
     "data": {
      "text/plain": [
       "'D:\\\\FELion-Spectrum-Analyser\\\\testing\\\\kinetics\\\\test'"
      ]
     },
     "execution_count": 6,
     "metadata": {},
     "output_type": "execute_result"
    }
   ],
   "source": [
    "from timescan_plot import timescanplot\n",
    "from time import time as start_time\n",
    "os.getcwd()"
   ]
  },
  {
   "cell_type": "code",
   "execution_count": 7,
   "metadata": {},
   "outputs": [
    {
     "name": "stdout",
     "output_type": "stream",
     "text": [
      "\n",
      "ALL: found at line no. 62\n",
      "\n",
      "#mass24.80:\t4\n",
      "\n",
      "#mass25.80:\t4\n",
      "\n",
      "#mass26.80:\t4\n",
      "\n",
      "#mass27.80:\t4\n",
      "\n",
      "#mass28.80:\t4\n",
      "\n",
      "###############\n",
      "File: 09_04_19-3.scan\n",
      "Location: D:\\FELion-Spectrum-Analyser\\testing\\kinetics\\test\n",
      "###############\n",
      "{'res': 'm03_ao13_reso', 'b0': 'm03_ao09_width'}\n",
      "{'res': 1.0, 'b0': 10000.0}\n"
     ]
    }
   ],
   "source": [
    "file = '09_04_19-3.scan'\n",
    "location = os.getcwd()\n",
    "time, m, masslist, iterations, t_res, t_b0  = timescanplot(file, location)\n",
    "\n",
    "for i in masslist:\n",
    "    plt.plot(time, m[i], label=i)\n",
    "plt.legend()\n",
    "plt.show()"
   ]
  },
  {
   "cell_type": "code",
   "execution_count": 8,
   "metadata": {},
   "outputs": [],
   "source": [
    "plt.plot(time, m['24.8'],'.', label = '24.8')\n",
    "plt.plot(time, m['25.8'], label = '25.8')\n",
    "new_sum = m['24.8']+m['25.8']\n",
    "\n",
    "plt.plot(time, new_sum, 'k', label='sum')\n",
    "plt.legend()\n",
    "plt.show()\n",
    "plt.close()"
   ]
  },
  {
   "cell_type": "code",
   "execution_count": 9,
   "metadata": {},
   "outputs": [
    {
     "data": {
      "text/plain": [
       "[<matplotlib.lines.Line2D at 0x216e3ebbd68>]"
      ]
     },
     "execution_count": 9,
     "metadata": {},
     "output_type": "execute_result"
    }
   ],
   "source": [
    "c2h = m['24.8'][5:]\n",
    "c2h2 = m['25.8'][5:]\n",
    "c2h3 = m['26.8'][5:]\n",
    "c2h4 = m['27.8'][5:]\n",
    "sum2 = m['24.8'][5:] + m['25.8'][5:] + m['27.8'][5:]\n",
    "sum3 = m['24.8'][5:] + m['25.8'][5:] + m['26.8'][5:] + m['27.8'][5:]\n",
    "new_time = time[5:]/1000\n",
    "plt.plot(new_time, c2h, '.-', label='c2h')\n",
    "plt.plot(new_time, c2h2, '.-', label='c2h2')\n",
    "plt.plot(new_time, c2h3, '.-', label='c2h3')\n",
    "plt.plot(new_time, c2h4, '.-', label='c2h4')\n",
    "plt.plot(new_time, sum3, '-', label='sum')"
   ]
  },
  {
   "cell_type": "code",
   "execution_count": 10,
   "metadata": {},
   "outputs": [],
   "source": [
    "C2H, C2H2, C2H3, C2H4, t = variables('C2H, C2H2, C2H3, C2H4, t')\n",
    "k = Parameter('k', min=1e-14, max=1e-8)\n",
    "kra = Parameter('kra', min=1e-15, max=1e-11)\n",
    "\n",
    "initial_cond = {\n",
    "    t: 0,\n",
    "    C2H: 9000,\n",
    "    C2H2: 1,\n",
    "    C2H4: 1150,\n",
    "    C2H3: 320,\n",
    "}\n",
    "\n",
    "H2 = 1.38e9\n",
    "rate_model = {\n",
    "    D(C2H, t): -k*C2H*H2,\n",
    "    D(C2H2, t): k*C2H*H2-kra*C2H2*H2,\n",
    "    D(C2H4, t): kra*C2H2*H2,\n",
    "    D(C2H3, t): kra*C2H2*H2\n",
    "}\n",
    "\n",
    "ode_model = ODEModel(rate_model, initial=initial_cond)\n",
    "\n"
   ]
  },
  {
   "cell_type": "code",
   "execution_count": 11,
   "metadata": {},
   "outputs": [
    {
     "data": {
      "text/plain": [
       "<matplotlib.legend.Legend at 0x216e4037470>"
      ]
     },
     "execution_count": 11,
     "metadata": {},
     "output_type": "execute_result"
    }
   ],
   "source": [
    "# Generate some data\n",
    "tdata = np.linspace(0, 3, 1000)\n",
    "K = 3.54e-9\n",
    "KRA = 1.525e-12\n",
    "\n",
    "C2H, C2H2, C2H3, C2H4 = ode_model(t=tdata, k=K, kra=KRA)\n",
    "\n",
    "plt.plot(new_time, c2h, '.', label='c2h_exp')\n",
    "plt.plot(new_time, c2h2, '.', label='c2h2_exp')\n",
    "plt.plot(new_time, c2h3, '.', label='c2h3_exp')\n",
    "plt.plot(new_time, c2h4, '.', label='c2h4_exp')\n",
    "plt.plot(new_time, sum2, '--', label='sum')\n",
    "\n",
    "plt.plot(tdata, C2H, '-', label='C2H')\n",
    "plt.plot(tdata, C2H2, '-', label='C2H2')\n",
    "plt.plot(tdata, C2H3, '-', label='C2H3')\n",
    "plt.plot(tdata, C2H4, '-', label='C2H4')\n",
    "\n",
    "plt.ylabel('Counts')\n",
    "plt.xlabel('Time (s)')\n",
    "plt.title(f'k: {K}, kra: {KRA}')\n",
    "plt.yscale('log')\n",
    "plt.legend()"
   ]
  },
  {
   "cell_type": "code",
   "execution_count": 12,
   "metadata": {},
   "outputs": [
    {
     "name": "stdout",
     "output_type": "stream",
     "text": [
      "Time taken: 0.9235379695892334 s\n",
      "\n",
      "Parameter Value        Standard Deviation\n",
      "k         2.461197e-09 6.018954e-25\n",
      "kra       2.461943e-12 1.310562e-25\n",
      "Fitting status message: b'ABNORMAL_TERMINATION_IN_LNSRCH'\n",
      "Number of iterations:   87\n",
      "Regression Coefficient: 0.47987680541106437\n",
      "\n"
     ]
    },
    {
     "name": "stderr",
     "output_type": "stream",
     "text": [
      "C:\\ProgramData\\Anaconda3\\lib\\site-packages\\symfit\\core\\fit.py:1046: RuntimeWarning: divide by zero encountered in true_divide\n",
      "  W = 1/sigma**2/s_sq[:, np.newaxis]\n"
     ]
    }
   ],
   "source": [
    "t0 = start_time()\n",
    "\n",
    "fit = Fit(ode_model, t=new_time, C2H=c2h, C2H3=c2h3, C2H2=c2h2)\n",
    "fit_result = fit.execute()\n",
    "\n",
    "t1 = start_time()\n",
    "print(f'Time taken: {t1-t0} s')\n",
    "\n",
    "print(fit_result)"
   ]
  },
  {
   "cell_type": "code",
   "execution_count": null,
   "metadata": {},
   "outputs": [],
   "source": [
    "guess = InteractiveGuess2D(ode_model, t=new_time, C2H=c2h, C2H2=c2h2, C2H3=c2h3, C2H4=c2h4)\n",
    "guess.execute()"
   ]
  },
  {
   "cell_type": "code",
   "execution_count": null,
   "metadata": {},
   "outputs": [],
   "source": []
  },
  {
   "cell_type": "code",
   "execution_count": null,
   "metadata": {},
   "outputs": [],
   "source": []
  }
 ],
 "metadata": {
  "kernelspec": {
   "display_name": "Python 3",
   "language": "python",
   "name": "python3"
  },
  "language_info": {
   "codemirror_mode": {
    "name": "ipython",
    "version": 3
   },
   "file_extension": ".py",
   "mimetype": "text/x-python",
   "name": "python",
   "nbconvert_exporter": "python",
   "pygments_lexer": "ipython3",
   "version": "3.7.0"
  }
 },
 "nbformat": 4,
 "nbformat_minor": 2
}
