{
 "cells": [
  {
   "cell_type": "code",
   "execution_count": 2,
   "metadata": {},
   "outputs": [],
   "source": [
    "import os\n",
    "from symfit import variables, Parameter, Model, Fit, exp\n",
    "from symfit.contrib.interactive_guess import InteractiveGuess2D\n",
    "import numpy as np\n",
    "import matplotlib.pyplot as plt\n",
    "%matplotlib widget"
   ]
  },
  {
   "cell_type": "code",
   "execution_count": 1,
   "metadata": {},
   "outputs": [],
   "source": [
    "from ipywidgets import interact, interactive, fixed, interact_manual\n",
    "import ipywidgets as widgets\n",
    "from IPython.display import display"
   ]
  },
  {
   "cell_type": "code",
   "execution_count": 28,
   "metadata": {},
   "outputs": [],
   "source": [
    "os.chdir(r'D:\\SurfDrive\\backup_for_surfacePro\\Work\\C3H3+\\Data\\datas\\full_report_felixFiles\\linear_depletion_scan')\n",
    "file = 'depletion_linear.txt'\n",
    "\n",
    "t, inten = np.genfromtxt(file).T\n",
    "n = 10\n",
    "E = 3.3/1000\n",
    "inten_off = [4.4, 4.2, 4]\n",
    "\n",
    "def plot(a, K, width, height, dpi):\n",
    "    trap_time = n*t*E\n",
    "    rel_inten = 1-inten/inten_off\n",
    "\n",
    "    x, y = variables('x, y')\n",
    "    A = Parameter('A')\n",
    "    k = Parameter('k')\n",
    "\n",
    "    model = Model({\n",
    "        y: A*(1-exp(-k*x))\n",
    "    })\n",
    "\n",
    "    xdata = np.linspace(0, 0.5, 10)\n",
    "    \n",
    "    y = model(x=xdata, A=a, k=K)\n",
    "    \n",
    "    fig, ax = plt.subplots(figsize = (width, height), dpi=dpi)\n",
    "    \n",
    "    ax.plot(trap_time, rel_inten, '.')\n",
    "    ax.plot(xdata, y[0])\n",
    "    plt.show()"
   ]
  },
  {
   "cell_type": "code",
   "execution_count": 28,
   "metadata": {},
   "outputs": [
    {
     "data": {
      "application/vnd.jupyter.widget-view+json": {
       "model_id": "e55643c9f9114f6d8c11012a2998f4e2",
       "version_major": 2,
       "version_minor": 0
      },
      "text/plain": [
       "HBox(children=(IntSlider(value=10, max=20, min=5), IntSlider(value=5, max=10, min=2), IntSlider(value=100, max…"
      ]
     },
     "metadata": {},
     "output_type": "display_data"
    },
    {
     "data": {
      "application/vnd.jupyter.widget-view+json": {
       "model_id": "851c4b2feabb4776952ef78e5133336b",
       "version_major": 2,
       "version_minor": 0
      },
      "text/plain": [
       "Output()"
      ]
     },
     "metadata": {},
     "output_type": "display_data"
    }
   ],
   "source": [
    "#interactive_plot = interactive(plot, a=(0, 1, 0.05), K=(0, 50,1), width=10, height=5, dpi=(100, 200))\n",
    "#display(interactive_plot)\n",
    "\n",
    "\n",
    "a = widgets.FloatSlider(min=0,max=1,step=0.1,value=0.2)\n",
    "K = widgets.FloatSlider(min=0,max=50,step=0.1,value=5)\n",
    "width = widgets.IntSlider(min=5,max=20,step=1,value=10)\n",
    "height = widgets.IntSlider(min=2,max=10,step=1,value=5)\n",
    "dpi = widgets.IntSlider(min=70,max=200,step=1,value=100)\n",
    "\n",
    "ui = widgets.HBox([width, height, dpi, a, K])\n",
    "\n",
    "out = widgets.interactive_output(plot, {'a': a, 'K': K, 'width': width, 'height': height, 'dpi': dpi})\n",
    "\n",
    "display(ui, out)"
   ]
  },
  {
   "cell_type": "code",
   "execution_count": null,
   "metadata": {},
   "outputs": [],
   "source": []
  },
  {
   "cell_type": "code",
   "execution_count": 3,
   "metadata": {},
   "outputs": [
    {
     "ename": "NameError",
     "evalue": "name 'model' is not defined",
     "output_type": "error",
     "traceback": [
      "\u001b[1;31m---------------------------------------------------------------------------\u001b[0m",
      "\u001b[1;31mNameError\u001b[0m                                 Traceback (most recent call last)",
      "\u001b[1;32m<ipython-input-3-4b06434a3344>\u001b[0m in \u001b[0;36m<module>\u001b[1;34m()\u001b[0m\n\u001b[0;32m     24\u001b[0m \u001b[1;31m#plt.plot(trap_time, rel_inten, '.--')\u001b[0m\u001b[1;33m\u001b[0m\u001b[1;33m\u001b[0m\u001b[0m\n\u001b[0;32m     25\u001b[0m \u001b[1;33m\u001b[0m\u001b[0m\n\u001b[1;32m---> 26\u001b[1;33m \u001b[0mguess\u001b[0m \u001b[1;33m=\u001b[0m \u001b[0mInteractiveGuess2D\u001b[0m\u001b[1;33m(\u001b[0m\u001b[0mmodel\u001b[0m\u001b[1;33m,\u001b[0m \u001b[0mx\u001b[0m\u001b[1;33m=\u001b[0m\u001b[0mtrap_time\u001b[0m\u001b[1;33m,\u001b[0m \u001b[0my\u001b[0m\u001b[1;33m=\u001b[0m\u001b[0mrel_inten\u001b[0m\u001b[1;33m)\u001b[0m\u001b[1;33m\u001b[0m\u001b[0m\n\u001b[0m\u001b[0;32m     27\u001b[0m \u001b[1;31m#guess_results = guess.execute()\u001b[0m\u001b[1;33m\u001b[0m\u001b[1;33m\u001b[0m\u001b[0m\n\u001b[0;32m     28\u001b[0m \u001b[1;33m\u001b[0m\u001b[0m\n",
      "\u001b[1;31mNameError\u001b[0m: name 'model' is not defined"
     ]
    }
   ],
   "source": [
    "#plt.plot(trap_time, rel_inten, '.--')\n",
    "\n",
    "guess = InteractiveGuess2D(model, x=trap_time, y=rel_inten)\n",
    "#guess_results = guess.execute()\n",
    "\n",
    "fig = guess.fig\n",
    "fig.dpi=150\n",
    "canvas = fig.canvas\n",
    "\n",
    "#fit = Fit(model, x=trap_time, y=rel_inten)\n",
    "#fit_result = fit.execute()\n",
    "#print(trap_time, fit_result)"
   ]
  },
  {
   "cell_type": "code",
   "execution_count": 37,
   "metadata": {},
   "outputs": [],
   "source": [
    "guess_results"
   ]
  },
  {
   "cell_type": "code",
   "execution_count": 16,
   "metadata": {},
   "outputs": [],
   "source": [
    "guess = InteractiveGuess2D(model, x=trap_time, y=rel_inten)\n",
    "#guess.execute()"
   ]
  },
  {
   "cell_type": "code",
   "execution_count": null,
   "metadata": {},
   "outputs": [],
   "source": [
    "gue"
   ]
  },
  {
   "cell_type": "code",
   "execution_count": 10,
   "metadata": {},
   "outputs": [],
   "source": [
    "y = model(x=xdata, A=0.6, k=10)\n",
    "plt.plot(trap_time, rel_inten, '.')\n",
    "plt.plot(xdata, y[0])"
   ]
  },
  {
   "cell_type": "code",
   "execution_count": 11,
   "metadata": {},
   "outputs": [
    {
     "name": "stdout",
     "output_type": "stream",
     "text": [
      "[0.05379 0.08679 0.11979] \n",
      "Parameter Value        Standard Deviation\n",
      "A         1.000000e+00 8.304801e+00\n",
      "k         3.942610e+00 4.005180e+01\n",
      "Fitting status message: b'CONVERGENCE: NORM_OF_PROJECTED_GRADIENT_<=_PGTOL'\n",
      "Number of iterations:   8\n",
      "Regression Coefficient: 0.5624291857340707\n",
      "\n"
     ]
    }
   ],
   "source": [
    "fit = Fit(model, x=trap_time, y=rel_inten)\n",
    "fit_result = fit.execute()\n",
    "print(trap_time, fit_result)"
   ]
  },
  {
   "cell_type": "code",
   "execution_count": null,
   "metadata": {},
   "outputs": [],
   "source": []
  },
  {
   "cell_type": "code",
   "execution_count": null,
   "metadata": {},
   "outputs": [],
   "source": [
    "xdata = np.linspace(0, 0.5, 10)"
   ]
  },
  {
   "cell_type": "code",
   "execution_count": null,
   "metadata": {},
   "outputs": [],
   "source": []
  }
 ],
 "metadata": {
  "kernelspec": {
   "display_name": "Python 3",
   "language": "python",
   "name": "python3"
  },
  "language_info": {
   "codemirror_mode": {
    "name": "ipython",
    "version": 3
   },
   "file_extension": ".py",
   "mimetype": "text/x-python",
   "name": "python",
   "nbconvert_exporter": "python",
   "pygments_lexer": "ipython3",
   "version": "3.7.0"
  }
 },
 "nbformat": 4,
 "nbformat_minor": 2
}
