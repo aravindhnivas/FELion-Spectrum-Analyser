{
 "cells": [
  {
   "cell_type": "code",
   "execution_count": 21,
   "metadata": {},
   "outputs": [],
   "source": [
    "from sympy import init_printing, S, symbols, Eq, solveset"
   ]
  },
  {
   "cell_type": "code",
   "execution_count": 22,
   "metadata": {},
   "outputs": [],
   "source": [
    "init_printing()"
   ]
  },
  {
   "cell_type": "code",
   "execution_count": 34,
   "metadata": {},
   "outputs": [],
   "source": [
    "# length dimensions\n",
    "m, cm, mm, Km, nm, um = symbols('m, cm, mm, Km, nm, um')\n",
    "\n",
    "# Time\n",
    "s, ms, us = symbols('s, ms, us')\n",
    "\n",
    "# Energy\n",
    "cm_1, eV, J, kJ = symbols('cm_1, eV, J, kJ')\n",
    "\n",
    "# Frequency\n",
    "hz, khz, mhz, ghz, thz = symbols('hz, khz, mhz, ghz, thz')\n",
    "\n"
   ]
  },
  {
   "cell_type": "code",
   "execution_count": 100,
   "metadata": {},
   "outputs": [
    {
     "data": {
      "text/plain": [
       "['Hz', 'Khz', 'Mhz', 'Ghz', 'Thz']"
      ]
     },
     "execution_count": 100,
     "metadata": {},
     "output_type": "execute_result"
    }
   ],
   "source": [
    "def make_double_symbols(x):\n",
    "    lower = x.split(',')\n",
    "    upper = []\n",
    "    for i in lower:\n",
    "        temp = i.capitalize()\n",
    "        print(temp)\n",
    "        \n",
    "        upper.append(temp)\n",
    "        \n",
    "    return tuple(lower), tuple(upper)\n",
    "\n",
    "test = 'hz, khz, mhz, ghz, thz'\n",
    "temp = [i.strip().capitalize() for i in test.split(',')]\n",
    "temp"
   ]
  },
  {
   "cell_type": "code",
   "execution_count": 93,
   "metadata": {},
   "outputs": [
    {
     "data": {
      "text/plain": [
       "['hz', ' khz', ' mhz', ' ghz', ' thz']"
      ]
     },
     "execution_count": 93,
     "metadata": {},
     "output_type": "execute_result"
    }
   ],
   "source": [
    "test.split(',')"
   ]
  },
  {
   "cell_type": "code",
   "execution_count": null,
   "metadata": {},
   "outputs": [],
   "source": []
  },
  {
   "cell_type": "code",
   "execution_count": null,
   "metadata": {},
   "outputs": [],
   "source": []
  },
  {
   "cell_type": "code",
   "execution_count": null,
   "metadata": {},
   "outputs": [],
   "source": []
  }
 ],
 "metadata": {
  "kernelspec": {
   "display_name": "Python 3",
   "language": "python",
   "name": "python3"
  },
  "language_info": {
   "codemirror_mode": {
    "name": "ipython",
    "version": 3
   },
   "file_extension": ".py",
   "mimetype": "text/x-python",
   "name": "python",
   "nbconvert_exporter": "python",
   "pygments_lexer": "ipython3",
   "version": "3.7.3"
  }
 },
 "nbformat": 4,
 "nbformat_minor": 2
}
