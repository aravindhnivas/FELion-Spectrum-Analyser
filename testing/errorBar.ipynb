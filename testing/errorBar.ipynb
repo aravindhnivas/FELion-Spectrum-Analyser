{
 "cells": [
  {
   "cell_type": "code",
   "execution_count": 2,
   "metadata": {},
   "outputs": [],
   "source": [
    "import matplotlib.pyplot as plt\n",
    "import os"
   ]
  },
  {
   "cell_type": "code",
   "execution_count": 3,
   "metadata": {},
   "outputs": [],
   "source": [
    "#os.listdir()"
   ]
  },
  {
   "cell_type": "code",
   "execution_count": 4,
   "metadata": {},
   "outputs": [
    {
     "data": {
      "image/png": "[encoded data removed]",
      "text/plain": [
       "<Figure size 432x288 with 1 Axes>"
      ]
     },
     "metadata": {
      "needs_background": "light"
     },
     "output_type": "display_data"
    }
   ],
   "source": [
    "filename = \"08_01_19-3.scan\"\n",
    "datas, mass_values = [], []\n",
    "f = open(filename, \"r\")\n",
    "\n",
    "for line in f:\n",
    "    if not line[0] == \"#\" and not line == \"\\n\":\n",
    "        a = line.split()\n",
    "        datas.append(a)\n",
    "        if line.strip() == \"ALL:\":\n",
    "            del datas[-1]\n",
    "            break\n",
    "no_of_mass = len(datas[0])-2\n",
    "\n",
    "f.close()\n",
    "\n",
    "f = open(filename, \"r\")\n",
    "for line in f:\n",
    "    if line.find(\"#mass\")>=0:\n",
    "        tmp = line[5:].split(\":\")\n",
    "        tmp.append(\":\")\n",
    "        tmp = tmp[0].strip()+tmp[-1]+tmp[1].strip()\n",
    "        mass_values.append(tmp)\n",
    "f.close()\n",
    "\n",
    "d = {}\n",
    "\n",
    "for i in range(no_of_mass):\n",
    "    d[\"mass_#{0}\".format(i)] = []\n",
    "\n",
    "for i in range(len(d)):\n",
    "    d['mass_#{}'.format(i)] = [j[i+1] for j in datas]\n",
    "    d['mass_#{}'.format(i)] = [float(j) for j in d['mass_#{}'.format(i)]]\n",
    "\n",
    "time = [i[0] for i in datas]\n",
    "time = [float(i) for i in time]\n",
    "\n",
    "for i in range(no_of_mass):\n",
    "    plt.scatter(time, d['mass_#{}'.format(i)])\n",
    "    plt.plot(time, d['mass_#{}'.format(i)], label = mass_values[i])\n",
    "\n",
    "plt.grid(True)\n",
    "plt.xlabel(\"Time (ms)\")\n",
    "plt.ylabel(\"Ion Counts\")\n",
    "plt.legend()\n",
    "plt.title(filename)\n",
    "plt.savefig(filename+\".png\")\n",
    "plt.show()\n",
    "plt.close()"
   ]
  },
  {
   "cell_type": "code",
   "execution_count": null,
   "metadata": {},
   "outputs": [],
   "source": []
  },
  {
   "cell_type": "code",
   "execution_count": 313,
   "metadata": {},
   "outputs": [],
   "source": [
    "#Error bar calculations:\n",
    "iterations = [int(i.split(\":\")[-1]) for i in mass_values]\n",
    "start = False\n",
    "no_of_times = 0\n",
    "raw_datas = []\n",
    "\n",
    "f = open(filename, \"r\")\n",
    "\n",
    "for line in f:\n",
    "    if not line[0]==\"#\" and not line == \"\\n\":\n",
    "        line.strip()\n",
    "        tmp = line.split()\n",
    "        if tmp[0]==\"ALL:\":\n",
    "            start = True\n",
    "            continue\n",
    "        if start:\n",
    "            no_of_times += 1\n",
    "            raw_datas.append(line.strip())\n",
    "        total = int(no_of_times/sum(iterations))    \n",
    "f.close()\n",
    "\n",
    "values = []\n",
    "for datas in raw_datas:\n",
    "    values.append(datas.split())\n",
    "values = [[float(i) for i in values[0]] for j in values]\n",
    "\n",
    "all_datas = []\n",
    "for j in range(sum(iterations)):\n",
    "    i = j*total\n",
    "    all_datas.append(values[i:i+total])\n",
    "\n",
    "samples = {}\n",
    "for i in range(no_of_mass):\n",
    "    samples[\"mass_sample_{}\".format(i)] = []\n",
    "\n",
    "k,l = 0, -1\n",
    "for i in iterations:\n",
    "    l += 1\n",
    "    for j in range(i):\n",
    "        samples[\"mass_sample_{}\".format(l)].append(all_datas[k])\n",
    "        k += 1"
   ]
  },
  {
   "cell_type": "code",
   "execution_count": null,
   "metadata": {
    "scrolled": false
   },
   "outputs": [],
   "source": []
  },
  {
   "cell_type": "code",
   "execution_count": 252,
   "metadata": {},
   "outputs": [
    {
     "data": {
      "text/plain": [
       "[[0, 0, 0, 0, 0, 0, 0, 0],\n",
       " [0, 0, 0, 0, 0, 0, 0, 0],\n",
       " [0, 0, 0, 0, 0, 0, 0, 0],\n",
       " [0, 0, 0, 0, 0, 0, 0, 0],\n",
       " [0, 0, 0, 0, 0, 0, 0, 0]]"
      ]
     },
     "execution_count": 252,
     "metadata": {},
     "output_type": "execute_result"
    }
   ],
   "source": [
    "w, h = 8, 5;\n",
    "Matrix = [[0 for x in range(w)] for y in range(h)]\n",
    "\n",
    "Matrix"
   ]
  },
  {
   "cell_type": "code",
   "execution_count": 260,
   "metadata": {},
   "outputs": [
    {
     "data": {
      "text/plain": [
       "[['88.880', '10.000', '479.000'],\n",
       " ['88.880', '89.000', '6060.000'],\n",
       " ['88.880', '168.000', '8050.000'],\n",
       " ['88.880', '247.000', '8226.000'],\n",
       " ['88.880', '326.000', '9160.000'],\n",
       " ['88.880', '405.000', '9630.000'],\n",
       " ['88.880', '484.000', '9661.000'],\n",
       " ['88.880', '563.000', '9118.000'],\n",
       " ['88.880', '642.000', '10132.000'],\n",
       " ['88.880', '721.000', '10222.000'],\n",
       " ['88.880', '800.000', '9810.000'],\n",
       " ['88.880', '10.000', '870.000'],\n",
       " ['88.880', '89.000', '6076.000'],\n",
       " ['88.880', '168.000', '8400.000'],\n",
       " ['88.880', '247.000', '8053.000'],\n",
       " ['88.880', '326.000', '8640.000'],\n",
       " ['88.880', '405.000', '9072.000'],\n",
       " ['88.880', '484.000', '9749.000'],\n",
       " ['88.880', '563.000', '9736.000'],\n",
       " ['88.880', '642.000', '9762.000'],\n",
       " ['88.880', '721.000', '10463.000'],\n",
       " ['88.880', '800.000', '10216.000'],\n",
       " ['88.880', '10.000', '1092.000'],\n",
       " ['88.880', '89.000', '6395.000'],\n",
       " ['88.880', '168.000', '8005.000'],\n",
       " ['88.880', '247.000', '8544.000'],\n",
       " ['88.880', '326.000', '8695.000'],\n",
       " ['88.880', '405.000', '8668.000'],\n",
       " ['88.880', '484.000', '9480.000'],\n",
       " ['88.880', '563.000', '10334.000'],\n",
       " ['88.880', '642.000', '9335.000'],\n",
       " ['88.880', '721.000', '10534.000'],\n",
       " ['88.880', '800.000', '9726.000'],\n",
       " ['90.880', '10.000', '3.000'],\n",
       " ['90.880', '89.000', '50.000'],\n",
       " ['90.880', '168.000', '368.000'],\n",
       " ['90.880', '247.000', '422.000'],\n",
       " ['90.880', '326.000', '541.000'],\n",
       " ['90.880', '405.000', '491.000'],\n",
       " ['90.880', '484.000', '559.000'],\n",
       " ['90.880', '563.000', '492.000'],\n",
       " ['90.880', '642.000', '447.000'],\n",
       " ['90.880', '721.000', '506.000'],\n",
       " ['90.880', '800.000', '333.000'],\n",
       " ['90.880', '10.000', '1.000'],\n",
       " ['90.880', '89.000', '110.000'],\n",
       " ['90.880', '168.000', '447.000'],\n",
       " ['90.880', '247.000', '434.000'],\n",
       " ['90.880', '326.000', '563.000'],\n",
       " ['90.880', '405.000', '693.000'],\n",
       " ['90.880', '484.000', '556.000'],\n",
       " ['90.880', '563.000', '390.000'],\n",
       " ['90.880', '642.000', '474.000'],\n",
       " ['90.880', '721.000', '479.000'],\n",
       " ['90.880', '800.000', '566.000']]"
      ]
     },
     "execution_count": 260,
     "metadata": {},
     "output_type": "execute_result"
    }
   ],
   "source": [
    "values"
   ]
  }
 ],
 "metadata": {
  "kernelspec": {
   "display_name": "Python 3",
   "language": "python",
   "name": "python3"
  }
 },
 "nbformat": 4,
 "nbformat_minor": 2
}
