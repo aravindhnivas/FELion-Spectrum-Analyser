{
 "cells": [
  {
   "cell_type": "code",
   "execution_count": 2,
   "metadata": {},
   "outputs": [],
   "source": [
    "import numpy as np"
   ]
  },
  {
   "cell_type": "code",
   "execution_count": 37,
   "metadata": {
    "scrolled": true
   },
   "outputs": [],
   "source": [
    "filename = './_datas/timescan.scan'\n",
    "\n",
    "f = open(filename)\n",
    "no_of_mass, count_header = 0, 0\n",
    "iterations = []\n",
    "\n",
    "for line in f:\n",
    "    count_header += 1\n",
    "    if line.find(\"#mass\")>=0:\n",
    "        no_of_mass += 1\n",
    "        tmp = line.split(\":\")[-1].strip()\n",
    "        iterations.append(int(tmp))\n",
    "    if line.strip() == \"ALL:\":\n",
    "        break\n",
    "f.close()\n",
    "\n",
    "data = np.genfromtxt(filename, skip_header = count_header)\n",
    "data_run_cycle = int(len(data)/sum(iterations))\n",
    "\n",
    "time = data[:,1][:data_run_cycle]\n"
   ]
  }
 ],
 "metadata": {
  "kernelspec": {
   "display_name": "Python 3",
   "language": "python",
   "name": "python3"
  },
  "language_info": {
   "codemirror_mode": {
    "name": "ipython",
    "version": 3
   },
   "file_extension": ".py",
   "mimetype": "text/x-python",
   "name": "python",
   "nbconvert_exporter": "python",
   "pygments_lexer": "ipython3",
   "version": "3.7.1"
  }
 },
 "nbformat": 4,
 "nbformat_minor": 2
}
