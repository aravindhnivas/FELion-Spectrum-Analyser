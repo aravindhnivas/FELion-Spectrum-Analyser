{
 "cells": [
  {
   "cell_type": "markdown",
   "metadata": {
    "toc-hr-collapsed": false
   },
   "source": [
    "# Depletion Model"
   ]
  },
  {
   "cell_type": "markdown",
   "metadata": {
    "toc-hr-collapsed": true
   },
   "source": [
    "## Importing Modules"
   ]
  },
  {
   "cell_type": "code",
   "execution_count": 1,
   "metadata": {},
   "outputs": [],
   "source": [
    "\n",
    "import os\n",
    "from symfit import variables, Parameter, Model, Fit, exp\n",
    "import numpy as np\n",
    "import matplotlib.pyplot as plt\n",
    "\n",
    "from ipywidgets.widgets import HBox, VBox, Label, Text, FloatLogSlider, FloatSlider, IntSlider, Tab, Accordion, Button, interactive_output\n",
    "from IPython.display import display\n",
    "\n",
    "from uncertainties import ufloat, unumpy\n",
    "\n",
    "\n",
    "from glob import glob\n",
    "from tkinter import ttk, Tk, mainloop\n",
    "from tkinter.filedialog import askdirectory, askopenfilename\n",
    "from os.path import basename, dirname\n",
    "from timescan_plot import timescanplot\n",
    "\n",
    "\n",
    "%matplotlib inline\n"
   ]
  },
  {
   "cell_type": "code",
   "execution_count": null,
   "metadata": {},
   "outputs": [],
   "source": []
  },
  {
   "cell_type": "code",
   "execution_count": 2,
   "metadata": {},
   "outputs": [],
   "source": [
    "def plot(file, location):\n",
    "    if filename.value != \"No File Selected\":\n",
    "        time, m, masslist, iterations, t_res, t_b0 = timescanplot(file, location)\n",
    "        fig, ax = plt.subplots()\n",
    "        ax.errorbar(time, m[\"58.9\"], yerr=m[\"e58.9\"], label=filename.value)\n",
    "        ax.legend()\n",
    "        ax.grid()\n",
    "        plt.show()"
   ]
  },
  {
   "cell_type": "code",
   "execution_count": 3,
   "metadata": {},
   "outputs": [],
   "source": [
    "def tk_main(event):\n",
    "    root = Tk()\n",
    "    file = askopenfilename(\n",
    "        initialdir=location.value,\n",
    "        title=\"Select File\",\n",
    "        filetypes=((\"all files\", \"*.*\"), (\"all files\", \"*.*\")),\n",
    "    )\n",
    "    root.destroy()\n",
    "\n",
    "    filename.value = basename(file)\n",
    "    location.value = dirname(file)\n",
    "    file_opened.value = f\"Filename: {filename.value}\"\n",
    "    file_location.value = f\"Location: {location.value}\""
   ]
  },
  {
   "cell_type": "code",
   "execution_count": null,
   "metadata": {},
   "outputs": [],
   "source": []
  },
  {
   "cell_type": "code",
   "execution_count": 5,
   "metadata": {},
   "outputs": [],
   "source": [
    "browse = Button(description=\"Browse File\", layout={\"width\": \"200px\"})\n",
    "browse.on_click(tk_main)\n",
    "\n",
    "location = Text(value=\"\")\n",
    "filename = Text(value=\"No File Selected\")\n",
    "file_opened = Label(value=f\"Filename: {filename.value}\")\n",
    "file_location = Label(value=f\"Location: {location.value}\")\n",
    "\n",
    "layout0 = VBox([browse, file_location, file_opened])\n",
    "out = interactive_output(plot, {\"file\": filename, \"location\": location})"
   ]
  },
  {
   "cell_type": "markdown",
   "metadata": {},
   "source": [
    "# Plot"
   ]
  },
  {
   "cell_type": "code",
   "execution_count": 8,
   "metadata": {},
   "outputs": [
    {
     "data": {
      "application/vnd.jupyter.widget-view+json": {
       "model_id": "98ee3ec62dfd422eb36aaf5ecb462598",
       "version_major": 2,
       "version_minor": 0
      },
      "text/plain": [
       "VBox(children=(Button(description='Browse File', layout=Layout(width='200px'), style=ButtonStyle()), Label(val…"
      ]
     },
     "metadata": {},
     "output_type": "display_data"
    },
    {
     "data": {
      "application/vnd.jupyter.widget-view+json": {
       "model_id": "8b0a8648c9aa451598dd9ee2eb190aae",
       "version_major": 2,
       "version_minor": 0
      },
      "text/plain": [
       "Output(outputs=({'output_type': 'display_data', 'data': {'text/plain': '<Figure size 432x288 with 1 Axes>', 'i…"
      ]
     },
     "metadata": {},
     "output_type": "display_data"
    }
   ],
   "source": [
    "display(layout0, out)"
   ]
  },
  {
   "cell_type": "code",
   "execution_count": null,
   "metadata": {},
   "outputs": [],
   "source": []
  },
  {
   "cell_type": "code",
   "execution_count": null,
   "metadata": {},
   "outputs": [],
   "source": []
  },
  {
   "cell_type": "code",
   "execution_count": null,
   "metadata": {},
   "outputs": [],
   "source": []
  },
  {
   "cell_type": "code",
   "execution_count": null,
   "metadata": {},
   "outputs": [],
   "source": []
  }
 ],
 "metadata": {
  "kernelspec": {
   "display_name": "Python 3",
   "language": "python",
   "name": "python3"
  },
  "language_info": {
   "codemirror_mode": {
    "name": "ipython",
    "version": 3
   },
   "file_extension": ".py",
   "mimetype": "text/x-python",
   "name": "python",
   "nbconvert_exporter": "python",
   "pygments_lexer": "ipython3",
   "version": "3.7.0"
  },
  "toc-autonumbering": false,
  "toc-showcode": true,
  "toc-showmarkdowntxt": true,
  "toc-showtags": true
 },
 "nbformat": 4,
 "nbformat_minor": 2
}
