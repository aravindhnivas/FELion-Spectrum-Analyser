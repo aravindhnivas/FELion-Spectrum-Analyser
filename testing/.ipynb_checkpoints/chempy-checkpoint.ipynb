{
 "cells": [
  {
   "cell_type": "code",
   "execution_count": 1,
   "metadata": {},
   "outputs": [],
   "source": [
    "import numpy as np\n",
    "import matplotlib.pyplot as plt\n",
    "from scipy.integrate import odeint"
   ]
  },
  {
   "cell_type": "code",
   "execution_count": 2,
   "metadata": {},
   "outputs": [],
   "source": [
    "from chempy import Equilibrium\n",
    "from chempy.chemistry import Species"
   ]
  },
  {
   "cell_type": "code",
   "execution_count": 10,
   "metadata": {},
   "outputs": [
    {
     "name": "stdout",
     "output_type": "stream",
     "text": [
      "Water protanated: H2O = H+ + OH-; 1e-14\n",
      "Ammonium Protanated: NH4+ = H+ + NH3; 5.75e-10\n"
     ]
    }
   ],
   "source": [
    "water_autop = Equilibrium({'H2O'}, {'H+', 'OH-'}, 10**-14)\n",
    "ammonia_prot = Equilibrium({'NH4+'}, {'NH3', 'H+'}, 10**-9.24)\n",
    "\n",
    "print(f'Water protanated: {water_autop}\\nAmmonium Protanated: {ammonia_prot}')"
   ]
  },
  {
   "cell_type": "code",
   "execution_count": 36,
   "metadata": {},
   "outputs": [
    {
     "name": "stdout",
     "output_type": "stream",
     "text": [
      "H2O -> H+ + OH- ; 1e-4 H2O H+ OH- <chempy.reactionsystem.ReactionSystem object at 0x000002989E694C18>\n"
     ]
    },
    {
     "data": {
      "text/plain": [
       "[-0.0054, 0.0054, 0.0054]"
      ]
     },
     "execution_count": 36,
     "metadata": {},
     "output_type": "execute_result"
    }
   ],
   "source": [
    "from chempy import ReactionSystem, Reaction\n",
    "from chempy.kinetics.ode import dCdt_list as dCdt\n",
    "\n",
    "line, keys = 'H2O -> H+ + OH- ; 1e-4', 'H2O H+ OH-'\n",
    "rsys = ReactionSystem([Reaction.from_string(line, keys)], keys)\n",
    "\n",
    "print(line, keys, rsys)\n",
    "dCdt(rsys, [0.0054])"
   ]
  },
  {
   "cell_type": "code",
   "execution_count": 30,
   "metadata": {},
   "outputs": [],
   "source": []
  }
 ],
 "metadata": {
  "kernelspec": {
   "display_name": "Python 3",
   "language": "python",
   "name": "python3"
  },
  "language_info": {
   "codemirror_mode": {
    "name": "ipython",
    "version": 3
   },
   "file_extension": ".py",
   "mimetype": "text/x-python",
   "name": "python",
   "nbconvert_exporter": "python",
   "pygments_lexer": "ipython3",
   "version": "3.7.0"
  }
 },
 "nbformat": 4,
 "nbformat_minor": 2
}
