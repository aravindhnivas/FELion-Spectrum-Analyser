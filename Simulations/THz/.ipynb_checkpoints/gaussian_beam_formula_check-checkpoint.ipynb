{
 "cells": [
  {
   "cell_type": "code",
   "execution_count": 1,
   "metadata": {},
   "outputs": [],
   "source": [
    "from sympy.physics.optics import RayTransferMatrix as RTM, FreeSpace as FS, ThinLens as TL\n",
    "from sympy import symbols, Eq, init_printing, S, sqrt\n",
    "init_printing()\n",
    "import numpy as np\n",
    "import matplotlib.pyplot as plt\n",
    "from scipy.constants import c"
   ]
  },
  {
   "cell_type": "code",
   "execution_count": 2,
   "metadata": {},
   "outputs": [],
   "source": [
    "# Defining functions\n",
    "ghz_cm = lambda x: c * 1e2 / x * 1e-9\n",
    "cm_ghz = lambda x: c*1e-9*1e2/x"
   ]
  },
  {
   "cell_type": "code",
   "execution_count": 3,
   "metadata": {},
   "outputs": [],
   "source": [
    "d_out, d_in, w0_in, w0_out = symbols(\"d_out, d_in, w0_in, w0_out\")\n",
    "w, lam, w0, z, Z_r = symbols(\"w, lam, w0, z, Z_r\")\n",
    "M, E, f, f0 = symbols('M, E, f, f0')\n",
    "f_p, f_m = symbols(\"f_p, f_m\")\n",
    "f_e, R1, R2 = symbols(\"f_e, R1, R2\")"
   ]
  },
  {
   "cell_type": "code",
   "execution_count": 4,
   "metadata": {},
   "outputs": [
    {
     "data": {
      "image/png": "[encoded data removed]",
      "text/latex": [
       "$$w = w_{0} \\sqrt{1 + \\frac{z^{2}}{Z_{r}^{2}}}$$"
      ],
      "text/plain": [
       "             _________\n",
       "            ╱       2 \n",
       "           ╱       z  \n",
       "w = w₀⋅   ╱   1 + ─── \n",
       "         ╱          2 \n",
       "       ╲╱         Zᵣ  "
      ]
     },
     "execution_count": 4,
     "metadata": {},
     "output_type": "execute_result"
    }
   ],
   "source": [
    "# Beam radius\n",
    "Wz = Eq(w, w0 * sqrt(1 + (z / Z_r) ** 2))\n",
    "Wz"
   ]
  },
  {
   "cell_type": "code",
   "execution_count": 5,
   "metadata": {},
   "outputs": [
    {
     "data": {
      "image/png": "[encoded data removed]",
      "text/latex": [
       "$$\\left ( d_{in} = f - \\frac{1}{M} \\sqrt{f^{2} - f_{0}^{2}}, \\quad d_{in} = f + \\frac{1}{M} \\sqrt{f^{2} - f_{0}^{2}}, \\quad d_{out} = - M \\sqrt{f^{2} - f_{0}^{2}} + f, \\quad d_{out} = M \\sqrt{f^{2} - f_{0}^{2}} + f\\right )$$"
      ],
      "text/plain": [
       "⎛             __________               __________                             \n",
       "⎜            ╱  2     2               ╱  2     2                 __________   \n",
       "⎜          ╲╱  f  - f₀              ╲╱  f  - f₀                 ╱  2     2    \n",
       "⎜dᵢₙ = f - ─────────────, dᵢₙ = f + ─────────────, dₒᵤₜ = - M⋅╲╱  f  - f₀   + \n",
       "⎝                M                        M                                   \n",
       "\n",
       "                             ⎞\n",
       "               __________    ⎟\n",
       "              ╱  2     2     ⎟\n",
       "f, dₒᵤₜ = M⋅╲╱  f  - f₀   + f⎟\n",
       "                             ⎠"
      ]
     },
     "execution_count": 5,
     "metadata": {},
     "output_type": "execute_result"
    }
   ],
   "source": [
    "# Input distance\n",
    "eq_din_m = Eq(d_in, f - sqrt(f ** 2 - f0 ** 2) / M) # Negative sign\n",
    "eq_din_p = Eq(d_in, f + sqrt(f ** 2 - f0 ** 2) / M) # Positive sign\n",
    "\n",
    "# output distance\n",
    "eq_dout_m = Eq(d_out, f - sqrt(f ** 2 - f0 ** 2) * M) # Negative sign\n",
    "eq_dout_p = Eq(d_out, f + sqrt(f ** 2 - f0 ** 2) * M) # Positive sign\n",
    "# NOTE: use same sign for output distance as chosed for input distane\n",
    "\n",
    "eq_din_m, eq_din_p, eq_dout_m, eq_dout_p"
   ]
  },
  {
   "cell_type": "code",
   "execution_count": 6,
   "metadata": {},
   "outputs": [
    {
     "data": {
      "image/png": "[encoded data removed]",
      "text/latex": [
       "$$\\left ( f_{p} = \\frac{d_{in}}{1 - \\frac{1}{M^{2}}} \\left(\\sqrt{- \\left(1 - \\frac{1}{M^{2}}\\right) \\left(\\frac{Z_{r}^{2}}{d_{in}^{2}} + 1\\right) + 1} + 1\\right), \\quad f_{m} = \\frac{d_{in}}{1 - \\frac{1}{M^{2}}} \\left(- \\sqrt{- \\left(1 - \\frac{1}{M^{2}}\\right) \\left(\\frac{Z_{r}^{2}}{d_{in}^{2}} + 1\\right) + 1} + 1\\right)\\right )$$"
      ],
      "text/plain": [
       "⎛         ⎛      ___________________________    ⎞           ⎛        _________\n",
       "⎜         ⎜     ╱            ⎛  2     ⎞         ⎟           ⎜       ╱         \n",
       "⎜         ⎜    ╱    ⎛    1 ⎞ ⎜Zᵣ      ⎟         ⎟           ⎜      ╱    ⎛    1\n",
       "⎜     dᵢₙ⋅⎜   ╱   - ⎜1 - ──⎟⋅⎜──── + 1⎟ + 1  + 1⎟       dᵢₙ⋅⎜-    ╱   - ⎜1 - ─\n",
       "⎜         ⎜  ╱      ⎜     2⎟ ⎜   2    ⎟         ⎟           ⎜    ╱      ⎜     \n",
       "⎜         ⎝╲╱       ⎝    M ⎠ ⎝dᵢₙ     ⎠         ⎠           ⎝  ╲╱       ⎝    M\n",
       "⎜fₚ = ───────────────────────────────────────────, fₘ = ──────────────────────\n",
       "⎜                            1                                                \n",
       "⎜                        1 - ──                                             1 \n",
       "⎜                             2                                               \n",
       "⎝                            M                                                \n",
       "\n",
       "__________________    ⎞⎞\n",
       "   ⎛  2     ⎞         ⎟⎟\n",
       " ⎞ ⎜Zᵣ      ⎟         ⎟⎟\n",
       "─⎟⋅⎜──── + 1⎟ + 1  + 1⎟⎟\n",
       "2⎟ ⎜   2    ⎟         ⎟⎟\n",
       " ⎠ ⎝dᵢₙ     ⎠         ⎠⎟\n",
       "───────────────────────⎟\n",
       "  1                    ⎟\n",
       "- ──                   ⎟\n",
       "   2                   ⎟\n",
       "  M                    ⎠"
      ]
     },
     "execution_count": 6,
     "metadata": {},
     "output_type": "execute_result"
    }
   ],
   "source": [
    "# Focal length\n",
    "E = 1-M**-2\n",
    "fp = Eq(f_p, Z_r*(d_in/(E*Z_r))*(1+sqrt(1-E*(1+(d_in/Z_r)**-2)))) # positive sign but output is negative focus\n",
    "fm = Eq(f_m, Z_r*(d_in/(E*Z_r))*(1-sqrt(1-E*(1+(d_in/Z_r)**-2)))) # negative sign but output is positive focus\n",
    "\n",
    "fp, fm"
   ]
  },
  {
   "cell_type": "code",
   "execution_count": 9,
   "metadata": {},
   "outputs": [
    {
     "data": {
      "image/png": "[encoded data removed]",
      "text/latex": [
       "$$\\left ( -15.959119692151225, \\quad 6.292094987532539\\right )$$"
      ],
      "text/plain": [
       "(-15.959119692151225, 6.292094987532539)"
      ]
     },
     "execution_count": 9,
     "metadata": {},
     "output_type": "execute_result"
    }
   ],
   "source": [
    "magnification = 0.15/0.34\n",
    "\n",
    "w0_ = 0.34\n",
    "confocalLength = np.pi*w0_**2/ghz_cm(325)\n",
    "d1 = 20\n",
    "\n",
    "f1 = float(fp.subs({M:magnification, Z_r:confocalLength, d_in:d1}).rhs)\n",
    "f2 = float(fm.subs({M:magnification, Z_r:confocalLength, d_in:d1}).rhs)\n",
    "\n",
    "f1, f2"
   ]
  },
  {
   "cell_type": "code",
   "execution_count": 10,
   "metadata": {},
   "outputs": [
    {
     "data": {
      "image/png": "[encoded data removed]",
      "text/latex": [
       "$$f_{e} = \\frac{R_{1} R_{2}}{R_{1} + R_{2}}$$"
      ],
      "text/plain": [
       "      R₁⋅R₂ \n",
       "fₑ = ───────\n",
       "     R₁ + R₂"
      ]
     },
     "execution_count": 10,
     "metadata": {},
     "output_type": "execute_result"
    }
   ],
   "source": [
    "fe = Eq(f_e, (R1*R2)/(R1+R2))\n",
    "fe"
   ]
  },
  {
   "cell_type": "code",
   "execution_count": 21,
   "metadata": {},
   "outputs": [
    {
     "data": {
      "image/png": "[encoded data removed]",
      "text/latex": [
       "$$\\left[\\begin{matrix}1 & 0\\\\- \\frac{R_{1} + R_{2}}{R_{1} R_{2}} & 1\\end{matrix}\\right]$$"
      ],
      "text/plain": [
       "⎡     1       0⎤\n",
       "⎢              ⎥\n",
       "⎢-(R₁ + R₂)    ⎥\n",
       "⎢───────────  1⎥\n",
       "⎣   R₁⋅R₂      ⎦"
      ]
     },
     "execution_count": 21,
     "metadata": {},
     "output_type": "execute_result"
    }
   ],
   "source": [
    "M_ellps = TL(fe.rhs)\n",
    "M_ellps"
   ]
  },
  {
   "cell_type": "code",
   "execution_count": 33,
   "metadata": {},
   "outputs": [
    {
     "data": {
      "image/png": "[encoded data removed]",
      "text/latex": [
       "$$\\frac{d_{in} \\left(1 - \\frac{d_{in} \\left(R_{1} + R_{2}\\right)}{R_{1} R_{2}}\\right) - \\frac{Z_{r} \\left(R_{1} + R_{2}\\right)}{R_{1} R_{2}}}{\\left(1 - \\frac{d_{in} \\left(R_{1} + R_{2}\\right)}{R_{1} R_{2}}\\right)^{2} + \\frac{Z_{r}^{2} \\left(R_{1} + R_{2}\\right)^{2}}{R_{1}^{2} R_{2}^{2}}}$$"
      ],
      "text/plain": [
       "    ⎛    dᵢₙ⋅(R₁ + R₂)⎞   Zᵣ⋅(R₁ + R₂)\n",
       "dᵢₙ⋅⎜1 - ─────────────⎟ - ────────────\n",
       "    ⎝        R₁⋅R₂    ⎠      R₁⋅R₂    \n",
       "──────────────────────────────────────\n",
       "                   2     2          2 \n",
       "⎛    dᵢₙ⋅(R₁ + R₂)⎞    Zᵣ ⋅(R₁ + R₂)  \n",
       "⎜1 - ─────────────⎟  + ────────────── \n",
       "⎝        R₁⋅R₂    ⎠         2   2     \n",
       "                          R₁ ⋅R₂      "
      ]
     },
     "execution_count": 33,
     "metadata": {},
     "output_type": "execute_result"
    }
   ],
   "source": [
    "dout_direct = (\n",
    "    (M_ellps.A * d_in + M_ellps.B) * (M_ellps.C * d_in + M_ellps.D)\n",
    "    + (M_ellps.A * M_ellps.C * Z_r)\n",
    ") / ((M_ellps.C * d_in + M_ellps.D) ** 2 + (M_ellps.C * Z_r) ** 2)\n",
    "\n",
    "dout_direct"
   ]
  },
  {
   "cell_type": "code",
   "execution_count": 37,
   "metadata": {},
   "outputs": [
    {
     "data": {
      "image/png": "[encoded data removed]",
      "text/latex": [
       "$$-18.8868092906387$$"
      ],
      "text/plain": [
       "-18.8868092906387"
      ]
     },
     "execution_count": 37,
     "metadata": {},
     "output_type": "execute_result"
    }
   ],
   "source": [
    "dout_direct.subs({R1:f1, R2:f2, d_in:d1, Z_r:confocalLength})"
   ]
  },
  {
   "cell_type": "code",
   "execution_count": null,
   "metadata": {},
   "outputs": [],
   "source": []
  },
  {
   "cell_type": "code",
   "execution_count": null,
   "metadata": {},
   "outputs": [],
   "source": []
  },
  {
   "cell_type": "code",
   "execution_count": null,
   "metadata": {},
   "outputs": [],
   "source": []
  },
  {
   "cell_type": "code",
   "execution_count": null,
   "metadata": {},
   "outputs": [],
   "source": []
  },
  {
   "cell_type": "code",
   "execution_count": null,
   "metadata": {},
   "outputs": [],
   "source": []
  },
  {
   "cell_type": "code",
   "execution_count": null,
   "metadata": {},
   "outputs": [],
   "source": []
  },
  {
   "cell_type": "code",
   "execution_count": null,
   "metadata": {},
   "outputs": [],
   "source": []
  }
 ],
 "metadata": {
  "kernelspec": {
   "display_name": "Python 3",
   "language": "python",
   "name": "python3"
  },
  "language_info": {
   "codemirror_mode": {
    "name": "ipython",
    "version": 3
   },
   "file_extension": ".py",
   "mimetype": "text/x-python",
   "name": "python",
   "nbconvert_exporter": "python",
   "pygments_lexer": "ipython3",
   "version": "3.7.3"
  }
 },
 "nbformat": 4,
 "nbformat_minor": 2
}
