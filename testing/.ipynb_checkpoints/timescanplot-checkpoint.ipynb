{
 "cells": [
  {
   "cell_type": "code",
   "execution_count": 320,
   "metadata": {},
   "outputs": [],
   "source": [
    "import matplotlib.pyplot as plt\n",
    "import numpy as np\n",
    "import os\n",
    "from scipy.optimize import curve_fit\n",
    "import math\n",
    "\n",
    "%matplotlib inline"
   ]
  },
  {
   "cell_type": "code",
   "execution_count": 2,
   "metadata": {},
   "outputs": [],
   "source": [
    "#os.listdir()"
   ]
  },
  {
   "cell_type": "code",
   "execution_count": 471,
   "metadata": {
    "scrolled": false
   },
   "outputs": [
    {
     "name": "stdout",
     "output_type": "stream",
     "text": [
      "\n",
      "###########################################\n",
      "\n",
      "\n",
      "Mass counts averaged: \n",
      " [[640.0, 2124.0, 2756.0, 3872.0, 4432.0, 4614.0, 4584.0, 5068.0, 4956.0, 5374.0, 6275.0, 4820.0, 6202.0, 6110.0, 5815.0, 6381.0], [546.5, 1973.5, 2804.5, 3900.25, 4198.75, 4484.25, 4943.5, 5150.0, 4877.0, 5629.5, 5636.0, 5439.75, 5768.0, 6064.75, 5846.0, 6126.5], [1.25, 749.25, 845.0, 801.5, 693.75, 620.75, 563.5, 533.25, 374.5, 383.75, 312.0, 231.0, 270.0, 185.75, 161.5, 189.0]]\n",
      "\n",
      "varience: \n",
      " [[0, 0, 0, 0, 0, 0, 0, 0, 0, 0, 0, 0, 0, 0, 0, 0], [29635.0, 64491.666666666664, 155279.0, 14138.25, 137684.91666666666, 59749.583333333336, 237641.66666666666, 166968.0, 40356.666666666664, 81029.66666666667, 50560.666666666664, 85346.91666666667, 50079.333333333336, 150764.25, 101266.0, 21987.0], [3.5833333333333335, 3552.9166666666665, 16436.666666666668, 75665.0, 43556.25, 569.5833333333334, 3397.6666666666665, 7904.25, 7276.333333333333, 3104.9166666666665, 5474.666666666667, 7020.666666666667, 5451.333333333333, 3132.25, 2211.0, 3748.6666666666665]]\n",
      "\n",
      "Standard Deviation: \n",
      " [[0.0, 0.0, 0.0, 0.0, 0.0, 0.0, 0.0, 0.0, 0.0, 0.0, 0.0, 0.0, 0.0, 0.0, 0.0, 0.0], [172.1481919742406, 253.95209522007622, 394.0545647496042, 118.90437334261512, 371.05918216191156, 244.43727893538116, 487.4850425055795, 408.6171802555541, 200.8896878056877, 284.6571036645084, 224.8569915894693, 292.1419460924204, 223.78412216538808, 388.28372358367017, 318.22319211521966, 148.28014027508877], [1.8929694486000912, 59.60634753670675, 128.2055641018231, 275.0727176584403, 208.7013416344035, 23.86594505426788, 58.28950734623399, 88.90584907642466, 85.30142632648842, 55.721779105361186, 73.99099044253069, 83.7894185841307, 73.83314522173177, 55.96650784174407, 47.02127178203499, 61.22635598062869]]\n",
      "\n",
      "Standard error: \n",
      " [[0.0, 0.0, 0.0, 0.0, 0.0, 0.0, 0.0, 0.0, 0.0, 0.0, 0.0, 0.0, 0.0, 0.0, 0.0, 0.0], [86.0740959871203, 126.97604761003811, 197.0272823748021, 59.45218667130756, 185.52959108095578, 122.21863946769058, 243.74252125278974, 204.30859012777705, 100.44484390284384, 142.3285518322542, 112.42849579473464, 146.0709730462102, 111.89206108269404, 194.14186179183508, 159.11159605760983, 74.14007013754438], [0.9464847243000456, 29.803173768353375, 64.10278205091154, 137.53635882922015, 104.35067081720175, 11.93297252713394, 29.144753673116995, 44.45292453821233, 42.65071316324421, 27.860889552680593, 36.995495221265344, 41.89470929206535, 36.916572610865884, 27.983253920872034, 23.510635891017493, 30.613177990314345]]\n",
      "\n",
      "###########################################\n",
      "\n"
     ]
    }
   ],
   "source": [
    "filename = \"11_01_19-4.scan\"\n",
    "\n",
    "f = open(filename)\n",
    "no_of_mass = 0\n",
    "start = False\n",
    "raw_datas = []\n",
    "iterations = []\n",
    "\n",
    "for line in f:\n",
    "    \n",
    "    if line.find(\"#mass\")>=0:\n",
    "        no_of_mass += 1\n",
    "        tmp = line.split(\":\")[-1].strip()\n",
    "        iterations.append(int(tmp))\n",
    "        \n",
    "    if not line[0] == \"#\" and not line == \"\\n\":\n",
    "        if line.strip() == \"ALL:\":\n",
    "            start = True\n",
    "        if start:\n",
    "            raw_datas.append(line)\n",
    "del raw_datas[0]\n",
    "\n",
    "f.close()\n",
    "\n",
    "all_datas = [[float(j) for j in i.split()] for i in raw_datas]\n",
    "data_run_cycle = int(len(all_datas)/sum(iterations))\n",
    "\n",
    "datas = [[[] for j in range(iterations[i])] for i in range(no_of_mass)]\n",
    "\n",
    "k = 0\n",
    "for i in range(no_of_mass):\n",
    "    for j in range(iterations[i]):\n",
    "        d = data_run_cycle\n",
    "        datas[i][j] = all_datas[k:d+k]\n",
    "        k += d\n",
    "        \n",
    "mass_values = [i[0][0][0] for i in datas]\n",
    "data_sets = [list(zip(*datas[i])) for i in range(no_of_mass)]\n",
    "\n",
    "mass_mean_adder, mass_mean, m = [], [], []\n",
    "varience, varience_collector1, varience_collector2 = [], [], []\n",
    "\n",
    "for i in range(no_of_mass):\n",
    "    for k in range(data_run_cycle):\n",
    "        for j in range(iterations[i]):\n",
    "            \n",
    "            #mass counts\n",
    "            m_tmp = data_sets[i][k][j][2]\n",
    "            mass_mean_adder.append(m_tmp)\n",
    "            \n",
    "            #varience\n",
    "            varience_adder = mass_mean_adder\n",
    "\n",
    "        m.append(sum(mass_mean_adder)/len(mass_mean_adder))\n",
    "        mass_mean_adder = []\n",
    "        \n",
    "        #varience\n",
    "        for v in range(iterations[i]):\n",
    "\n",
    "            if iterations[i]>1:\n",
    "               \n",
    "                v_tmp = (varience_adder[v]-m[k])**2\n",
    "                varience_collector1.append(v_tmp)\n",
    "                        \n",
    "        if iterations[i]>1:\n",
    "            varience_collector2.append(sum(varience_collector1)/(len(varience_collector1)-1))\n",
    "        else: varience_collector2.append(0)\n",
    "\n",
    "        varience_collector1 = []\n",
    "\n",
    "    #mass counts\n",
    "    mass_mean.append(m)\n",
    "    m = []\n",
    "    \n",
    "    #varience\n",
    "    varience.append(varience_collector2)\n",
    "    varience_collector2 = []\n",
    "\n",
    "#standard deviation\n",
    "standard_deviation = [[math.sqrt(i) for i in j] for j in varience]\n",
    "\n",
    "#standard error\n",
    "standard_error = [[i/math.sqrt(k) for i in j] for j, k in zip(standard_deviation, iterations)]\n",
    "\n",
    "print(\"\\n###########################################\\n\")\n",
    "print(\"\\nMass counts averaged: \\n\", mass_mean)\n",
    "print(\"\\nvarience: \\n\", varience)\n",
    "print(\"\\nStandard Deviation: \\n\",standard_deviation)\n",
    "print(\"\\nStandard error: \\n\", standard_error)\n",
    "print(\"\\n###########################################\\n\")"
   ]
  },
  {
   "cell_type": "code",
   "execution_count": 495,
   "metadata": {
    "scrolled": false
   },
   "outputs": [
    {
     "data": {
      "text/plain": [
       "(64491.666666666664,\n",
       " 64491.666666666664,\n",
       " 253.95209522007622,\n",
       " 253.95209522007622,\n",
       " 126.97604761003811,\n",
       " 126.97604761003811)"
      ]
     },
     "execution_count": 495,
     "metadata": {},
     "output_type": "execute_result"
    }
   ],
   "source": [
    "tmp = [2174, 1758, 2212, 1750]\n",
    "avg = sum(tmp)/len(tmp)\n",
    "tmp1 = [(i-avg)**2 for i in tmp]\n",
    "var = sum(tmp1)/(len(tmp1)-1)\n",
    "std_d = math.sqrt(var)\n",
    "std_e = std_d/math.sqrt(len(tmp))\n",
    "var, varience[1][1], std_d, standard_deviation[1][1], std_e, standard_error[1][1]"
   ]
  },
  {
   "cell_type": "code",
   "execution_count": 418,
   "metadata": {
    "scrolled": false
   },
   "outputs": [
    {
     "data": {
      "text/plain": [
       "2.0"
      ]
     },
     "execution_count": 418,
     "metadata": {},
     "output_type": "execute_result"
    }
   ],
   "source": [
    "4/2"
   ]
  },
  {
   "cell_type": "code",
   "execution_count": null,
   "metadata": {
    "scrolled": false
   },
   "outputs": [],
   "source": []
  },
  {
   "cell_type": "code",
   "execution_count": null,
   "metadata": {
    "scrolled": false
   },
   "outputs": [],
   "source": []
  },
  {
   "cell_type": "code",
   "execution_count": null,
   "metadata": {
    "scrolled": false
   },
   "outputs": [],
   "source": []
  },
  {
   "cell_type": "code",
   "execution_count": null,
   "metadata": {
    "scrolled": false
   },
   "outputs": [],
   "source": []
  },
  {
   "cell_type": "code",
   "execution_count": null,
   "metadata": {},
   "outputs": [],
   "source": []
  }
 ],
 "metadata": {
  "kernelspec": {
   "display_name": "Python 3",
   "language": "python",
   "name": "python3"
  },
  "language_info": {
   "codemirror_mode": {
    "name": "ipython",
    "version": 3
   },
   "file_extension": ".py",
   "mimetype": "text/x-python",
   "name": "python",
   "nbconvert_exporter": "python",
   "pygments_lexer": "ipython3",
   "version": "3.7.0"
  }
 },
 "nbformat": 4,
 "nbformat_minor": 2
}
