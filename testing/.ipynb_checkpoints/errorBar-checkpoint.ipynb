{
 "cells": [
  {
   "cell_type": "code",
   "execution_count": null,
   "metadata": {},
   "outputs": [],
   "source": [
    "import matplotlib.pyplot as plt\n",
    "import os"
   ]
  },
  {
   "cell_type": "code",
   "execution_count": null,
   "metadata": {},
   "outputs": [],
   "source": [
    "os.listdir()"
   ]
  },
  {
   "cell_type": "code",
   "execution_count": null,
   "metadata": {},
   "outputs": [],
   "source": [
    "filename = \"11_01_19-4.scan\"\n",
    "datas, mass_values = [], []\n",
    "f = open(filename, \"r\")\n",
    "\n",
    "for line in f:\n",
    "    if not line[0] == \"#\" and not line == \"\\n\":\n",
    "        a = line.split()\n",
    "        datas.append(a)\n",
    "        if line.strip() == \"ALL:\":\n",
    "            del datas[-1]\n",
    "            break\n",
    "no_of_mass = len(datas[0])-2\n",
    "\n",
    "f.close()\n",
    "\n",
    "f = open(filename, \"r\")\n",
    "for line in f:\n",
    "    if line.find(\"#mass\")>=0:\n",
    "        tmp = line[5:].split(\":\")\n",
    "        tmp.append(\":\")\n",
    "        tmp = tmp[0].strip()+tmp[-1]+tmp[1].strip()\n",
    "        mass_values.append(tmp)\n",
    "f.close()\n",
    "\n",
    "d = {}\n",
    "\n",
    "for i in range(no_of_mass):\n",
    "    d[\"mass_#{0}\".format(i)] = []\n",
    "\n",
    "for i in range(len(d)):\n",
    "    d['mass_#{}'.format(i)] = [j[i+1] for j in datas]\n",
    "    d['mass_#{}'.format(i)] = [float(j) for j in d['mass_#{}'.format(i)]]\n",
    "\n",
    "time = [i[0] for i in datas]\n",
    "time = [float(i) for i in time]\n",
    "\n",
    "for i in range(no_of_mass):\n",
    "    plt.scatter(time, d['mass_#{}'.format(i)])\n",
    "    plt.plot(time, d['mass_#{}'.format(i)], label = mass_values[i])\n",
    "\n",
    "plt.grid(True)\n",
    "plt.xlabel(\"Time (ms)\")\n",
    "plt.ylabel(\"Ion Counts\")\n",
    "plt.legend()\n",
    "plt.title(filename)\n",
    "plt.savefig(filename+\".png\")\n",
    "plt.show()\n",
    "plt.close()"
   ]
  },
  {
   "cell_type": "code",
   "execution_count": null,
   "metadata": {},
   "outputs": [],
   "source": []
  },
  {
   "cell_type": "code",
   "execution_count": null,
   "metadata": {},
   "outputs": [],
   "source": [
    "#Error bar calculations:\n",
    "iterations = [int(i.split(\":\")[-1]) for i in mass_values]\n",
    "start = False\n",
    "no_of_times = 0\n",
    "raw_datas = []\n",
    "\n",
    "f = open(filename, \"r\")\n",
    "\n",
    "for line in f:\n",
    "    if not line[0]==\"#\" and not line == \"\\n\":\n",
    "        line.strip()\n",
    "        tmp = line.split()\n",
    "        if tmp[0]==\"ALL:\":\n",
    "            start = True\n",
    "            continue\n",
    "        if start:\n",
    "            no_of_times += 1\n",
    "            raw_datas.append(line.strip())\n",
    "        total = int(no_of_times/sum(iterations))    \n",
    "f.close()\n",
    "\n",
    "values = []\n",
    "for datas in raw_datas:\n",
    "    values.append(datas.split())\n",
    "values = [[float(i) for i in j] for j in values]\n",
    "\n",
    "all_datas = []\n",
    "for j in range(sum(iterations)):\n",
    "    i = j*total\n",
    "    all_datas.append(values[i:i+total])\n",
    "\n",
    "samples = {}\n",
    "for i in range(no_of_mass):\n",
    "    samples[\"mass_sample_{}\".format(i)] = []\n",
    "\n",
    "k,l = 0, -1\n",
    "for i in iterations:\n",
    "    #print(\"i is: %i\"%i)\n",
    "    l += 1\n",
    "    #print(\"l is : %i\"%l)\n",
    "    for j in range(i):\n",
    "        #print(\"j is : %i\"%j)\n",
    "        #print(\"k is : %i\"%k)\n",
    "        samples[\"mass_sample_{}\".format(l)].append(all_datas[k])\n",
    "        k += 1\n",
    "    #print()"
   ]
  },
  {
   "cell_type": "code",
   "execution_count": null,
   "metadata": {
    "scrolled": false
   },
   "outputs": [],
   "source": [
    "iterations[1]"
   ]
  },
  {
   "cell_type": "code",
   "execution_count": null,
   "metadata": {},
   "outputs": [],
   "source": [
    "data_run = len(samples[\"mass_sample_1\"][0])\n",
    "print(data_run, type(data_run))"
   ]
  },
  {
   "cell_type": "code",
   "execution_count": null,
   "metadata": {
    "scrolled": false
   },
   "outputs": [],
   "source": [
    "k = 0\n",
    "mass_count_avg, all_mass_count = [], []\n",
    "\n",
    "for i in iterations:\n",
    "    \n",
    "    if i>1:\n",
    "        to_avg = [[samples[\"mass_sample_{}\".format(k)][j][m][2] for m in range(data_run)] for j in range(i)]\n",
    "        all_mass_count.append(to_avg)\n",
    "        mass = [[to_avg[l][j] for l in range(i)] for j in range(data_run)]\n",
    "        mass_count = [sum(mass[j])/i for j in range(len(mass))]\n",
    "        mass_count_avg.append(mass_count)\n",
    "    k += 1\n",
    "    \n",
    "print(all_mass_count)\n",
    "print()\n",
    "print(mass_count_avg)"
   ]
  },
  {
   "cell_type": "code",
   "execution_count": null,
   "metadata": {},
   "outputs": [],
   "source": [
    "j = 0\n",
    "for i in iterations:\n",
    "    print(d[\"mass_#{}\".format(j)])\n",
    "    print()\n",
    "    j += 1"
   ]
  },
  {
   "cell_type": "code",
   "execution_count": null,
   "metadata": {
    "scrolled": true
   },
   "outputs": [],
   "source": [
    "all_mass_count"
   ]
  },
  {
   "cell_type": "code",
   "execution_count": null,
   "metadata": {},
   "outputs": [],
   "source": []
  },
  {
   "cell_type": "code",
   "execution_count": null,
   "metadata": {},
   "outputs": [],
   "source": [
    "w, h = 8, 5;\n",
    "Matrix = [[0 for x in range(w)] for y in range(h)]\n",
    "\n",
    "Matrix"
   ]
  }
 ],
 "metadata": {
  "kernelspec": {
   "display_name": "Python 3",
   "language": "python",
   "name": "python3"
  },
  "language_info": {
   "codemirror_mode": {
    "name": "ipython",
    "version": 3
   },
   "file_extension": ".py",
   "mimetype": "text/x-python",
   "name": "python",
   "nbconvert_exporter": "python",
   "pygments_lexer": "ipython3",
   "version": "3.7.0"
  }
 },
 "nbformat": 4,
 "nbformat_minor": 2
}
