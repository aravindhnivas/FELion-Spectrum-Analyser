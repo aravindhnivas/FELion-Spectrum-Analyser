{
 "cells": [
  {
   "cell_type": "code",
   "execution_count": 6,
   "metadata": {},
   "outputs": [],
   "source": [
    "import matplotlib.pyplot as plt\n",
    "import os\n",
    "import math as m"
   ]
  },
  {
   "cell_type": "code",
   "execution_count": 4,
   "metadata": {},
   "outputs": [],
   "source": [
    "def errorbar(filename):\n",
    "    #Error bar calculations:\n",
    "    f = open(filename, \"r\")\n",
    "    mass_values = []\n",
    "    for line in f:\n",
    "        if line.find(\"#mass\")>=0:\n",
    "            tmp = line[5:].split(\":\")\n",
    "            tmp.append(\":\")\n",
    "            tmp = tmp[0].strip()+tmp[-1]+tmp[1].strip()\n",
    "            mass_values.append(tmp)\n",
    "    f.close()\n",
    "\n",
    "    iterations = [int(i.split(\":\")[-1]) for i in mass_values]\n",
    "\n",
    "    f = open(filename, \"r\")\n",
    "    start = False\n",
    "    no_of_times = 0\n",
    "    raw_datas = []\n",
    "    for line in f:\n",
    "        if not line[0]==\"#\" and not line == \"\\n\":\n",
    "            line.strip()\n",
    "            tmp = line.split()\n",
    "            if tmp[0]==\"ALL:\":\n",
    "                start = True\n",
    "                continue\n",
    "            if start:\n",
    "                no_of_times += 1\n",
    "                raw_datas.append(line.strip())\n",
    "    f.close()\n",
    "    no_of_datas_for_each_iterations = int(no_of_times/sum(iterations))\n",
    "\n",
    "\n",
    "    values = []\n",
    "    for datas in raw_datas:\n",
    "        values.append(datas.split())\n",
    "    values = [[float(i) for i in j] for j in values]\n",
    "\n",
    "    #Separating data set for every iteration for all masses combined\n",
    "    all_datas = []\n",
    "    total =  no_of_datas_for_each_iterations\n",
    "    for j in range(sum(iterations)):\n",
    "        i = j*total\n",
    "        all_datas.append(values[i:i+total])\n",
    "\n",
    "    # Giving the data sets according to the iterations for each mass separately\n",
    "    # The mass variables are stored like a dictionary\n",
    "    samples = {}\n",
    "    for i in range(no_of_mass):\n",
    "        samples[\"mass_sample_{}\".format(i)] = []\n",
    "\n",
    "    k,l = 0, -1\n",
    "    for i in iterations:\n",
    "        l += 1\n",
    "        for j in range(i):\n",
    "            samples[\"mass_sample_{}\".format(l)].append(all_datas[k])\n",
    "            k += 1\n",
    "\n",
    "    # Getting all the ion counts and also calculating the mean of it for the iteration number of times\n",
    "    k = 0\n",
    "    data_run = no_of_datas_for_each_iterations\n",
    "    mass_count_avg, all_mass_count = [], []\n",
    "\n",
    "    for i in iterations:\n",
    "\n",
    "        if i>1:\n",
    "            to_avg = [[samples[\"mass_sample_{}\".format(k)][j][m][2] for m in range(data_run)] for j in range(i)]\n",
    "            all_mass_count.append(to_avg)\n",
    "            mass = [[to_avg[l][j] for l in range(i)] for j in range(data_run)]\n",
    "            mass_count = [sum(mass[j])/i for j in range(len(mass))]\n",
    "            mass_count_avg.append(mass_count)\n",
    "        k += 1\n",
    "\n",
    "    # Calculating varience\n",
    "    more_iterations_count = 0\n",
    "    for i in iterations:\n",
    "        if i>1:\n",
    "            more_iterations_count += 1\n",
    "\n",
    "    varience_adder, varience_collector, varience = [],[],[]\n",
    "\n",
    "    for i in range(more_iterations_count):\n",
    "\n",
    "        for j in range(data_run):\n",
    "\n",
    "            for k in range(len(all_mass_count[i])):\n",
    "                x, mu = all_mass_count[i][k][j], mass_count_avg[i][j]\n",
    "                varience_adder.append((x-mu)**2)\n",
    "\n",
    "            varience_collector.append(sum(varience_adder)/(len(varience_adder)-1))\n",
    "            varience_adder = []\n",
    "\n",
    "        varience.append(varience_collector)\n",
    "        varience_collector = []\n",
    "\n",
    "    #Standard deviations and standard error\n",
    "    no_of_moreiterations = []\n",
    "    for i in iterations:\n",
    "        if i>1:\n",
    "            no_of_moreiterations.append(i)\n",
    "\n",
    "    standard_deviation = [[m.sqrt(i) for i in varience[j]] for j in range(len(varience))]\n",
    "    standard_error = [[i/m.sqrt(no_of_moreiterations[j]) for i in standard_deviation[j]] for j in range(len(standard_deviation))]\n",
    "    \n",
    "    return standard_error"
   ]
  },
  {
   "cell_type": "code",
   "execution_count": 3,
   "metadata": {},
   "outputs": [
    {
     "ename": "NameError",
     "evalue": "name 'iterations' is not defined",
     "output_type": "error",
     "traceback": [
      "\u001b[1;31m---------------------------------------------------------------------------\u001b[0m",
      "\u001b[1;31mNameError\u001b[0m                                 Traceback (most recent call last)",
      "\u001b[1;32m<ipython-input-3-f228b61a3010>\u001b[0m in \u001b[0;36m<module>\u001b[1;34m()\u001b[0m\n\u001b[0;32m     34\u001b[0m \u001b[1;33m\u001b[0m\u001b[0m\n\u001b[0;32m     35\u001b[0m \u001b[1;32mfor\u001b[0m \u001b[0mi\u001b[0m \u001b[1;32min\u001b[0m \u001b[0mrange\u001b[0m\u001b[1;33m(\u001b[0m\u001b[0mno_of_mass\u001b[0m\u001b[1;33m)\u001b[0m\u001b[1;33m:\u001b[0m\u001b[1;33m\u001b[0m\u001b[1;33m\u001b[0m\u001b[0m\n\u001b[1;32m---> 36\u001b[1;33m     \u001b[1;32mif\u001b[0m \u001b[0miterations\u001b[0m\u001b[1;33m[\u001b[0m\u001b[0mi\u001b[0m\u001b[1;33m]\u001b[0m\u001b[1;33m>\u001b[0m\u001b[1;36m1\u001b[0m\u001b[1;33m:\u001b[0m\u001b[1;33m\u001b[0m\u001b[1;33m\u001b[0m\u001b[0m\n\u001b[0m\u001b[0;32m     37\u001b[0m         \u001b[0mplt\u001b[0m\u001b[1;33m.\u001b[0m\u001b[0merrorbar\u001b[0m\u001b[1;33m(\u001b[0m\u001b[0mtime\u001b[0m\u001b[1;33m,\u001b[0m \u001b[0md\u001b[0m\u001b[1;33m[\u001b[0m\u001b[1;34m\"mass_#{}\"\u001b[0m\u001b[1;33m.\u001b[0m\u001b[0mformat\u001b[0m\u001b[1;33m(\u001b[0m\u001b[0mi\u001b[0m\u001b[1;33m)\u001b[0m\u001b[1;33m]\u001b[0m\u001b[1;33m,\u001b[0m \u001b[0merror\u001b[0m\u001b[1;33m,\u001b[0m \u001b[0mlabel\u001b[0m \u001b[1;33m=\u001b[0m \u001b[0mmass_values\u001b[0m\u001b[1;33m[\u001b[0m\u001b[0mi\u001b[0m\u001b[1;33m]\u001b[0m\u001b[1;33m)\u001b[0m\u001b[1;33m\u001b[0m\u001b[1;33m\u001b[0m\u001b[0m\n\u001b[0;32m     38\u001b[0m \u001b[1;33m\u001b[0m\u001b[0m\n",
      "\u001b[1;31mNameError\u001b[0m: name 'iterations' is not defined"
     ]
    }
   ],
   "source": [
    "filename = \"11_01_19-4.scan\"\n",
    "datas = []\n",
    "f = open(filename, \"r\")\n",
    "\n",
    "for line in f:\n",
    "    if not line[0] == \"#\" and not line == \"\\n\":\n",
    "        a = line.split()\n",
    "        datas.append(a)\n",
    "        if line.strip() == \"ALL:\":\n",
    "            del datas[-1]\n",
    "            break\n",
    "no_of_mass = len(datas[0])-2\n",
    "\n",
    "f.close()\n",
    "\n",
    "d = {}\n",
    "\n",
    "for i in range(no_of_mass):\n",
    "    d[\"mass_#{0}\".format(i)] = []\n",
    "\n",
    "for i in range(len(d)):\n",
    "    d['mass_#{}'.format(i)] = [float(j[i+1]) for j in datas]\n",
    "\n",
    "time = [float(i[0]) for i in datas]\n",
    "\n",
    "error = errorbar(filename)\n",
    "tmp = []\n",
    "if len(error[0])>len(time):\n",
    "    for i in error:\n",
    "        del i[-1]\n",
    "        tmp.append(i)\n",
    "    error = tmp\n",
    "\n",
    "    \n",
    "for i in range(no_of_mass):\n",
    "    if iterations[i]>1:\n",
    "        plt.errorbar(time, d[\"mass_#{}\".format(i)], error, label = mass_values[i])\n",
    "        \n",
    "plt.grid(True)\n",
    "plt.xlabel(\"Time (ms)\")\n",
    "plt.ylabel(\"Ion Counts\")\n",
    "plt.legend()\n",
    "plt.title(filename)\n",
    "plt.savefig(filename+\".png\")\n",
    "plt.show()\n",
    "plt.close()"
   ]
  },
  {
   "cell_type": "code",
   "execution_count": null,
   "metadata": {},
   "outputs": [],
   "source": [
    "error = errorbar(filename)\n",
    "tmp = []\n",
    "if len(error[0])>len(time):\n",
    "    for i in error:\n",
    "        del i[-1]\n",
    "        tmp.append(i)\n",
    "error = tmp"
   ]
  },
  {
   "cell_type": "code",
   "execution_count": null,
   "metadata": {},
   "outputs": [],
   "source": [
    "plt.errorbar(time, d[\"mass_#0\"], error)\n",
    "#plt.errorbar(time, d[\"mass_#0\"], error,'-s','MarkerSize',10,'MarkerEdgeColor','red','MarkerFaceColor','red')"
   ]
  },
  {
   "cell_type": "code",
   "execution_count": null,
   "metadata": {
    "scrolled": false
   },
   "outputs": [],
   "source": [
    "error"
   ]
  },
  {
   "cell_type": "code",
   "execution_count": null,
   "metadata": {},
   "outputs": [],
   "source": []
  },
  {
   "cell_type": "code",
   "execution_count": null,
   "metadata": {
    "scrolled": false
   },
   "outputs": [],
   "source": []
  },
  {
   "cell_type": "code",
   "execution_count": null,
   "metadata": {},
   "outputs": [],
   "source": []
  },
  {
   "cell_type": "code",
   "execution_count": null,
   "metadata": {
    "scrolled": true
   },
   "outputs": [],
   "source": []
  },
  {
   "cell_type": "code",
   "execution_count": null,
   "metadata": {},
   "outputs": [],
   "source": []
  },
  {
   "cell_type": "code",
   "execution_count": null,
   "metadata": {
    "scrolled": false
   },
   "outputs": [],
   "source": []
  },
  {
   "cell_type": "code",
   "execution_count": null,
   "metadata": {},
   "outputs": [],
   "source": []
  },
  {
   "cell_type": "code",
   "execution_count": null,
   "metadata": {
    "scrolled": false
   },
   "outputs": [],
   "source": [
    "print(varience, \"\\n\",\n",
    "     standard_deviation,\"\\n\",\n",
    "     standard_error)"
   ]
  }
 ],
 "metadata": {
  "kernelspec": {
   "display_name": "Python 3",
   "language": "python",
   "name": "python3"
  },
  "language_info": {
   "codemirror_mode": {
    "name": "ipython",
    "version": 3
   },
   "file_extension": ".py",
   "mimetype": "text/x-python",
   "name": "python",
   "nbconvert_exporter": "python",
   "pygments_lexer": "ipython3",
   "version": "3.7.1"
  }
 },
 "nbformat": 4,
 "nbformat_minor": 2
}
