{
 "cells": [
  {
   "cell_type": "markdown",
   "metadata": {},
   "source": [
    "Making a GUI"
   ]
  },
  {
   "cell_type": "code",
   "execution_count": 4,
   "metadata": {},
   "outputs": [],
   "source": [
    "from tkinter import *\n",
    "from tkinter import ttk, messagebox, filedialog\n",
    "#from tkfilebrowser import askopenfilenames\n",
    "from tkinter.filedialog import askopenfilenames\n",
    "import os\n",
    "from os.path import join"
   ]
  },
  {
   "cell_type": "code",
   "execution_count": 7,
   "metadata": {},
   "outputs": [],
   "source": [
    "filelist, fnames = [], []\n",
    "\n",
    "def test_func():\n",
    "    \n",
    "    global filelist, fnames\n",
    "    \n",
    "    filelist = askopenfilenames(initialdir='/',filetypes=[(\"All files\", \"*\"), (\"All files\", \"*\")])\n",
    "    \n",
    "    for i in filelist:\n",
    "        location = i.split(\"/\")\n",
    "        \n",
    "        print(location)"
   ]
  },
  {
   "cell_type": "code",
   "execution_count": null,
   "metadata": {},
   "outputs": [
    {
     "name": "stdout",
     "output_type": "stream",
     "text": [
      "['D:/modules/Baseline.bat']\n",
      "['D:/modules/FELion_avgSpec.py']\n",
      "['D:/modules/FELion_baseline.py']\n",
      "['D:/modules/FELion_definitions.py']\n",
      "['D:/modules/FELion_GUI_Baseline_v2.py']\n"
     ]
    }
   ],
   "source": [
    "root = Tk()\n",
    "root.geometry(\"400x400\")\n",
    "\n",
    "#frame\n",
    "frame = Frame(root, bg = \"sea green\")\n",
    "frame.pack(side = 'top', fill = \"both\", expand = True)\n",
    "\n",
    "#label\n",
    "label = Label(frame, text = \"testing\")\n",
    "label.place(relx = 0.1, rely=0.1)\n",
    "\n",
    "label_test1 = Label(frame, text = 'Filelists: ')\n",
    "label_test1.place(relx = 0.1, rely = 0.2)\n",
    "\n",
    "label_test = Label(frame)\n",
    "label_test.place(relx = 0.1, rely = 0.3)\n",
    "\n",
    "#button\n",
    "button = ttk.Button(frame, text = \"test Button\", command = lambda: test_func())\n",
    "button.place(relx = 0.3, rely = 0.1)\n",
    "\n",
    "root.mainloop()"
   ]
  },
  {
   "cell_type": "code",
   "execution_count": 184,
   "metadata": {},
   "outputs": [
    {
     "name": "stdout",
     "output_type": "stream",
     "text": [
      "['11', '11', '12'] ['1', '2', '1'] ['11_16_18', '11_16_18', '12_16_18']\n",
      "11 11 0\n",
      "11 11 1\n",
      "12 12 2\n"
     ]
    }
   ],
   "source": [
    "file = ['11_16_18-1.dat', '11_16_18-2.dat', '12_16_18-1.dat']\n",
    "\n",
    "test, date, num, name = [], [], [], []\n",
    "\n",
    "for i in file:\n",
    "    \n",
    "    x = i.split('_')\n",
    "    date.append(x[0])\n",
    "    num.append(x[-1].split('-')[-1].split('.')[0])\n",
    "    name.append(i.split('.')[0].split('-')[0])\n",
    "\n",
    "print(date, num, name)\n",
    "\n",
    "k=0\n",
    "for i in date: \n",
    "    j = date[k]\n",
    "    \n",
    "    print(i, j, k)\n",
    "    k +=1"
   ]
  },
  {
   "cell_type": "code",
   "execution_count": 186,
   "metadata": {},
   "outputs": [
    {
     "data": {
      "text/plain": [
       "[('11_16_18', '1'), ('11_16_18', '2'), ('12_16_18', '1')]"
      ]
     },
     "execution_count": 186,
     "metadata": {},
     "output_type": "execute_result"
    }
   ],
   "source": [
    "list(zip(name, num))"
   ]
  }
 ],
 "metadata": {
  "kernelspec": {
   "display_name": "Python 3",
   "language": "python",
   "name": "python3"
  },
  "language_info": {
   "codemirror_mode": {
    "name": "ipython",
    "version": 3
   },
   "file_extension": ".py",
   "mimetype": "text/x-python",
   "name": "python",
   "nbconvert_exporter": "python",
   "pygments_lexer": "ipython3",
   "version": "3.7.0"
  }
 },
 "nbformat": 4,
 "nbformat_minor": 2
}
