{
 "cells": [
  {
   "cell_type": "code",
   "execution_count": 2,
   "metadata": {},
   "outputs": [],
   "source": [
    "from timescan_plot import timescanplot\n",
    "from depletion_plot import depletionPlot\n",
    "import matplotlib.pyplot as plt"
   ]
  },
  {
   "cell_type": "code",
   "execution_count": 3,
   "metadata": {},
   "outputs": [],
   "source": [
    "f = '16_11_18-1.scan'\n",
    "location = r'D:\\FELion-Spectrum-Analyser\\testing\\_datas'\n",
    "\n",
    "power1, power2, power3 = [12, 14.5], [22, 25], [12, 14.5, 22, 25]\n",
    "mass, iterations, mean, error, time = timescanplot(f, location, save=False, show=False, depletion=True)"
   ]
  },
  {
   "cell_type": "code",
   "execution_count": 4,
   "metadata": {},
   "outputs": [],
   "source": [
    "x, y = time, mean[0]\n",
    "#plt.plot(x, y)"
   ]
  },
  {
   "cell_type": "code",
   "execution_count": 5,
   "metadata": {},
   "outputs": [],
   "source": [
    "import plotly\n",
    "import plotly.graph_objs as go\n",
    "from plotly.offline import download_plotlyjs, init_notebook_mode, plot, iplot"
   ]
  },
  {
   "cell_type": "code",
   "execution_count": 6,
   "metadata": {},
   "outputs": [
    {
     "data": {
      "text/html": [
       "<script type=\"text/javascript\">window.PlotlyConfig = {MathJaxConfig: 'local'};</script><script type=\"text/javascript\">if (window.MathJax) {MathJax.Hub.Config({SVG: {font: \"STIX-Web\"}});}</script><script>requirejs.config({paths: { 'plotly': ['https://cdn.plot.ly/plotly-latest.min']},});if(!window._Plotly) {require(['plotly'],function(plotly) {window._Plotly=plotly;});}</script>"
      ],
      "text/vnd.plotly.v1+html": [
       "<script type=\"text/javascript\">window.PlotlyConfig = {MathJaxConfig: 'local'};</script><script type=\"text/javascript\">if (window.MathJax) {MathJax.Hub.Config({SVG: {font: \"STIX-Web\"}});}</script><script>requirejs.config({paths: { 'plotly': ['https://cdn.plot.ly/plotly-latest.min']},});if(!window._Plotly) {require(['plotly'],function(plotly) {window._Plotly=plotly;});}</script>"
      ]
     },
     "metadata": {},
     "output_type": "display_data"
    },
    {
     "data": {
      "application/vnd.plotly.v1+json": {
       "config": {
        "linkText": "Export to plot.ly",
        "plotlyServerURL": "https://plot.ly",
        "showLink": false
       },
       "data": [
        {
         "type": "scatter",
         "uid": "ad983f8d-5a11-46ea-ac4f-ddada26400ff",
         "x": [
          100,
          402,
          704,
          1006,
          1308,
          1610,
          1912,
          2214,
          2516,
          2818,
          3120,
          3422,
          3724,
          4026,
          4328,
          4630
         ],
         "y": [
          2.6666666666666665,
          5448.666666666667,
          4741.333333333333,
          4047,
          3685,
          3446.6666666666665,
          3066.3333333333335,
          2950.6666666666665,
          2756,
          2553,
          2403,
          2259.6666666666665,
          2050.6666666666665,
          2149,
          1871,
          1820.3333333333333
         ]
        }
       ],
       "layout": {
        "title": {
         "text": "Timescan 16_11_18-1.scan"
        }
       }
      },
      "text/html": [
       "<div id=\"76375433-ff2e-4b13-b769-86abc043bd1b\" style=\"height: 525px; width: 100%;\" class=\"plotly-graph-div\"></div><script type=\"text/javascript\">require([\"plotly\"], function(Plotly) { window.PLOTLYENV=window.PLOTLYENV || {};window.PLOTLYENV.BASE_URL=\"https://plot.ly\";\n",
       "if (document.getElementById(\"76375433-ff2e-4b13-b769-86abc043bd1b\")) {\n",
       "    Plotly.newPlot(\"76375433-ff2e-4b13-b769-86abc043bd1b\", [{\"x\": [100.0, 402.0, 704.0, 1006.0, 1308.0, 1610.0, 1912.0, 2214.0, 2516.0, 2818.0, 3120.0, 3422.0, 3724.0, 4026.0, 4328.0, 4630.0], \"y\": [2.6666666666666665, 5448.666666666667, 4741.333333333333, 4047.0, 3685.0, 3446.6666666666665, 3066.3333333333335, 2950.6666666666665, 2756.0, 2553.0, 2403.0, 2259.6666666666665, 2050.6666666666665, 2149.0, 1871.0, 1820.3333333333333], \"type\": \"scatter\", \"uid\": \"ef8e8f1b-1c2f-43a1-9b0b-6073d47332df\"}], {\"title\": {\"text\": \"Timescan 16_11_18-1.scan\"}}, {\"showLink\": false, \"linkText\": \"Export to plot.ly\", \"plotlyServerURL\": \"https://plot.ly\"}); \n",
       "}\n",
       "});</script><script type=\"text/javascript\">window.addEventListener(\"resize\", function(){if (document.getElementById(\"76375433-ff2e-4b13-b769-86abc043bd1b\")) {window._Plotly.Plots.resize(document.getElementById(\"76375433-ff2e-4b13-b769-86abc043bd1b\"));};})</script>"
      ],
      "text/vnd.plotly.v1+html": [
       "<div id=\"76375433-ff2e-4b13-b769-86abc043bd1b\" style=\"height: 525px; width: 100%;\" class=\"plotly-graph-div\"></div><script type=\"text/javascript\">require([\"plotly\"], function(Plotly) { window.PLOTLYENV=window.PLOTLYENV || {};window.PLOTLYENV.BASE_URL=\"https://plot.ly\";\n",
       "if (document.getElementById(\"76375433-ff2e-4b13-b769-86abc043bd1b\")) {\n",
       "    Plotly.newPlot(\"76375433-ff2e-4b13-b769-86abc043bd1b\", [{\"x\": [100.0, 402.0, 704.0, 1006.0, 1308.0, 1610.0, 1912.0, 2214.0, 2516.0, 2818.0, 3120.0, 3422.0, 3724.0, 4026.0, 4328.0, 4630.0], \"y\": [2.6666666666666665, 5448.666666666667, 4741.333333333333, 4047.0, 3685.0, 3446.6666666666665, 3066.3333333333335, 2950.6666666666665, 2756.0, 2553.0, 2403.0, 2259.6666666666665, 2050.6666666666665, 2149.0, 1871.0, 1820.3333333333333], \"type\": \"scatter\", \"uid\": \"ef8e8f1b-1c2f-43a1-9b0b-6073d47332df\"}], {\"title\": {\"text\": \"Timescan 16_11_18-1.scan\"}}, {\"showLink\": false, \"linkText\": \"Export to plot.ly\", \"plotlyServerURL\": \"https://plot.ly\"}); \n",
       "}\n",
       "});</script><script type=\"text/javascript\">window.addEventListener(\"resize\", function(){if (document.getElementById(\"76375433-ff2e-4b13-b769-86abc043bd1b\")) {window._Plotly.Plots.resize(document.getElementById(\"76375433-ff2e-4b13-b769-86abc043bd1b\"));};})</script>"
      ]
     },
     "metadata": {},
     "output_type": "display_data"
    }
   ],
   "source": [
    "init_notebook_mode(connected=True)\n",
    "\n",
    "iplot({\n",
    "    \"data\": [go.Scatter(x=x, y=y)],\n",
    "    \"layout\": go.Layout(title=\"Timescan %s\"%f)\n",
    "    })"
   ]
  },
  {
   "cell_type": "code",
   "execution_count": null,
   "metadata": {},
   "outputs": [],
   "source": []
  },
  {
   "cell_type": "code",
   "execution_count": null,
   "metadata": {},
   "outputs": [],
   "source": []
  },
  {
   "cell_type": "code",
   "execution_count": null,
   "metadata": {},
   "outputs": [],
   "source": []
  }
 ],
 "metadata": {
  "kernelspec": {
   "display_name": "Python 3",
   "language": "python",
   "name": "python3"
  },
  "language_info": {
   "codemirror_mode": {
    "name": "ipython",
    "version": 3
   },
   "file_extension": ".py",
   "mimetype": "text/x-python",
   "name": "python",
   "nbconvert_exporter": "python",
   "pygments_lexer": "ipython3",
   "version": "3.7.0"
  }
 },
 "nbformat": 4,
 "nbformat_minor": 2
}
