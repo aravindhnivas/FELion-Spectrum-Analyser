{
 "cells": [
  {
   "cell_type": "code",
   "execution_count": 34,
   "metadata": {},
   "outputs": [],
   "source": [
    "from tkinter import *"
   ]
  },
  {
   "cell_type": "code",
   "execution_count": 86,
   "metadata": {},
   "outputs": [
    {
     "ename": "SyntaxError",
     "evalue": "invalid syntax (<ipython-input-86-1a20126f1404>, line 15)",
     "output_type": "error",
     "traceback": [
      "\u001b[1;36m  File \u001b[1;32m\"<ipython-input-86-1a20126f1404>\"\u001b[1;36m, line \u001b[1;32m15\u001b[0m\n\u001b[1;33m    label = (main_frame, lb=self.lb)\u001b[0m\n\u001b[1;37m                           ^\u001b[0m\n\u001b[1;31mSyntaxError\u001b[0m\u001b[1;31m:\u001b[0m invalid syntax\n"
     ]
    }
   ],
   "source": [
    "class main_window(Tk):\n",
    "    \n",
    "    def __init__(self, *args, **kwargs):\n",
    "        Tk.__init__(self, *args, **kwargs)\n",
    "        \n",
    "        Tk.wm_geometry(self, \"500x500\")\n",
    "        \n",
    "    def frame(self, lb=None):\n",
    "        main_frame = Frame(self)\n",
    "        main_frame.pack(side='bottom', expand=True, fill='both')\n",
    "        main_frame.grid_rowconfigure(0, weight=1)\n",
    "        main_frame.grid_columnconfigure(0, weight=1)\n",
    "        \n",
    "        self.lb = lb\n",
    "        label = (main_frame, lb=self.lb)\n",
    "        "
   ]
  },
  {
   "cell_type": "code",
   "execution_count": 79,
   "metadata": {},
   "outputs": [],
   "source": [
    "root = main_window()\n",
    "\n",
    "root.mainloop()"
   ]
  },
  {
   "cell_type": "code",
   "execution_count": null,
   "metadata": {},
   "outputs": [],
   "source": []
  }
 ],
 "metadata": {
  "kernelspec": {
   "display_name": "Python 3",
   "language": "python",
   "name": "python3"
  },
  "language_info": {
   "codemirror_mode": {
    "name": "ipython",
    "version": 3
   },
   "file_extension": ".py",
   "mimetype": "text/x-python",
   "name": "python",
   "nbconvert_exporter": "python",
   "pygments_lexer": "ipython3",
   "version": "3.7.1"
  }
 },
 "nbformat": 4,
 "nbformat_minor": 2
}
