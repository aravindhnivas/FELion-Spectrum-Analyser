{
 "cells": [
  {
   "cell_type": "code",
   "execution_count": 2,
   "metadata": {},
   "outputs": [],
   "source": [
    "\n",
    "import numpy as np\n",
    "from matplotlib import pyplot as plt\n",
    "from os import chdir as c\n",
    "import os\n"
   ]
  },
  {
   "cell_type": "code",
   "execution_count": 11,
   "metadata": {},
   "outputs": [],
   "source": [
    "c('D:\\\\FELion-Spectrum-Analyser\\\\testing\\\\_datas')"
   ]
  },
  {
   "cell_type": "code",
   "execution_count": 12,
   "metadata": {},
   "outputs": [
    {
     "data": {
      "text/plain": [
       "['01_06_18-1.mass',\n",
       " '04_06_18-1.mass',\n",
       " '04_06_18-2.mass',\n",
       " '19_11_18-5.mass',\n",
       " '21_11_18-10.mass',\n",
       " '25_04_18-7.base',\n",
       " '25_04_18-7.felix',\n",
       " '25_04_18-7.pow',\n",
       " '25_04_18-9.base',\n",
       " '25_04_18-9.felix',\n",
       " '25_04_18-9.pow',\n",
       " 'average.dat',\n",
       " 'basefile.base',\n",
       " 'felixdata.dat',\n",
       " 'felixfile.felix',\n",
       " 'massScan.mass',\n",
       " 'powerfile.pow',\n",
       " 'timescan.scan']"
      ]
     },
     "execution_count": 12,
     "metadata": {},
     "output_type": "execute_result"
    }
   ],
   "source": [
    "os.listdir()"
   ]
  },
  {
   "cell_type": "code",
   "execution_count": null,
   "metadata": {
    "scrolled": false
   },
   "outputs": [],
   "source": []
  },
  {
   "cell_type": "code",
   "execution_count": 229,
   "metadata": {
    "scrolled": false
   },
   "outputs": [
    {
     "name": "stdout",
     "output_type": "stream",
     "text": [
      "ERROR: parameter found here was m03_ao02_nc2 instead of m03_ao13_reso\n",
      "Please adjust the change in script\n"
     ]
    }
   ],
   "source": [
    "file = 'massScan.mass'\n",
    "\n",
    "with open(file, 'r') as f:\n",
    "    f = f.readlines()\n",
    "\n",
    "res_name = f[-11].split('\\t\\t')[2].split('#')[-1].strip()\n",
    "mass_res = round(float(f[-14].split('\\t\\t')[3].split('#')[-1].strip()))\n",
    "\n",
    "if res_name == 'm03_ao13_reso':\n",
    "    print(mass_res)\n",
    "else:\n",
    "    print('ERROR: parameter found here was %s instead of m03_ao13_reso\\nPlease adjust the change in script'%res_name)"
   ]
  },
  {
   "cell_type": "code",
   "execution_count": 242,
   "metadata": {},
   "outputs": [
    {
     "data": {
      "text/plain": [
       "1.5"
      ]
     },
     "execution_count": 242,
     "metadata": {},
     "output_type": "execute_result"
    }
   ],
   "source": [
    "\n",
    "round(1.4954,2)"
   ]
  }
 ],
 "metadata": {
  "kernelspec": {
   "display_name": "Python 3",
   "language": "python",
   "name": "python3"
  },
  "language_info": {
   "codemirror_mode": {
    "name": "ipython",
    "version": 3
   },
   "file_extension": ".py",
   "mimetype": "text/x-python",
   "name": "python",
   "nbconvert_exporter": "python",
   "pygments_lexer": "ipython3",
   "version": "3.7.0"
  }
 },
 "nbformat": 4,
 "nbformat_minor": 2
}
