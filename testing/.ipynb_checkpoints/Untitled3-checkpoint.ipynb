{
 "cells": [
  {
   "cell_type": "code",
   "execution_count": 28,
   "metadata": {},
   "outputs": [],
   "source": [
    "from tkinter import *\n",
    "from tkinter import ttk\n",
    "from tkinter.messagebox import showinfo\n",
    "import numpy as np\n",
    "import matplotlib\n",
    "matplotlib.use(\"TkAgg\")\n",
    "from matplotlib.backends.backend_tkagg import FigureCanvasTkAgg, NavigationToolbar2TkAgg\n",
    "# Implement the default Matplotlib key bindings.\n",
    "from matplotlib.backend_bases import key_press_handler\n",
    "from matplotlib.figure import Figure"
   ]
  },
  {
   "cell_type": "code",
   "execution_count": 29,
   "metadata": {},
   "outputs": [],
   "source": [
    "from matplotlib.backends.backend_tkagg import NavigationToolbar2TkAgg"
   ]
  },
  {
   "cell_type": "code",
   "execution_count": null,
   "metadata": {},
   "outputs": [],
   "source": []
  },
  {
   "cell_type": "code",
   "execution_count": 33,
   "metadata": {},
   "outputs": [
    {
     "name": "stderr",
     "output_type": "stream",
     "text": [
      "C:\\ProgramData\\Anaconda3\\lib\\site-packages\\ipykernel_launcher.py:20: MatplotlibDeprecationWarning: The NavigationToolbar2TkAgg class was deprecated in version 2.2.\n"
     ]
    }
   ],
   "source": [
    "def top(root):\n",
    "    \n",
    "    root = Toplevel(master = root)\n",
    "    root.wm_title(\"Embedding in Tk\")\n",
    "    root.wm_geometry('600x600')\n",
    "    \n",
    "    ############################# PLOTTING #############################\n",
    "    \n",
    "    fig = Figure(figsize=(5, 4), dpi=100)\n",
    "    ax = fig.add_subplot(111)\n",
    "    \n",
    "    t = np.arange(0, 3, .01)\n",
    "    ax.plot(t, 2 * np.sin(2 * np.pi * t))\n",
    "    ####################################################################\n",
    "    \n",
    "    canvas = FigureCanvasTkAgg(fig, master=root)  # A tk.DrawingArea.\n",
    "    canvas.draw()\n",
    "    canvas.get_tk_widget().pack(side=TOP, fill=BOTH, expand=1)\n",
    "\n",
    "    toolbar = NavigationToolbar2TkAgg(canvas, root)\n",
    "    toolbar.update()\n",
    "    canvas.get_tk_widget().pack(side=TOP, fill=BOTH, expand=1)\n",
    "\n",
    "    def on_key_press(event):\n",
    "        key_press_handler(event, canvas, toolbar)\n",
    "        \n",
    "    canvas.mpl_connect(\"key_press_event\", on_key_press)\n",
    "    \n",
    "    frame = Frame(root, bg = 'light grey', bd = 5)\n",
    "    frame.pack(side = 'bottom', fill = 'both', expand = True)\n",
    "    \n",
    "    label1 = Label(frame, text = 'Save as')\n",
    "    label1.pack(side = 'left', padx = 15, ipadx = 10, ipady = 5)\n",
    "    \n",
    "    name = StringVar()\n",
    "    name.set('Filename')\n",
    "    entry1 = Entry(frame, textvariable = name, bd = 5)\n",
    "    entry1.pack(side = 'left', ipadx = 10, ipady = 5)\n",
    "    \n",
    "    def func(x):\n",
    "        print(x)\n",
    "    \n",
    "    button1 = Button(frame, text = 'Print', command = lambda: func(name.get()))\n",
    "    button1.pack(side = 'left', padx = 15, ipadx = 10, ipady = 5)\n",
    "    \n",
    "    root.mainloop()\n",
    "    \n",
    "    \n",
    "# main window\n",
    "class Application(ttk.Frame):\n",
    "\n",
    "    def __init__(self, master):\n",
    "        ttk.Frame.__init__(self, master)\n",
    "        self.pack()\n",
    "        self.button_bonus = ttk.Button(self, text=\"Bonuses\", command = lambda: top(master))\n",
    "        self.button_bonus.pack(side = 'bottom')\n",
    "\n",
    "root = Tk()\n",
    "root.geometry('400x400')\n",
    "app = Application(root)\n",
    "root.mainloop()"
   ]
  },
  {
   "cell_type": "code",
   "execution_count": 3,
   "metadata": {},
   "outputs": [
    {
     "data": {
      "text/plain": [
       "['power.png', 'restart.png', 'x.png']"
      ]
     },
     "execution_count": 3,
     "metadata": {},
     "output_type": "execute_result"
    }
   ],
   "source": [
    "import os\n",
    "os.getcwd()\n",
    "import glob\n",
    "glob.glob('*.png')"
   ]
  },
  {
   "cell_type": "code",
   "execution_count": null,
   "metadata": {},
   "outputs": [],
   "source": []
  },
  {
   "cell_type": "code",
   "execution_count": null,
   "metadata": {},
   "outputs": [],
   "source": []
  },
  {
   "cell_type": "code",
   "execution_count": null,
   "metadata": {},
   "outputs": [],
   "source": []
  },
  {
   "cell_type": "code",
   "execution_count": null,
   "metadata": {},
   "outputs": [],
   "source": []
  },
  {
   "cell_type": "code",
   "execution_count": null,
   "metadata": {},
   "outputs": [],
   "source": []
  },
  {
   "cell_type": "code",
   "execution_count": null,
   "metadata": {},
   "outputs": [],
   "source": []
  },
  {
   "cell_type": "code",
   "execution_count": null,
   "metadata": {},
   "outputs": [],
   "source": []
  },
  {
   "cell_type": "code",
   "execution_count": null,
   "metadata": {},
   "outputs": [],
   "source": []
  },
  {
   "cell_type": "code",
   "execution_count": null,
   "metadata": {},
   "outputs": [],
   "source": []
  },
  {
   "cell_type": "code",
   "execution_count": null,
   "metadata": {},
   "outputs": [],
   "source": []
  },
  {
   "cell_type": "code",
   "execution_count": null,
   "metadata": {},
   "outputs": [],
   "source": []
  },
  {
   "cell_type": "code",
   "execution_count": null,
   "metadata": {},
   "outputs": [],
   "source": []
  },
  {
   "cell_type": "code",
   "execution_count": null,
   "metadata": {},
   "outputs": [],
   "source": []
  },
  {
   "cell_type": "code",
   "execution_count": null,
   "metadata": {},
   "outputs": [],
   "source": []
  },
  {
   "cell_type": "code",
   "execution_count": null,
   "metadata": {},
   "outputs": [],
   "source": []
  },
  {
   "cell_type": "code",
   "execution_count": null,
   "metadata": {},
   "outputs": [],
   "source": []
  }
 ],
 "metadata": {
  "kernelspec": {
   "display_name": "Python 3",
   "language": "python",
   "name": "python3"
  },
  "language_info": {
   "codemirror_mode": {
    "name": "ipython",
    "version": 3
   },
   "file_extension": ".py",
   "mimetype": "text/x-python",
   "name": "python",
   "nbconvert_exporter": "python",
   "pygments_lexer": "ipython3",
   "version": "3.7.0"
  }
 },
 "nbformat": 4,
 "nbformat_minor": 2
}
