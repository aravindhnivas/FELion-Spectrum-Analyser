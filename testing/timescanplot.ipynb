{
 "cells": [
  {
   "cell_type": "code",
   "execution_count": 1,
   "metadata": {},
   "outputs": [],
   "source": [
    "import matplotlib.pyplot as plt\n",
    "import numpy as np\n",
    "import os\n",
    "from scipy.optimize import curve_fit\n",
    "import math as m"
   ]
  },
  {
   "cell_type": "code",
   "execution_count": 2,
   "metadata": {},
   "outputs": [],
   "source": [
    "#os.listdir()"
   ]
  },
  {
   "cell_type": "code",
   "execution_count": 198,
   "metadata": {
    "scrolled": false
   },
   "outputs": [],
   "source": [
    "filename = \"11_01_19-3.scan\"\n",
    "\n",
    "f = open(filename)\n",
    "no_of_mass = 0\n",
    "start = False\n",
    "raw_datas = []\n",
    "iterations = []\n",
    "\n",
    "for line in f:\n",
    "    \n",
    "    if line.find(\"#mass\")>=0:\n",
    "        no_of_mass += 1\n",
    "        tmp = line.split(\":\")[-1].strip()\n",
    "        iterations.append(int(tmp))\n",
    "        \n",
    "    if not line[0] == \"#\" and not line == \"\\n\":\n",
    "        if line.strip() == \"ALL:\":\n",
    "            start = True\n",
    "        if start:\n",
    "            raw_datas.append(line)\n",
    "del raw_datas[0]\n",
    "\n",
    "f.close()\n",
    "\n",
    "all_datas = [[float(j) for j in i.split()] for i in raw_datas]\n",
    "data_run_cycle = int(len(all_datas)/sum(iterations))\n",
    "\n",
    "datas = [[[] for j in range(iterations[i])] for i in range(no_of_mass)]\n",
    "\n",
    "k = 0\n",
    "for i in range(no_of_mass):\n",
    "    for j in range(iterations[i]):\n",
    "        d = data_run_cycle\n",
    "        datas[i][j] = all_datas[k:d+k]\n",
    "        k += d\n",
    "        \n",
    "mass_values = [i[0][0][0] for i in datas]\n"
   ]
  },
  {
   "cell_type": "code",
   "execution_count": 193,
   "metadata": {
    "scrolled": false
   },
   "outputs": [
    {
     "data": {
      "text/plain": [
       "([88.88, 50.0, 836.0],)"
      ]
     },
     "execution_count": 193,
     "metadata": {},
     "output_type": "execute_result"
    }
   ],
   "source": [
    "x = [list(zip(*datas[i])) for i in range(no_of_mass)]\n"
   ]
  },
  {
   "cell_type": "code",
   "execution_count": 232,
   "metadata": {
    "scrolled": false
   },
   "outputs": [
    {
     "data": {
      "text/plain": [
       "[([88.88, 50.0, 886.0], [88.88, 50.0, 764.0]),\n",
       " ([88.88, 513.333, 1300.0], [88.88, 513.333, 1024.0]),\n",
       " ([88.88, 976.667, 1752.0], [88.88, 976.667, 2134.0]),\n",
       " ([88.88, 1440.0, 2670.0], [88.88, 1440.0, 2413.0]),\n",
       " ([88.88, 1903.333, 2922.0], [88.88, 1903.333, 2325.0]),\n",
       " ([88.88, 2366.667, 3206.0], [88.88, 2366.667, 3646.0]),\n",
       " ([88.88, 2830.0, 3771.0], [88.88, 2830.0, 4478.0]),\n",
       " ([88.88, 3293.333, 4125.0], [88.88, 3293.333, 3947.0]),\n",
       " ([88.88, 3756.667, 3690.0], [88.88, 3756.667, 4073.0]),\n",
       " ([88.88, 4220.0, 4664.0], [88.88, 4220.0, 4875.0]),\n",
       " ([88.88, 4683.333, 4306.0], [88.88, 4683.333, 4150.0]),\n",
       " ([88.88, 5146.667, 5548.0], [88.88, 5146.667, 4296.0]),\n",
       " ([88.88, 5610.0, 5521.0], [88.88, 5610.0, 5544.0]),\n",
       " ([88.88, 6073.333, 4736.0], [88.88, 6073.333, 5174.0]),\n",
       " ([88.88, 6536.667, 4910.0], [88.88, 6536.667, 5178.0]),\n",
       " ([88.88, 7000.0, 5723.0], [88.88, 7000.0, 5882.0])]"
      ]
     },
     "execution_count": 232,
     "metadata": {},
     "output_type": "execute_result"
    }
   ],
   "source": [
    "x = list(zip(*datas[1]))\n",
    "x"
   ]
  },
  {
   "cell_type": "code",
   "execution_count": null,
   "metadata": {
    "scrolled": false
   },
   "outputs": [],
   "source": []
  },
  {
   "cell_type": "code",
   "execution_count": null,
   "metadata": {
    "scrolled": false
   },
   "outputs": [],
   "source": []
  },
  {
   "cell_type": "code",
   "execution_count": null,
   "metadata": {
    "scrolled": false
   },
   "outputs": [],
   "source": []
  },
  {
   "cell_type": "code",
   "execution_count": null,
   "metadata": {},
   "outputs": [],
   "source": []
  }
 ],
 "metadata": {
  "kernelspec": {
   "display_name": "Python 3",
   "language": "python",
   "name": "python3"
  },
  "language_info": {
   "codemirror_mode": {
    "name": "ipython",
    "version": 3
   },
   "file_extension": ".py",
   "mimetype": "text/x-python",
   "name": "python",
   "nbconvert_exporter": "python",
   "pygments_lexer": "ipython3",
   "version": "3.7.1"
  }
 },
 "nbformat": 4,
 "nbformat_minor": 2
}
