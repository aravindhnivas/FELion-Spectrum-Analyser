{
 "cells": [
  {
   "cell_type": "markdown",
   "metadata": {},
   "source": [
    "Making a GUI"
   ]
  },
  {
   "cell_type": "code",
   "execution_count": 2,
   "metadata": {},
   "outputs": [],
   "source": [
    "from tkinter import *\n",
    "from tkinter import ttk, messagebox, filedialog\n",
    "from tkfilebrowser import askopenfilenames"
   ]
  },
  {
   "cell_type": "code",
   "execution_count": 27,
   "metadata": {},
   "outputs": [],
   "source": [
    "filelist = []\n",
    "\n",
    "def test_func():\n",
    "    \n",
    "    global filelist\n",
    "    \n",
    "    filelist = askopenfilenames(initialdir='/', initialfile='tmp',\n",
    "                                filetypes=[(\"All files\", \"*\"), (\"All files\", \"*\")])\n",
    "    label_test.config(text = filelist)\n",
    "    print(\"\\n\", filelist, type(filelist))\n",
    "    for i in filelist:\n",
    "        print(i, \"\\n\")"
   ]
  },
  {
   "cell_type": "code",
   "execution_count": 28,
   "metadata": {},
   "outputs": [
    {
     "name": "stdout",
     "output_type": "stream",
     "text": [
      "D:\\\n",
      "D:\\Analysis\n",
      "('D:\\\\Analysis\\\\Analysis.rar', 'D:\\\\Analysis\\\\avg_spectrum.py', 'D:\\\\Analysis\\\\f_baseline.py') <class 'tuple'>\n",
      "D:\\Analysis\\Analysis.rar \n",
      "\n",
      "D:\\Analysis\\avg_spectrum.py \n",
      "\n",
      "D:\\Analysis\\f_baseline.py \n",
      "\n"
     ]
    }
   ],
   "source": [
    "root = Tk()\n",
    "root.geometry(\"400x400\")\n",
    "\n",
    "#frame\n",
    "frame = Frame(root, bg = \"sea green\")\n",
    "frame.pack(side = 'top', fill = \"both\", expand = True)\n",
    "\n",
    "#label\n",
    "label = Label(frame, text = \"testing\")\n",
    "label.place(relx = 0.1, rely=0.1)\n",
    "\n",
    "label_test = Label(frame)\n",
    "label_test.place(relx = 0.1, rely = 0.2)\n",
    "\n",
    "#button\n",
    "button = ttk.Button(frame, text = \"test Button\", command = lambda: test_func())\n",
    "button.place(relx = 0.3, rely = 0.1)\n",
    "\n",
    "root.mainloop()"
   ]
  }
 ],
 "metadata": {
  "kernelspec": {
   "display_name": "Python 3",
   "language": "python",
   "name": "python3"
  },
  "language_info": {
   "codemirror_mode": {
    "name": "ipython",
    "version": 3
   },
   "file_extension": ".py",
   "mimetype": "text/x-python",
   "name": "python",
   "nbconvert_exporter": "python",
   "pygments_lexer": "ipython3",
   "version": "3.7.0"
  }
 },
 "nbformat": 4,
 "nbformat_minor": 2
}
