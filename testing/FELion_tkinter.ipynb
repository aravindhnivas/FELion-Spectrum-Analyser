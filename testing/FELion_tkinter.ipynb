{
 "cells": [
  {
   "cell_type": "code",
   "execution_count": 27,
   "metadata": {},
   "outputs": [],
   "source": [
    "from tkinter import *\n",
    "from tkinter import ttk, messagebox\n",
    "from tkinter.filedialog import askopenfilenames, askopenfilename"
   ]
  },
  {
   "cell_type": "code",
   "execution_count": 28,
   "metadata": {},
   "outputs": [],
   "source": [
    "#################### constants ###############################\n",
    "\n",
    "constants = {\n",
    "    'width':50,\n",
    "    'height':50,\n",
    "    'font':('Times 12 bold'),\n",
    "    'bg':'white',\n",
    "    'bd':5,\n",
    "    'anchor':'w',\n",
    "    'relief':SOLID,\n",
    "}\n",
    "##############################################################\n",
    "##############################################################\n",
    "\n",
    "#################### Variables ###############################\n",
    "\n",
    "felix_files_type = (\"Felix Files\", \"*.felix\")\n",
    "mass_files_type = (\"Mass Files\", \"*.mass\")\n",
    "time_files_type = (\"Timescan Files\", \"*.scan\")\n",
    "pow_files_type = (\"Pow Files\", \"*.pow\")\n",
    "all_files_type = (\"All files\", \"*\")\n",
    "##############################################################\n",
    "##############################################################\n",
    "\n",
    "#################### Definitions #############################\n",
    "\n",
    "def var_check(kw):\n",
    "    for i in constants:\n",
    "        if not i in list(kw.keys()):\n",
    "            kw[i] = constants[i]\n",
    "    return kw\n",
    "\n",
    "##############################################################\n",
    "##############################################################"
   ]
  },
  {
   "cell_type": "code",
   "execution_count": null,
   "metadata": {},
   "outputs": [],
   "source": []
  },
  {
   "cell_type": "code",
   "execution_count": 29,
   "metadata": {},
   "outputs": [],
   "source": [
    "class FELion(Tk):\n",
    "\n",
    "    def __init__(self, *args, **kwargs):\n",
    "        \n",
    "        Tk.__init__(self, *args, **kwargs)\n",
    "        Tk.wm_geometry(self, '400x400')\n",
    "        container = Frame(self)\n",
    "\n",
    "        container.pack(side=\"top\", fill=\"both\", expand = True)\n",
    "\n",
    "        container.grid_rowconfigure(0, weight=1)\n",
    "        container.grid_columnconfigure(0, weight=1)\n",
    "        \n",
    "        self.frames = {}\n",
    "\n",
    "        for F in (StartPage,):\n",
    "\n",
    "            frame = F(container, self)\n",
    "\n",
    "            self.frames[F] = frame\n",
    "\n",
    "            frame.grid(row=0, column=0, sticky=\"nsew\")\n",
    "\n",
    "        self.show_frame(StartPage)\n",
    "\n",
    "    def show_frame(self, cont):\n",
    "\n",
    "        frame = self.frames[cont]\n",
    "        frame.tkraise()"
   ]
  },
  {
   "cell_type": "code",
   "execution_count": 26,
   "metadata": {},
   "outputs": [],
   "source": [
    "class Entry_widgets(Frame):\n",
    "    \n",
    "    def __init__(self, parent, method,  *args, **kw):\n",
    "        Frame.__init__(self, parent)\n",
    "        self.parent = parent\n",
    "        self.txt, x, y = args[0], args[1], args[2]\n",
    "        kw = var_check(kw)\n",
    "        \n",
    "        if method == 'Entry':\n",
    "            if isinstance(self.txt, str): self.value = StringVar()\n",
    "            elif isinstance(self.txt, int): self.value = IntVar()\n",
    "                \n",
    "            self.value.set(self.txt)\n",
    "            self.entry = Entry(self.parent, bg = kw['bg'], bd = kw['bd'], textvariable = self.value, font = kw['font'])\n",
    "            self.entry.place(relx = x, rely = y, anchor = kw['anchor'], width = kw['width'], height = kw['height'])\n",
    "                \n",
    "        elif method == 'Check':\n",
    "            self.value = BooleanVar()\n",
    "            if 'default' in kw: self.value.set(kw['default'])\n",
    "            else: self.value.set(False)\n",
    "                \n",
    "            Check = ttk.Checkbutton(self.parent, text = self.txt, variable = self.value)\n",
    "            Check.place(relx = x, rely = y, width = kw['width'], height = kw['height'])\n",
    "     \n",
    "    def get(self):\n",
    "        return self.value.get()"
   ]
  },
  {
   "cell_type": "code",
   "execution_count": 43,
   "metadata": {},
   "outputs": [],
   "source": [
    "class FELion_widgets(Frame):\n",
    "    \n",
    "    def __init__(self, parent):\n",
    "        Frame.__init__(self, parent)\n",
    "\n",
    "        self.parent = parent\n",
    "        self.location = \"/\"\n",
    "        self.fname = \"\"\n",
    "        self.filelist = []\n",
    "              \n",
    "    def labels(self, *args, **kw):\n",
    "        self.txt = args[0]\n",
    "        x, y = args[1], args[2]\n",
    "        kw = var_check(kw)\n",
    "        \n",
    "        self.label = Label(self.parent, text = self.txt, font = kw['font'], bg = kw['bg'], bd = kw['bd'], relief = kw['relief'])\n",
    "        self.label.place(relx = x, rely = y, anchor = kw['anchor'], width = kw['width'], height = kw['height'])\n",
    "    \n",
    "    def buttons(self, *args, **kw):\n",
    "        btn_txt = args[0]\n",
    "        x, y = args[1], args[2]\n",
    "        func = args[3]\n",
    "        kw = var_check(kw)\n",
    "        \n",
    "        self.button = ttk.Button(self.parent, text = btn_txt, command = lambda: func())\n",
    "        self.button.place(relx = x, rely = y, width = kw['width'], height = kw['height'])\n",
    "\n",
    "    def open_dir(self, file_type):\n",
    "        root = Tk()\n",
    "        root.withdraw()\n",
    "\n",
    "        root.filename =  askopenfilename(initialdir = self.location, title = \"Select file\", filetypes = (file_type, (\"all files\",\"*.*\")))\n",
    "        filename = root.filename\n",
    "        filename = filename.split(\"/\")\n",
    "\n",
    "        self.fname = filename[-1]\n",
    "        del filename[-1]\n",
    "        \n",
    "        self.location = \"/\".join(filename)\n",
    "        root.destroy()\n",
    "        \n",
    "        return self.fname, self.location\n",
    "\n",
    "    def openfilelist(self, file_type):\n",
    "        self.filelist = [] # to prevent appending previously selected files\n",
    "        self.openlist = askopenfilenames(initialdir=self.location, initialfile='tmp',\n",
    "                        filetypes=[file_type, (\"All files\", \"*\")])\n",
    "\n",
    "        for i in self.openlist:\n",
    "            location = i.split(\"/\")\n",
    "            file = location[-1]\n",
    "            self.filelist.append(file)\n",
    "            del location[-1]\n",
    "            self.location = \"/\".join(location)\n",
    "\n",
    "        return self.filelist, self.location\n",
    "    \n",
    "    def entries(self, method,  *args, **kw):\n",
    "        txt, x, y = args[0], args[1], args[2]\n",
    "        kw = var_check(kw)\n",
    "        \n",
    "        if method == 'Entry':\n",
    "            if isinstance(txt, str): self.parent.txt = StringVar()\n",
    "            elif isinstance(txt, int): self.parent.txt = IntVar()\n",
    "                \n",
    "            self.parent.txt.set(txt)\n",
    "            self.parent.entry = Entry(self.parent, bg = kw['bg'], bd = kw['bd'], textvariable = self.parent.txt, font = kw['font'])\n",
    "            self.parent.entry.place(relx = x, rely = y, anchor = kw['anchor'], width = kw['width'], height = kw['height'])\n",
    "            \n",
    "            return self.parent.txt\n"
   ]
  },
  {
   "cell_type": "code",
   "execution_count": 44,
   "metadata": {},
   "outputs": [
    {
     "name": "stdout",
     "output_type": "stream",
     "text": [
      "PY_VAR11\n",
      "PY_VAR12\n"
     ]
    }
   ],
   "source": [
    "class StartPage(Frame):\n",
    "    def __init__(self, parent, controller):\n",
    "        Frame.__init__(self, parent)\n",
    "        self.widget = FELion_widgets(self)\n",
    "        \n",
    "        # Creating labels\n",
    "        self.widget.labels('First Name: ', 0.1, 0.1, font = 'Times 12 italic', width = 100, bd = 1, relief = SOLID)\n",
    "        self.widget.labels('Last Name: ', 0.1, 0.2, font = 'Times 12 italic', width = 100)\n",
    "\n",
    "        #Creating Entry widgets\n",
    "        self.firstName = self.widget.entries('Entry', 'John ', 0.4, 0.1, height = 25, width = 100)\n",
    "        self.lastName = self.widget.entries('Entry', 'John', 0.4, 0.2, height = 25, width = 100)\n",
    "        \n",
    "        #Creating buttons\n",
    "        self.widget.buttons('Print', 0.2, 0.5, self.test_func1)\n",
    "        self.widget.buttons('Open', 0.4, 0.5, self.filelists)\n",
    "        \n",
    "        # Check_button widget\n",
    "        #self.check1 = Entry_widgets(self,'Check', 'plot', 0.1, 0.7, default = True)\n",
    "        \n",
    "    def test_func1(self):\n",
    "        test_func(self.firstName.get(), self.lastName.get())\n",
    "    \n",
    "    def filename_location(self):\n",
    "        self.fname, self.location = self.widget.open_dir(pow_files_type)\n",
    "        print('Filename: %s \\nLocation: %s \\n'%(self.fname, self.location))\n",
    "    \n",
    "    def filelists(self): \n",
    "        self.filelists, self.location = self.widget.openfilelist(all_files_type)\n",
    "        print('Filelists: {}, \\nLocation: {}'.format(self.filelists, self.location))\n",
    "        \n",
    "            \n",
    "root = FELion()\n",
    "\n",
    "root.mainloop()"
   ]
  },
  {
   "cell_type": "code",
   "execution_count": 32,
   "metadata": {},
   "outputs": [],
   "source": [
    "def test_func(f, l):\n",
    "    print('Hey ', f + l)"
   ]
  },
  {
   "cell_type": "code",
   "execution_count": 165,
   "metadata": {},
   "outputs": [
    {
     "name": "stdout",
     "output_type": "stream",
     "text": [
      "0.591351144\n"
     ]
    }
   ],
   "source": []
  },
  {
   "cell_type": "code",
   "execution_count": 1,
   "metadata": {},
   "outputs": [],
   "source": [
    "from tkinter import *\n",
    "def donothing():\n",
    "   filewin = Toplevel(root)\n",
    "   button = Button(filewin, text=\"Do nothing button\")\n",
    "   button.pack()\n",
    "   \n",
    "root = Tk()\n",
    "menubar = Menu(root)\n",
    "filemenu = Menu(menubar, tearoff = 0)\n",
    "filemenu.add_command(label=\"New\", command = donothing)\n",
    "filemenu.add_command(label = \"Open\", command = donothing)\n",
    "filemenu.add_command(label = \"Save\", command = donothing)\n",
    "filemenu.add_command(label = \"Save as...\", command = donothing)\n",
    "filemenu.add_command(label = \"Close\", command = donothing)\n",
    "\n",
    "filemenu.add_separator()\n",
    "\n",
    "filemenu.add_command(label = \"Exit\", command = root.quit)\n",
    "menubar.add_cascade(label = \"File\", menu = filemenu)\n",
    "editmenu = Menu(menubar, tearoff=0)\n",
    "editmenu.add_command(label = \"Undo\", command = donothing)\n",
    "\n",
    "editmenu.add_separator()\n",
    "\n",
    "editmenu.add_command(label = \"Cut\", command = donothing)\n",
    "editmenu.add_command(label = \"Copy\", command = donothing)\n",
    "editmenu.add_command(label = \"Paste\", command = donothing)\n",
    "editmenu.add_command(label = \"Delete\", command = donothing)\n",
    "editmenu.add_command(label = \"Select All\", command = donothing)\n",
    "\n",
    "menubar.add_cascade(label = \"Edit\", menu = editmenu)\n",
    "helpmenu = Menu(menubar, tearoff=0)\n",
    "helpmenu.add_command(label = \"Help Index\", command = donothing)\n",
    "helpmenu.add_command(label = \"About...\", command = donothing)\n",
    "menubar.add_cascade(label = \"Help\", menu = helpmenu)\n",
    "\n",
    "root.config(menu = menubar)\n",
    "root.mainloop()"
   ]
  },
  {
   "cell_type": "code",
   "execution_count": 22,
   "metadata": {},
   "outputs": [],
   "source": [
    "class MyClass:\n",
    "    \n",
    "    def __init__(self, x):\n",
    "        self.x = x\n",
    "    \n",
    "    def method(self):\n",
    "        return 'instance method called', self.x\n",
    "\n",
    "    @classmethod\n",
    "    def classmethod(cls):\n",
    "        return 'class method called', cls\n",
    "\n",
    "    @staticmethod\n",
    "    def staticmethod():\n",
    "        return 'static method called'\n",
    "    \n",
    "    def __repr__(self):\n",
    "        return f'Class: {self.x!r}'\n",
    "    \n",
    "    def __str__(self):\n",
    "        return f'MyClass()'"
   ]
  },
  {
   "cell_type": "code",
   "execution_count": 24,
   "metadata": {},
   "outputs": [
    {
     "data": {
      "text/plain": [
       "'MyClass()'"
      ]
     },
     "execution_count": 24,
     "metadata": {},
     "output_type": "execute_result"
    }
   ],
   "source": [
    "obj = MyClass(12)\n",
    "f'{obj}'"
   ]
  },
  {
   "cell_type": "code",
   "execution_count": 25,
   "metadata": {},
   "outputs": [
    {
     "data": {
      "text/plain": [
       "'Hey John, is your lastname Dave and I heard you are 12 old. Is it True?'"
      ]
     },
     "execution_count": 25,
     "metadata": {},
     "output_type": "execute_result"
    }
   ],
   "source": [
    "firstName = 'John'\n",
    "lastName = 'Dave'\n",
    "age = 12\n",
    "f'Hey {firstName}, is your lastname {lastName} and I heard you are {age} old. Is it True?'"
   ]
  },
  {
   "cell_type": "code",
   "execution_count": 57,
   "metadata": {},
   "outputs": [
    {
     "data": {
      "text/plain": [
       "'D:\\\\FELion-Spectrum-Analyser\\\\testing\\\\Mass.png'"
      ]
     },
     "execution_count": 57,
     "metadata": {},
     "output_type": "execute_result"
    }
   ],
   "source": [
    "import os\n",
    "from os.path import join\n",
    "location = 'D:\\\\FELion-Spectrum-Analyser\\\\testing'\n",
    "name = 'Mass.png'\n",
    "join(location, f'{name}')"
   ]
  },
  {
   "cell_type": "code",
   "execution_count": 73,
   "metadata": {},
   "outputs": [
    {
     "data": {
      "text/plain": [
       "0"
      ]
     },
     "execution_count": 73,
     "metadata": {},
     "output_type": "execute_result"
    }
   ],
   "source": [
    "import glob2\n",
    "glob2.glob('*.png')\n",
    "f = 'power.png'\n",
    "f.find('p')"
   ]
  }
 ],
 "metadata": {
  "kernelspec": {
   "display_name": "Python 3",
   "language": "python",
   "name": "python3"
  },
  "language_info": {
   "codemirror_mode": {
    "name": "ipython",
    "version": 3
   },
   "file_extension": ".py",
   "mimetype": "text/x-python",
   "name": "python",
   "nbconvert_exporter": "python",
   "pygments_lexer": "ipython3",
   "version": "3.7.0"
  }
 },
 "nbformat": 4,
 "nbformat_minor": 2
}
