{
 "cells": [
  {
   "cell_type": "code",
   "execution_count": 181,
   "metadata": {},
   "outputs": [],
   "source": [
    "from tkinter import *\n",
    "from tkinter import ttk"
   ]
  },
  {
   "cell_type": "code",
   "execution_count": 175,
   "metadata": {},
   "outputs": [],
   "source": [
    "class FELion(Tk):\n",
    "\n",
    "    def __init__(self, *args, **kwargs):\n",
    "        \n",
    "        Tk.__init__(self, *args, **kwargs)\n",
    "        Tk.wm_geometry(self, '400x400')\n",
    "        container = Frame(self)\n",
    "\n",
    "        container.pack(side=\"top\", fill=\"both\", expand = True)\n",
    "\n",
    "        container.grid_rowconfigure(0, weight=1)\n",
    "        container.grid_columnconfigure(0, weight=1)\n",
    "        \n",
    "        StartPage(container)\n",
    "        StartPage.tkraise(self)"
   ]
  },
  {
   "cell_type": "code",
   "execution_count": 206,
   "metadata": {},
   "outputs": [],
   "source": [
    "class StartPage(Frame):\n",
    "\n",
    "    def __init__(self, parent):\n",
    "        Frame.__init__(self,parent)\n",
    "        \n",
    "        widget = FELion_tkinter_widgets(parent)\n",
    "        widget.labels('test', 0.1, 0.1)\n",
    "        widget.entries(10, 0.2, 0.1)\n",
    "        widget.labels_entries('name', 'John', 'uhj', 0.3, 0.3, 0.15)\n",
    "        \n",
    "root = FELion()\n",
    "root.mainloop()"
   ]
  },
  {
   "cell_type": "code",
   "execution_count": 205,
   "metadata": {},
   "outputs": [],
   "source": [
    "class FELion_tkinter_widgets(Frame):\n",
    "    \n",
    "    def __init__(self, parent):\n",
    "        Frame.__init__(self, parent)\n",
    "        self.parent = parent\n",
    "        \n",
    "    def labels(self, txt, x, y):\n",
    "        label = Label(self.parent, text=txt, font=12)\n",
    "        label.place(relx=x, rely=y, anchor='w')\n",
    "        \n",
    "    def entries(self, var, x, y):\n",
    "        self.var = var\n",
    "        if isinstance(self.var, str):  self.var = StringVar()\n",
    "        elif isinstance(self.var, int):  self.var = IntVar()\n",
    "        \n",
    "        entry = Entry(self.parent, bg = \"white\", bd = 5, textvariable=self.var)\n",
    "        entry.place(relx=x, rely=y, anchor='w')\n",
    "        \n",
    "    def labels_entries(self, txt, var, set_txt, x, y, d):\n",
    "\n",
    "        label = Label(self.parent, text=txt, font=12)\n",
    "        label.place(relx=x, rely=y, anchor='w')\n",
    "\n",
    "        if isinstance(var, str):  \n",
    "            var = StringVar()\n",
    "\n",
    "        elif isinstance(self.var, int):  \n",
    "            var = IntVar()\n",
    "        \n",
    "        var.set(set_txt)\n",
    "        entry = Entry(self.parent, bg = \"white\", bd = 5, textvariable=var)\n",
    "        entry.place(relx=x+d, rely=y, anchor='w')"
   ]
  },
  {
   "cell_type": "code",
   "execution_count": null,
   "metadata": {},
   "outputs": [],
   "source": []
  },
  {
   "cell_type": "code",
   "execution_count": 186,
   "metadata": {},
   "outputs": [
    {
     "data": {
      "text/plain": [
       "False"
      ]
     },
     "execution_count": 186,
     "metadata": {},
     "output_type": "execute_result"
    }
   ],
   "source": [
    "s =12\n",
    "isinstance(s, bool)"
   ]
  },
  {
   "cell_type": "code",
   "execution_count": null,
   "metadata": {},
   "outputs": [],
   "source": []
  },
  {
   "cell_type": "code",
   "execution_count": null,
   "metadata": {},
   "outputs": [],
   "source": []
  }
 ],
 "metadata": {
  "kernelspec": {
   "display_name": "Python 3",
   "language": "python",
   "name": "python3"
  },
  "language_info": {
   "codemirror_mode": {
    "name": "ipython",
    "version": 3
   },
   "file_extension": ".py",
   "mimetype": "text/x-python",
   "name": "python",
   "nbconvert_exporter": "python",
   "pygments_lexer": "ipython3",
   "version": "3.7.1"
  }
 },
 "nbformat": 4,
 "nbformat_minor": 2
}
