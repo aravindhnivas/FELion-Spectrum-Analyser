{
 "cells": [
  {
   "cell_type": "code",
   "execution_count": 6,
   "metadata": {},
   "outputs": [],
   "source": [
    "import os\n",
    "import numpy as np\n",
    "import matplotlib.pyplot as plt"
   ]
  },
  {
   "cell_type": "code",
   "execution_count": 116,
   "metadata": {},
   "outputs": [],
   "source": [
    "location = r'D:\\FELion-Spectrum-Analyser\\testing\\_datas'\n",
    "os.chdir(location)\n",
    "fname = '01_06_18-1.mass'\n",
    "var = {'trap_time': 'm04_ao04_sa_delay', 'res':'m03_ao13_reso', 'q2_float':'m04_ao09_qd2_float', 'b0':'m03_ao09_width'}\n",
    "with open(fname, 'r') as f:\n",
    "    f = np.array(f.readlines())\n",
    "for i in f:\n",
    "    if not len(i.strip())==0 and i.split()[0]=='#':\n",
    "        for j in var:\n",
    "            if var[j] in i.split():\n",
    "                var[j] = float(i.split()[-3])\n",
    "res, b0 = round(var['res']), int(var['b0']/1000)"
   ]
  },
  {
   "cell_type": "code",
   "execution_count": null,
   "metadata": {},
   "outputs": [],
   "source": []
  }
 ],
 "metadata": {
  "kernelspec": {
   "display_name": "Python 3",
   "language": "python",
   "name": "python3"
  },
  "language_info": {
   "codemirror_mode": {
    "name": "ipython",
    "version": 3
   },
   "file_extension": ".py",
   "mimetype": "text/x-python",
   "name": "python",
   "nbconvert_exporter": "python",
   "pygments_lexer": "ipython3",
   "version": "3.7.0"
  }
 },
 "nbformat": 4,
 "nbformat_minor": 2
}
