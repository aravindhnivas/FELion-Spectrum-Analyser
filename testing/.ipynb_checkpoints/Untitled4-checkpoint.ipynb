{
 "cells": [
  {
   "cell_type": "code",
   "execution_count": 151,
   "metadata": {},
   "outputs": [],
   "source": [
    "import os\n",
    "import numpy as np\n",
    "import matplotlib.pyplot as plt\n",
    "from matplotlib.widgets import RadioButtons\n",
    "\n",
    "%matplotlib tk"
   ]
  },
  {
   "cell_type": "code",
   "execution_count": 152,
   "metadata": {},
   "outputs": [],
   "source": [
    "location = r'D:\\FELion-Spectrum-Analyser\\testing\\_datas'\n",
    "os.chdir(location)\n",
    "fname = '07_03_19-7.mass'\n",
    "var = {'trap_time': 'm04_ao04_sa_delay', 'res':'m03_ao13_reso', 'q2_float':'m04_ao09_qd2_float', 'b0':'m03_ao09_width'}\n",
    "with open(fname, 'r') as f:\n",
    "    f = np.array(f.readlines())\n",
    "for i in f:\n",
    "    if not len(i.strip())==0 and i.split()[0]=='#':\n",
    "        for j in var:\n",
    "            if var[j] in i.split():\n",
    "                var[j] = float(i.split()[-3])\n",
    "res, b0 = round(var['res']), int(var['b0']/1000)"
   ]
  },
  {
   "cell_type": "code",
   "execution_count": 162,
   "metadata": {},
   "outputs": [],
   "source": [
    "data = np.genfromtxt(fname)\n",
    "x, y = data[:,0], data[:,1]\n",
    "\n",
    "fig, ax = plt.subplots()\n",
    "ax.plot(x, y)\n",
    "plt.subplots_adjust(left=0.3)\n",
    "\n",
    "axcolor = 'lightgoldenrodyellow'\n",
    "rax = plt.axes([0.05, 0.7, 0.15, 0.15], facecolor=axcolor)\n",
    "radio = RadioButtons(rax, ('log', 'linear'))\n",
    "\n",
    "def y_format(label):\n",
    "    y_fmt = {'log':'log', 'linear': 'linear'}\n",
    "    fmt = y_fmt[label]\n",
    "    ax.set_yscale(fmt)\n",
    "    plt.draw()\n",
    "    \n",
    "radio.on_clicked(y_format)\n",
    "plt.show()"
   ]
  },
  {
   "cell_type": "code",
   "execution_count": null,
   "metadata": {},
   "outputs": [],
   "source": []
  }
 ],
 "metadata": {
  "kernelspec": {
   "display_name": "Python 3",
   "language": "python",
   "name": "python3"
  },
  "language_info": {
   "codemirror_mode": {
    "name": "ipython",
    "version": 3
   },
   "file_extension": ".py",
   "mimetype": "text/x-python",
   "name": "python",
   "nbconvert_exporter": "python",
   "pygments_lexer": "ipython3",
   "version": "3.7.0"
  }
 },
 "nbformat": 4,
 "nbformat_minor": 2
}
