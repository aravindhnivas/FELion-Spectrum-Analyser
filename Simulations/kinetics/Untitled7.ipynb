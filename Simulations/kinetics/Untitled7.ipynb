{
 "cells": [
  {
   "cell_type": "code",
   "execution_count": 83,
   "metadata": {},
   "outputs": [],
   "source": [
    "import os\n",
    "from symfit import variables, Parameter, Model, Fit, exp\n",
    "from symfit.contrib.interactive_guess import InteractiveGuess2D\n",
    "import numpy as np\n",
    "import matplotlib.pyplot as plt\n",
    "#%matplotlib widget\n",
    "\n",
    "from ipywidgets import interact, interactive, fixed, interact_manual\n",
    "import ipywidgets as widgets\n",
    "from IPython.display import display\n",
    "from uncertainties import ufloat\n",
    "%matplotlib inline"
   ]
  },
  {
   "cell_type": "code",
   "execution_count": 84,
   "metadata": {},
   "outputs": [
    {
     "name": "stdout",
     "output_type": "stream",
     "text": [
      "0.05+/-0.01, 5.20+/-1.00\n"
     ]
    }
   ],
   "source": [
    "x0 = 5\n",
    "temp = [0.052, 0.051]\n",
    "x1 = np.array(temp).mean()\n",
    "x1s = np.array(temp).std()\n",
    "u1 = ufloat(0.052, 0.01)\n",
    "print(f'{u1:.2f}, {u1*100:.2f}')"
   ]
  },
  {
   "cell_type": "code",
   "execution_count": 93,
   "metadata": {},
   "outputs": [],
   "source": [
    "# Allene\n",
    "t = np.array([0.63, 1.63, 2.63])\n",
    "rel_inten = np.array([0.05, 0.13, 0.13])\n",
    "err = np.array([0.01, 0.01, 0.01])\n",
    "\n",
    "E = 1.9/1000\n",
    "n = 10\n",
    "\n",
    "trap_time = n*t*E\n",
    "\n",
    "x, y = variables('x, y')\n",
    "A = Parameter('A', min=0, max=1)\n",
    "k = Parameter('k', min=1, max=50)\n",
    "model = Model({\n",
    "    y: A*(1-exp(-k*x))\n",
    "})\n",
    "os.chdir(r'D:\\SurfDrive\\backup_for_surfacePro\\Work\\C3H3+\\Data\\datas\\full_report_felixFiles\\linear_depletion_scan\\DATA')"
   ]
  },
  {
   "cell_type": "code",
   "execution_count": 97,
   "metadata": {},
   "outputs": [
    {
     "data": {
      "application/vnd.jupyter.widget-view+json": {
       "model_id": "18b695923bbd41c19e0736ecc37b4b33",
       "version_major": 2,
       "version_minor": 0
      },
      "text/plain": [
       "Tab(children=(Accordion(children=(HBox(children=(Label(value='A'), FloatSlider(value=0.2, max=1.0, step=0.01),…"
      ]
     },
     "metadata": {},
     "output_type": "display_data"
    },
    {
     "data": {
      "application/vnd.jupyter.widget-view+json": {
       "model_id": "e26bd8c7d6f64106b202f2e3014ac242",
       "version_major": 2,
       "version_minor": 0
      },
      "text/plain": [
       "Output()"
      ]
     },
     "metadata": {},
     "output_type": "display_data"
    },
    {
     "data": {
      "application/vnd.jupyter.widget-view+json": {
       "model_id": "958eb9c295124bf48acf8d0b9e64c559",
       "version_major": 2,
       "version_minor": 0
      },
      "text/plain": [
       "HBox(children=(VBox(children=(Text(value='Depletion_Plot'), Button(description='Save', layout=Layout(width='30…"
      ]
     },
     "metadata": {},
     "output_type": "display_data"
    }
   ],
   "source": [
    "class depletion_model:\n",
    "\n",
    "    def __init__(self):\n",
    "        \n",
    "        width = widgets.IntSlider(min=5,max=20,step=1,value=10)\n",
    "        height = widgets.IntSlider(min=2,max=10,step=1,value=5)\n",
    "        dpi = widgets.IntSlider(min=70,max=200,step=1,value=100)\n",
    "\n",
    "        xlabel = widgets.Text('n*t*E')\n",
    "        ylabel = widgets.Text('Relative abundance of active isomer')\n",
    "        title = widgets.Text('Depletion Model')\n",
    "\n",
    "        accordion_figure = widgets.Accordion(children=[\n",
    "            widgets.HBox([ widgets.Label(value=\"Width\"), width, widgets.Label(value=\"Height\"), height, widgets.Label(value=\"DPI\"), dpi]),\n",
    "            widgets.HBox([widgets.Label(value=\"X-label \"), xlabel, widgets.Label(value=\"Y-Label \"), ylabel, widgets.Label(value=\"Title \"), title])\n",
    "                                               ])\n",
    "        accordion_figure.set_title(0, 'Size:')\n",
    "        accordion_figure.set_title(1, 'Labels')\n",
    "\n",
    "        a = widgets.FloatSlider(min=0,max=1,step=0.01,value=0.2, desciption='A')\n",
    "        K = widgets.FloatSlider(min=0,max=50,step=0.1,value=5)\n",
    "\n",
    "        accordion_params = widgets.Accordion(children=[widgets.HBox([widgets.Label(value=\"A\"), a, widgets.Label(value=\"k\"), K])])\n",
    "        accordion_params.set_title(0, 'Main Parameters:')\n",
    "\n",
    "        tab_nest = widgets.Tab()\n",
    "        tab_nest.children = [accordion_params, accordion_figure]\n",
    "        tab_nest.set_title(0, 'Parameters')\n",
    "        tab_nest.set_title(1, 'Figure Properties')\n",
    "        \n",
    "        self.save_name = widgets.Text('Depletion_Plot')\n",
    "        save_button = widgets.Button(\n",
    "            description='Save',\n",
    "            layout={'width': '300px'}\n",
    "        )\n",
    "        \n",
    "        save_button.on_click(self.save_plot)\n",
    "        self.print_save = widgets.Label(value = '')\n",
    "        \n",
    "        save_layout = widgets.VBox([self.save_name, save_button, self.print_save])\n",
    "        \n",
    "        last_layout = widgets.HBox([save_layout, widgets.Label(value = f'Location: {os.getcwd()}')])\n",
    "        self.out = widgets.interactive_output(self.plot, {'a': a, 'K': K, 'width': width, 'height': height, 'dpi': dpi, 'xlabel': xlabel, 'ylabel': ylabel, 'title': title})\n",
    "        display(tab_nest, self.out, last_layout)\n",
    "        \n",
    "    def plot(self, a, K, width, height, dpi, xlabel, ylabel, title):\n",
    "\n",
    "        xdata = np.linspace(0, 0.1, 10)\n",
    "        y = model(x=xdata, A=a, k=K)\n",
    "        self.fig, ax = plt.subplots(figsize = (width, height), dpi=dpi)\n",
    "        ax.errorbar(trap_time, rel_inten, yerr = err, fmt='.', label='Exp')\n",
    "        ax.plot(xdata, y[0], label=f'fit: A:{a:.2f}, k:{K} /J')\n",
    "\n",
    "        ax.set_ylabel(ylabel)\n",
    "        ax.set_xlabel(xlabel)\n",
    "        ax.set_title(title)\n",
    "        ax.legend()\n",
    "        ax.grid()\n",
    "        \n",
    "    def save_plot(self, event):\n",
    "        self.fig.savefig(f'./{self.save_name.value}.png')\n",
    "        \n",
    "        self.print_save.value='Saved'\n",
    "        \n",
    "app = depletion_model()"
   ]
  },
  {
   "cell_type": "code",
   "execution_count": 91,
   "metadata": {},
   "outputs": [
    {
     "name": "stdout",
     "output_type": "stream",
     "text": [
      "\n",
      "Parameter Value        Standard Deviation\n",
      "A         1.572918e-01 5.162846e-02\n",
      "k         4.177309e+01 3.092286e+01\n",
      "Fitting status message: b'CONVERGENCE: REL_REDUCTION_OF_F_<=_FACTR*EPSMCH'\n",
      "Number of iterations:   61\n",
      "Regression Coefficient: 0.8937995197145056\n",
      "\n"
     ]
    }
   ],
   "source": [
    "fit = Fit(model, x=trap_time, y=rel_inten)\n",
    "fit_result = fit.execute()\n",
    "print(fit_result)"
   ]
  }
 ],
 "metadata": {
  "kernelspec": {
   "display_name": "Python 3",
   "language": "python",
   "name": "python3"
  },
  "language_info": {
   "codemirror_mode": {
    "name": "ipython",
    "version": 3
   },
   "file_extension": ".py",
   "mimetype": "text/x-python",
   "name": "python",
   "nbconvert_exporter": "python",
   "pygments_lexer": "ipython3",
   "version": "3.7.0"
  }
 },
 "nbformat": 4,
 "nbformat_minor": 2
}
