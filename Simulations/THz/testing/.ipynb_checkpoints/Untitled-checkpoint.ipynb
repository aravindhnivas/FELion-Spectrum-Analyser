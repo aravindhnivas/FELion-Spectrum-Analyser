{
 "cells": [
  {
   "cell_type": "code",
   "execution_count": 14,
   "metadata": {},
   "outputs": [],
   "source": [
    "__author__ = 'Aravindh'"
   ]
  },
  {
   "cell_type": "code",
   "execution_count": null,
   "metadata": {},
   "outputs": [],
   "source": []
  },
  {
   "cell_type": "markdown",
   "metadata": {},
   "source": [
    "# Transformation by a General Quasioptical system (from Goldsmith Book )"
   ]
  },
  {
   "cell_type": "code",
   "execution_count": 33,
   "metadata": {},
   "outputs": [],
   "source": [
    "from sympy import symbols, Matrix, init_printing, pi, sqrt, solveset, Eq, S, plot\n",
    "from sympy.physics.optics import gaussopt\n",
    "from sympy.physics.optics import RayTransferMatrix, ThinLens, BeamParameter\n",
    "\n",
    "from sympy import I as i\n",
    "from sympy import im, re\n",
    "from sympy import E as e\n",
    "\n",
    "init_printing()"
   ]
  },
  {
   "cell_type": "code",
   "execution_count": 2,
   "metadata": {},
   "outputs": [],
   "source": [
    "d_in, d_out, A, B, C, D = symbols('d_in, d_out, A, B, C, D')\n",
    "Z_c, wn = symbols('Z_c, wn')\n",
    "z, R, w, w0, lam = symbols('z, R, w, w0, lam')"
   ]
  },
  {
   "cell_type": "code",
   "execution_count": 6,
   "metadata": {},
   "outputs": [
    {
     "data": {
      "image/png": "[encoded data removed]",
      "text/latex": [
       "$$\\left ( Z_{c}, \\quad z \\left(\\frac{Z_{c}^{2}}{z^{2}} + 1\\right), \\quad w_{0} \\sqrt{1 + \\frac{z^{2}}{Z_{c}^{2}}}\\right )$$"
      ],
      "text/plain": [
       "⎛                            __________⎞\n",
       "⎜       ⎛   2    ⎞          ╱       2  ⎟\n",
       "⎜       ⎜Z_c     ⎟         ╱       z   ⎟\n",
       "⎜Z_c, z⋅⎜──── + 1⎟, w₀⋅   ╱   1 + ──── ⎟\n",
       "⎜       ⎜  2     ⎟       ╱           2 ⎟\n",
       "⎝       ⎝ z      ⎠     ╲╱         Z_c  ⎠"
      ]
     },
     "execution_count": 6,
     "metadata": {},
     "output_type": "execute_result"
    }
   ],
   "source": [
    "#Zc = pi*w0**2/lam\n",
    "R = z*(1 + (Z_c / z) ** 2)\n",
    "w = w0 * sqrt(1 + (z / Z_c) ** 2)\n",
    "\n",
    "Z_c, R, w"
   ]
  },
  {
   "cell_type": "code",
   "execution_count": 7,
   "metadata": {},
   "outputs": [
    {
     "data": {
      "text/latex": [
       "$$\\left ( \\left[\\begin{matrix}1 & d_{out}\\\\0 & 1\\end{matrix}\\right], \\quad \\left[\\begin{matrix}A & B\\\\C & D\\end{matrix}\\right], \\quad \\left[\\begin{matrix}1 & d_{in}\\\\0 & 1\\end{matrix}\\right]\\right )$$"
      ],
      "text/plain": [
       "⎛⎡1  dₒᵤₜ⎤  ⎡A  B⎤  ⎡1  dᵢₙ⎤⎞\n",
       "⎜⎢       ⎥, ⎢    ⎥, ⎢      ⎥⎟\n",
       "⎝⎣0   1  ⎦  ⎣C  D⎦  ⎣0   1 ⎦⎠"
      ]
     },
     "execution_count": 7,
     "metadata": {},
     "output_type": "execute_result"
    }
   ],
   "source": [
    "m1 = RayTransferMatrix(1, d_out, 0, 1)\n",
    "m2 = RayTransferMatrix(A, B, C, D)\n",
    "m3 = RayTransferMatrix(1, d_in, 0, 1)\n",
    "m1, m2, m3"
   ]
  },
  {
   "cell_type": "code",
   "execution_count": 27,
   "metadata": {},
   "outputs": [
    {
     "data": {
      "text/latex": [
       "$$\\left[\\begin{matrix}A + C d_{out} & B + D d_{out} + d_{in} \\left(A + C d_{out}\\right)\\\\C & C d_{in} + D\\end{matrix}\\right]$$"
      ],
      "text/plain": [
       "⎡A + C⋅dₒᵤₜ  B + D⋅dₒᵤₜ + dᵢₙ⋅(A + C⋅dₒᵤₜ)⎤\n",
       "⎢                                         ⎥\n",
       "⎣    C                 C⋅dᵢₙ + D          ⎦"
      ]
     },
     "execution_count": 27,
     "metadata": {},
     "output_type": "execute_result"
    }
   ],
   "source": [
    "M = m1*m2*m3\n",
    "M"
   ]
  },
  {
   "cell_type": "markdown",
   "metadata": {},
   "source": [
    "## From ABCD law \n",
    "$$q_{out} = (A.q_{in}+B)/(C.q_{in}+D)$$"
   ]
  },
  {
   "cell_type": "code",
   "execution_count": 10,
   "metadata": {},
   "outputs": [
    {
     "data": {
      "image/png": "[encoded data removed]",
      "text/latex": [
       "$$\\frac{1}{i C Z_{c} + C d_{in} + D} \\left(B + D d_{out} + i Z_{c} \\left(A + C d_{out}\\right) + d_{in} \\left(A + C d_{out}\\right)\\right)$$"
      ],
      "text/plain": [
       "B + D⋅dₒᵤₜ + ⅈ⋅Z_c⋅(A + C⋅dₒᵤₜ) + dᵢₙ⋅(A + C⋅dₒᵤₜ)\n",
       "──────────────────────────────────────────────────\n",
       "               ⅈ⋅C⋅Z_c + C⋅dᵢₙ + D                "
      ]
     },
     "execution_count": 10,
     "metadata": {},
     "output_type": "execute_result"
    }
   ],
   "source": [
    "q_in = i*Z_c\n",
    "q_out = (M.A*q_in + M.B) / (M.C*q_in + M.D)\n",
    "q_out"
   ]
  },
  {
   "cell_type": "markdown",
   "metadata": {},
   "source": [
    "## Solving for the real part of q_out, we obtain the distance from the system output plane to the output beam waist and the output waist radius:"
   ]
  },
  {
   "cell_type": "code",
   "execution_count": 31,
   "metadata": {},
   "outputs": [
    {
     "data": {
      "image/png": "[encoded data removed]",
      "text/latex": [
       "$$\\frac{A C Z_{c}^{2} + \\left(A d_{in} + B\\right) \\left(C d_{in} + D\\right)}{C^{2} Z_{c}^{2} + \\left(C d_{in} + D\\right)^{2}}$$"
      ],
      "text/plain": [
       "       2                          \n",
       "A⋅C⋅Z_c  + (A⋅dᵢₙ + B)⋅(C⋅dᵢₙ + D)\n",
       "──────────────────────────────────\n",
       "       2    2              2      \n",
       "      C ⋅Z_c  + (C⋅dᵢₙ + D)       "
      ]
     },
     "execution_count": 31,
     "metadata": {},
     "output_type": "execute_result"
    }
   ],
   "source": [
    "d_out = ((A*d_in + B)*(C*d_in + D) + A*C*Z_c**2) / ((C*d_in + D)**2 + C**2*Z_c**2)\n",
    "d_out"
   ]
  },
  {
   "cell_type": "code",
   "execution_count": 32,
   "metadata": {},
   "outputs": [
    {
     "data": {
      "image/png": "[encoded data removed]",
      "text/latex": [
       "$$\\frac{w_{0 in}}{\\sqrt{C^{2} Z_{c}^{2} + \\left(C d_{in} + D\\right)^{2}}}$$"
      ],
      "text/plain": [
       "           w₀ ᵢₙ           \n",
       "───────────────────────────\n",
       "   ________________________\n",
       "  ╱  2    2              2 \n",
       "╲╱  C ⋅Z_c  + (C⋅dᵢₙ + D)  "
      ]
     },
     "execution_count": 32,
     "metadata": {},
     "output_type": "execute_result"
    }
   ],
   "source": [
    "w0_out, w0_in = symbols('w0_out, w0_in')\n",
    "\n",
    "w0_out = w0_in/sqrt((C*d_in + D)**2 + C**2*Z_c**2)\n",
    "w0_out"
   ]
  },
  {
   "cell_type": "code",
   "execution_count": null,
   "metadata": {},
   "outputs": [],
   "source": []
  },
  {
   "cell_type": "code",
   "execution_count": null,
   "metadata": {},
   "outputs": [],
   "source": []
  },
  {
   "cell_type": "code",
   "execution_count": null,
   "metadata": {},
   "outputs": [],
   "source": []
  },
  {
   "cell_type": "code",
   "execution_count": null,
   "metadata": {},
   "outputs": [],
   "source": []
  },
  {
   "cell_type": "code",
   "execution_count": null,
   "metadata": {},
   "outputs": [],
   "source": []
  },
  {
   "cell_type": "code",
   "execution_count": null,
   "metadata": {},
   "outputs": [],
   "source": []
  },
  {
   "cell_type": "code",
   "execution_count": null,
   "metadata": {},
   "outputs": [],
   "source": []
  },
  {
   "cell_type": "code",
   "execution_count": null,
   "metadata": {},
   "outputs": [],
   "source": []
  },
  {
   "cell_type": "code",
   "execution_count": null,
   "metadata": {},
   "outputs": [],
   "source": []
  },
  {
   "cell_type": "code",
   "execution_count": null,
   "metadata": {},
   "outputs": [],
   "source": []
  }
 ],
 "metadata": {
  "kernelspec": {
   "display_name": "Python 3",
   "language": "python",
   "name": "python3"
  },
  "language_info": {
   "codemirror_mode": {
    "name": "ipython",
    "version": 3
   },
   "file_extension": ".py",
   "mimetype": "text/x-python",
   "name": "python",
   "nbconvert_exporter": "python",
   "pygments_lexer": "ipython3",
   "version": "3.7.3"
  }
 },
 "nbformat": 4,
 "nbformat_minor": 2
}
