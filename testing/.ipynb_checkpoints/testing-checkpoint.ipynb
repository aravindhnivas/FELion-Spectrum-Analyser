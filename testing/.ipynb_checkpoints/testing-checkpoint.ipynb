{
 "cells": [
  {
   "cell_type": "markdown",
   "metadata": {},
   "source": [
    "Making a GUI"
   ]
  },
  {
   "cell_type": "code",
   "execution_count": 40,
   "metadata": {},
   "outputs": [],
   "source": [
    "from tkinter import *\n",
    "from tkinter import ttk, messagebox, filedialog\n",
    "from tkfilebrowser import askopenfilenames\n",
    "import os\n",
    "from os.path import join"
   ]
  },
  {
   "cell_type": "code",
   "execution_count": 124,
   "metadata": {},
   "outputs": [],
   "source": [
    "filelist, fnames = [], []\n",
    "\n",
    "def test_func():\n",
    "    \n",
    "    global filelist, fnames\n",
    "    \n",
    "    filelist = askopenfilenames(initialdir='/', initialfile='tmp',\n",
    "                                filetypes=[(\"All files\", \"*\"), (\"All files\", \"*\")])\n",
    "    \n",
    "    filelist = list(filelist)\n",
    "    \n",
    "    \n",
    "    for i in filelist:\n",
    "        \n",
    "        location = i.split(os.sep)\n",
    "        \n",
    "        filename = location[-1]\n",
    "        fnames.append(filename)\n",
    "        \n",
    "        del location[-1]\n",
    "        location = join(*location)\n",
    "        \n",
    "    print(\"\\nLocation: \", location, \"\\nFilelists: \", fnames)    \n",
    "    label_test.config(text = '\\n'.join(fnames))"
   ]
  },
  {
   "cell_type": "code",
   "execution_count": 126,
   "metadata": {},
   "outputs": [
    {
     "name": "stdout",
     "output_type": "stream",
     "text": [
      "D:\\\n",
      "D:\\FELion-Spectrum-Analyser\n",
      "\n",
      "Location:  D:FELion-Spectrum-Analyser \n",
      "Filelists:  ['.gitignore', 'compile.py', 'install.bat', 'LICENSE', '.gitignore', 'compile.py', 'install.bat', 'LICENSE', 'README.md']\n"
     ]
    }
   ],
   "source": [
    "root = Tk()\n",
    "root.geometry(\"400x400\")\n",
    "\n",
    "#frame\n",
    "frame = Frame(root, bg = \"sea green\")\n",
    "frame.pack(side = 'top', fill = \"both\", expand = True)\n",
    "\n",
    "#label\n",
    "label = Label(frame, text = \"testing\")\n",
    "label.place(relx = 0.1, rely=0.1)\n",
    "\n",
    "label_test1 = Label(frame, text = 'Filelists: ')\n",
    "label_test1.place(relx = 0.1, rely = 0.2)\n",
    "\n",
    "label_test = Label(frame)\n",
    "label_test.place(relx = 0.1, rely = 0.3)\n",
    "\n",
    "#button\n",
    "button = ttk.Button(frame, text = \"test Button\", command = lambda: test_func())\n",
    "button.place(relx = 0.3, rely = 0.1)\n",
    "\n",
    "root.mainloop()"
   ]
  },
  {
   "cell_type": "code",
   "execution_count": 143,
   "metadata": {},
   "outputs": [
    {
     "ename": "ValueError",
     "evalue": "not enough values to unpack (expected 2, got 0)",
     "output_type": "error",
     "traceback": [
      "\u001b[1;31m---------------------------------------------------------------------------\u001b[0m",
      "\u001b[1;31mValueError\u001b[0m                                Traceback (most recent call last)",
      "\u001b[1;32m<ipython-input-143-c561a5febd47>\u001b[0m in \u001b[0;36m<module>\u001b[1;34m()\u001b[0m\n\u001b[0;32m      1\u001b[0m \u001b[0mfile\u001b[0m \u001b[1;33m=\u001b[0m \u001b[1;33m[\u001b[0m\u001b[1;34m'11_16_18-1.dat'\u001b[0m\u001b[1;33m,\u001b[0m \u001b[1;34m'11_16_18-2.dat'\u001b[0m\u001b[1;33m,\u001b[0m \u001b[1;34m'12_16_18-1.dat'\u001b[0m\u001b[1;33m]\u001b[0m\u001b[1;33m\u001b[0m\u001b[0m\n\u001b[1;32m----> 2\u001b[1;33m \u001b[0mtest\u001b[0m\u001b[1;33m,\u001b[0m \u001b[0mdate\u001b[0m \u001b[1;33m=\u001b[0m \u001b[1;33m[\u001b[0m\u001b[1;33m]\u001b[0m\u001b[1;33m\u001b[0m\u001b[0m\n\u001b[0m\u001b[0;32m      3\u001b[0m \u001b[1;32mfor\u001b[0m \u001b[0mi\u001b[0m \u001b[1;32min\u001b[0m \u001b[0mfile\u001b[0m\u001b[1;33m:\u001b[0m\u001b[1;33m\u001b[0m\u001b[0m\n\u001b[0;32m      4\u001b[0m     \u001b[0mx\u001b[0m \u001b[1;33m=\u001b[0m \u001b[0mi\u001b[0m\u001b[1;33m.\u001b[0m\u001b[0msplit\u001b[0m\u001b[1;33m(\u001b[0m\u001b[1;34m'_'\u001b[0m\u001b[1;33m)\u001b[0m\u001b[1;33m[\u001b[0m\u001b[1;36m0\u001b[0m\u001b[1;33m]\u001b[0m\u001b[1;33m\u001b[0m\u001b[0m\n\u001b[0;32m      5\u001b[0m     \u001b[0mdate\u001b[0m\u001b[1;33m.\u001b[0m\u001b[0mappend\u001b[0m\u001b[1;33m(\u001b[0m\u001b[0mx\u001b[0m\u001b[1;33m)\u001b[0m\u001b[1;33m\u001b[0m\u001b[0m\n",
      "\u001b[1;31mValueError\u001b[0m: not enough values to unpack (expected 2, got 0)"
     ]
    }
   ],
   "source": [
    "file = ['11_16_18-1.dat', '11_16_18-2.dat', '12_16_18-1.dat']\n",
    "test, date = [], []\n",
    "for i in file:\n",
    "    x = i.split('_')[0]\n",
    "    date.append(x)\n",
    "test"
   ]
  },
  {
   "cell_type": "code",
   "execution_count": 120,
   "metadata": {},
   "outputs": [],
   "source": [
    "test"
   ]
  }
 ],
 "metadata": {
  "kernelspec": {
   "display_name": "Python 3",
   "language": "python",
   "name": "python3"
  },
  "language_info": {
   "codemirror_mode": {
    "name": "ipython",
    "version": 3
   },
   "file_extension": ".py",
   "mimetype": "text/x-python",
   "name": "python",
   "nbconvert_exporter": "python",
   "pygments_lexer": "ipython3",
   "version": "3.7.0"
  }
 },
 "nbformat": 4,
 "nbformat_minor": 2
}
