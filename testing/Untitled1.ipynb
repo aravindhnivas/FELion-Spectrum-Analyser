{
 "cells": [
  {
   "cell_type": "code",
   "execution_count": 16,
   "metadata": {},
   "outputs": [],
   "source": [
    "import numpy as np\n",
    "import matplotlib.pyplot as plt\n",
    "import os"
   ]
  },
  {
   "cell_type": "code",
   "execution_count": null,
   "metadata": {},
   "outputs": [],
   "source": []
  },
  {
   "cell_type": "code",
   "execution_count": 310,
   "metadata": {},
   "outputs": [
    {
     "data": {
      "text/plain": [
       "['16_11_18-2.felix',\n",
       " '16_11_18-2.pow',\n",
       " '16_11_18-3.felix',\n",
       " '16_11_18-3.pow',\n",
       " '16_11_18-4.felix',\n",
       " '16_11_18-4.pow',\n",
       " '16_11_18-6.felix',\n",
       " '16_11_18-6.pow',\n",
       " '19_11_18-7.felix',\n",
       " '19_11_18-7.pow',\n",
       " '19_11_18-8.felix',\n",
       " '19_11_18-8.pow',\n",
       " '19_11_18-9.felix',\n",
       " '19_11_18-9.pow',\n",
       " 'basefile.base']"
      ]
     },
     "execution_count": 310,
     "metadata": {},
     "output_type": "execute_result"
    }
   ],
   "source": [
    "os.chdir('D:\\\\SurfDrive\\\\backup_for_surfacePro\\\\FELion-Spectrum-Analyser\\\\testing\\\\DATA')\n",
    "os.listdir()"
   ]
  },
  {
   "cell_type": "code",
   "execution_count": 76,
   "metadata": {},
   "outputs": [],
   "source": [
    "def felix_read_file(fname):\n",
    "    file = np.genfromtxt(fname)\n",
    "    wn, count, sa = file[:,0], file[:,2], file[:,3]\n",
    "    data = wn, count, sa\n",
    "    data = np.take(data, data[0].argsort(), 1)\n",
    "    return data\n",
    "\n",
    "def felix_read_file1(fname):\n",
    "    \"\"\"\n",
    "    Reads data from felix meassurement file\n",
    "    Input: filename\n",
    "    Output: data[0,1]   0 - wavenumber, 1 - intensity\n",
    "    \"\"\"\n",
    "    \n",
    "    sa_factor = 1.0\n",
    "    #open file and skip sharps\n",
    "    wl, cnt, sa = [],[],[]\n",
    "    f = open(fname)\n",
    "    for line in f:\n",
    "        if line[0] == '#':\n",
    "            if line.find(\"3HARM\")==1:\n",
    "                sa_factor=2.0\n",
    "            continue\n",
    "        else:\n",
    "            if len(line.split()) < 4: continue;\n",
    "            x, y, z, q, *rest = line.split()\n",
    "            wl.append(float(x))\n",
    "            cnt.append(float(z))\n",
    "            sa.append(float(q)*sa_factor)\n",
    "    \n",
    "    f.close()\n",
    "    data = np.array([wl, cnt, sa])\n",
    "\n",
    "    indices = data[0].argsort()\n",
    "    wl_min_f = data[0][indices[0]]\n",
    "    wl_max_f = data[0][indices[-1]]\n",
    "    print(\"--------------------------------------------------------------------------------\")\n",
    "    print('FILE: ', fname, '\\tWavelength in file:' , wl_min_f, '-', wl_max_f, 'PONTS: ', len(data[0][:]))\n",
    "    \n",
    "    res = np.take(data, indices, 1)\n",
    "    return res"
   ]
  },
  {
   "cell_type": "code",
   "execution_count": 77,
   "metadata": {},
   "outputs": [
    {
     "name": "stdout",
     "output_type": "stream",
     "text": [
      "--------------------------------------------------------------------------------\n",
      "FILE:  16_11_18-2.felix \tWavelength in file: 550.09655 - 1799.999856 PONTS:  625\n"
     ]
    },
    {
     "data": {
      "text/plain": [
       "<matplotlib.legend.Legend at 0x2623688f860>"
      ]
     },
     "execution_count": 77,
     "metadata": {},
     "output_type": "execute_result"
    },
    {
     "data": {
      "image/png": "[encoded data removed]",
      "text/plain": [
       "<Figure size 432x288 with 1 Axes>"
      ]
     },
     "metadata": {
      "needs_background": "light"
     },
     "output_type": "display_data"
    }
   ],
   "source": [
    "data = felix_read_file('16_11_18-2.felix')\n",
    "data1 = felix_read_file1('16_11_18-2.felix')\n",
    "\n",
    "plt.plot(data[0], data[1], label = 'new')\n",
    "plt.plot(data1[0], data1[1], label = 'old')\n",
    "plt.legend()"
   ]
  },
  {
   "cell_type": "code",
   "execution_count": 301,
   "metadata": {},
   "outputs": [],
   "source": [
    "baseline=None\n",
    "\n",
    "def GuessBaseLine1(data, PPS=5, NUM_POINTS=18):\n",
    "\n",
    "    \"\"\"\n",
    "    Guesses the baseline according to real points in the datafile.\n",
    "    makes NUM_POINTS baseline defining points \n",
    "    \"\"\"\n",
    "    max_n = len(data[0]) - PPS\n",
    "    Bx, By = [data[0][0]-0.1], [data[1][0]]             #NOTE teh 0.1 is here to be \n",
    "    #sure all the frequencies are in baseline calib. range\n",
    "    for i in range(0, max_n, int(max_n/NUM_POINTS)):\n",
    "        x = data[0][i:i+PPS].mean()\n",
    "        y = data[1][i:i+PPS].mean()\n",
    "        #print('x = data[0][%i:%i]'%(i, i+PPS))\n",
    "        Bx.append(x)\n",
    "        By.append(y)\n",
    "    Bx.append(data[0][-1]+0.1)\n",
    "    By.append(data[1][-1])\n",
    "    \n",
    "    #print('\\nPPS: %i\\nNUM_POINTS: %i\\nlen(data[0]) %i\\nmax_n: %i\\n'%(PPS, NUM_POINTS, len(data[0]), max_n))\n",
    "\n",
    "    return np.array(Bx), np.array(By)"
   ]
  },
  {
   "cell_type": "code",
   "execution_count": 431,
   "metadata": {
    "scrolled": false
   },
   "outputs": [
    {
     "data": {
      "text/plain": [
       "<matplotlib.legend.Legend at 0x26239c0acc0>"
      ]
     },
     "execution_count": 431,
     "metadata": {},
     "output_type": "execute_result"
    },
    {
     "data": {
      "image/png": "[encoded data removed]",
      "text/plain": [
       "<Figure size 432x288 with 1 Axes>"
      ]
     },
     "metadata": {
      "needs_background": "light"
     },
     "output_type": "display_data"
    }
   ],
   "source": [
    "xs, ys = GuessBaseLine1(data, PPS=5, NUM_POINTS=18)\n",
    "plt.plot(xs, ys,'.' ,label = 'old')\n",
    "plt.legend()"
   ]
  },
  {
   "cell_type": "code",
   "execution_count": null,
   "metadata": {},
   "outputs": [],
   "source": []
  },
  {
   "cell_type": "code",
   "execution_count": 451,
   "metadata": {},
   "outputs": [],
   "source": [
    "class InteractivePoints():\n",
    "    pass"
   ]
  },
  {
   "cell_type": "code",
   "execution_count": null,
   "metadata": {},
   "outputs": [],
   "source": []
  },
  {
   "cell_type": "code",
   "execution_count": 452,
   "metadata": {
    "scrolled": false
   },
   "outputs": [],
   "source": [
    "xs, ys = GuessBaseLine1(data, PPS=5, NUM_POINTS=18)\n"
   ]
  },
  {
   "cell_type": "code",
   "execution_count": null,
   "metadata": {},
   "outputs": [],
   "source": []
  },
  {
   "cell_type": "code",
   "execution_count": null,
   "metadata": {},
   "outputs": [],
   "source": []
  },
  {
   "cell_type": "code",
   "execution_count": 335,
   "metadata": {},
   "outputs": [],
   "source": [
    "def ReadBase(basefile):\n",
    "    file = np.genfromtxt(basefile)\n",
    "    wl, cnt = file[:,0], file[:,1]\n",
    "    with open('basefile.base') as f:\n",
    "        interpol = f.readlines()[1].strip().split('=')[-1]\n",
    "    return wl, cnt, interpol\n",
    "        \n",
    "def ReadBase1(basefile):\n",
    "    interpol='cubic'\n",
    "    wl, cnt = [],[]\n",
    "    f = open(basefile)\n",
    "    for line in f:\n",
    "        if line[0] == '#':\n",
    "            if line.find('BTYPE')==1:\n",
    "                interpol = line.split('=')[-1].strip('\\n')\n",
    "            continue\n",
    "        else:\n",
    "            x, y, = line.split()\n",
    "            wl.append(float(x))\n",
    "            cnt.append(float(y))\n",
    "    \n",
    "    f.close()\n",
    "    return np.array(wl), np.array(cnt), interpol"
   ]
  },
  {
   "cell_type": "code",
   "execution_count": 343,
   "metadata": {},
   "outputs": [
    {
     "data": {
      "text/plain": [
       "(array([ True,  True,  True,  True,  True,  True,  True,  True,  True,\n",
       "         True]),\n",
       " array([ True,  True,  True,  True,  True,  True,  True,  True,  True,\n",
       "         True]),\n",
       " True)"
      ]
     },
     "execution_count": 343,
     "metadata": {},
     "output_type": "execute_result"
    }
   ],
   "source": [
    "wn1, cnt1, interpol1 = ReadBase1('basefile.base')\n",
    "wn, cnt, interpol = ReadBase('basefile.base')\n",
    "wn1==wn, cnt1==cnt, interpol1==interpol"
   ]
  },
  {
   "cell_type": "code",
   "execution_count": 428,
   "metadata": {
    "scrolled": false
   },
   "outputs": [
    {
     "name": "stdout",
     "output_type": "stream",
     "text": [
      "float: 10.1\n"
     ]
    }
   ],
   "source": [
    "print('float:%5.1f'%10.1235465468)"
   ]
  }
 ],
 "metadata": {
  "kernelspec": {
   "display_name": "Python 3",
   "language": "python",
   "name": "python3"
  },
  "language_info": {
   "codemirror_mode": {
    "name": "ipython",
    "version": 3
   },
   "file_extension": ".py",
   "mimetype": "text/x-python",
   "name": "python",
   "nbconvert_exporter": "python",
   "pygments_lexer": "ipython3",
   "version": "3.7.0"
  }
 },
 "nbformat": 4,
 "nbformat_minor": 2
}
