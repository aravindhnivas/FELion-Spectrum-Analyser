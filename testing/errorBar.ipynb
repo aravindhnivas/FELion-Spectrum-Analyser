{
 "cells": [
  {
   "cell_type": "code",
   "execution_count": 1,
   "metadata": {},
   "outputs": [],
   "source": [
    "import matplotlib.pyplot as plt\n",
    "import os\n",
    "import math as m\n",
    "import numpy as np\n",
    "from scipy.optimize import curve_fit"
   ]
  },
  {
   "cell_type": "code",
   "execution_count": 2,
   "metadata": {},
   "outputs": [],
   "source": [
    "def errorbar(filename, no_of_mass):\n",
    "    #Error bar calculations:\n",
    "    f = open(filename, \"r\")\n",
    "    mass_number = []\n",
    "    for line in f:\n",
    "        if line.find(\"#mass\")>=0:\n",
    "            tmp = line[5:].split(\":\")\n",
    "            tmp.append(\":\")\n",
    "            tmp = tmp[0].strip()+tmp[-1]+tmp[1].strip()\n",
    "            mass_number.append(tmp)\n",
    "    f.close()\n",
    "\n",
    "    iterations = [int(i.split(\":\")[-1]) for i in mass_number]\n",
    "\n",
    "    f = open(filename, \"r\")\n",
    "    start = False\n",
    "    no_of_times = 0\n",
    "    raw_datas = []\n",
    "    for line in f:\n",
    "        if not line[0]==\"#\" and not line == \"\\n\":\n",
    "            line.strip()\n",
    "            tmp = line.split()\n",
    "            if tmp[0]==\"ALL:\":\n",
    "                start = True\n",
    "                continue\n",
    "            if start:\n",
    "                no_of_times += 1\n",
    "                raw_datas.append(line.strip())\n",
    "    f.close()\n",
    "    no_of_datas_for_each_iterations = int(no_of_times/sum(iterations))\n",
    "\n",
    "\n",
    "    values = []\n",
    "    for datas in raw_datas:\n",
    "        values.append(datas.split())\n",
    "    values = [[float(i) for i in j] for j in values]\n",
    "\n",
    "    #Separating data set for every iteration for all masses combined\n",
    "    all_datas = []\n",
    "    total =  no_of_datas_for_each_iterations\n",
    "    for j in range(sum(iterations)):\n",
    "        i = j*total\n",
    "        all_datas.append(values[i:i+total])\n",
    "\n",
    "    # Giving the data sets according to the iterations for each mass separately\n",
    "    # The mass variables are stored like a dictionary\n",
    "    samples = {}\n",
    "    for i in range(no_of_mass):\n",
    "        samples[\"mass_sample_{}\".format(i)] = []\n",
    "\n",
    "    k,l = 0, -1\n",
    "    for i in iterations:\n",
    "        l += 1\n",
    "        for j in range(i):\n",
    "            samples[\"mass_sample_{}\".format(l)].append(all_datas[k])\n",
    "            k += 1\n",
    "\n",
    "    # Getting all the ion counts and also calculating the mean of it for the iteration number of times\n",
    "    k = 0\n",
    "    data_run = no_of_datas_for_each_iterations\n",
    "    mass_count_avg, all_mass_count = [], []\n",
    "\n",
    "    for i in iterations:\n",
    "\n",
    "        if i>1:\n",
    "            to_avg = [[samples[\"mass_sample_{}\".format(k)][j][m][2] for m in range(data_run)] for j in range(i)]\n",
    "            all_mass_count.append(to_avg)\n",
    "            mass = [[to_avg[l][j] for l in range(i)] for j in range(data_run)]\n",
    "            mass_count = [sum(mass[j])/i for j in range(len(mass))]\n",
    "            mass_count_avg.append(mass_count)\n",
    "        k += 1\n",
    "\n",
    "    # Calculating varience\n",
    "    more_iterations_count = 0\n",
    "    for i in iterations:\n",
    "        if i>1:\n",
    "            more_iterations_count += 1\n",
    "\n",
    "    varience_adder, varience_collector, varience = [],[],[]\n",
    "\n",
    "    for i in range(more_iterations_count):\n",
    "\n",
    "        for j in range(data_run):\n",
    "\n",
    "            for k in range(len(all_mass_count[i])):\n",
    "                x, mu = all_mass_count[i][k][j], mass_count_avg[i][j]\n",
    "                varience_adder.append((x-mu)**2)\n",
    "\n",
    "            varience_collector.append(sum(varience_adder)/(len(varience_adder)-1))\n",
    "            varience_adder = []\n",
    "\n",
    "        varience.append(varience_collector)\n",
    "        varience_collector = []\n",
    "\n",
    "    #Standard deviations and standard error\n",
    "    no_of_moreiterations = []\n",
    "    for i in iterations:\n",
    "        if i>1:\n",
    "            no_of_moreiterations.append(i)\n",
    "\n",
    "    standard_deviation = [[m.sqrt(i) for i in varience[j]] for j in range(len(varience))]\n",
    "    standard_error = [[i/m.sqrt(no_of_moreiterations[j]) for i in standard_deviation[j]] for j in range(len(standard_deviation))]\n",
    "    \n",
    "    return standard_error, iterations, samples"
   ]
  },
  {
   "cell_type": "code",
   "execution_count": 3,
   "metadata": {},
   "outputs": [
    {
     "name": "stderr",
     "output_type": "stream",
     "text": [
      "C:\\ProgramData\\Anaconda3\\lib\\site-packages\\ipykernel_launcher.py:35: RuntimeWarning: invalid value encountered in log\n"
     ]
    },
    {
     "data": {
      "image/png": "[encoded data removed]",
      "text/plain": [
       "<Figure size 432x288 with 1 Axes>"
      ]
     },
     "metadata": {
      "needs_background": "light"
     },
     "output_type": "display_data"
    }
   ],
   "source": [
    "filename = \"11_01_19-4.scan\"\n",
    "datas = []\n",
    "f = open(filename, \"r\")\n",
    "\n",
    "for line in f:\n",
    "    if not line[0] == \"#\" and not line == \"\\n\":\n",
    "        a = line.split()\n",
    "        datas.append(a)\n",
    "        if line.strip() == \"ALL:\":\n",
    "            del datas[-1]\n",
    "            break\n",
    "no_of_mass = len(datas[0])-2\n",
    "\n",
    "f.close()\n",
    "\n",
    "d = {}\n",
    "\n",
    "for i in range(no_of_mass):\n",
    "    d[\"mass_#{0}\".format(i)] = []\n",
    "\n",
    "for i in range(len(d)):\n",
    "    d['mass_#{}'.format(i)] = [float(j[i+1]) for j in datas]\n",
    "\n",
    "time = [float(i[0]) for i in datas]\n",
    "\n",
    "error, iterations, mass_values = errorbar(filename, no_of_mass)\n",
    "tmp = []\n",
    "if len(error[0])>len(time):\n",
    "    for i in error:\n",
    "        del i[-1]\n",
    "        tmp.append(i)\n",
    "    error = tmp\n",
    "\n",
    "def fit(x, a, b, c):\n",
    "    return a*np.log(b*x)+c\n",
    "\n",
    "j = 0\n",
    "for i in range(no_of_mass):\n",
    "    if iterations[i]>1:\n",
    "        lg = \"Mass:\"+str(mass_values[\"mass_sample_{}\".format(i)][0][0][0])+\": Iter \"+str(iterations[i])\n",
    "        plt.errorbar(time, d[\"mass_#{}\".format(i)], yerr = error[j], fmt = \"-\", \n",
    "                     label = lg)\n",
    "        \n",
    "        params, pcov = curve_fit(fit, np.array(time), np.array(d[\"mass_#{}\".format(i)]), p0=(1, 1,1))\n",
    "        plt.plot(np.array(time), fit(np.array(time), *params), label = lg+\"_fitted\")\n",
    "\n",
    "        j += 1\n",
    "        \n",
    "plt.grid(True)\n",
    "plt.xlabel(\"Time (ms)\")\n",
    "plt.ylabel(\"Ion Counts\")\n",
    "plt.legend()\n",
    "plt.title(filename)\n",
    "plt.savefig(filename+\".png\")\n",
    "plt.show()\n",
    "plt.close()"
   ]
  },
  {
   "cell_type": "code",
   "execution_count": 47,
   "metadata": {},
   "outputs": [
    {
     "name": "stderr",
     "output_type": "stream",
     "text": [
      "C:\\ProgramData\\Anaconda3\\lib\\site-packages\\ipykernel_launcher.py:4: RankWarning: Polyfit may be poorly conditioned\n",
      "  after removing the cwd from sys.path.\n"
     ]
    },
    {
     "data": {
      "text/plain": [
       "[<matplotlib.lines.Line2D at 0x130f6e27cc0>]"
      ]
     },
     "execution_count": 47,
     "metadata": {},
     "output_type": "execute_result"
    },
    {
     "data": {
      "image/png": "[encoded data removed]",
      "text/plain": [
       "<Figure size 432x288 with 1 Axes>"
      ]
     },
     "metadata": {
      "needs_background": "light"
     },
     "output_type": "display_data"
    }
   ],
   "source": [
    "x = np.array([0.0, 1.0, 2.0, 3.0,  4.0,  5.0])\n",
    "y = np.array([0.0, 0.8, 0.9, 0.1, -0.8, -1.0])\n",
    "\n",
    "z = np.polyfit(x, y, 30)\n",
    "p = np.poly1d(z)\n",
    "plt.plot(x, y)\n",
    "\n",
    "plt.plot(x, yy)"
   ]
  },
  {
   "cell_type": "code",
   "execution_count": 82,
   "metadata": {},
   "outputs": [
    {
     "name": "stderr",
     "output_type": "stream",
     "text": [
      "C:\\ProgramData\\Anaconda3\\lib\\site-packages\\ipykernel_launcher.py:4: RankWarning: Polyfit may be poorly conditioned\n",
      "  after removing the cwd from sys.path.\n"
     ]
    },
    {
     "data": {
      "text/plain": [
       "<matplotlib.legend.Legend at 0x130f72e7518>"
      ]
     },
     "execution_count": 82,
     "metadata": {},
     "output_type": "execute_result"
    },
    {
     "data": {
      "image/png": "[encoded data removed]",
      "text/plain": [
       "<Figure size 432x288 with 1 Axes>"
      ]
     },
     "metadata": {
      "needs_background": "light"
     },
     "output_type": "display_data"
    }
   ],
   "source": [
    "x = np.array([0.0, 1.0, 2.0, 3.0,  4.0,  5.0])\n",
    "y = np.array([0.0, 0.8, 0.9, 0.1, -0.8, -1.0])\n",
    "\n",
    "z = np.polyfit(x, y, 6)\n",
    "p = np.poly1d(z)\n",
    "y_fit = [p(i) for i in x]\n",
    "plt.plot(x,y, \"o\", x, y_fit, \"-\", label = \"fitted\")\n",
    "plt.legend()"
   ]
  },
  {
   "cell_type": "code",
   "execution_count": 6,
   "metadata": {
    "scrolled": false
   },
   "outputs": [
    {
     "name": "stdout",
     "output_type": "stream",
     "text": [
      "[0. 1. 2. 3. 4. 5.] [ 0.   0.8  0.9  0.1 -0.8 -1. ]\n"
     ]
    },
    {
     "data": {
      "image/png": "[encoded data removed]",
      "text/plain": [
       "<Figure size 432x288 with 1 Axes>"
      ]
     },
     "metadata": {
      "needs_background": "light"
     },
     "output_type": "display_data"
    }
   ],
   "source": [
    "plt.plot(x, y)\n",
    "print(x, y)"
   ]
  },
  {
   "cell_type": "code",
   "execution_count": 7,
   "metadata": {},
   "outputs": [
    {
     "name": "stdout",
     "output_type": "stream",
     "text": [
      "(1, 4, 8, 11, 10, 15, 16) (1, 3, 3, 4, 7, 11, 12) [1, 1] [4, 3] [8, 3] [11, 4] [10, 7] [15, 11] [16, 12]\n"
     ]
    }
   ],
   "source": [
    "data = [[1,1],[4,3],[8,3],[11,4],[10,7],[15,11],[16,12]]\n",
    "x, y = zip(*data)\n",
    "print(x, y, *data)"
   ]
  },
  {
   "cell_type": "code",
   "execution_count": 8,
   "metadata": {},
   "outputs": [
    {
     "name": "stdout",
     "output_type": "stream",
     "text": [
      "3\n"
     ]
    }
   ],
   "source": [
    "f = open(filename)\n",
    "start = False\n",
    "raw_datas = []\n",
    "no_of_mass = 0\n",
    "for line in f:\n",
    "    if line.find(\"#mass\")>=0:\n",
    "            no_of_mass += 1\n",
    "    if not line[0] == \"#\" and not line == \"\\n\":\n",
    "        if line.strip() == \"ALL:\":\n",
    "            start = True\n",
    "        if start:\n",
    "            raw_datas.append(line)\n",
    "        \n",
    "\n",
    "f.close()\n",
    "del raw_datas[0]\n",
    "\n",
    "all_datas = [i.split() for i in raw_datas]\n",
    "\n",
    "all_datas_infloat = []\n",
    "for i in all_datas:\n",
    "    tmp = [float(j) for j in i]\n",
    "    all_datas_infloat.append(tmp)\n",
    "print(no_of_mass)"
   ]
  },
  {
   "cell_type": "code",
   "execution_count": 9,
   "metadata": {
    "scrolled": false
   },
   "outputs": [
    {
     "name": "stdout",
     "output_type": "stream",
     "text": [
      "x is:  (1, 3) \n",
      " y is:  (2, 4)\n"
     ]
    }
   ],
   "source": [
    "test = [[1,2], [3, 4]]\n",
    "x, y = zip(*test)\n",
    "print(\"x is: \",x,\"\\n\",\"y is: \",y)\n"
   ]
  },
  {
   "cell_type": "code",
   "execution_count": 10,
   "metadata": {
    "scrolled": true
   },
   "outputs": [
    {
     "name": "stdout",
     "output_type": "stream",
     "text": [
      "<zip object at 0x00000130F506E388> <class 'zip'>\n",
      "{('Manjeet', 4, 40), ('Shambhavi', 3, 60), ('Nikhil', 1, 50), ('Astha', 2, 70)} <class 'set'>\n",
      "[('Manjeet', 4, 40), ('Shambhavi', 3, 60), ('Nikhil', 1, 50), ('Astha', 2, 70)] <class 'list'> <class 'tuple'>\n"
     ]
    }
   ],
   "source": [
    "# initializing lists \n",
    "name = [ \"Manjeet\", \"Nikhil\", \"Shambhavi\", \"Astha\" ] \n",
    "roll_no = [ 4, 1, 3, 2 ] \n",
    "marks = [ 40, 50, 60, 70 ] \n",
    "  \n",
    "# using zip() to map values \n",
    "mapped = zip(name, roll_no, marks)\n",
    "print(mapped, type(mapped))\n",
    "  \n",
    "# converting values to print as set \n",
    "mapped = set(mapped) \n",
    "print(mapped, type(mapped))\n",
    "\n",
    "mapped = list(mapped) \n",
    "print(mapped, type(mapped), type(mapped[0]))\n"
   ]
  },
  {
   "cell_type": "code",
   "execution_count": 11,
   "metadata": {},
   "outputs": [
    {
     "name": "stdout",
     "output_type": "stream",
     "text": [
      "This is for testing"
     ]
    }
   ],
   "source": [
    "statement = \"This is for testing\"\n",
    "for i in statement: print(i, end = \"\")"
   ]
  },
  {
   "cell_type": "code",
   "execution_count": 12,
   "metadata": {
    "scrolled": false
   },
   "outputs": [
    {
     "data": {
      "text/plain": [
       "(1, 2)"
      ]
     },
     "execution_count": 12,
     "metadata": {},
     "output_type": "execute_result"
    }
   ],
   "source": [
    "x, y = (1, 2)\n",
    "x, y"
   ]
  },
  {
   "cell_type": "code",
   "execution_count": null,
   "metadata": {},
   "outputs": [],
   "source": []
  },
  {
   "cell_type": "code",
   "execution_count": null,
   "metadata": {
    "scrolled": false
   },
   "outputs": [],
   "source": []
  }
 ],
 "metadata": {
  "kernelspec": {
   "display_name": "Python 3",
   "language": "python",
   "name": "python3"
  },
  "language_info": {
   "codemirror_mode": {
    "name": "ipython",
    "version": 3
   },
   "file_extension": ".py",
   "mimetype": "text/x-python",
   "name": "python",
   "nbconvert_exporter": "python",
   "pygments_lexer": "ipython3",
   "version": "3.7.1"
  }
 },
 "nbformat": 4,
 "nbformat_minor": 2
}
