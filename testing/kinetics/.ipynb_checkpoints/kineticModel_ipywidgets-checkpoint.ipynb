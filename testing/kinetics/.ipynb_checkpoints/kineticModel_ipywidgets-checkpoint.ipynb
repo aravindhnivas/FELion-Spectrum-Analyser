{
 "cells": [
  {
   "cell_type": "code",
   "execution_count": 1,
   "metadata": {},
   "outputs": [],
   "source": [
    "import os\n",
    "from symfit import variables, Parameter, Model, Fit, exp\n",
    "from symfit.contrib.interactive_guess import InteractiveGuess2D\n",
    "import numpy as np\n",
    "import matplotlib.pyplot as plt\n",
    "#%matplotlib widget"
   ]
  },
  {
   "cell_type": "code",
   "execution_count": 2,
   "metadata": {},
   "outputs": [],
   "source": [
    "from ipywidgets import interact, interactive, fixed, interact_manual\n",
    "import ipywidgets as widgets\n",
    "from IPython.display import display"
   ]
  },
  {
   "cell_type": "code",
   "execution_count": 3,
   "metadata": {},
   "outputs": [],
   "source": [
    "os.chdir(r'D:\\SurfDrive\\backup_for_surfacePro\\Work\\C3H3+\\Data\\datas\\full_report_felixFiles\\linear_depletion_scan')\n",
    "file = 'depletion_linear.txt'\n",
    "\n",
    "t, inten = np.genfromtxt(file).T\n",
    "n = 10\n",
    "E = 3.3/1000\n",
    "inten_off = [4.4, 4.2, 4]\n",
    "\n",
    "trap_time = n*t*E\n",
    "rel_inten = 1-inten/inten_off\n",
    "\n",
    "x, y = variables('x, y')\n",
    "A = Parameter('A')\n",
    "k = Parameter('k')\n",
    "\n",
    "model = Model({\n",
    "    y: A*(1-exp(-k*x))\n",
    "})\n"
   ]
  },
  {
   "cell_type": "code",
   "execution_count": 4,
   "metadata": {},
   "outputs": [],
   "source": [
    "def plot(a, K, width, height, dpi, xlabel, ylabel, title):\n",
    "    \n",
    "    xdata = np.linspace(0, 0.5, 10)\n",
    "    y = model(x=xdata, A=a, k=K)\n",
    "    \n",
    "    fig, ax = plt.subplots(figsize = (width, height), dpi=dpi)\n",
    "    \n",
    "    ax.plot(trap_time, rel_inten, '.', label='Exp')\n",
    "    ax.plot(xdata, y[0], label=f'fit: A:{a}, k:{K}')\n",
    "    \n",
    "    ax.set_ylabel(ylabel)\n",
    "    ax.set_xlabel(xlabel)\n",
    "    ax.set_title(title)\n",
    "    ax.legend()\n",
    "    ax.grid()\n",
    "    \n",
    "    plt.show()\n",
    "    #plt.close()\n"
   ]
  },
  {
   "cell_type": "code",
   "execution_count": 5,
   "metadata": {},
   "outputs": [],
   "source": [
    "width = widgets.IntSlider(min=5,max=20,step=1,value=10)\n",
    "height = widgets.IntSlider(min=2,max=10,step=1,value=5)\n",
    "dpi = widgets.IntSlider(min=70,max=200,step=1,value=100)\n",
    "\n",
    "xlabel = widgets.Text('n*t*E')\n",
    "ylabel = widgets.Text('Relative abundance of active isomer')\n",
    "title = widgets.Text('Depletion Model')\n",
    "\n",
    "accordion_figure = widgets.Accordion(children=[\n",
    "    widgets.HBox([ widgets.Label(value=\"Width\"), width, widgets.Label(value=\"Height\"), height, widgets.Label(value=\"DPI\"), dpi]),\n",
    "    widgets.HBox([widgets.Label(value=\"X-label \"), xlabel, widgets.Label(value=\"Y-Label \"), ylabel, widgets.Label(value=\"Title \"), title])\n",
    "                                       ])\n",
    "accordion_figure.set_title(0, 'Size:')\n",
    "accordion_figure.set_title(1, 'Labels')"
   ]
  },
  {
   "cell_type": "code",
   "execution_count": 6,
   "metadata": {},
   "outputs": [],
   "source": [
    "a = widgets.FloatSlider(min=0,max=1,step=0.1,value=0.2, desciption='A')\n",
    "K = widgets.FloatSlider(min=0,max=50,step=0.1,value=5)\n",
    "\n",
    "accordion_params = widgets.Accordion(children=[widgets.HBox([widgets.Label(value=\"A\"), a, widgets.Label(value=\"k\"), K])])\n",
    "accordion_params.set_title(0, 'Main Parameters:')"
   ]
  },
  {
   "cell_type": "code",
   "execution_count": 7,
   "metadata": {},
   "outputs": [],
   "source": [
    "tab_nest = widgets.Tab()\n",
    "tab_nest.children = [accordion_params, accordion_figure]\n",
    "tab_nest.set_title(0, 'Parameters')\n",
    "tab_nest.set_title(1, 'Figure Properties')"
   ]
  },
  {
   "cell_type": "code",
   "execution_count": 8,
   "metadata": {},
   "outputs": [],
   "source": [
    "def save_plot(event):\n",
    "    plt.savefig(f'./{save_name}.png')\n",
    "    print('Figure saved')\n",
    "    return\n",
    "\n",
    "save_name = widgets.Text('Depletion_Plot')\n",
    "\n",
    "save_button = widgets.Button(\n",
    "    description='Save',\n",
    "    layout={'width': '300px'}\n",
    ")\n",
    "save_button.on_click(save_plot)\n",
    "\n",
    "save_layout = widgets.VBox([save_name, save_button])"
   ]
  },
  {
   "cell_type": "code",
   "execution_count": 9,
   "metadata": {},
   "outputs": [
    {
     "data": {
      "application/vnd.jupyter.widget-view+json": {
       "model_id": "72cfe605ff37429e969d93a956399a85",
       "version_major": 2,
       "version_minor": 0
      },
      "text/plain": [
       "Tab(children=(Accordion(children=(HBox(children=(Label(value='A'), FloatSlider(value=0.2, max=1.0), Label(valu…"
      ]
     },
     "metadata": {},
     "output_type": "display_data"
    },
    {
     "data": {
      "application/vnd.jupyter.widget-view+json": {
       "model_id": "fc5b014e6d2b48b9bb1f31e413b5b12b",
       "version_major": 2,
       "version_minor": 0
      },
      "text/plain": [
       "Output()"
      ]
     },
     "metadata": {},
     "output_type": "display_data"
    },
    {
     "data": {
      "application/vnd.jupyter.widget-view+json": {
       "model_id": "7c06e891aea846f6a9edb36b8530a210",
       "version_major": 2,
       "version_minor": 0
      },
      "text/plain": [
       "VBox(children=(Text(value='Depletion_Plot'), Button(description='Save', layout=Layout(width='300px'), style=Bu…"
      ]
     },
     "metadata": {},
     "output_type": "display_data"
    }
   ],
   "source": [
    "out = widgets.interactive_output(plot, {'a': a, 'K': K, 'width': width, 'height': height, 'dpi': dpi, 'xlabel': xlabel, 'ylabel': ylabel, 'title': title})\n",
    "\n",
    "display(tab_nest, out, save_layout)"
   ]
  },
  {
   "cell_type": "code",
   "execution_count": null,
   "metadata": {},
   "outputs": [],
   "source": []
  },
  {
   "cell_type": "code",
   "execution_count": 90,
   "metadata": {},
   "outputs": [
    {
     "data": {
      "application/vnd.jupyter.widget-view+json": {
       "model_id": "0ba13318f0b5480bbc8b414606035eaa",
       "version_major": 2,
       "version_minor": 0
      },
      "text/plain": [
       "HBox(children=(Label(value='Width'), IntSlider(value=10, max=20, min=5), Label(value='Height'), IntSlider(valu…"
      ]
     },
     "metadata": {},
     "output_type": "display_data"
    }
   ],
   "source": [
    "accordion.children[0]"
   ]
  },
  {
   "cell_type": "code",
   "execution_count": 32,
   "metadata": {},
   "outputs": [
    {
     "data": {
      "image/png": "[encoded data removed]",
      "text/plain": [
       "<Figure size 432x288 with 3 Axes>"
      ]
     },
     "metadata": {
      "needs_background": "light"
     },
     "output_type": "display_data"
    }
   ],
   "source": [
    "guess = InteractiveGuess2D(model, x=trap_time, y=rel_inten)\n",
    "#guess_results = guess.execute()"
   ]
  },
  {
   "cell_type": "code",
   "execution_count": 85,
   "metadata": {},
   "outputs": [
    {
     "name": "stdout",
     "output_type": "stream",
     "text": [
      "[0.05379 0.08679 0.11979] \n",
      "Parameter Value        Standard Deviation\n",
      "A         1.456439e+03 2.142451e+07\n",
      "k         2.285476e-03 3.362373e+01\n",
      "Fitting status message: Maximum number of iterations has been exceeded.\n",
      "Number of iterations:   640\n",
      "Regression Coefficient: 0.613705514843294\n",
      "\n"
     ]
    }
   ],
   "source": [
    "fit = Fit(model, x=trap_time, y=rel_inten)\n",
    "fit_result = fit.execute()\n",
    "print(trap_time, fit_result)"
   ]
  },
  {
   "cell_type": "code",
   "execution_count": 83,
   "metadata": {},
   "outputs": [
    {
     "data": {
      "text/plain": [
       "array([1., 1.])"
      ]
     },
     "execution_count": 83,
     "metadata": {},
     "output_type": "execute_result"
    }
   ],
   "source": [
    "fit.initial_guesses"
   ]
  },
  {
   "cell_type": "code",
   "execution_count": null,
   "metadata": {},
   "outputs": [],
   "source": []
  }
 ],
 "metadata": {
  "kernelspec": {
   "display_name": "Python 3",
   "language": "python",
   "name": "python3"
  },
  "language_info": {
   "codemirror_mode": {
    "name": "ipython",
    "version": 3
   },
   "file_extension": ".py",
   "mimetype": "text/x-python",
   "name": "python",
   "nbconvert_exporter": "python",
   "pygments_lexer": "ipython3",
   "version": "3.7.0"
  }
 },
 "nbformat": 4,
 "nbformat_minor": 2
}
