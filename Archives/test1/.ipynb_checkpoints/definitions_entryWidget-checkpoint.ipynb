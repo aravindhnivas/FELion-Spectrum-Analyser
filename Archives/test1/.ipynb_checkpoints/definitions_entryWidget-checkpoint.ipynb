{
 "cells": [
  {
   "cell_type": "code",
   "execution_count": 4,
   "metadata": {},
   "outputs": [],
   "source": [
    "from tkinter import *\n",
    "from tkinter import ttk"
   ]
  },
  {
   "cell_type": "code",
   "execution_count": 205,
   "metadata": {},
   "outputs": [],
   "source": [
    "# Main Tk window\n",
    "\n",
    "class MainWindow(Tk):\n",
    "    def __init__(self, *args, **kwargs):\n",
    "        Tk.__init__(self, *args, **kwargs)\n",
    "        \n",
    "        Tk.wm_geometry(self, \"500x500\")\n",
    "        Tk.wm_title(self, \"FELion\")\n",
    "        \n",
    "        container = Frame(self)\n",
    "        container.place(relx = 0, rely = 0, relwidth = 1, relheight = 1)\n",
    "        frame = MainFrame(container, self)\n",
    "        frame.place(relx = 0, rely = 0, relwidth = 1, relheight = 1)\n",
    "        print(\"Self: \", self, \"\\nParent Main: \", container)\n",
    "        \n",
    "# Main Frame\n",
    "\n",
    "class MainFrame(Frame):\n",
    "    def __init__(self, parent, controller):\n",
    "        Frame.__init__(self, parent, bg = \"sea green\")\n",
    "        \n",
    "        label = Label(self, text = \"Entry\", font = \"Times 12 bold\", bd = 1, relief = SUNKEN)\n",
    "        label.place(relx = 0.1, rely = 0.1, width = 100, height = 20)\n",
    "        print(\"Self: \", self, \"\\nParent: \", parent)"
   ]
  },
  {
   "cell_type": "code",
   "execution_count": 206,
   "metadata": {},
   "outputs": [
    {
     "name": "stdout",
     "output_type": "stream",
     "text": [
      "Self:  .!frame.!mainframe \n",
      "Parent:  .!frame\n",
      "Self:  . \n",
      "Parent Main:  .!frame\n"
     ]
    }
   ],
   "source": [
    "root = MainWindow()\n",
    "root.mainloop()"
   ]
  }
 ],
 "metadata": {
  "kernelspec": {
   "display_name": "Python 3",
   "language": "python",
   "name": "python3"
  },
  "language_info": {
   "codemirror_mode": {
    "name": "ipython",
    "version": 3
   },
   "file_extension": ".py",
   "mimetype": "text/x-python",
   "name": "python",
   "nbconvert_exporter": "python",
   "pygments_lexer": "ipython3",
   "version": "3.7.1"
  }
 },
 "nbformat": 4,
 "nbformat_minor": 2
}
