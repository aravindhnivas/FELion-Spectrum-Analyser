{
 "cells": [
  {
   "cell_type": "code",
   "execution_count": 36,
   "metadata": {},
   "outputs": [],
   "source": [
    "from sympy import symbols, init_printing, pi, sqrt, solveset, Eq\n",
    "from scipy.constants import c\n",
    "import numpy as np\n",
    "import matplotlib.pyplot as plt\n",
    "from matplotlib.ticker import (MultipleLocator, FormatStrFormatter,\n",
    "                               AutoMinorLocator)\n",
    "\n",
    "from ipywidgets.widgets import (\n",
    "    interactive_output,\n",
    "    BoundedFloatText,\n",
    "    BoundedIntText,\n",
    "    HBox,\n",
    "    VBox,\n",
    "    IntRangeSlider,\n",
    "    Text,\n",
    "    Button,\n",
    "    Label,\n",
    "    Layout\n",
    ")\n",
    "\n",
    "from IPython.display import display\n",
    "import datetime, os\n",
    "from os.path import isdir\n",
    "from pathlib import Path"
   ]
  },
  {
   "cell_type": "code",
   "execution_count": 2,
   "metadata": {},
   "outputs": [
    {
     "name": "stdout",
     "output_type": "stream",
     "text": [
      "Save location: D:\\SurfDrive\\backup_for_surfacePro\\Work\\THz_setup\\Simulations\n"
     ]
    },
    {
     "data": {
      "text/plain": [
       "True"
      ]
     },
     "execution_count": 2,
     "metadata": {},
     "output_type": "execute_result"
    }
   ],
   "source": [
    "init_printing()\n",
    "save_location = Path(r\"D:\\SurfDrive\\backup_for_surfacePro\\Work\\THz_setup\\Simulations\")\n",
    "\n",
    "# Defining functions\n",
    "def ghz_cm(x):\n",
    "    \"\"\"\n",
    "    Input: freq in GHZ\n",
    "    Output: freq in cm\n",
    "    \"\"\"\n",
    "    return c * 1e2 / x * 1e-9\n",
    "\n",
    "cm_ghz = lambda x: c*1e-9*1e2/x\n",
    "\n",
    "print(f\"Save location: {save_location}\")\n",
    "save_location.exists()"
   ]
  },
  {
   "cell_type": "code",
   "execution_count": 3,
   "metadata": {},
   "outputs": [],
   "source": [
    "# Symbols\n",
    "w, lam, w0, z, Z_r = symbols(\"w, lam, w0, z, Z_r\")\n",
    "M, E, d_in, d_out, w0_in, w0_out, f, f0 = symbols('M, E, d_in, d_out, w0_in, w0_out, f, f0')"
   ]
  },
  {
   "cell_type": "code",
   "execution_count": 4,
   "metadata": {},
   "outputs": [
    {
     "data": {
      "image/png": "[encoded data removed]",
      "text/latex": [
       "$$w = w_{0} \\sqrt{1 + \\frac{z^{2}}{Z_{r}^{2}}}$$"
      ],
      "text/plain": [
       "             _________\n",
       "            ╱       2 \n",
       "           ╱       z  \n",
       "w = w₀⋅   ╱   1 + ─── \n",
       "         ╱          2 \n",
       "       ╲╱         Zᵣ  "
      ]
     },
     "execution_count": 4,
     "metadata": {},
     "output_type": "execute_result"
    }
   ],
   "source": [
    "## Formulas\n",
    "\n",
    "# Beam radius\n",
    "Wz = Eq(w, w0 * sqrt(1 + (z / Z_r) ** 2))\n",
    "Wz"
   ]
  },
  {
   "cell_type": "code",
   "execution_count": 5,
   "metadata": {},
   "outputs": [
    {
     "data": {
      "image/png": "[encoded data removed]",
      "text/latex": [
       "$$\\left ( f = \\frac{d_{in}}{E} \\left(\\sqrt{- E \\left(\\frac{Z_{r}^{2}}{d_{in}^{2}} + 1\\right) + 1} + 1\\right), \\quad f = \\frac{d_{in}}{E} \\left(- \\sqrt{- E \\left(\\frac{Z_{r}^{2}}{d_{in}^{2}} + 1\\right) + 1} + 1\\right)\\right )$$"
      ],
      "text/plain": [
       "⎛        ⎛      ____________________    ⎞          ⎛        __________________\n",
       "⎜        ⎜     ╱     ⎛  2     ⎞         ⎟          ⎜       ╱     ⎛  2     ⎞   \n",
       "⎜        ⎜    ╱      ⎜Zᵣ      ⎟         ⎟          ⎜      ╱      ⎜Zᵣ      ⎟   \n",
       "⎜    dᵢₙ⋅⎜   ╱   - E⋅⎜──── + 1⎟ + 1  + 1⎟      dᵢₙ⋅⎜-    ╱   - E⋅⎜──── + 1⎟ + \n",
       "⎜        ⎜  ╱        ⎜   2    ⎟         ⎟          ⎜    ╱        ⎜   2    ⎟   \n",
       "⎜        ⎝╲╱         ⎝dᵢₙ     ⎠         ⎠          ⎝  ╲╱         ⎝dᵢₙ     ⎠   \n",
       "⎜f = ────────────────────────────────────, f = ───────────────────────────────\n",
       "⎝                     E                                          E            \n",
       "\n",
       "__    ⎞⎞\n",
       "      ⎟⎟\n",
       "      ⎟⎟\n",
       "1  + 1⎟⎟\n",
       "      ⎟⎟\n",
       "      ⎠⎟\n",
       "───────⎟\n",
       "       ⎠"
      ]
     },
     "execution_count": 5,
     "metadata": {},
     "output_type": "execute_result"
    }
   ],
   "source": [
    "# Focal length\n",
    "fp = Eq(f, Z_r*(d_in/(E*Z_r))*(1+sqrt(1-E*(1+(d_in/Z_r)**-2)))) # positive sign but output is negative focus\n",
    "fm = Eq(f, Z_r*(d_in/(E*Z_r))*(1-sqrt(1-E*(1+(d_in/Z_r)**-2)))) # negative sign but output is positive focus\n",
    "\n",
    "fp, fm"
   ]
  },
  {
   "cell_type": "code",
   "execution_count": 6,
   "metadata": {},
   "outputs": [
    {
     "data": {
      "image/png": "[encoded data removed]",
      "text/latex": [
       "$$\\left ( d_{in} = f - \\frac{1}{M} \\sqrt{f^{2} - f_{0}^{2}}, \\quad d_{in} = f + \\frac{1}{M} \\sqrt{f^{2} - f_{0}^{2}}, \\quad d_{out} = - M \\sqrt{f^{2} - f_{0}^{2}} + f, \\quad d_{out} = M \\sqrt{f^{2} - f_{0}^{2}} + f, \\quad d_{in} = f \\left(\\sqrt{- \\frac{Z_{r}^{2}}{f^{2}} + \\frac{1}{M^{2}}} + 1\\right), \\quad d_{out} = f \\left(M^{2} \\left(\\frac{d_{in}}{f} - 1\\right) + 1\\right)\\right )$$"
      ],
      "text/plain": [
       "⎛             __________               __________                             \n",
       "⎜            ╱  2     2               ╱  2     2                 __________   \n",
       "⎜          ╲╱  f  - f₀              ╲╱  f  - f₀                 ╱  2     2    \n",
       "⎜dᵢₙ = f - ─────────────, dᵢₙ = f + ─────────────, dₒᵤₜ = - M⋅╲╱  f  - f₀   + \n",
       "⎜                M                        M                                   \n",
       "⎝                                                                             \n",
       "\n",
       "                                       ⎛      ____________    ⎞               \n",
       "               __________              ⎜     ╱     2          ⎟               \n",
       "              ╱  2     2               ⎜    ╱    Zᵣ    1      ⎟           ⎛ 2 \n",
       "f, dₒᵤₜ = M⋅╲╱  f  - f₀   + f, dᵢₙ = f⋅⎜   ╱   - ─── + ──  + 1⎟, dₒᵤₜ = f⋅⎜M ⋅\n",
       "                                       ⎜  ╱        2    2     ⎟           ⎝   \n",
       "                                       ⎝╲╱        f    M      ⎠               \n",
       "\n",
       "              ⎞\n",
       "              ⎟\n",
       "⎛dᵢₙ    ⎞    ⎞⎟\n",
       "⎜─── - 1⎟ + 1⎟⎟\n",
       "⎝ f     ⎠    ⎠⎟\n",
       "              ⎠"
      ]
     },
     "execution_count": 6,
     "metadata": {},
     "output_type": "execute_result"
    }
   ],
   "source": [
    "# Input distance\n",
    "eq_din_m = Eq(d_in, f - sqrt(f ** 2 - f0 ** 2) / M) # Negative sign\n",
    "eq_din_p = Eq(d_in, f + sqrt(f ** 2 - f0 ** 2) / M) # Positive sign\n",
    "\n",
    "# output distance\n",
    "eq_dout_m = Eq(d_out, f - sqrt(f ** 2 - f0 ** 2) * M) # Negative sign\n",
    "eq_dout_p = Eq(d_out, f + sqrt(f ** 2 - f0 ** 2) * M) # Positive sign\n",
    "# NOTE: use same sign for output distance as chosed for input distane\n",
    "\n",
    "# Input and output distances in-terms of each other\n",
    "eq_dout2 = Eq(d_out, f * (1 + (M ** 2 * (d_in / f - 1))))\n",
    "eq_din2 = Eq(d_in, f * (1 + sqrt(M ** -2 - (Z_r / f) ** 2)))\n",
    "\n",
    "eq_din_m, eq_din_p, eq_dout_m, eq_dout_p, eq_din2, eq_dout2, "
   ]
  },
  {
   "cell_type": "code",
   "execution_count": 51,
   "metadata": {},
   "outputs": [
    {
     "data": {
      "application/vnd.jupyter.widget-view+json": {
       "model_id": "972eacfbc16745ceb880f5098afc091d",
       "version_major": 2,
       "version_minor": 0
      },
      "text/plain": [
       "VBox(children=(HBox(children=(BoundedFloatText(value=0.34, description='$w0_{in}$: ', max=1.0, min=0.1, step=0…"
      ]
     },
     "metadata": {},
     "output_type": "display_data"
    }
   ],
   "source": [
    "class simulation:\n",
    "    def __init__(self):\n",
    "\n",
    "        # Beam properties\n",
    "        W_in = BoundedFloatText(\n",
    "            value=0.34, min=0.1, max=1, step=0.01, description=\"$w0_{in}$: \"\n",
    "        )\n",
    "\n",
    "        D_in = BoundedFloatText(\n",
    "            value=20, min=5, max=30, step=0.1, description=\"$d_{in}$: \"\n",
    "        )\n",
    "        \n",
    "        To_use = BoundedIntText(\n",
    "            value=0, min=0, max=2, step=1, description=\"$F(w_0)$ to use: \"\n",
    "        )\n",
    "\n",
    "        # Figure Properties\n",
    "        Width = BoundedFloatText(value=15, min=5, max=25, step=1, description=\"width\")\n",
    "        Height = BoundedFloatText(value=5, min=5, max=25, step=1, description=\"height\")\n",
    "        Dpi = BoundedFloatText(value=100, min=70, max=300, step=1, description=\"Dpi\")\n",
    "\n",
    "        # Widget to save\n",
    "        self.save_name = Text(value=\"THz_simulation_325-1100GHz\")\n",
    "        save_button = Button(description=\"Save\", layout={\"width\": \"300px\"})\n",
    "        save_button.on_click(self.save_plot)\n",
    "        self.print_save = Label(value=\"Status: \")\n",
    "\n",
    "        # Widget arrangements\n",
    "        row1 = HBox([W_in, D_in, To_use])\n",
    "        row2 = HBox([Width, Height, Dpi])\n",
    "        row3 = VBox([self.save_name, save_button, self.print_save])\n",
    "\n",
    "        # Plot output\n",
    "        out = interactive_output(\n",
    "            self.plot,\n",
    "            {\"w1\": W_in, \"d1\": D_in, \"to_use\": To_use, \"width\": Width, \"height\": Height, \"dpi\": Dpi},\n",
    "        )\n",
    "\n",
    "        # widget display\n",
    "        display(VBox([row1, row2, out, row3]))\n",
    "\n",
    "    def save_plot(self, event):\n",
    "\n",
    "        try:\n",
    "            if not save_location.exists():\n",
    "                save_location.mkdir()\n",
    "\n",
    "            self.fig.savefig(save_location.joinpath(self.save_name.value + \".png\"))\n",
    "            self.fig.savefig(save_location.joinpath(self.save_name.value + \".pdf\"))\n",
    "\n",
    "            t = datetime.datetime.now()\n",
    "            self.print_save.value = (\n",
    "                f'File \"{self.save_name.value}.png\" Saved; {t.ctime()}'\n",
    "            )\n",
    "\n",
    "        except:\n",
    "            self.print_save.value = \"Error Occured.\"\n",
    "\n",
    "    def plot(self, w1, d1, to_use, width, height, dpi):\n",
    "\n",
    "        wn_size = 5\n",
    "        wz_size = 20\n",
    "        d_trap = -1.4\n",
    "\n",
    "        # 3-sets of wavelength range for 3-different horn\n",
    "        wn_set1 = np.linspace(325, 500, wn_size)\n",
    "        wn_set2 = np.linspace(500, 750, wn_size)\n",
    "        wn_set3 = np.linspace(750, 1100, wn_size)\n",
    "        wn_list = np.array([wn_set1, wn_set2, wn_set3])\n",
    "\n",
    "        # 3-sets of horns waist for different wavelength\n",
    "        w0_out_list = [0.15, 0.099, 0.066]\n",
    "\n",
    "        # Defining figure:\n",
    "        self.fig = plt.figure(figsize=(width, height), dpi=dpi)\n",
    "        nrows, ncols = 1, 3\n",
    "\n",
    "        ax1 = self.fig.add_subplot(nrows, ncols, 1)\n",
    "        ax2 = self.fig.add_subplot(nrows, ncols, 2, sharey=ax1)\n",
    "        bx1 = self.fig.add_subplot(nrows, ncols, 3)\n",
    "\n",
    "        '''ax3 = self.fig.add_subplot(nrows, ncols, 4, sharex=ax1)\n",
    "        ax4 = self.fig.add_subplot(nrows, ncols, 5, sharey=ax3)\n",
    "        bx2 = self.fig.add_subplot(nrows, ncols, 6)\n",
    "\n",
    "        ax5 = self.fig.add_subplot(nrows, ncols, 7, sharex=ax1)\n",
    "        ax6 = self.fig.add_subplot(nrows, ncols, 8, sharey=ax5)\n",
    "        bx3 = self.fig.add_subplot(nrows, ncols, 9)'''\n",
    "\n",
    "        for ax in self.fig.axes:\n",
    "            ax.grid()\n",
    "\n",
    "        ##########################################################################################\n",
    "        \n",
    "        # opening log file\n",
    "        t = datetime.datetime.now()\n",
    "        log_file = open(f\"./Simulations/log_file_{to_use}.txt\", \"w\")\n",
    "        log_file.write(f\"Gaussian Simulation: {t.ctime()}\\n\\n\")\n",
    "\n",
    "        # Focal length and d_out in-use (Taking optimal focal length for the longest wn)\n",
    "        \n",
    "        w0_out_in_use = w0_out_list[to_use]\n",
    "        wn_in_use = wn_list[to_use, 0]\n",
    "        \n",
    "        M_in_use = w0_out_in_use / w1\n",
    "        zc_in_use = np.pi * w1 ** 2 / ghz_cm(wn_in_use)\n",
    "        \n",
    "        f_positive = float(\n",
    "            fm.subs({d_in: d1, E: (1 - M_in_use ** -2), Z_r: zc_in_use}).rhs\n",
    "        )\n",
    "        f_negative = float(\n",
    "            fp.subs({d_in: d1, E: (1 - M_in_use ** -2), Z_r: zc_in_use}).rhs\n",
    "        )\n",
    "        \n",
    "        opt_d2 = float(eq_dout2.subs({f:f_positive, M:M_in_use, d_in:d1}).rhs)\n",
    "        print(f_positive, opt_d2)\n",
    "        \n",
    "        log_file.write(f\"Focii:\\nf(+ve): {f_positive:.2f}; f(-ve): {f_negative:.2f}\\n\\n\")\n",
    "        log_file.write(f\"w0_out_list: {w0_out_list}\\n\")\n",
    "        log_file.write(f\"Frequency list:\\n{wn_list}\\n\\n\")\n",
    "        \n",
    "        ##########################################################################################\n",
    "        \n",
    "        colors = \"C0, C1, C2, C3, C4, C5, C6, C7, C8, C9\".split(\", \")\n",
    "        mrkr = [\".-\", \"x-\", \"--\"]\n",
    "        \n",
    "        d1_beam = []\n",
    "        d2_beam = []\n",
    "        \n",
    "        d1_distance = []\n",
    "        d2_distance = []\n",
    "        \n",
    "        ##########################################################################################\n",
    "        log_file.write(\"##########################################################################################\\n\\n\")\n",
    "        \n",
    "        for num, w0_out_ in enumerate(w0_out_list):\n",
    "            \n",
    "            log_file.write(f\"w0_out: {w0_out_}cm\\n\\n\")\n",
    "            \n",
    "            d1_beam_temp = []\n",
    "            d2_beam_temp = []\n",
    "            \n",
    "            d1_distance_temp = []\n",
    "            d2_distance_temp = []\n",
    "            \n",
    "            #################################################################################\n",
    "            \n",
    "            for c, wn in enumerate(wn_list[num]):\n",
    "                \n",
    "                log_file.write(f\"Frequency: {wn}GHz\\n\")\n",
    "                \n",
    "                #################################################################################\n",
    "                # optimised calculation\n",
    "                temp_f0 = (np.pi * w1 * w0_out_) / ghz_cm(wn)\n",
    "                M_ = w0_out_/w1\n",
    "                \n",
    "                temp_d1 = float(eq_din_p.subs({M: M_, f0: temp_f0, f: f_positive}).rhs)\n",
    "                temp_d2 = float(eq_dout_p.subs({M: M_, f0: temp_f0, f: f_positive}).rhs)\n",
    "                \n",
    "                #################################################################################\n",
    "                # d_in beam optimised\n",
    "                d1_beam_array = np.linspace(temp_d1-d1+d_trap, temp_d1, wz_size)\n",
    "                zr1 = (np.pi*w1**2)/ghz_cm(wn)\n",
    "                \n",
    "                d1_beam_calculation = np.array([float(\n",
    "                    Wz.subs({w0:w1, Z_r:zr1, z:i}).rhs\n",
    "                ) for i in d1_beam_array])\n",
    "                \n",
    "                #################################################################################\n",
    "                # d_out beam optimised\n",
    "                d2_beam_array = np.linspace(0, temp_d2, wz_size)\n",
    "                zr2 = (np.pi*w0_out_**2)/ghz_cm(wn)\n",
    "                \n",
    "                d2_beam_calculation = np.array([float(\n",
    "                    Wz.subs({w0:w0_out_, Z_r:zr2, z:i}).rhs\n",
    "                ) for i in d2_beam_array])\n",
    "                \n",
    "                #################################################################################\n",
    "               \n",
    "                # Plotting\n",
    "                d1_plot = np.linspace(d_trap, d1, wz_size)\n",
    "                d2_plot = np.linspace(opt_d2-temp_d2, opt_d2, wz_size)\n",
    "                \n",
    "                ax1.plot(d2_plot, d2_beam_calculation, colors[c]+mrkr[num], zorder=1, label=f\"{wn:.1f}GHz\")\n",
    "                ax1.plot(d2_plot, -d2_beam_calculation, colors[c]+mrkr[num], zorder=1)\n",
    "                \n",
    "                ax2.plot(d1_plot, d1_beam_calculation, colors[c]+mrkr[num], zorder=1)\n",
    "                ax2.plot(d1_plot, -d1_beam_calculation, colors[c]+mrkr[num], zorder=1)\n",
    "                \n",
    "                #################################################################################\n",
    "                 # Writing log file\n",
    "                log_file.write(f\"d_in:\\n{d1_beam_array}\\nd_in_beam: {d1_beam_calculation}\\n\\n\")\n",
    "                log_file.write(f\"d_out:\\n{d2_beam_array}\\nd_out_beam: {d2_beam_calculation}\\n\\n\")\n",
    "                \n",
    "                #################################################################################\n",
    "                # Appending temp values\n",
    "                d1_distance_temp.append(temp_d1)\n",
    "                d2_distance_temp.append(temp_d2)\n",
    "                \n",
    "                d1_beam_temp.append(d1_beam_calculation)\n",
    "                d2_beam_temp.append(d2_beam_calculation)\n",
    "                \n",
    "                \n",
    "                \n",
    "                #################################################################################\n",
    "            #####################################################################################\n",
    "            log_file.write(\"##########################################################################################\\n\\n\")\n",
    "            \n",
    "            # Appending main values\n",
    "            d1_distance.append(d1_distance_temp)\n",
    "            d2_distance.append(d2_distance_temp)\n",
    "            \n",
    "            d1_beam.append(d1_beam_temp)\n",
    "            d2_beam.append(d2_beam_temp)\n",
    "\n",
    "            ######################################################################################\n",
    "        ##########################################################################################\n",
    "        # Making array\n",
    "        d1_distance = np.array(d1_distance)\n",
    "        d2_distance = np.array(d2_distance)\n",
    "        \n",
    "        d1_beam = np.array(d1_beam)\n",
    "        d2_beam = np.array(d2_beam)\n",
    "        \n",
    "        ##########################################################################################\n",
    "        log_file.write(f\"d_out: (Calibrated)\\n{d2_distance}\\n\\n\")\n",
    "        \n",
    "        ##########################################################################################\n",
    "        \n",
    "        ax1.legend(ncol=3, fontsize=7)\n",
    "        ax2.legend(title=f\"f_+ = {f_positive:.2f}cm\\nf_- = {f_negative:.2f}cm\")\n",
    "        \n",
    "        ax2.set_xlabel('$d_{out}$ (cm)')\n",
    "        ax2.set_xlim(xmax=d1)\n",
    "        ax2.vlines(0, ymin=-w1, ymax=w1)\n",
    "        ax2.vlines(d_trap, ymin=-0.43, ymax=0.43)\n",
    "        ax2.invert_xaxis()\n",
    "\n",
    "        ax1.set_xlim(xmax=opt_d2)\n",
    "        ax1.set_xlabel('$d_{in}$ (cm)')\n",
    "        ax1.set_ylabel('$w(z)$ cm')\n",
    "        \n",
    "        for num, w0_out_ in enumerate(w0_out_list):\n",
    "            bx1.plot(np.arange(wn_size), d1_beam[num][:, 0], colors[num]+mrkr[num], ms=10, label='$w_0^{out}$'+f' = {w0_out_}cm')\n",
    "            \n",
    "        bx1.hlines(0.43, xmin=0, xmax=wn_size-1, label='Trap radius')\n",
    "        bx1.set_xlabel('arbitrary')\n",
    "        bx1.set_ylabel('w(z): cm (at the entry of trap)')\n",
    "        bx1.legend()\n",
    "\n",
    "        plt.tight_layout()\n",
    "        \n",
    "        ##########################################################################################\n",
    "        log_file.write(\"##########################################################################################\\n\")\n",
    "        log_file.write(\"##########################################################################################\\n\\n\")\n",
    "        \n",
    "        log_file.close()\n",
    "        ##########################################################################################\n",
    "        self.save_name.value = f\"THz_simulation_325-1100GHz_{to_use}\"\n",
    "        \n",
    "run = simulation()"
   ]
  },
  {
   "cell_type": "code",
   "execution_count": 16,
   "metadata": {},
   "outputs": [
    {
     "name": "stdout",
     "output_type": "stream",
     "text": [
      "wn: 500.00\n",
      "d_in: 27.025479819531792 d_out: 8.048031468090235\n",
      "\n",
      "wn: 527.78\n",
      "d_in: 26.924208029541187 d_out: 8.0394452672797\n",
      "\n",
      "wn: 555.56\n",
      "d_in: 26.816921219615303 d_out: 8.030349090600776\n",
      "\n",
      "wn: 583.33\n",
      "d_in: 26.703524551040736 d_out: 8.020734897272927\n",
      "\n",
      "wn: 611.11\n",
      "d_in: 26.583915603582565 d_out: 8.010594003725888\n",
      "\n",
      "wn: 638.89\n",
      "d_in: 26.457983849271095 d_out: 7.999917038985346\n",
      "\n",
      "wn: 666.67\n",
      "d_in: 26.325610064415976 d_out: 7.988693894821289\n",
      "\n",
      "wn: 694.44\n",
      "d_in: 26.186665671713257 d_out: 7.976913669969391\n",
      "\n",
      "wn: 722.22\n",
      "d_in: 26.04101200293994 d_out: 7.964564607619502\n",
      "\n",
      "wn: 750.00\n",
      "d_in: 25.888499471091194 d_out: 7.9516340252263396\n",
      "\n"
     ]
    }
   ],
   "source": [
    "wn1 = np.linspace(500, 750, 10)\n",
    "M1 = 0.099\n",
    "\n",
    "for wn in wn1:\n",
    "    zr = (np.pi*0.34**2)/ghz_cm(wn)\n",
    "    temp_d1 = float(eq_din2.subs({f:6.29, M:M1/0.34, Z_r:zr}).rhs)\n",
    "    temp_d2 = float(eq_dout2.subs({f:6.29, M:M1/0.34, d_in:temp_d1}).rhs)\n",
    "    print(f\"wn: {wn:.2f}\\nd_in: {temp_d1} d_out: {temp_d2}\\n\")"
   ]
  },
  {
   "cell_type": "code",
   "execution_count": 17,
   "metadata": {},
   "outputs": [
    {
     "data": {
      "image/png": "[encoded data removed]",
      "text/latex": [
       "$$\\left ( \\left\\{20.0130044444445\\right\\}, \\quad \\left\\{37.7936832976227\\right\\}, \\quad \\left\\{77.173287419651\\right\\}\\right )$$"
      ],
      "text/plain": [
       "({20.0130044444445}, {37.7936832976227}, {77.173287419651})"
      ]
     },
     "execution_count": 17,
     "metadata": {},
     "output_type": "execute_result"
    }
   ],
   "source": [
    "solveset(eq_dout2.subs({f:6.29, M:0.15/0.34, d_out:8.961}), d_in), solveset(eq_dout2.subs({f:6.29, M:0.099/0.34, d_out:8.961}), d_in), solveset(eq_dout2.subs({f:6.29, M:0.066/0.34, d_out:8.961}), d_in)"
   ]
  },
  {
   "cell_type": "code",
   "execution_count": 18,
   "metadata": {},
   "outputs": [
    {
     "data": {
      "image/png": "[encoded data removed]",
      "text/latex": [
       "$$\\left ( d_{in} = f \\left(\\sqrt{- \\frac{Z_{r}^{2}}{f^{2}} + \\frac{1}{M^{2}}} + 1\\right), \\quad d_{out} = f \\left(M^{2} \\left(\\frac{d_{in}}{f} - 1\\right) + 1\\right), \\quad d_{out} = f \\left(M^{2} \\sqrt{- \\frac{Z_{r}^{2}}{f^{2}} + \\frac{1}{M^{2}}} + 1\\right)\\right )$$"
      ],
      "text/plain": [
       "⎛        ⎛      ____________    ⎞                                        ⎛    \n",
       "⎜        ⎜     ╱     2          ⎟                                        ⎜    \n",
       "⎜        ⎜    ╱    Zᵣ    1      ⎟           ⎛ 2 ⎛dᵢₙ    ⎞    ⎞           ⎜ 2  \n",
       "⎜dᵢₙ = f⋅⎜   ╱   - ─── + ──  + 1⎟, dₒᵤₜ = f⋅⎜M ⋅⎜─── - 1⎟ + 1⎟, dₒᵤₜ = f⋅⎜M ⋅ \n",
       "⎜        ⎜  ╱        2    2     ⎟           ⎝   ⎝ f     ⎠    ⎠           ⎜    \n",
       "⎝        ⎝╲╱        f    M      ⎠                                        ⎝   ╲\n",
       "\n",
       "     ____________    ⎞⎞\n",
       "    ╱     2          ⎟⎟\n",
       "   ╱    Zᵣ    1      ⎟⎟\n",
       "  ╱   - ─── + ──  + 1⎟⎟\n",
       " ╱        2    2     ⎟⎟\n",
       "╱        f    M      ⎠⎠"
      ]
     },
     "execution_count": 18,
     "metadata": {},
     "output_type": "execute_result"
    }
   ],
   "source": [
    "eq_din2, eq_dout2, eq_dout2.subs({d_in:eq_din2.rhs})"
   ]
  },
  {
   "cell_type": "code",
   "execution_count": 19,
   "metadata": {},
   "outputs": [
    {
     "data": {
      "image/png": "[encoded data removed]",
      "text/latex": [
       "$$d_{out} = f \\left(M^{2} \\sqrt{- \\frac{9.86960440108936 w_{0 in}^{4}}{f^{2} lam^{2}} + \\frac{1}{M^{2}}} + 1\\right)$$"
      ],
      "text/plain": [
       "         ⎛         ________________________________    ⎞\n",
       "         ⎜        ╱                         4          ⎟\n",
       "         ⎜ 2     ╱    9.86960440108936⋅w₀ ᵢₙ    1      ⎟\n",
       "dₒᵤₜ = f⋅⎜M ⋅   ╱   - ─────────────────────── + ──  + 1⎟\n",
       "         ⎜     ╱               2    2            2     ⎟\n",
       "         ⎝   ╲╱               f ⋅lam            M      ⎠"
      ]
     },
     "execution_count": 19,
     "metadata": {},
     "output_type": "execute_result"
    }
   ],
   "source": [
    "eq_dout3 = eq_dout2.subs({d_in:eq_din2.rhs})\n",
    "eq_dout3 = eq_dout3.subs({Z_r:np.pi*w0_in**2/lam})\n",
    "eq_dout3"
   ]
  },
  {
   "cell_type": "code",
   "execution_count": 12,
   "metadata": {},
   "outputs": [
    {
     "name": "stdout",
     "output_type": "stream",
     "text": [
      "0.0399723277155631\n",
      "750.000000333423\n"
     ]
    }
   ],
   "source": [
    "temp = solveset(eq_dout3.subs({f:6.292094987532539, M:0.099/0.34, d_out:7.95440136, w0_in:0.34}), lam).args[-1]\n",
    "print(temp)\n",
    "print(cm_ghz(temp))"
   ]
  },
  {
   "cell_type": "code",
   "execution_count": null,
   "metadata": {},
   "outputs": [],
   "source": []
  },
  {
   "cell_type": "code",
   "execution_count": 13,
   "metadata": {},
   "outputs": [
    {
     "data": {
      "image/png": "[encoded data removed]",
      "text/latex": [
       "$$d_{in} = f \\left(\\sqrt{- \\frac{9.86960440108936 w_{0 in}^{4}}{f^{2} lam^{2}} + \\frac{1}{M^{2}}} + 1\\right)$$"
      ],
      "text/plain": [
       "        ⎛      ________________________________    ⎞\n",
       "        ⎜     ╱                         4          ⎟\n",
       "        ⎜    ╱    9.86960440108936⋅w₀ ᵢₙ    1      ⎟\n",
       "dᵢₙ = f⋅⎜   ╱   - ─────────────────────── + ──  + 1⎟\n",
       "        ⎜  ╱               2    2            2     ⎟\n",
       "        ⎝╲╱               f ⋅lam            M      ⎠"
      ]
     },
     "execution_count": 13,
     "metadata": {},
     "output_type": "execute_result"
    }
   ],
   "source": [
    "eq_din3 = eq_din2.subs({Z_r:np.pi*w0_in**2/lam})\n",
    "eq_din3"
   ]
  },
  {
   "cell_type": "code",
   "execution_count": 14,
   "metadata": {},
   "outputs": [
    {
     "name": "stdout",
     "output_type": "stream",
     "text": [
      "(-0.0588047674276047, 0.0588047674276047)\n",
      "0.0588047674276047\n",
      "509.809784332671\n"
     ]
    }
   ],
   "source": [
    "d1 = 27\n",
    "temp1 = solveset(eq_din3.subs({f:6.292094987532539, M:0.099/0.34, w0_in:0.34, d_in:d1}), lam).args\n",
    "temp = solveset(eq_din3.subs({f:6.292094987532539, M:0.099/0.34, w0_in:0.34, d_in:d1}), lam).args[-1]\n",
    "print(temp1)\n",
    "print(temp)\n",
    "print(cm_ghz(temp))"
   ]
  },
  {
   "cell_type": "code",
   "execution_count": null,
   "metadata": {},
   "outputs": [],
   "source": []
  },
  {
   "cell_type": "code",
   "execution_count": null,
   "metadata": {},
   "outputs": [],
   "source": []
  },
  {
   "cell_type": "code",
   "execution_count": null,
   "metadata": {},
   "outputs": [],
   "source": []
  },
  {
   "cell_type": "code",
   "execution_count": null,
   "metadata": {},
   "outputs": [],
   "source": []
  },
  {
   "cell_type": "code",
   "execution_count": null,
   "metadata": {},
   "outputs": [],
   "source": []
  }
 ],
 "metadata": {
  "kernelspec": {
   "display_name": "Python 3",
   "language": "python",
   "name": "python3"
  },
  "language_info": {
   "codemirror_mode": {
    "name": "ipython",
    "version": 3
   },
   "file_extension": ".py",
   "mimetype": "text/x-python",
   "name": "python",
   "nbconvert_exporter": "python",
   "pygments_lexer": "ipython3",
   "version": "3.7.3"
  }
 },
 "nbformat": 4,
 "nbformat_minor": 2
}
