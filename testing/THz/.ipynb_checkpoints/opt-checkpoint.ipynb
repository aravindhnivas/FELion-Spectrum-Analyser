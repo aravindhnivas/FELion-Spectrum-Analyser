{
 "cells": [
  {
   "cell_type": "code",
   "execution_count": 1,
   "metadata": {},
   "outputs": [],
   "source": [
    "from sympy.physics.optics import RayTransferMatrix, ThinLens, BeamParameter\n",
    "from sympy import symbols, init_printing, pi, sqrt, pprint, solveset, S\n",
    "from scipy.constants import c\n",
    "import matplotlib.pyplot as plt\n",
    "import numpy as np\n",
    "init_printing()\n",
    "\n",
    "from ipywidgets.widgets import IntSlider, FloatLogSlider, FloatSlider, interactive_output, FloatRangeSlider\n",
    "from IPython.display import display"
   ]
  },
  {
   "cell_type": "code",
   "execution_count": 2,
   "metadata": {},
   "outputs": [],
   "source": [
    "f1, f2, f3, r1, r2 = symbols('f1, f2, f3, r1, r2') # waist distances in cm\n",
    "w1, w2, w3, w4 = symbols('w1, w2, w3, w4') # waist radius in cm\n",
    "\n",
    "w, lam, w0, z =symbols('w, lam, w0, z', positive=True)\n",
    "\n",
    "z_r = pi*w0**2/lam\n",
    "R = z(1+(z_r/z)**2)\n",
    "w = w0*sqrt(1+(z/z_r)**2)\n",
    "\n",
    "ghz_cm = lambda x: c*1e2/x*1e-9"
   ]
  },
  {
   "cell_type": "code",
   "execution_count": 3,
   "metadata": {},
   "outputs": [
    {
     "data": {
      "image/png": "[encoded data removed]",
      "text/latex": [
       "$$w_{0} \\sqrt{\\frac{lam^{2} z^{2}}{\\pi^{2} w_{0}^{4}} + 1}$$"
      ],
      "text/plain": [
       "         _____________\n",
       "        ╱    2  2     \n",
       "       ╱  lam ⋅z      \n",
       "w₀⋅   ╱   ─────── + 1 \n",
       "     ╱      2   4     \n",
       "   ╲╱      π ⋅w₀      "
      ]
     },
     "execution_count": 3,
     "metadata": {},
     "output_type": "execute_result"
    }
   ],
   "source": [
    "w"
   ]
  },
  {
   "cell_type": "code",
   "execution_count": 50,
   "metadata": {},
   "outputs": [
    {
     "data": {
      "application/vnd.jupyter.widget-view+json": {
       "model_id": "b88e19a9fc5e4d0fa547a118507317a8",
       "version_major": 2,
       "version_minor": 0
      },
      "text/plain": [
       "FloatRangeSlider(value=(0.1, 0.5), description='w0:', max=1.0, min=0.1, step=0.01)"
      ]
     },
     "metadata": {},
     "output_type": "display_data"
    },
    {
     "data": {
      "application/vnd.jupyter.widget-view+json": {
       "model_id": "aea7f118dac648609776be462cf3e49e",
       "version_major": 2,
       "version_minor": 0
      },
      "text/plain": [
       "FloatSlider(value=400.0, description='GHz', max=1000.0, min=70.0, step=1.0)"
      ]
     },
     "metadata": {},
     "output_type": "display_data"
    },
    {
     "data": {
      "application/vnd.jupyter.widget-view+json": {
       "model_id": "3034aaf113584c8280e9d1c2fa2505f8",
       "version_major": 2,
       "version_minor": 0
      },
      "text/plain": [
       "FloatSlider(value=3.0, description='z:', max=10.0, step=0.001)"
      ]
     },
     "metadata": {},
     "output_type": "display_data"
    },
    {
     "data": {
      "application/vnd.jupyter.widget-view+json": {
       "model_id": "d94e1f30a15242f7a6515ec1380d8f1a",
       "version_major": 2,
       "version_minor": 0
      },
      "text/plain": [
       "Output()"
      ]
     },
     "metadata": {},
     "output_type": "display_data"
    }
   ],
   "source": [
    "def w_func(W, L, Z):\n",
    "    W = np.linspace(*W, 20)\n",
    "    y = []\n",
    "    for i in W:\n",
    "        temp = float(w.subs({w0:i, lam:ghz_cm(L), z:Z}).evalf(4))\n",
    "        y.append(temp)\n",
    "    fig, ax = plt.subplots(figsize=(10,5))\n",
    "    l, = ax.plot(W, y, '.', label=f'z: {Z} cm, lambda: {L} GHz')\n",
    "    \n",
    "   \n",
    "    w0_, w_in2 = l.get_data()\n",
    "    print(f'Checking: w0: \\n{w0_}\\nw_in2: \\n{w_in2}\\n')\n",
    "    \n",
    "    ind = np.argwhere(np.logical_and(w_in2<=0.4, w_in2>0.37))\n",
    "    \n",
    "    if w_in2.min()<=0.4:\n",
    "        w_in1 = []\n",
    "        for i in w0_[ind]:\n",
    "            temp = float(w.subs({w0:i, lam:ghz_cm(L), z:(10.4-Z)}).evalf(4))\n",
    "            w_in1.append(temp)\n",
    "        w_in1 = np.array(w_in1)\n",
    "        \n",
    "        print(f'w0: {w0_[ind].reshape(len(ind))}\\nw_in1: {w_in1}\\nw_in2: {w_in2[ind].reshape(len(ind))}\\n')\n",
    "        \n",
    "        ax.plot(w0_[ind], w_in1, 'x', label = f'w_in1: z = {(10.4-Z):.2f} cm from w4')\n",
    "        \n",
    "        print('Filtering by w_in1 min=0.3 and max=0.97\\n')\n",
    "        ind2 = np.argwhere(np.logical_or(w_in1.max()<=0.97, w_in1.max()>=0.3))\n",
    "        #print(f'ind2: {ind2}')\n",
    "        print(f'w0:{w0_[ind][ind2]}\\n(w_in1, w_in2): ({w_in1[ind2]}, {w_in2[ind][ind2]})')\n",
    "    \n",
    "    else: print(f'w_in2 minimum reached: {w_in2.min()}\\n')\n",
    "        \n",
    "    ax.set_xlabel('w0-Beam waist radius at z=0')\n",
    "    ax.set_ylabel(f'w_in2 - z: {Z} cm from w4')\n",
    "    ax.legend()\n",
    "    ax.grid()\n",
    "    \n",
    "W = FloatRangeSlider(\n",
    "    value=[0.1, 0.5],\n",
    "    min=0.1,\n",
    "    max=1,\n",
    "    step=0.01,\n",
    "    description='w0:',\n",
    ")\n",
    "L = FloatSlider(min=70, max=1000, value=400, step=1, description='GHz')\n",
    "Z = FloatSlider(min=0, max=10, value=3, step=0.001, description='z:')\n",
    "\n",
    "out = interactive_output(w_func, {'W':W, 'L':L, 'Z':Z})\n",
    "display(W, L, Z, out)"
   ]
  },
  {
   "cell_type": "code",
   "execution_count": null,
   "metadata": {},
   "outputs": [],
   "source": []
  },
  {
   "cell_type": "code",
   "execution_count": null,
   "metadata": {},
   "outputs": [],
   "source": []
  },
  {
   "cell_type": "code",
   "execution_count": null,
   "metadata": {},
   "outputs": [],
   "source": []
  },
  {
   "cell_type": "code",
   "execution_count": null,
   "metadata": {},
   "outputs": [],
   "source": []
  }
 ],
 "metadata": {
  "kernelspec": {
   "display_name": "Python 3",
   "language": "python",
   "name": "python3"
  },
  "language_info": {
   "codemirror_mode": {
    "name": "ipython",
    "version": 3
   },
   "file_extension": ".py",
   "mimetype": "text/x-python",
   "name": "python",
   "nbconvert_exporter": "python",
   "pygments_lexer": "ipython3",
   "version": "3.7.3"
  }
 },
 "nbformat": 4,
 "nbformat_minor": 2
}
