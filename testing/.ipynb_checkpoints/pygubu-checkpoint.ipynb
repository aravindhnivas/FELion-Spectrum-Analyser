{
 "cells": [
  {
   "cell_type": "code",
   "execution_count": 48,
   "metadata": {},
   "outputs": [],
   "source": [
    "import tkinter as tk\n",
    "import pygubu\n",
    "\n",
    "class Application:\n",
    "    def __init__(self, master):\n",
    "\n",
    "        #1: Create a builder\n",
    "        self.builder = builder = pygubu.Builder()\n",
    "\n",
    "        #2: Load an ui file\n",
    "        builder.add_from_file('test.ui')\n",
    "\n",
    "        #3: Create the widget using a master as parent\n",
    "        self.mainwindow = builder.get_object('mainwindow', master)\n",
    "        \n",
    "root = tk.Tk()\n",
    "app = Application(root)\n",
    "root.mainloop()"
   ]
  }
 ],
 "metadata": {
  "kernelspec": {
   "display_name": "Python 3",
   "language": "python",
   "name": "python3"
  },
  "language_info": {
   "codemirror_mode": {
    "name": "ipython",
    "version": 3
   },
   "file_extension": ".py",
   "mimetype": "text/x-python",
   "name": "python",
   "nbconvert_exporter": "python",
   "pygments_lexer": "ipython3",
   "version": "3.7.1"
  }
 },
 "nbformat": 4,
 "nbformat_minor": 2
}
