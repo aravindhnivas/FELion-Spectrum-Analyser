{
 "cells": [
  {
   "cell_type": "code",
   "execution_count": 1,
   "metadata": {},
   "outputs": [
    {
     "data": {
      "text/plain": [
       "'OK'"
      ]
     },
     "execution_count": 1,
     "metadata": {},
     "output_type": "execute_result"
    }
   ],
   "source": [
    "import PySimpleGUI as sg\n",
    "\n",
    "sg.Popup('This is my first Popup')"
   ]
  },
  {
   "cell_type": "code",
   "execution_count": 6,
   "metadata": {},
   "outputs": [
    {
     "name": "stdout",
     "output_type": "stream",
     "text": [
      "Testing\n"
     ]
    }
   ],
   "source": [
    "text = sg.PopupGetText('Title', 'Please input something')      \n",
    "sg.Popup('Results', 'The value returned from PopupGetText', text)\n",
    "print(text)"
   ]
  },
  {
   "cell_type": "code",
   "execution_count": 2,
   "metadata": {},
   "outputs": [
    {
     "name": "stdout",
     "output_type": "stream",
     "text": [
      "\n"
     ]
    }
   ],
   "source": [
    "filename = sg.PopupGetFile('Please enter a file name')      \n",
    "sg.Popup('Results', 'The value returned from PopupGetFile', filename)\n",
    "print(filename)"
   ]
  },
  {
   "cell_type": "code",
   "execution_count": null,
   "metadata": {},
   "outputs": [],
   "source": [
    "folder = sg.PopupGetFolder('Please enter a folder name')      \n",
    "sg.Popup('Results', 'The value returned from PopupGetFolder', folder)\n",
    "print(folder)"
   ]
  },
  {
   "cell_type": "code",
   "execution_count": 17,
   "metadata": {},
   "outputs": [],
   "source": [
    "for i in range(1,10000):      \n",
    "    sg.OneLineProgressMeter('Check', i+1, 10000, 'key','Loading')"
   ]
  },
  {
   "cell_type": "code",
   "execution_count": 7,
   "metadata": {},
   "outputs": [
    {
     "data": {
      "text/plain": [
       "'OK'"
      ]
     },
     "execution_count": 7,
     "metadata": {},
     "output_type": "execute_result"
    }
   ],
   "source": [
    "var1 = 10\n",
    "var2 = 20\n",
    "sg.Popup('Variable number of parameters example', var1, var2, \"etc\")"
   ]
  },
  {
   "cell_type": "code",
   "execution_count": 19,
   "metadata": {},
   "outputs": [
    {
     "name": "stdout",
     "output_type": "stream",
     "text": [
      "Submit Aravindh NL 657460773\n"
     ]
    }
   ],
   "source": [
    "layout = [      \n",
    "          [sg.Text('Please enter your Name, Address, Phone')],      \n",
    "          [sg.Text('Name', size=(15, 1)), sg.InputText('name')],      \n",
    "          [sg.Text('Address', size=(15, 1)), sg.InputText('address')],      \n",
    "          [sg.Text('Phone', size=(15, 1)), sg.InputText('phone')],      \n",
    "          [sg.Submit(), sg.Cancel()]      \n",
    "         ]\n",
    "\n",
    "window = sg.Window('Simple data entry window').Layout(layout)         \n",
    "button, values = window.Read()\n",
    "\n",
    "print(button, values[0], values[1], values[2])"
   ]
  },
  {
   "cell_type": "code",
   "execution_count": null,
   "metadata": {},
   "outputs": [],
   "source": []
  },
  {
   "cell_type": "code",
   "execution_count": 5,
   "metadata": {},
   "outputs": [
    {
     "data": {
      "text/plain": [
       "('01_03_19-3.mass', 'Y:/22pole_iontrap-exchange/Students/Tim/C2H+/Mass scan')"
      ]
     },
     "execution_count": 5,
     "metadata": {},
     "output_type": "execute_result"
    }
   ],
   "source": [
    "from os.path import basename, dirname\n",
    "\n",
    "temp = \"Y:/22pole_iontrap-exchange/Students/Tim/C2H+/Mass scan/01_03_19-3.mass\"\n",
    "basename(temp), dirname(temp)"
   ]
  },
  {
   "cell_type": "code",
   "execution_count": null,
   "metadata": {},
   "outputs": [],
   "source": [
    "from tkinter import Toplevel, Tk\n",
    "\n",
    "root = Tk()\n",
    "root.title('Main')\n",
    "root.withdraw\n",
    "\n",
    "top = Toplevel(master=root)\n",
    "top.title('Top')\n",
    "\n",
    "root.mainloop()"
   ]
  },
  {
   "cell_type": "code",
   "execution_count": null,
   "metadata": {},
   "outputs": [],
   "source": []
  },
  {
   "cell_type": "code",
   "execution_count": null,
   "metadata": {},
   "outputs": [],
   "source": []
  },
  {
   "cell_type": "code",
   "execution_count": null,
   "metadata": {},
   "outputs": [],
   "source": []
  },
  {
   "cell_type": "code",
   "execution_count": null,
   "metadata": {},
   "outputs": [],
   "source": []
  },
  {
   "cell_type": "code",
   "execution_count": null,
   "metadata": {},
   "outputs": [],
   "source": []
  },
  {
   "cell_type": "code",
   "execution_count": null,
   "metadata": {},
   "outputs": [],
   "source": []
  },
  {
   "cell_type": "code",
   "execution_count": null,
   "metadata": {},
   "outputs": [],
   "source": []
  },
  {
   "cell_type": "code",
   "execution_count": null,
   "metadata": {},
   "outputs": [],
   "source": []
  },
  {
   "cell_type": "code",
   "execution_count": null,
   "metadata": {},
   "outputs": [],
   "source": []
  },
  {
   "cell_type": "code",
   "execution_count": null,
   "metadata": {},
   "outputs": [],
   "source": []
  },
  {
   "cell_type": "code",
   "execution_count": null,
   "metadata": {},
   "outputs": [],
   "source": []
  },
  {
   "cell_type": "code",
   "execution_count": null,
   "metadata": {},
   "outputs": [],
   "source": []
  },
  {
   "cell_type": "code",
   "execution_count": null,
   "metadata": {},
   "outputs": [],
   "source": []
  },
  {
   "cell_type": "code",
   "execution_count": null,
   "metadata": {},
   "outputs": [],
   "source": []
  },
  {
   "cell_type": "code",
   "execution_count": 10,
   "metadata": {},
   "outputs": [],
   "source": [
    "sg.Popup('Popup')  # Shows OK button"
   ]
  },
  {
   "cell_type": "code",
   "execution_count": 12,
   "metadata": {},
   "outputs": [
    {
     "data": {
      "text/plain": [
       "'No'"
      ]
     },
     "execution_count": 12,
     "metadata": {},
     "output_type": "execute_result"
    }
   ],
   "source": [
    "sg.PopupYesNo('PopupYesNo')  # Shows Yes and No buttons    "
   ]
  },
  {
   "cell_type": "code",
   "execution_count": 14,
   "metadata": {},
   "outputs": [],
   "source": [
    "sg.PopupCancel('PopupCancel')  # Shows Cancelled button    "
   ]
  },
  {
   "cell_type": "code",
   "execution_count": 16,
   "metadata": {},
   "outputs": [
    {
     "data": {
      "text/plain": [
       "'Cancel'"
      ]
     },
     "execution_count": 16,
     "metadata": {},
     "output_type": "execute_result"
    }
   ],
   "source": [
    "sg.PopupOKCancel('PopupOKCancel')  # Shows OK and Cancel buttons    "
   ]
  },
  {
   "cell_type": "code",
   "execution_count": 18,
   "metadata": {},
   "outputs": [],
   "source": [
    "sg.PopupError('PopupError')  # Shows red error button    "
   ]
  },
  {
   "cell_type": "code",
   "execution_count": 21,
   "metadata": {},
   "outputs": [],
   "source": [
    "sg.PopupTimed('PopupTimed')  # Automatically closes    "
   ]
  },
  {
   "cell_type": "code",
   "execution_count": 22,
   "metadata": {},
   "outputs": [],
   "source": [
    "sg.PopupAutoClose('PopupAutoClose')  # Same as PopupTimed"
   ]
  },
  {
   "cell_type": "code",
   "execution_count": 3,
   "metadata": {},
   "outputs": [
    {
     "data": {
      "text/plain": [
       "'OK'"
      ]
     },
     "execution_count": 3,
     "metadata": {},
     "output_type": "execute_result"
    }
   ],
   "source": [
    "my_text = \"\"\"The PopupScrolled will auto-fit the window size to the size of the text. Specify None in the height field of a size parameter to get auto-sized height.\n",
    "\n",
    "This call will create a scrolled box 80 characters wide and a height dependent upon the number of lines of text.\n",
    "\n",
    "sg.PopupScrolled(my_text, size=(80, None))\n",
    "\n",
    "Note that the default max number of lines before scrolling happens is set to 50. At 50 lines the scrolling will begin.\n",
    "\n",
    "If non_blocking parameter is set, then the call will not blocking waiting for the user to close the window. Execution will immediately return to the user. Handy when you want to dump out debug info without disrupting the program flow.\"\"\"\n",
    "\n",
    "sg.PopupScrolled(my_text)"
   ]
  },
  {
   "cell_type": "code",
   "execution_count": 18,
   "metadata": {},
   "outputs": [],
   "source": [
    "layout = [\n",
    "    [sg.Text('All graphic widgets in one window!', size=(30, 1), font=(\"Helvetica\", 25), text_color='blue')],      \n",
    "   [sg.Text('Here is some text.... and a place to enter text')],      \n",
    "   [sg.InputText()],      \n",
    "   [sg.Checkbox('My first checkbox!'), sg.Checkbox('My second checkbox!', default=True)],      \n",
    "   [sg.Radio('My first Radio!     ', \"RADIO1\", default=True), sg.Radio('My second Radio!', \"RADIO1\")],      \n",
    "   [sg.Multiline(default_text='This is the default Text shoulsd you decide not to type anything',)],      \n",
    "[sg.InputCombo(['Combobox 1', 'Combobox 2'], size=(20, 3)),      \n",
    " sg.Slider(range=(1, 100), orientation='h', size=(35, 20), default_value=85)],      \n",
    "[sg.Listbox(values=['Listbox 1', 'Listbox 2', 'Listbox 3'], size=(30, 6)),      \n",
    " sg.Slider(range=(1, 100), orientation='v', size=(10, 20), default_value=25),      \n",
    " sg.Slider(range=(1, 100), orientation='v', size=(10, 20), default_value=75),      \n",
    " sg.Slider(range=(1, 100), orientation='v', size=(10, 20), default_value=10)],      \n",
    "[sg.Text('_'  * 100, size=(70, 1))],      \n",
    "[sg.Text('Choose Source and Destination Folders', size=(35, 1))],      \n",
    "[sg.Text('Source Folder', size=(15, 1), auto_size_text=False, justification='right'), sg.InputText('Source'),      \n",
    " sg.FolderBrowse()],      \n",
    "[sg.Text('Destination Folder', size=(15, 1), auto_size_text=False, justification='right'), sg.InputText('Dest'),      \n",
    " sg.FolderBrowse()],      \n",
    "[sg.Submit(), sg.Cancel(), sg.Button('Customized', button_color=('white', 'green'))]]\n",
    "\n",
    "event, values  = sg.Window('Everything bagel', auto_size_text=True, default_element_size=(40, 1)).Layout(layout).Read()"
   ]
  },
  {
   "cell_type": "code",
   "execution_count": null,
   "metadata": {},
   "outputs": [],
   "source": []
  }
 ],
 "metadata": {
  "kernelspec": {
   "display_name": "Python 3",
   "language": "python",
   "name": "python3"
  },
  "language_info": {
   "codemirror_mode": {
    "name": "ipython",
    "version": 3
   },
   "file_extension": ".py",
   "mimetype": "text/x-python",
   "name": "python",
   "nbconvert_exporter": "python",
   "pygments_lexer": "ipython3",
   "version": "3.7.0"
  }
 },
 "nbformat": 4,
 "nbformat_minor": 2
}
