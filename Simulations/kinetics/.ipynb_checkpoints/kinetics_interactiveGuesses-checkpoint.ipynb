{
 "cells": [
  {
   "cell_type": "code",
   "execution_count": 3,
   "metadata": {},
   "outputs": [],
   "source": [
    "from symfit import variables, Parameter, Fit, D, ODEModel\n",
    "import numpy as np\n",
    "from symfit.contrib.interactive_guess import InteractiveGuess2D\n",
    "%matplotlib tk"
   ]
  },
  {
   "cell_type": "code",
   "execution_count": null,
   "metadata": {},
   "outputs": [],
   "source": [
    "# First order reaction kinetics. Data taken from\n",
    "# http://chem.libretexts.org/Core/Physical_Chemistry/Kinetics/Rate_Laws/The_Rate_Law\n",
    "tdata = np.array([0, 0.9184, 9.0875, 11.2485, 17.5255, 23.9993, 27.7949,\n",
    "                  31.9783, 35.2118, 42.973, 46.6555, 50.3922, 55.4747, 61.827,\n",
    "                  65.6603, 70.0939])\n",
    "concentration = np.array([0.906, 0.8739, 0.5622, 0.5156, 0.3718, 0.2702, 0.2238,\n",
    "                          0.1761, 0.1495, 0.1029, 0.086, 0.0697, 0.0546, 0.0393,\n",
    "                          0.0324, 0.026])\n",
    "\n",
    "# Define our ODE model\n",
    "A, t = variables('A, t')\n",
    "k = Parameter('k')\n",
    "model = ODEModel({D(A, t): - k * A}, initial={t: tdata[0], A: concentration[0]})\n",
    "\n",
    "guess = InteractiveGuess2D(model, A=concentration, t=tdata, n_points=250)\n",
    "guess.execute()\n",
    "print(guess)\n",
    "\n",
    "fit = Fit(model, A=concentration, t=tdata)\n",
    "fit_result = fit.execute()\n",
    "print(fit_result)"
   ]
  },
  {
   "cell_type": "code",
   "execution_count": null,
   "metadata": {},
   "outputs": [],
   "source": [
    "from symfit import Variable, Parameter, Fit, Model\n",
    "from symfit.contrib.interactive_guess import InteractiveGuess2D\n",
    "import numpy as np\n",
    "\n",
    "\n",
    "x = Variable('x')\n",
    "y1 = Variable('y1')\n",
    "y2 = Variable('y2')\n",
    "k = Parameter('k', 900)\n",
    "x0 = Parameter('x0', 1.5)\n",
    "\n",
    "model = {\n",
    "    y1: k * (x-x0)**2,\n",
    "    y2: x - x0\n",
    "}\n",
    "model = Model(model)\n",
    "\n",
    "# Generate example data\n",
    "x_data = np.linspace(0, 2.5, 50)\n",
    "data = model(x=x_data, k=1000, x0=1)\n",
    "y1_data = data.y1\n",
    "y2_data = data.y2\n",
    "\n",
    "guess = InteractiveGuess2D(model, x=x_data, y1=y1_data, y2=y2_data, n_points=250)\n",
    "guess.execute()\n",
    "print(guess)\n",
    "\n",
    "fit = Fit(model, x=x_data, y1=y1_data, y2=y2_data)\n",
    "fit_result = fit.execute()\n",
    "print(fit_result)"
   ]
  },
  {
   "cell_type": "code",
   "execution_count": null,
   "metadata": {},
   "outputs": [],
   "source": []
  }
 ],
 "metadata": {
  "kernelspec": {
   "display_name": "Python 3",
   "language": "python",
   "name": "python3"
  },
  "language_info": {
   "codemirror_mode": {
    "name": "ipython",
    "version": 3
   },
   "file_extension": ".py",
   "mimetype": "text/x-python",
   "name": "python",
   "nbconvert_exporter": "python",
   "pygments_lexer": "ipython3",
   "version": "3.7.0"
  }
 },
 "nbformat": 4,
 "nbformat_minor": 2
}
