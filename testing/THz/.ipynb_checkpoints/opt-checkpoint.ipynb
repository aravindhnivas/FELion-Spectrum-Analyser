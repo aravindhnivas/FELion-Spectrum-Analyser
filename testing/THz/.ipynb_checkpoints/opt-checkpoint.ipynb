{
 "cells": [
  {
   "cell_type": "code",
   "execution_count": 200,
   "metadata": {},
   "outputs": [],
   "source": [
    "from sympy.physics.optics import RayTransferMatrix, ThinLens, BeamParameter\n",
    "from sympy import symbols, init_printing, pi, sqrt, pprint, solveset, S\n",
    "from scipy.constants import c\n",
    "import matplotlib.pyplot as plt\n",
    "import numpy as np\n",
    "init_printing()\n",
    "\n",
    "from ipywidgets.widgets import IntSlider, FloatLogSlider, FloatSlider, interactive_output, FloatRangeSlider\n",
    "from IPython.display import display"
   ]
  },
  {
   "cell_type": "code",
   "execution_count": 188,
   "metadata": {},
   "outputs": [],
   "source": [
    "f1, f2, f3, r1, r2 = symbols('f1, f2, f3, r1, r2') # waist distances in cm\n",
    "w1, w2, w3, w4 = symbols('w1, w2, w3, w4') # waist radius in cm\n",
    "\n",
    "w, lam, w0, z =symbols('w, lam, w0, z', positive=True)\n",
    "\n",
    "z_r = pi*w0**2/lam\n",
    "R = z(1+(z_r/z)**2)\n",
    "w = w0*sqrt(1+(z/z_r)**2)\n",
    "\n",
    "ghz_cm = lambda x: c*1e2/x*1e-9"
   ]
  },
  {
   "cell_type": "code",
   "execution_count": 352,
   "metadata": {},
   "outputs": [
    {
     "data": {
      "image/png": "[encoded data removed]",
      "text/latex": [
       "$$w_{0} \\sqrt{\\frac{lam^{2} z^{2}}{\\pi^{2} w_{0}^{4}} + 1}$$"
      ],
      "text/plain": [
       "         _____________\n",
       "        ╱    2  2     \n",
       "       ╱  lam ⋅z      \n",
       "w₀⋅   ╱   ─────── + 1 \n",
       "     ╱      2   4     \n",
       "   ╲╱      π ⋅w₀      "
      ]
     },
     "execution_count": 352,
     "metadata": {},
     "output_type": "execute_result"
    }
   ],
   "source": [
    "w"
   ]
  },
  {
   "cell_type": "code",
   "execution_count": 362,
   "metadata": {},
   "outputs": [
    {
     "data": {
      "application/vnd.jupyter.widget-view+json": {
       "model_id": "9a25d970cdf945bc8c3c7fb8ddbdeaa6",
       "version_major": 2,
       "version_minor": 0
      },
      "text/plain": [
       "FloatRangeSlider(value=(0.1, 0.5), description='w0:', max=1.0, min=0.1, step=0.01)"
      ]
     },
     "metadata": {},
     "output_type": "display_data"
    },
    {
     "data": {
      "application/vnd.jupyter.widget-view+json": {
       "model_id": "31402d18a5c842ff9220ffd7f6b089bd",
       "version_major": 2,
       "version_minor": 0
      },
      "text/plain": [
       "FloatSlider(value=400.0, description='lambda: (GHz)', max=1000.0, min=70.0, step=1.0)"
      ]
     },
     "metadata": {},
     "output_type": "display_data"
    },
    {
     "data": {
      "application/vnd.jupyter.widget-view+json": {
       "model_id": "abbe2f51c56648ae9348f36883187e82",
       "version_major": 2,
       "version_minor": 0
      },
      "text/plain": [
       "FloatSlider(value=3.34, description='z:', max=10.0, step=0.001)"
      ]
     },
     "metadata": {},
     "output_type": "display_data"
    },
    {
     "data": {
      "application/vnd.jupyter.widget-view+json": {
       "model_id": "80f2ac5ea4de438db749c952fce2fd62",
       "version_major": 2,
       "version_minor": 0
      },
      "text/plain": [
       "Output()"
      ]
     },
     "metadata": {},
     "output_type": "display_data"
    }
   ],
   "source": [
    "def w_func(W, L, Z):\n",
    "    W = np.linspace(*W, 20)\n",
    "    y = []\n",
    "    for i in W:\n",
    "        temp = float(w.subs({w0:i, lam:ghz_cm(L), z:Z}).evalf(4))\n",
    "        y.append(temp)\n",
    "    fig, ax = plt.subplots(figsize=(10,5))\n",
    "    l, = ax.plot(W, y, '.', label=f'z: {Z} cm, lambda: {L} GHz')\n",
    "    \n",
    "   \n",
    "    w0_, w_ = l.get_data()\n",
    "    \n",
    "    ind = np.argwhere(np.logical_and(w_<=0.43, w_>0.4))\n",
    "    \n",
    "    w_left = []\n",
    "    for i in w0_[ind]:\n",
    "        temp = float(w.subs({w0:i, lam:ghz_cm(L), z:(10.4-Z)}).evalf(4))\n",
    "        w_left.append(temp)\n",
    "    ax.plot(w0_[ind], w_left, 'x', label = f'w_in1: z = {(10.4-Z):.2f} cm from w4')\n",
    "    \n",
    "    print(f'w0:{w0_[ind]}\\n(w_in1, w_in2): ({w_[ind]}, {w_left})')\n",
    "    \n",
    "    ax.set_xlabel('w0-Beam waist radius at z=0')\n",
    "    ax.set_ylabel(f'w_in2 - z: {Z} cm from w4')\n",
    "    ax.legend()\n",
    "    ax.grid()\n",
    "    \n",
    "W = FloatRangeSlider(\n",
    "    value=[0.1, 0.5],\n",
    "    min=0.1,\n",
    "    max=1,\n",
    "    step=0.01,\n",
    "    description='w0:',\n",
    ")\n",
    "L = FloatSlider(min=70, max=1000, value=400, step=1, description='lambda: (GHz)')\n",
    "Z = FloatSlider(min=0, max=10, value=3.34, step=0.001, description='z:')\n",
    "\n",
    "out = interactive_output(w_func, {'W':W, 'L':L, 'Z':Z})\n",
    "display(W, L, Z, out)"
   ]
  },
  {
   "cell_type": "code",
   "execution_count": 217,
   "metadata": {},
   "outputs": [
    {
     "data": {
      "image/png": "[encoded data removed]",
      "text/latex": [
       "$$\\left ( 0.0, \\quad 0.5\\right )$$"
      ],
      "text/plain": [
       "(0.0, 0.5)"
      ]
     },
     "execution_count": 217,
     "metadata": {},
     "output_type": "execute_result"
    }
   ],
   "source": [
    "W = FloatRangeSlider(\n",
    "    value=[0, 0.5],\n",
    "    min=0,\n",
    "    max=1,\n",
    "    step=0.01,\n",
    "    description='w0:',\n",
    ")\n",
    "W.value"
   ]
  },
  {
   "cell_type": "code",
   "execution_count": 237,
   "metadata": {},
   "outputs": [
    {
     "data": {
      "text/plain": [
       "(0.1556549072265625, float)"
      ]
     },
     "execution_count": 237,
     "metadata": {},
     "output_type": "execute_result"
    }
   ],
   "source": [
    "temp = w.subs({w0:0.1, lam:ghz_cm(400), z:0.5}).evalf(4)\n",
    "temp = np.float(temp\n",
    "               )\n",
    "temp, type(temp)"
   ]
  },
  {
   "cell_type": "code",
   "execution_count": 284,
   "metadata": {},
   "outputs": [
    {
     "data": {
      "text/plain": [
       "(array([0., 1., 2., 3., 4., 5., 6., 7., 8., 9.]),\n",
       " array([0, 1, 2, 3, 4, 5, 6, 7, 8, 9]))"
      ]
     },
     "execution_count": 284,
     "metadata": {},
     "output_type": "execute_result"
    },
    {
     "data": {
      "image/png": "[encoded data removed]",
      "text/plain": [
       "<Figure size 720x360 with 1 Axes>"
      ]
     },
     "metadata": {
      "needs_background": "light"
     },
     "output_type": "display_data"
    }
   ],
   "source": [
    "fig, ax = plt.subplots(figsize=(10,5))\n",
    "l, = ax.plot(np.arange(10))\n",
    "l.get_data()"
   ]
  },
  {
   "cell_type": "code",
   "execution_count": 303,
   "metadata": {},
   "outputs": [
    {
     "data": {
      "text/plain": [
       "array([[6],\n",
       "       [7],\n",
       "       [8],\n",
       "       [9]])"
      ]
     },
     "execution_count": 303,
     "metadata": {},
     "output_type": "execute_result"
    }
   ],
   "source": [
    "temp = np.arange(10)\n",
    "ind = np.argwhere(temp>5)\n",
    "temp[ind]"
   ]
  },
  {
   "cell_type": "code",
   "execution_count": 301,
   "metadata": {},
   "outputs": [
    {
     "data": {
      "text/plain": [
       "0"
      ]
     },
     "execution_count": 301,
     "metadata": {},
     "output_type": "execute_result"
    }
   ],
   "source": []
  },
  {
   "cell_type": "code",
   "execution_count": null,
   "metadata": {},
   "outputs": [],
   "source": []
  },
  {
   "cell_type": "code",
   "execution_count": null,
   "metadata": {},
   "outputs": [],
   "source": []
  },
  {
   "cell_type": "code",
   "execution_count": null,
   "metadata": {},
   "outputs": [],
   "source": []
  },
  {
   "cell_type": "code",
   "execution_count": null,
   "metadata": {},
   "outputs": [],
   "source": []
  }
 ],
 "metadata": {
  "kernelspec": {
   "display_name": "Python 3",
   "language": "python",
   "name": "python3"
  },
  "language_info": {
   "codemirror_mode": {
    "name": "ipython",
    "version": 3
   },
   "file_extension": ".py",
   "mimetype": "text/x-python",
   "name": "python",
   "nbconvert_exporter": "python",
   "pygments_lexer": "ipython3",
   "version": "3.7.3"
  }
 },
 "nbformat": 4,
 "nbformat_minor": 2
}
