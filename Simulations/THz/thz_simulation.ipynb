{
 "cells": [
  {
   "cell_type": "code",
   "execution_count": 1,
   "metadata": {},
   "outputs": [],
   "source": [
    "from sympy import symbols, init_printing, pi, sqrt, solveset, Eq\n",
    "from scipy.constants import c\n",
    "import numpy as np\n",
    "import matplotlib.pyplot as plt\n",
    "from matplotlib.ticker import (MultipleLocator, FormatStrFormatter,\n",
    "                               AutoMinorLocator)\n",
    "\n",
    "from ipywidgets.widgets import (\n",
    "    interactive_output,\n",
    "    BoundedFloatText,\n",
    "    BoundedIntText,\n",
    "    HBox,\n",
    "    VBox,\n",
    "    IntRangeSlider,\n",
    "    Text,\n",
    "    Button,\n",
    "    Label,\n",
    "    Layout,\n",
    "    Checkbox\n",
    ")\n",
    "from ipywidgets import interact\n",
    "\n",
    "from IPython.display import display\n",
    "import datetime, os\n",
    "from os.path import isdir\n",
    "from pathlib import Path"
   ]
  },
  {
   "cell_type": "code",
   "execution_count": 2,
   "metadata": {},
   "outputs": [
    {
     "name": "stdout",
     "output_type": "stream",
     "text": [
      "Save location: D:\\SurfDrive\\backup_for_surfacePro\\Work\\THz_setup\\Simulations\n"
     ]
    },
    {
     "data": {
      "text/plain": [
       "True"
      ]
     },
     "execution_count": 2,
     "metadata": {},
     "output_type": "execute_result"
    }
   ],
   "source": [
    "init_printing()\n",
    "save_location = Path(r\"D:\\SurfDrive\\backup_for_surfacePro\\Work\\THz_setup\\Simulations\")\n",
    "\n",
    "# Defining functions\n",
    "def ghz_cm(x):\n",
    "    \"\"\"\n",
    "    Input: freq in GHZ\n",
    "    Output: freq in cm\n",
    "    \"\"\"\n",
    "    return c * 1e2 / x * 1e-9\n",
    "\n",
    "cm_ghz = lambda x: c*1e-9*1e2/x\n",
    "\n",
    "print(f\"Save location: {save_location}\")\n",
    "save_location.exists()"
   ]
  },
  {
   "cell_type": "code",
   "execution_count": 3,
   "metadata": {},
   "outputs": [],
   "source": [
    "# Symbols\n",
    "w, lam, w0, z, Z_r = symbols(\"w, lam, w0, z, Z_r\")\n",
    "M, E, d_in, d_out, w0_in, w0_out, f, f0 = symbols('M, E, d_in, d_out, w0_in, w0_out, f, f0')"
   ]
  },
  {
   "cell_type": "code",
   "execution_count": 4,
   "metadata": {},
   "outputs": [
    {
     "data": {
      "image/png": "[encoded data removed]",
      "text/latex": [
       "$$w = w_{0} \\sqrt{1 + \\frac{z^{2}}{Z_{r}^{2}}}$$"
      ],
      "text/plain": [
       "             _________\n",
       "            ╱       2 \n",
       "           ╱       z  \n",
       "w = w₀⋅   ╱   1 + ─── \n",
       "         ╱          2 \n",
       "       ╲╱         Zᵣ  "
      ]
     },
     "execution_count": 4,
     "metadata": {},
     "output_type": "execute_result"
    }
   ],
   "source": [
    "## Formulas\n",
    "\n",
    "# Beam radius\n",
    "Wz = Eq(w, w0 * sqrt(1 + (z / Z_r) ** 2))\n",
    "Wz"
   ]
  },
  {
   "cell_type": "code",
   "execution_count": 5,
   "metadata": {},
   "outputs": [
    {
     "data": {
      "image/png": "[encoded data removed]",
      "text/latex": [
       "$$\\left ( f = \\frac{d_{in}}{E} \\left(\\sqrt{- E \\left(\\frac{Z_{r}^{2}}{d_{in}^{2}} + 1\\right) + 1} + 1\\right), \\quad f = \\frac{d_{in}}{E} \\left(- \\sqrt{- E \\left(\\frac{Z_{r}^{2}}{d_{in}^{2}} + 1\\right) + 1} + 1\\right)\\right )$$"
      ],
      "text/plain": [
       "⎛        ⎛      ____________________    ⎞          ⎛        __________________\n",
       "⎜        ⎜     ╱     ⎛  2     ⎞         ⎟          ⎜       ╱     ⎛  2     ⎞   \n",
       "⎜        ⎜    ╱      ⎜Zᵣ      ⎟         ⎟          ⎜      ╱      ⎜Zᵣ      ⎟   \n",
       "⎜    dᵢₙ⋅⎜   ╱   - E⋅⎜──── + 1⎟ + 1  + 1⎟      dᵢₙ⋅⎜-    ╱   - E⋅⎜──── + 1⎟ + \n",
       "⎜        ⎜  ╱        ⎜   2    ⎟         ⎟          ⎜    ╱        ⎜   2    ⎟   \n",
       "⎜        ⎝╲╱         ⎝dᵢₙ     ⎠         ⎠          ⎝  ╲╱         ⎝dᵢₙ     ⎠   \n",
       "⎜f = ────────────────────────────────────, f = ───────────────────────────────\n",
       "⎝                     E                                          E            \n",
       "\n",
       "__    ⎞⎞\n",
       "      ⎟⎟\n",
       "      ⎟⎟\n",
       "1  + 1⎟⎟\n",
       "      ⎟⎟\n",
       "      ⎠⎟\n",
       "───────⎟\n",
       "       ⎠"
      ]
     },
     "execution_count": 5,
     "metadata": {},
     "output_type": "execute_result"
    }
   ],
   "source": [
    "# Focal length\n",
    "fp = Eq(f, Z_r*(d_in/(E*Z_r))*(1+sqrt(1-E*(1+(d_in/Z_r)**-2)))) # positive sign but output is negative focus\n",
    "fm = Eq(f, Z_r*(d_in/(E*Z_r))*(1-sqrt(1-E*(1+(d_in/Z_r)**-2)))) # negative sign but output is positive focus\n",
    "\n",
    "fp, fm"
   ]
  },
  {
   "cell_type": "code",
   "execution_count": 6,
   "metadata": {},
   "outputs": [
    {
     "data": {
      "image/png": "[encoded data removed]",
      "text/latex": [
       "$$\\left ( d_{in} = f - \\frac{1}{M} \\sqrt{f^{2} - f_{0}^{2}}, \\quad d_{in} = f + \\frac{1}{M} \\sqrt{f^{2} - f_{0}^{2}}, \\quad d_{out} = - M \\sqrt{f^{2} - f_{0}^{2}} + f, \\quad d_{out} = M \\sqrt{f^{2} - f_{0}^{2}} + f, \\quad d_{in} = f \\left(\\sqrt{- \\frac{Z_{r}^{2}}{f^{2}} + \\frac{1}{M^{2}}} + 1\\right), \\quad d_{out} = f \\left(M^{2} \\left(\\frac{d_{in}}{f} - 1\\right) + 1\\right)\\right )$$"
      ],
      "text/plain": [
       "⎛             __________               __________                             \n",
       "⎜            ╱  2     2               ╱  2     2                 __________   \n",
       "⎜          ╲╱  f  - f₀              ╲╱  f  - f₀                 ╱  2     2    \n",
       "⎜dᵢₙ = f - ─────────────, dᵢₙ = f + ─────────────, dₒᵤₜ = - M⋅╲╱  f  - f₀   + \n",
       "⎜                M                        M                                   \n",
       "⎝                                                                             \n",
       "\n",
       "                                       ⎛      ____________    ⎞               \n",
       "               __________              ⎜     ╱     2          ⎟               \n",
       "              ╱  2     2               ⎜    ╱    Zᵣ    1      ⎟           ⎛ 2 \n",
       "f, dₒᵤₜ = M⋅╲╱  f  - f₀   + f, dᵢₙ = f⋅⎜   ╱   - ─── + ──  + 1⎟, dₒᵤₜ = f⋅⎜M ⋅\n",
       "                                       ⎜  ╱        2    2     ⎟           ⎝   \n",
       "                                       ⎝╲╱        f    M      ⎠               \n",
       "\n",
       "              ⎞\n",
       "              ⎟\n",
       "⎛dᵢₙ    ⎞    ⎞⎟\n",
       "⎜─── - 1⎟ + 1⎟⎟\n",
       "⎝ f     ⎠    ⎠⎟\n",
       "              ⎠"
      ]
     },
     "execution_count": 6,
     "metadata": {},
     "output_type": "execute_result"
    }
   ],
   "source": [
    "# Input distance\n",
    "eq_din_m = Eq(d_in, f - sqrt(f ** 2 - f0 ** 2) / M) # Negative sign\n",
    "eq_din_p = Eq(d_in, f + sqrt(f ** 2 - f0 ** 2) / M) # Positive sign\n",
    "\n",
    "# output distance\n",
    "eq_dout_m = Eq(d_out, f - sqrt(f ** 2 - f0 ** 2) * M) # Negative sign\n",
    "eq_dout_p = Eq(d_out, f + sqrt(f ** 2 - f0 ** 2) * M) # Positive sign\n",
    "# NOTE: use same sign for output distance as chosed for input distane\n",
    "\n",
    "# Input and output distances in-terms of each other\n",
    "eq_dout2 = Eq(d_out, f * (1 + (M ** 2 * (d_in / f - 1))))\n",
    "eq_din2 = Eq(d_in, f * (1 + sqrt(M ** -2 - (Z_r / f) ** 2)))\n",
    "\n",
    "eq_din_m, eq_din_p, eq_dout_m, eq_dout_p, eq_din2, eq_dout2, "
   ]
  },
  {
   "cell_type": "code",
   "execution_count": 12,
   "metadata": {},
   "outputs": [
    {
     "data": {
      "application/vnd.jupyter.widget-view+json": {
       "model_id": "91902f91b3e44ef6bf082477b9b78792",
       "version_major": 2,
       "version_minor": 0
      },
      "text/plain": [
       "VBox(children=(HBox(children=(BoundedFloatText(value=0.34, description='w0:', max=1.0, min=0.1, step=0.01), In…"
      ]
     },
     "metadata": {},
     "output_type": "display_data"
    }
   ],
   "source": [
    "class gaussian_simulation:\n",
    "   \n",
    "    def __init__(self):\n",
    "\n",
    "        W = BoundedFloatText(value=0.34, min=0.1, max=1, step=0.01, description=\"w0:\")\n",
    "        L = IntRangeSlider(\n",
    "            value=[325, 1100], min=50, max=1500, step=1, description=\"GHz\"\n",
    "        )\n",
    "        \n",
    "        width = BoundedIntText(value=7, min=5, max=25, step=1, description=\"width\")\n",
    "        height = BoundedIntText(value=5, min=5, max=25, step=1, description=\"height\")\n",
    "        dpi = BoundedIntText(value=200, min=70, max=250, step=1, description=\"Dpi\")\n",
    "\n",
    "        entry1 = BoundedFloatText(\n",
    "            value=-9, min=-11, max=10, step=0.1, description=\"Entry1\"\n",
    "        )\n",
    "        Mirror = BoundedIntText(value=11, min=10, max=20, step=1, description=\"Mirror Position\")\n",
    "        \n",
    "        self.save_name = Text(value=\"\")\n",
    "\n",
    "        save_button = Button(description=\"Save\", layout={\"width\": \"300px\"})\n",
    "\n",
    "        save_button.on_click(self.save_plot)\n",
    "\n",
    "        self.print_save = Label(value=\"Status: \")\n",
    "\n",
    "        row1 = HBox([W, L])\n",
    "        row2 = HBox([width, height, dpi])\n",
    "        row3 = HBox([entry1, Mirror])\n",
    "\n",
    "        out = interactive_output(\n",
    "            self.simulate,\n",
    "            {\n",
    "                \"w0_\": W,\n",
    "                \"wn\": L,\n",
    "                \"width\": width,\n",
    "                \"height\": height,\n",
    "                \"dpi\": dpi,\n",
    "                \"entry1\": entry1,\n",
    "                \"mirror\":Mirror\n",
    "            },\n",
    "        )\n",
    "\n",
    "        display(\n",
    "            VBox(\n",
    "                [row1, row2, row3, out, self.save_name, save_button, self.print_save]\n",
    "            )\n",
    "        )\n",
    "\n",
    "    def save_plot(self, event):\n",
    "        if not isdir('./Simulations'):\n",
    "            os.mkdir('./Simulations')\n",
    "\n",
    "        self.fig0.savefig(f\"./Simulations/{self.save_name.value}.png\")\n",
    "        self.fig0.savefig(f\"./Simulations/{self.save_name.value}.pdf\")\n",
    "\n",
    "        t = datetime.datetime.now()\n",
    "        self.print_save.value = f'File \"{self.save_name.value}.png\" Saved; {t.ctime()}'\n",
    "\n",
    "    def beam_plot(self, ax, w0_, wn):\n",
    "               \n",
    "        self.gaussian_beam(w0_, wn)\n",
    "        \n",
    "        markers = '--'\n",
    "        line_width = 1\n",
    "        alpha = 0.7\n",
    "\n",
    "        for c, beam in enumerate(self.beams):\n",
    "            color = f\"C{c}\"\n",
    "            ax.plot(\n",
    "                z_,\n",
    "                beam,\n",
    "                markers+color, lw=line_width, alpha=alpha,\n",
    "                label=f\"{self.wn[c]:.2f} GHz ({ghz_cm(self.wn[c])*10:.2f} mm)\",\n",
    "                zorder=1\n",
    "            )\n",
    "            ax.plot(-z_, -beam, markers+color, lw=line_width, alpha=alpha, zorder=1)\n",
    "            ax.plot(-z_, beam, markers+color, lw=line_width, alpha=alpha, zorder=1)\n",
    "            ax.plot(z_, -beam, markers+color, lw=line_width, alpha=alpha, zorder=1)\n",
    "\n",
    "    def simulate(self, w0_, wn, width, height, dpi, entry1, mirror):\n",
    "        \n",
    "        entry1 = round(entry1, 1)\n",
    "        entry2 = round(10.4 - abs(entry1), 1)\n",
    "\n",
    "        self.fig0, ax0 = plt.subplots(figsize=(width, height), dpi=dpi)\n",
    "        self.beam_plot(ax0, w0_, wn)\n",
    "\n",
    "        ax0.hlines(0, xmin=-z_.max(), xmax=z_.max())\n",
    "\n",
    "        ## Annotation begins\n",
    "        \n",
    "        fontsz = 6\n",
    "\n",
    "        # Distance b/w two entry points\n",
    "        ax0.hlines(-0.2, xmin=entry1, xmax=entry2)\n",
    "        plt.annotate(\n",
    "            s=f\"d={(entry2-entry1)}\",\n",
    "            xy=(0, 0),\n",
    "            xytext=(-3, -0.1),\n",
    "            ha=\"center\",\n",
    "            va=\"center\",\n",
    "            fontsize=fontsz\n",
    "        )\n",
    "\n",
    "        # Annotate beam waist\n",
    "        ax0.vlines(x=0, ymin=0, ymax=w0_)\n",
    "        '''plt.annotate(\n",
    "            s=\"$w_0^{in}$=%.2f cm\"%w0_,\n",
    "            xy=(0, w0_+0.2),\n",
    "            xytext=(0, 0.8),\n",
    "            ha=\"center\",\n",
    "            va=\"center\",\n",
    "            arrowprops=dict(arrowstyle=\"->\", connectionstyle=\"arc3\"),\n",
    "            fontsize=fontsz\n",
    "        )'''\n",
    "\n",
    "        # Annotate Entry1\n",
    "        ax0.vlines(x=entry1, ymin=-1, ymax=1)\n",
    "\n",
    "        '''plt.annotate(\n",
    "            s=\"Main entry window:\\ndiameter=2cm\",\n",
    "            xy=(entry1, 1),\n",
    "            xytext=(entry1 + 6, 1.1),\n",
    "            ha=\"center\",\n",
    "            va=\"center\",\n",
    "            arrowprops=dict(arrowstyle=\"->\", connectionstyle=\"arc3\"),\n",
    "            fontsize=fontsz\n",
    "        )'''\n",
    "\n",
    "        # Annotate Entry2\n",
    "        ax0.vlines(x=entry2, ymin=-0.43, ymax=0.43)\n",
    "\n",
    "        '''plt.annotate(\n",
    "            s=\"Trap bender entry:\\ndiameter=0.86cm\",\n",
    "            xy=(entry2, -0.43),\n",
    "            xytext=(entry2 - 3, -0.8),\n",
    "            ha=\"center\",\n",
    "            va=\"center\",\n",
    "            # rotation = 30,\n",
    "            arrowprops=dict(arrowstyle=\"->\", connectionstyle=\"arc3\"),\n",
    "            fontsize=fontsz\n",
    "        )'''\n",
    "        \n",
    "        # Inner entry: diameter: 0.64cm\n",
    "        ax0.vlines(x=entry2+0.7, ymin=-0.32, ymax=0.32)\n",
    "\n",
    "        # Annotate z-position\n",
    "\n",
    "        plt.annotate(s=\"z=0\", xy=(0, 0), xytext=(0, -0.05), ha=\"center\", va=\"center\",fontsize=fontsz)\n",
    "\n",
    "        '''plt.annotate(\n",
    "            s=f\"z={entry1}\",\n",
    "            xy=(entry1, 0),\n",
    "            xytext=(entry1 - 2, -0.2),\n",
    "            ha=\"center\",\n",
    "            va=\"center\",\n",
    "            arrowprops=dict(arrowstyle=\"->\", connectionstyle=\"arc3\"),\n",
    "            fontsize=fontsz\n",
    "        )'''\n",
    "        \n",
    "        # d_in window\n",
    "        mirror_pos = entry1-mirror\n",
    "        ax0.vlines(x=mirror_pos, ymin=-self.beams.max(), ymax=self.beams.max())\n",
    "        \n",
    "        '''plt.annotate(\n",
    "            s=\"Mirror($d_{in}$) at %.1f cm\"%mirror_pos,\n",
    "            xy=(mirror_pos+5, -self.beams.max()),\n",
    "            ha=\"center\",\n",
    "            va=\"center\",\n",
    "            arrowprops=dict(arrowstyle=\"->\", connectionstyle=\"arc3\"),\n",
    "            fontsize=fontsz\n",
    "        )'''\n",
    "\n",
    "        ## Annotation ends\n",
    "\n",
    "        ax0.set_xlabel(\"z direction : Beam Propagation (cm)\")\n",
    "        ax0.set_ylabel(\"w(z) : Gaussian Beam radius (cm)\")\n",
    "        ax0.set_title(f\"Gaussian Beam simulation: {wn[0]}-{wn[-1]} GHz\")\n",
    "        ax0.legend(bbox_to_anchor=(0.16, 0.86), ncol=3, fontsize=5)\n",
    "        ax0.xaxis.set_minor_locator(AutoMinorLocator())\n",
    "        \n",
    "        plt.show()\n",
    "        # plt.close()\n",
    "\n",
    "        self.save_name.value = f\"{w0_}cm-{wn[0]}-{wn[-1]}GHz_simulation\"\n",
    "\n",
    "    def gaussian_beam(self, w0_, wn):\n",
    "        \n",
    "        global z_\n",
    "        z_ = np.linspace(0, 25, 10)\n",
    "\n",
    "        self.wn = np.linspace(*wn, 10)\n",
    "        \n",
    "        beams = []\n",
    "        for l in self.wn:\n",
    "            temp = []\n",
    "            zr = np.pi*w0_**2/ghz_cm(l)\n",
    "            temp = np.array([float(\n",
    "                    Wz.subs({w0:w0_, Z_r:zr, z:i}).rhs\n",
    "                ) for i in z_])\n",
    "        \n",
    "            beams.append(temp)\n",
    "            \n",
    "        self.beams = np.array(beams)\n",
    "        \n",
    "start = gaussian_simulation()"
   ]
  },
  {
   "cell_type": "code",
   "execution_count": 58,
   "metadata": {},
   "outputs": [
    {
     "data": {
      "application/vnd.jupyter.widget-view+json": {
       "model_id": "3ad5cf6b691c450b8f5b3190ed789c8b",
       "version_major": 2,
       "version_minor": 0
      },
      "text/plain": [
       "VBox(children=(HBox(children=(BoundedFloatText(value=0.34, description='$w0_{in}$: ', max=1.0, min=0.1, step=0…"
      ]
     },
     "metadata": {},
     "output_type": "display_data"
    }
   ],
   "source": [
    "class simulation:\n",
    "    def __init__(self):\n",
    "\n",
    "        # Beam properties\n",
    "\n",
    "        W_in = BoundedFloatText(\n",
    "            value=0.34, min=0.1, max=1, step=0.01, description=\"$w0_{in}$: \"\n",
    "        )\n",
    "\n",
    "        D_in = BoundedFloatText(\n",
    "            value=20, min=5, max=30, step=0.1, description=\"$d_{in}$: \"\n",
    "        )\n",
    "\n",
    "        btn_pxl = 300\n",
    "        L1 = Text(value=\"325-500\", description=\"GHz\", layout={\"width\": f\"{btn_pxl}px\"})\n",
    "\n",
    "        L2 = Text(value=\"500-750\", description=\"GHz\", layout={\"width\": f\"{btn_pxl}px\"})\n",
    "\n",
    "        L3 = Text(value=\"750-1100\", description=\"GHz\", layout={\"width\": f\"{btn_pxl}px\"})\n",
    "\n",
    "        W_out1 = BoundedFloatText(\n",
    "            value=0.15, min=0.01, max=1, step=0.001, description=\"$w0_{out}$: \"\n",
    "        )\n",
    "\n",
    "        W_out2 = BoundedFloatText(\n",
    "            value=0.099, min=0.01, max=1, step=0.001, description=\"$w0_{out}$: \"\n",
    "        )\n",
    "\n",
    "        W_out3 = BoundedFloatText(\n",
    "            value=0.066, min=0.01, max=1, step=0.001, description=\"$w0_{out}$: \"\n",
    "        )\n",
    "\n",
    "        f_manual = Checkbox(value=False, description=\"f_manual\")\n",
    "\n",
    "        # Figure Properties\n",
    "        Width = BoundedFloatText(value=15, min=5, max=25, step=1, description=\"width\")\n",
    "        Height = BoundedFloatText(value=6, min=5, max=25, step=1, description=\"height\")\n",
    "        Dpi = BoundedFloatText(value=100, min=70, max=300, step=1, description=\"Dpi\")\n",
    "\n",
    "        # Widget to save\n",
    "        self.save_name = Text(value=\"THz_simulation_325-1100GHz\")\n",
    "        save_button = Button(description=\"Save\", layout={\"width\": \"300px\"})\n",
    "        save_button.on_click(self.save_plot)\n",
    "        self.print_save = Label(value=\"Status: \")\n",
    "\n",
    "        # Widget arrangements\n",
    "        row1 = HBox([W_in, D_in])\n",
    "        row2 = HBox([Width, Height, Dpi])\n",
    "        row3 = HBox([L1, L2, L3])\n",
    "        row4 = HBox([W_out1, W_out2, W_out3])\n",
    "        row5 = VBox([self.save_name, save_button, self.print_save])\n",
    "\n",
    "        # Plot output\n",
    "        out = interactive_output(\n",
    "            self.plot,\n",
    "            {\n",
    "                \"w1\": W_in,\n",
    "                \"d1\": D_in,\n",
    "                \"l1\": L1,\n",
    "                \"l2\": L2,\n",
    "                \"l3\": L3,\n",
    "                \"wout1\": W_out1,\n",
    "                \"wout2\": W_out2,\n",
    "                \"wout3\": W_out3,\n",
    "                \"width\": Width,\n",
    "                \"height\": Height,\n",
    "                \"dpi\": Dpi,\n",
    "            },\n",
    "        )\n",
    "\n",
    "        # widget display\n",
    "        display(VBox([row1, row2, row3, row4, out, row5]))\n",
    "\n",
    "    def save_plot(self, event):\n",
    "\n",
    "        try:\n",
    "            if not save_location.exists():\n",
    "                save_location.mkdir()\n",
    "\n",
    "            self.fig.savefig(save_location.joinpath(self.save_name.value + \".png\"))\n",
    "            self.fig.savefig(save_location.joinpath(self.save_name.value + \".pdf\"))\n",
    "\n",
    "            self.fig.savefig(f\"./Simulations/{self.save_name.value}.png\")\n",
    "            self.fig.savefig(f\"./Simulations/{self.save_name.value}.pdf\")\n",
    "\n",
    "            t = datetime.datetime.now()\n",
    "            self.print_save.value = (\n",
    "                f'File \"{self.save_name.value}.png\" Saved; {t.ctime()}'\n",
    "            )\n",
    "\n",
    "        except:\n",
    "            self.print_save.value = \"Error Occured.\"\n",
    "\n",
    "    def plot(self, w1, d1, l1, l2, l3, wout1, wout2, wout3, width, height, dpi):\n",
    "\n",
    "        wn_size = 5\n",
    "        wz_size = 20\n",
    "        d_trap = -1.4\n",
    "\n",
    "        to_use = 0\n",
    "\n",
    "        ##########################################################################################\n",
    "\n",
    "        # opening log file\n",
    "\n",
    "        if not isdir(\"./Simulations\"):\n",
    "            os.mkdir(\"./Simulations\")\n",
    "        t = datetime.datetime.now()\n",
    "        log_file = open(f\"./Simulations/log_file_{to_use}.txt\", \"w\")\n",
    "        log_file.write(f\"Gaussian Simulation: {t.ctime()}\\n\\n\")\n",
    "        log_file.write(\n",
    "            \"##########################################################################################\\n\"\n",
    "        )\n",
    "\n",
    "        # 3-sets of wavelength range for 3-different horn\n",
    "        l1 = tuple(np.array(l1.split(\"-\"), dtype=np.int))\n",
    "        l2 = tuple(np.array(l2.split(\"-\"), dtype=np.int))\n",
    "        l3 = tuple(np.array(l3.split(\"-\"), dtype=np.int))\n",
    "\n",
    "        wn_set1 = np.linspace(*l1, wn_size)\n",
    "        wn_set2 = np.linspace(*l2, wn_size)\n",
    "        wn_set3 = np.linspace(*l3, wn_size)\n",
    "        wn_list = np.array([wn_set1, wn_set2, wn_set3])\n",
    "\n",
    "        # 3-sets of horns waist for different wavelength\n",
    "        w0_out_list = np.array([wout1, wout2, wout3])\n",
    "\n",
    "        w0_out_in_use = w0_out_list[to_use]\n",
    "        M_factor = w0_out_in_use / w1\n",
    "\n",
    "        w0_in_list = w0_out_list / M_factor\n",
    "        M_list = w0_out_list / w0_in_list\n",
    "\n",
    "        # Focal length and d_out in-use (Taking optimal focal length for the longest wn)\n",
    "        wn_in_use = wn_list[to_use, 0]\n",
    "        M_in_use = M_list[to_use]\n",
    "\n",
    "        zc_in_use = np.pi * w1 ** 2 / ghz_cm(wn_in_use)\n",
    "\n",
    "        f_positive = float(\n",
    "            fm.subs({d_in: d1, E: (1 - M_in_use ** -2), Z_r: zc_in_use}).rhs\n",
    "        )\n",
    "        f_negative = float(\n",
    "            fp.subs({d_in: d1, E: (1 - M_in_use ** -2), Z_r: zc_in_use}).rhs\n",
    "        )\n",
    "\n",
    "        opt_d2 = float(eq_dout2.subs({f: f_positive, M: M_in_use, d_in: d1}).rhs)\n",
    "        print(f_positive, opt_d2)\n",
    "\n",
    "        log_file.write(\n",
    "            f\"\\nFocii:\\nf(+ve): {f_positive:.2f}; f(-ve): {f_negative:.2f}\\n\\n\"\n",
    "        )\n",
    "\n",
    "        ##########################################################################################\n",
    "\n",
    "        # Defining figure:\n",
    "        self.fig, (ax1, ax2) = plt.subplots(\n",
    "            nrows=1, ncols=2, sharey=True, figsize=(width, height), dpi=dpi\n",
    "        )\n",
    "\n",
    "        for ax in self.fig.axes:\n",
    "            ax.grid()\n",
    "\n",
    "        colors = \"C0, C1, C2, C3, C4, C5, C6, C7, C8, C9\".split(\", \")\n",
    "        mrkr = [\".-\", \"x-\", \"--\"]\n",
    "\n",
    "        d1_beam = []\n",
    "        d2_beam = []\n",
    "\n",
    "        d1_distance = []\n",
    "        d2_distance = []\n",
    "\n",
    "        ##########################################################################################\n",
    "        log_file.write(\n",
    "            \"##########################################################################################\\n\\n\"\n",
    "        )\n",
    "\n",
    "        for num in range(len(w0_out_list)):\n",
    "\n",
    "            log_file.write(f\"w0_out: {w0_out_list[num]}cm\\n\\n\")\n",
    "\n",
    "            d1_beam_temp = []\n",
    "            d2_beam_temp = []\n",
    "\n",
    "            d1_distance_temp = []\n",
    "            d2_distance_temp = []\n",
    "\n",
    "            #################################################################################\n",
    "\n",
    "            for c, wn in enumerate(wn_list[num]):\n",
    "\n",
    "                log_file.write(f\"Frequency: {wn}GHz\\n\")\n",
    "\n",
    "                #################################################################################\n",
    "                # optimised calculation\n",
    "                temp_f0 = (np.pi * w0_in_list[num] * w0_out_list[num]) / ghz_cm(wn)\n",
    "\n",
    "                temp_d1 = float(\n",
    "                    eq_din_p.subs({M: M_list[num], f0: temp_f0, f: f_negative}).rhs\n",
    "                )\n",
    "                temp_d2 = float(\n",
    "                    eq_dout_p.subs({M: M_list[num], f0: temp_f0, f: f_positive}).rhs\n",
    "                )\n",
    "\n",
    "                #################################################################################\n",
    "                # d_in beam optimised\n",
    "                d1_beam_array = np.linspace(temp_d1 - d1 + d_trap, temp_d1, wz_size)\n",
    "                zr1 = (np.pi * w0_in_list[num] ** 2) / ghz_cm(wn)\n",
    "\n",
    "                d1_beam_calculation = np.array(\n",
    "                    [\n",
    "                        float(Wz.subs({w0: w0_in_list[num], Z_r: zr1, z: i}).rhs)\n",
    "                        for i in d1_beam_array\n",
    "                    ]\n",
    "                )\n",
    "\n",
    "                #################################################################################\n",
    "                # d_out beam optimised\n",
    "                d2_beam_array = np.linspace(0, temp_d2, wz_size)\n",
    "                zr2 = (np.pi * w0_out_list[num] ** 2) / ghz_cm(wn)\n",
    "\n",
    "                d2_beam_calculation = np.array(\n",
    "                    [\n",
    "                        float(Wz.subs({w0: w0_out_list[num], Z_r: zr2, z: i}).rhs)\n",
    "                        for i in d2_beam_array\n",
    "                    ]\n",
    "                )\n",
    "\n",
    "                #################################################################################\n",
    "\n",
    "                # Plotting\n",
    "                d1_plot = np.linspace(d_trap, d1, wz_size)\n",
    "                d2_plot = np.linspace(opt_d2 - temp_d2, opt_d2, wz_size)\n",
    "\n",
    "                ax1.plot(\n",
    "                    d2_plot,\n",
    "                    d2_beam_calculation,\n",
    "                    colors[c] + mrkr[num],\n",
    "                    zorder=1,\n",
    "                    label=f\"{wn:.1f}GHz\",\n",
    "                )\n",
    "                ax1.plot(d2_plot, -d2_beam_calculation, colors[c] + mrkr[num], zorder=1)\n",
    "\n",
    "                ax2.plot(d1_plot, d1_beam_calculation, colors[c] + mrkr[num], zorder=1)\n",
    "                ax2.plot(d1_plot, -d1_beam_calculation, colors[c] + mrkr[num], zorder=1)\n",
    "\n",
    "                #################################################################################\n",
    "                # Writing log file\n",
    "                log_file.write(\n",
    "                    f\"d_in:\\n{d1_beam_array}\\nd_in_beam: {d1_beam_calculation}\\n\\n\"\n",
    "                )\n",
    "                log_file.write(\n",
    "                    f\"d_out:\\n{d2_beam_array}\\nd_out_beam: {d2_beam_calculation}\\n\\n\"\n",
    "                )\n",
    "\n",
    "                #################################################################################\n",
    "                # Appending temp values\n",
    "                d1_distance_temp.append(temp_d1)\n",
    "                d2_distance_temp.append(temp_d2)\n",
    "\n",
    "                d1_beam_temp.append(d1_beam_calculation)\n",
    "                d2_beam_temp.append(d2_beam_calculation)\n",
    "\n",
    "                #################################################################################\n",
    "            #####################################################################################\n",
    "            log_file.write(\n",
    "                \"##########################################################################################\\n\\n\"\n",
    "            )\n",
    "\n",
    "            # Appending main values\n",
    "            d1_distance.append(d1_distance_temp)\n",
    "            d2_distance.append(d2_distance_temp)\n",
    "\n",
    "            d1_beam.append(d1_beam_temp)\n",
    "            d2_beam.append(d2_beam_temp)\n",
    "\n",
    "            ######################################################################################\n",
    "        ##########################################################################################\n",
    "        # Making array\n",
    "        d1_distance = np.array(d1_distance)\n",
    "        d2_distance = np.array(d2_distance)\n",
    "\n",
    "        d1_beam = np.array(d1_beam)\n",
    "        d2_beam = np.array(d2_beam)\n",
    "\n",
    "        ##########################################################################################\n",
    "        log_file.write(f\"w0_in_list: {w0_in_list}\\n\\n\")\n",
    "        log_file.write(f\"w0_out_list: {w0_out_list}\\n\\n\")\n",
    "        log_file.write(f\"Frequency list:\\n{wn_list}\\n\\n\")\n",
    "        log_file.write(f\"d_out: (Calibrated)\\n{d2_distance}\\n\\n\")\n",
    "        log_file.write(f\"d_in: (Calibrated)\\n{d1_distance}\\n\\n\")\n",
    "        log_file.write(\n",
    "            f\"Mirror Diameter: >= {3*d1_beam[0, 0, -1]:.2f}cm\\n(since longest wavelength beam waist at mirror is {d1_beam[0, 0, -1]:.2f}cm)\\n\\n\"\n",
    "        )\n",
    "\n",
    "        ##########################################################################################\n",
    "        # ax1\n",
    "        ax1.set_xlim(xmax=opt_d2)\n",
    "\n",
    "        ax1.set(\n",
    "            xlabel=\"$d_{out}$ (cm)\",\n",
    "            ylabel=\"$w(z)$ cm\",\n",
    "            title=f\"THz source to Mirror w0_out: {w0_out_list} cm\",\n",
    "        )\n",
    "        ax1.legend(ncol=3)\n",
    "\n",
    "        ax1.xaxis.set_minor_locator(AutoMinorLocator(10))\n",
    "\n",
    "        ##########################################################################################\n",
    "        # ax2\n",
    "        ax2.invert_xaxis()\n",
    "        ax2.set_xlim(xmin=d1)\n",
    "\n",
    "        ax2.set(xlabel=\"$d_{in}$ (cm)\", title=\"Mirror to trap\")\n",
    "        ax2.legend(\n",
    "            title=f\"f_+ = {f_positive:.2f}cm\\nf_- = {f_negative:.2f}cm\\nMirror Diameter: >= {3*d1_beam[0, 0, -1]:.2f}cm\"\n",
    "        )\n",
    "\n",
    "        ax2.xaxis.set_minor_locator(AutoMinorLocator(10))\n",
    "\n",
    "        # vlines\n",
    "        ax2.vlines(0, ymin=-w1, ymax=w1)\n",
    "        ax2.vlines(d_trap, ymin=-0.43, ymax=0.43)\n",
    "\n",
    "        ##########################################################################################\n",
    "\n",
    "        plt.tight_layout()\n",
    "\n",
    "        ##########################################################################################\n",
    "        log_file.write(\n",
    "            \"##########################################################################################\\n\"\n",
    "        )\n",
    "        log_file.write(\n",
    "            \"##########################################################################################\\n\\n\"\n",
    "        )\n",
    "\n",
    "        log_file.close()\n",
    "        ##########################################################################################\n",
    "        self.save_name.value = f\"THz_simulation_{l1[0]}-{l3[-1]} GHz_{to_use}\"\n",
    "\n",
    "\n",
    "run = simulation()"
   ]
  },
  {
   "cell_type": "code",
   "execution_count": 9,
   "metadata": {},
   "outputs": [
    {
     "data": {
      "application/vnd.jupyter.widget-view+json": {
       "model_id": "8d35747f31654c7e81308d22dd36bf8a",
       "version_major": 2,
       "version_minor": 0
      },
      "text/plain": [
       "Text(value='1- 2', layout=Layout(width='100px'))"
      ]
     },
     "metadata": {},
     "output_type": "display_data"
    },
    {
     "data": {
      "application/vnd.jupyter.widget-view+json": {
       "model_id": "045994543e5d4ba9a0e0bec5b1feda3a",
       "version_major": 2,
       "version_minor": 0
      },
      "text/plain": [
       "Output()"
      ]
     },
     "metadata": {},
     "output_type": "display_data"
    }
   ],
   "source": [
    "def func(t):\n",
    "    print(t, type(t))\n",
    "    temp = tuple(np.array(t.split(\"-\"), dtype=np.int))\n",
    "    print(temp, type(temp))\n",
    "\n",
    "t1 = Text(value=\"1- 2\", layout={\"width\": \"100px\"})\n",
    "out = interactive_output(func, {\"t\":t1})\n",
    "\n",
    "display(t1, out)"
   ]
  },
  {
   "cell_type": "code",
   "execution_count": 10,
   "metadata": {},
   "outputs": [
    {
     "data": {
      "text/plain": [
       "'D:\\\\FELion-Spectrum-Analyser\\\\Simulations\\\\THz'"
      ]
     },
     "execution_count": 10,
     "metadata": {},
     "output_type": "execute_result"
    }
   ],
   "source": [
    "os.getcwd()"
   ]
  },
  {
   "cell_type": "code",
   "execution_count": 30,
   "metadata": {},
   "outputs": [],
   "source": [
    "M1 = 0.15/0.34\n"
   ]
  },
  {
   "cell_type": "code",
   "execution_count": 50,
   "metadata": {},
   "outputs": [
    {
     "data": {
      "image/png": "[encoded data removed]",
      "text/latex": [
       "$$\\left ( -15.959119692151225, \\quad 6.292094987532539\\right )$$"
      ],
      "text/plain": [
       "(-15.959119692151225, 6.292094987532539)"
      ]
     },
     "execution_count": 50,
     "metadata": {},
     "output_type": "execute_result"
    }
   ],
   "source": [
    "M1 = 0.15 / 0.34\n",
    "zc_1 = np.pi * 0.34 ** 2 / ghz_cm(325)\n",
    "\n",
    "f_positive = float(fm.subs({d_in: 20, E: (1 - M1 ** -2), Z_r: zc_1}).rhs)\n",
    "f_negative = float(fp.subs({d_in: 20, E: (1 - M1 ** -2), Z_r: zc_1}).rhs)\n",
    "\n",
    "temp_f0 = (np.pi * 0.15 * 0.34) / ghz_cm(325)\n",
    "\n",
    "f_negative, f_positive"
   ]
  },
  {
   "cell_type": "code",
   "execution_count": 55,
   "metadata": {},
   "outputs": [
    {
     "data": {
      "image/png": "[encoded data removed]",
      "text/latex": [
       "$$\\left ( \\left [ 19.999999999999996, \\quad 19.836562865814088, \\quad 19.650118357154998, \\quad 19.439687715616554, \\quad 19.20409826767325\\right ], \\quad \\left [ 8.960156084249821, \\quad 8.928345223357233, \\quad 8.892056283523068, \\quad 8.851098762462385, \\quad 8.805244414895565\\right ]\\right )$$"
      ],
      "text/plain": [
       "([19.999999999999996, 19.836562865814088, 19.650118357154998, 19.4396877156165\n",
       "54, 19.20409826767325], [8.960156084249821, 8.928345223357233, 8.8920562835230\n",
       "68, 8.851098762462385, 8.805244414895565])"
      ]
     },
     "execution_count": 55,
     "metadata": {},
     "output_type": "execute_result"
    },
    {
     "data": {
      "image/png": "[encoded data removed]",
      "text/plain": [
       "<Figure size 432x288 with 2 Axes>"
      ]
     },
     "metadata": {
      "needs_background": "light"
     },
     "output_type": "display_data"
    }
   ],
   "source": [
    "f_1 = f_positive\n",
    "temp_d1 = [float(eq_din_p.subs({M: M1, f0: (np.pi * 0.15 * 0.34) / ghz_cm(i), f: f_1}).rhs) for i in np.linspace(325, 500, 5)]\n",
    "temp_d2 = [float(eq_dout_p.subs({M: M1, f0: (np.pi * 0.15 * 0.34) / ghz_cm(i), f: f_1}).rhs) for i in np.linspace(325, 500, 5)]\n",
    "\n",
    "fig, ax = plt.subplots()\n",
    "ax.plot(np.linspace(325, 500, 5), temp_d1)\n",
    "ax.twinx().plot(np.linspace(325, 500, 5), temp_d2)\n",
    "\n",
    "temp_d1, temp_d2"
   ]
  },
  {
   "cell_type": "code",
   "execution_count": 56,
   "metadata": {},
   "outputs": [
    {
     "data": {
      "image/png": "[encoded data removed]",
      "text/latex": [
       "$$\\left ( \\left [ 20.0, \\quad 19.938014445679727, \\quad 19.86808250878832, \\quad 19.790157555748415, \\quad 19.704187191955747\\right ], \\quad \\left [ -8.960156084249821, \\quad -8.972220746639147, \\quad -8.985832066535831, \\quad -9.000999120544463, \\quad -9.017732106576773\\right ]\\right )$$"
      ],
      "text/plain": [
       "([20.0, 19.938014445679727, 19.86808250878832, 19.790157555748415, 19.70418719\n",
       "1955747], [-8.960156084249821, -8.972220746639147, -8.985832066535831, -9.0009\n",
       "99120544463, -9.017732106576773])"
      ]
     },
     "execution_count": 56,
     "metadata": {},
     "output_type": "execute_result"
    },
    {
     "data": {
      "image/png": "[encoded data removed]",
      "text/plain": [
       "<Figure size 432x288 with 2 Axes>"
      ]
     },
     "metadata": {
      "needs_background": "light"
     },
     "output_type": "display_data"
    }
   ],
   "source": [
    "f_1 = f_negative\n",
    "temp_d1 = [float(eq_din_p.subs({M: M1, f0: (np.pi * 0.15 * 0.34) / ghz_cm(i), f: f_1}).rhs) for i in np.linspace(325, 500, 5)]\n",
    "temp_d2 = [float(eq_dout_p.subs({M: M1, f0: (np.pi * 0.15 * 0.34) / ghz_cm(i), f: f_1}).rhs) for i in np.linspace(325, 500, 5)]\n",
    "\n",
    "fig, ax = plt.subplots()\n",
    "ax.plot(np.linspace(325, 500, 5), temp_d1)\n",
    "ax.twinx().plot(np.linspace(325, 500, 5), temp_d2)\n",
    "\n",
    "temp_d1, temp_d2"
   ]
  },
  {
   "cell_type": "code",
   "execution_count": 57,
   "metadata": {},
   "outputs": [
    {
     "data": {
      "image/png": "[encoded data removed]",
      "text/latex": [
       "$$\\left ( \\left [ 20.0, \\quad 19.938014445679727, \\quad 19.86808250878832, \\quad 19.790157555748415, \\quad 19.704187191955747\\right ], \\quad \\left [ 8.960156084249821, \\quad 8.928345223357233, \\quad 8.892056283523068, \\quad 8.851098762462385, \\quad 8.805244414895565\\right ]\\right )$$"
      ],
      "text/plain": [
       "([20.0, 19.938014445679727, 19.86808250878832, 19.790157555748415, 19.70418719\n",
       "1955747], [8.960156084249821, 8.928345223357233, 8.892056283523068, 8.85109876\n",
       "2462385, 8.805244414895565])"
      ]
     },
     "execution_count": 57,
     "metadata": {},
     "output_type": "execute_result"
    },
    {
     "data": {
      "image/png": "[encoded data removed]",
      "text/plain": [
       "<Figure size 432x288 with 2 Axes>"
      ]
     },
     "metadata": {
      "needs_background": "light"
     },
     "output_type": "display_data"
    }
   ],
   "source": [
    "temp_d1 = [float(eq_din_p.subs({M: M1, f0: (np.pi * 0.15 * 0.34) / ghz_cm(i), f: f_negative}).rhs) for i in np.linspace(325, 500, 5)]\n",
    "temp_d2 = [float(eq_dout_p.subs({M: M1, f0: (np.pi * 0.15 * 0.34) / ghz_cm(i), f: f_positive}).rhs) for i in np.linspace(325, 500, 5)]\n",
    "\n",
    "fig, ax = plt.subplots()\n",
    "ax.plot(np.linspace(325, 500, 5), temp_d1)\n",
    "ax.twinx().plot(np.linspace(325, 500, 5), temp_d2)\n",
    "\n",
    "temp_d1, temp_d2"
   ]
  },
  {
   "cell_type": "code",
   "execution_count": 72,
   "metadata": {},
   "outputs": [
    {
     "data": {
      "image/png": "[encoded data removed]",
      "text/latex": [
       "$$\\left ( \\left [ 20.0, \\quad 19.66486562800582, \\quad 19.17008127190332, \\quad 18.508772321735506, \\quad 17.671116533823188\\right ], \\quad \\left [ 19.999999999999996, \\quad 19.095090765362713, \\quad 17.64591069720933, \\quad 15.396157304835132, \\quad 11.375515038169134\\right ]\\right )$$"
      ],
      "text/plain": [
       "([20.0, 19.66486562800582, 19.17008127190332, 18.508772321735506, 17.671116533\n",
       "823188], [19.999999999999996, 19.095090765362713, 17.64591069720933, 15.396157\n",
       "304835132, 11.375515038169134])"
      ]
     },
     "execution_count": 72,
     "metadata": {},
     "output_type": "execute_result"
    }
   ],
   "source": [
    "[float(eq_din_p.subs({M: M1, f0: (np.pi * 0.15 * 0.34) / ghz_cm(i), f: f_negative}).rhs) for i in np.linspace(325, 1100, 5)], [float(eq_din_p.subs({M: M1, f0: (np.pi * 0.15 * 0.34) / ghz_cm(i), f: f_positive}).rhs) for i in np.linspace(325, 1100, 5)]"
   ]
  },
  {
   "cell_type": "code",
   "execution_count": null,
   "metadata": {},
   "outputs": [],
   "source": []
  },
  {
   "cell_type": "code",
   "execution_count": null,
   "metadata": {},
   "outputs": [],
   "source": []
  },
  {
   "cell_type": "code",
   "execution_count": null,
   "metadata": {},
   "outputs": [],
   "source": []
  }
 ],
 "metadata": {
  "kernelspec": {
   "display_name": "Python 3",
   "language": "python",
   "name": "python3"
  },
  "language_info": {
   "codemirror_mode": {
    "name": "ipython",
    "version": 3
   },
   "file_extension": ".py",
   "mimetype": "text/x-python",
   "name": "python",
   "nbconvert_exporter": "python",
   "pygments_lexer": "ipython3",
   "version": "3.7.3"
  }
 },
 "nbformat": 4,
 "nbformat_minor": 2
}
