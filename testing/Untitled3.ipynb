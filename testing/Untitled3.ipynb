{
 "cells": [
  {
   "cell_type": "code",
   "execution_count": 24,
   "metadata": {},
   "outputs": [
    {
     "data": {
      "text/plain": [
       "array([[3],\n",
       "       [4],\n",
       "       [5]], dtype=int64)"
      ]
     },
     "execution_count": 24,
     "metadata": {},
     "output_type": "execute_result"
    }
   ],
   "source": [
    "import numpy as np\n",
    "a = np.array([1, 3, 5, 6, 9, 10, 14, 15, 56])\n",
    "np.argwhere((a>=6) & (a<=10))"
   ]
  },
  {
   "cell_type": "code",
   "execution_count": 73,
   "metadata": {},
   "outputs": [
    {
     "name": "stdout",
     "output_type": "stream",
     "text": [
      "<matplotlib.lines.Line2D object at 0x0000024C37E6FF28>\t[<matplotlib.lines.Line2D object at 0x0000024C37E6FF28>]\n"
     ]
    },
    {
     "data": {
      "image/png": "[encoded data removed]",
      "text/plain": [
       "<Figure size 432x288 with 1 Axes>"
      ]
     },
     "metadata": {
      "needs_background": "light"
     },
     "output_type": "display_data"
    }
   ],
   "source": [
    "from matplotlib.figure import Figure\n",
    "import matplotlib.pyplot as plt\n",
    "fig = plt.figure()\n",
    "ax = fig.add_subplot(111)\n",
    "\n",
    "t = np.arange(0, 3, .01)\n",
    "l, = ax.plot(t, 2 * np.sin(2 * np.pi * t))\n",
    "print(f'{l!r}\\t{ax.lines!r}')\n",
    "ax.lines[0]"
   ]
  },
  {
   "cell_type": "code",
   "execution_count": 93,
   "metadata": {},
   "outputs": [
    {
     "name": "stdout",
     "output_type": "stream",
     "text": [
      "<class 'list'> (3,) [list([1, 2, 3, 4]) list([5, 6, 7, 8]) list([9, 10, 11])]\n"
     ]
    },
    {
     "data": {
      "text/plain": [
       "array([list([1, 2, 3, 4]), list([5, 6, 7, 8]), list([9, 10, 11]), 1],\n",
       "      dtype=object)"
      ]
     },
     "execution_count": 93,
     "metadata": {},
     "output_type": "execute_result"
    }
   ],
   "source": [
    "arr = np.array([[1,2,3,4], [5,6,7,8], [9,10,11]])\n",
    "print(type(arr[0]), arr.shape, arr)\n",
    "np.append(arr, 1,)"
   ]
  },
  {
   "cell_type": "code",
   "execution_count": null,
   "metadata": {},
   "outputs": [],
   "source": []
  },
  {
   "cell_type": "code",
   "execution_count": 6,
   "metadata": {},
   "outputs": [
    {
     "name": "stdout",
     "output_type": "stream",
     "text": [
      "Filename\n",
      "dfvfdvf\n",
      "cfdvdfv\n",
      "cfdvdfv\n",
      "cfdvdfv\n",
      "cfdvdfv\n",
      "cfdvdfv\n",
      "cfdvdfv\n",
      "cfdvdfv\n",
      "cfdvdfv\n",
      "cfdvdfv\n",
      "cfdvdfv\n"
     ]
    }
   ],
   "source": [
    "def top(root):\n",
    "    \n",
    "    root = Toplevel(master = root)\n",
    "    root.wm_title(\"Embedding in Tk\")\n",
    "    root.wm_geometry('600x600')\n",
    "    \n",
    "    ############################# PLOTTING #############################\n",
    "    \n",
    "    fig = Figure(figsize=(5, 4), dpi=100)\n",
    "    ax = fig.add_subplot(111)\n",
    "    \n",
    "    t = np.arange(0, 3, .01)\n",
    "    ax.plot(t, 2 * np.sin(2 * np.pi * t))\n",
    "    ####################################################################\n",
    "    \n",
    "    canvas = FigureCanvasTkAgg(fig, master=root)  # A tk.DrawingArea.\n",
    "    canvas.draw()\n",
    "    canvas.get_tk_widget().pack(side=TOP, fill=BOTH, expand=1)\n",
    "\n",
    "    toolbar = NavigationToolbar2Tk(canvas, root)\n",
    "    toolbar.update()\n",
    "    canvas.get_tk_widget().pack(side=TOP, fill=BOTH, expand=1)\n",
    "\n",
    "    def on_key_press(event):\n",
    "        key_press_handler(event, canvas, toolbar)\n",
    "        \n",
    "    canvas.mpl_connect(\"key_press_event\", on_key_press)\n",
    "    \n",
    "    frame = Frame(root, bg = 'light grey', bd = 5)\n",
    "    frame.pack(side = 'bottom', fill = 'both', expand = True)\n",
    "    \n",
    "    label1 = Label(frame, text = 'Save as')\n",
    "    label1.pack(side = 'left', padx = 15, ipadx = 10, ipady = 5)\n",
    "    \n",
    "    name = StringVar()\n",
    "    name.set('Filename')\n",
    "    entry1 = Entry(frame, textvariable = name, bd = 5)\n",
    "    entry1.pack(side = 'left', ipadx = 10, ipady = 5)\n",
    "    \n",
    "    def func(x):\n",
    "        print(x)\n",
    "    \n",
    "    button1 = Button(frame, text = 'Print', command = lambda: func(name.get()))\n",
    "    button1.pack(side = 'left', padx = 15, ipadx = 10, ipady = 5)\n",
    "    \n",
    "    root.mainloop()\n",
    "    \n",
    "    \n",
    "# main window\n",
    "class Application(ttk.Frame):\n",
    "\n",
    "    def __init__(self, master):\n",
    "        ttk.Frame.__init__(self, master)\n",
    "        self.pack()\n",
    "        self.button_bonus = ttk.Button(self, text=\"Bonuses\", command = lambda: top(master))\n",
    "        self.button_bonus.pack(side = 'bottom')\n",
    "\n",
    "root = Tk()\n",
    "root.geometry('400x400')\n",
    "app = Application(root)\n",
    "root.mainloop()"
   ]
  },
  {
   "cell_type": "code",
   "execution_count": 3,
   "metadata": {},
   "outputs": [
    {
     "data": {
      "text/plain": [
       "['power.png', 'restart.png', 'x.png']"
      ]
     },
     "execution_count": 3,
     "metadata": {},
     "output_type": "execute_result"
    }
   ],
   "source": [
    "import os\n",
    "os.getcwd()\n",
    "import glob\n",
    "glob.glob('*.png')"
   ]
  },
  {
   "cell_type": "code",
   "execution_count": null,
   "metadata": {},
   "outputs": [],
   "source": []
  },
  {
   "cell_type": "code",
   "execution_count": null,
   "metadata": {},
   "outputs": [],
   "source": []
  },
  {
   "cell_type": "code",
   "execution_count": null,
   "metadata": {},
   "outputs": [],
   "source": []
  },
  {
   "cell_type": "code",
   "execution_count": null,
   "metadata": {},
   "outputs": [],
   "source": []
  },
  {
   "cell_type": "code",
   "execution_count": null,
   "metadata": {},
   "outputs": [],
   "source": []
  },
  {
   "cell_type": "code",
   "execution_count": null,
   "metadata": {},
   "outputs": [],
   "source": []
  },
  {
   "cell_type": "code",
   "execution_count": null,
   "metadata": {},
   "outputs": [],
   "source": []
  },
  {
   "cell_type": "code",
   "execution_count": null,
   "metadata": {},
   "outputs": [],
   "source": []
  },
  {
   "cell_type": "code",
   "execution_count": null,
   "metadata": {},
   "outputs": [],
   "source": []
  },
  {
   "cell_type": "code",
   "execution_count": null,
   "metadata": {},
   "outputs": [],
   "source": []
  },
  {
   "cell_type": "code",
   "execution_count": null,
   "metadata": {},
   "outputs": [],
   "source": []
  },
  {
   "cell_type": "code",
   "execution_count": null,
   "metadata": {},
   "outputs": [],
   "source": []
  },
  {
   "cell_type": "code",
   "execution_count": null,
   "metadata": {},
   "outputs": [],
   "source": []
  },
  {
   "cell_type": "code",
   "execution_count": null,
   "metadata": {},
   "outputs": [],
   "source": []
  },
  {
   "cell_type": "code",
   "execution_count": null,
   "metadata": {},
   "outputs": [],
   "source": []
  },
  {
   "cell_type": "code",
   "execution_count": null,
   "metadata": {},
   "outputs": [],
   "source": []
  }
 ],
 "metadata": {
  "kernelspec": {
   "display_name": "Python 3",
   "language": "python",
   "name": "python3"
  },
  "language_info": {
   "codemirror_mode": {
    "name": "ipython",
    "version": 3
   },
   "file_extension": ".py",
   "mimetype": "text/x-python",
   "name": "python",
   "nbconvert_exporter": "python",
   "pygments_lexer": "ipython3",
   "version": "3.7.0"
  }
 },
 "nbformat": 4,
 "nbformat_minor": 2
}
