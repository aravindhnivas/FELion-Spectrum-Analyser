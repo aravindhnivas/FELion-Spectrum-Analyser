{
 "cells": [
  {
   "cell_type": "code",
   "execution_count": 1,
   "metadata": {},
   "outputs": [],
   "source": [
    "from tkinter import *\n",
    "from tkinter import ttk, messagebox\n",
    "from tkinter.filedialog import askopenfilenames, askopenfilename"
   ]
  },
  {
   "cell_type": "code",
   "execution_count": 21,
   "metadata": {},
   "outputs": [],
   "source": [
    "#################### constants ###############################\n",
    "\n",
    "constants = {\n",
    "    'width':50,\n",
    "    'height':50,\n",
    "    'font':('Times 12 bold'),\n",
    "    'bg':'white',\n",
    "    'bd':5,\n",
    "    'anchor':'w',\n",
    "    'relief':SOLID,\n",
    "}\n",
    "##############################################################\n",
    "##############################################################\n",
    "\n",
    "#################### Variables ###############################\n",
    "\n",
    "felix_files_type = (\"Felix Files\", \"*.felix\")\n",
    "mass_files_type = (\"Mass Files\", \"*.mass\")\n",
    "time_files_type = (\"Timescan Files\", \"*.scan\")\n",
    "pow_files_type = (\"Pow Files\", \"*.pow\")\n",
    "all_files_type = (\"All files\", \"*\")\n",
    "##############################################################\n",
    "##############################################################\n",
    "\n",
    "#################### Definitions #############################\n",
    "\n",
    "def var_check(kw):\n",
    "    for i in constants:\n",
    "        if not i in list(kw.keys()):\n",
    "            kw[i] = constants[i]\n",
    "    return kw\n",
    "\n",
    "##############################################################\n",
    "##############################################################"
   ]
  },
  {
   "cell_type": "code",
   "execution_count": null,
   "metadata": {},
   "outputs": [],
   "source": []
  },
  {
   "cell_type": "code",
   "execution_count": 22,
   "metadata": {},
   "outputs": [],
   "source": [
    "class FELion(Tk):\n",
    "\n",
    "    def __init__(self, *args, **kwargs):\n",
    "        \n",
    "        Tk.__init__(self, *args, **kwargs)\n",
    "        Tk.wm_geometry(self, '400x400')\n",
    "        container = Frame(self)\n",
    "\n",
    "        container.pack(side=\"top\", fill=\"both\", expand = True)\n",
    "\n",
    "        container.grid_rowconfigure(0, weight=1)\n",
    "        container.grid_columnconfigure(0, weight=1)\n",
    "        \n",
    "        self.frames = {}\n",
    "\n",
    "        for F in (StartPage,):\n",
    "\n",
    "            frame = F(container, self)\n",
    "\n",
    "            self.frames[F] = frame\n",
    "\n",
    "            frame.grid(row=0, column=0, sticky=\"nsew\")\n",
    "\n",
    "        self.show_frame(StartPage)\n",
    "\n",
    "    def show_frame(self, cont):\n",
    "\n",
    "        frame = self.frames[cont]\n",
    "        frame.tkraise()"
   ]
  },
  {
   "cell_type": "code",
   "execution_count": 23,
   "metadata": {},
   "outputs": [],
   "source": [
    "class Entry_widgets(Frame):\n",
    "    \n",
    "    def __init__(self, parent, method,  *args, **kw):\n",
    "        Frame.__init__(self, parent)\n",
    "        self.parent = parent\n",
    "        self.txt, x, y = args[0], args[1], args[2]\n",
    "        kw = var_check(kw)\n",
    "        \n",
    "        if method == 'Entry':\n",
    "            if isinstance(self.txt, str): self.value = StringVar()\n",
    "            elif isinstance(self.txt, int): self.value = IntVar()\n",
    "                \n",
    "            self.value.set(self.txt)\n",
    "            self.entry = Entry(self.parent, bg = kw['bg'], bd = kw['bd'], textvariable = self.value, font = kw['font'])\n",
    "            self.entry.place(relx = x, rely = y, anchor = kw['anchor'], width = kw['width'], height = kw['height'])\n",
    "                \n",
    "        elif method == 'Check':\n",
    "            self.value = BooleanVar()\n",
    "            if 'default' in kw: self.value.set(kw['default'])\n",
    "            else: self.value.set(False)\n",
    "                \n",
    "            Check = ttk.Checkbutton(self.parent, text = self.txt, variable = self.value)\n",
    "            Check.place(relx = x, rely = y, width = kw['width'], height = kw['height'])\n",
    "     \n",
    "    def get(self):\n",
    "        return self.value.get()"
   ]
  },
  {
   "cell_type": "code",
   "execution_count": 24,
   "metadata": {},
   "outputs": [],
   "source": [
    "class FELion_widgets(Frame):\n",
    "    \n",
    "    def __init__(self, parent):\n",
    "        Frame.__init__(self, parent)\n",
    "        \n",
    "        ## Initial parameters:\n",
    "        self.parent = parent\n",
    "        self.location = \"/\"\n",
    "        self.fname = \"\"\n",
    "        self.filelist = []\n",
    "              \n",
    "    def labels(self, *args, **kw):\n",
    "        self.txt = args[0]\n",
    "        x, y = args[1], args[2]\n",
    "        kw = var_check(kw)\n",
    "        \n",
    "        self.label = Label(self.parent, text = self.txt, font = kw['font'], bg = kw['bg'], bd = kw['bd'], relief = kw['relief'])\n",
    "        self.label.place(relx = x, rely = y, anchor = kw['anchor'], width = kw['width'], height = kw['height'])\n",
    "    \n",
    "    def buttons(self, *args, **kw):\n",
    "        btn_txt = args[0]\n",
    "        x, y = args[1], args[2]\n",
    "        func = args[3]\n",
    "        kw = var_check(kw)\n",
    "        \n",
    "        self.button = ttk.Button(self.parent, text = btn_txt, command = lambda: func())\n",
    "        self.button.place(relx = x, rely = y, width = kw['width'], height = kw['height'])\n",
    "\n",
    "    def open_dir(self, file_type):\n",
    "        root = Tk()\n",
    "        root.withdraw()\n",
    "\n",
    "        root.filename =  askopenfilename(initialdir = self.location, title = \"Select file\", filetypes = (file_type, (\"all files\",\"*.*\")))\n",
    "        filename = root.filename\n",
    "        filename = filename.split(\"/\")\n",
    "\n",
    "        self.fname = filename[-1]\n",
    "        del filename[-1]\n",
    "        \n",
    "        self.location = \"/\".join(filename)\n",
    "        root.destroy()\n",
    "        \n",
    "        return self.fname, self.location\n",
    "\n",
    "    def openfilelist(self, file_type):\n",
    "        self.filelist = [] # to prevent appending previously selected files\n",
    "        self.openlist = askopenfilenames(initialdir=self.location, initialfile='tmp',\n",
    "                        filetypes=[file_type, (\"All files\", \"*\")])\n",
    "\n",
    "        for i in self.openlist:\n",
    "            location = i.split(\"/\")\n",
    "            file = location[-1]\n",
    "            self.filelist.append(file)\n",
    "            del location[-1]\n",
    "            self.location = \"/\".join(location)\n",
    "\n",
    "        return self.filelist, self.location"
   ]
  },
  {
   "cell_type": "code",
   "execution_count": 53,
   "metadata": {},
   "outputs": [
    {
     "ename": "AttributeError",
     "evalue": "'StartPage' object has no attribute 'mname'",
     "output_type": "error",
     "traceback": [
      "\u001b[1;31m---------------------------------------------------------------------------\u001b[0m",
      "\u001b[1;31mAttributeError\u001b[0m                            Traceback (most recent call last)",
      "\u001b[1;32m<ipython-input-53-009059342c92>\u001b[0m in \u001b[0;36m<module>\u001b[1;34m()\u001b[0m\n\u001b[0;32m     39\u001b[0m \u001b[1;33m\u001b[0m\u001b[0m\n\u001b[0;32m     40\u001b[0m \u001b[1;33m\u001b[0m\u001b[0m\n\u001b[1;32m---> 41\u001b[1;33m \u001b[0mroot\u001b[0m \u001b[1;33m=\u001b[0m \u001b[0mFELion\u001b[0m\u001b[1;33m(\u001b[0m\u001b[1;33m)\u001b[0m\u001b[1;33m\u001b[0m\u001b[0m\n\u001b[0m\u001b[0;32m     42\u001b[0m \u001b[1;33m\u001b[0m\u001b[0m\n\u001b[0;32m     43\u001b[0m \u001b[0mroot\u001b[0m\u001b[1;33m.\u001b[0m\u001b[0mmainloop\u001b[0m\u001b[1;33m(\u001b[0m\u001b[1;33m)\u001b[0m\u001b[1;33m\u001b[0m\u001b[0m\n",
      "\u001b[1;32m<ipython-input-22-1da911a04753>\u001b[0m in \u001b[0;36m__init__\u001b[1;34m(self, *args, **kwargs)\u001b[0m\n\u001b[0;32m     16\u001b[0m         \u001b[1;32mfor\u001b[0m \u001b[0mF\u001b[0m \u001b[1;32min\u001b[0m \u001b[1;33m(\u001b[0m\u001b[0mStartPage\u001b[0m\u001b[1;33m,\u001b[0m\u001b[1;33m)\u001b[0m\u001b[1;33m:\u001b[0m\u001b[1;33m\u001b[0m\u001b[0m\n\u001b[0;32m     17\u001b[0m \u001b[1;33m\u001b[0m\u001b[0m\n\u001b[1;32m---> 18\u001b[1;33m             \u001b[0mframe\u001b[0m \u001b[1;33m=\u001b[0m \u001b[0mF\u001b[0m\u001b[1;33m(\u001b[0m\u001b[0mcontainer\u001b[0m\u001b[1;33m,\u001b[0m \u001b[0mself\u001b[0m\u001b[1;33m)\u001b[0m\u001b[1;33m\u001b[0m\u001b[0m\n\u001b[0m\u001b[0;32m     19\u001b[0m \u001b[1;33m\u001b[0m\u001b[0m\n\u001b[0;32m     20\u001b[0m             \u001b[0mself\u001b[0m\u001b[1;33m.\u001b[0m\u001b[0mframes\u001b[0m\u001b[1;33m[\u001b[0m\u001b[0mF\u001b[0m\u001b[1;33m]\u001b[0m \u001b[1;33m=\u001b[0m \u001b[0mframe\u001b[0m\u001b[1;33m\u001b[0m\u001b[0m\n",
      "\u001b[1;32m<ipython-input-53-009059342c92>\u001b[0m in \u001b[0;36m__init__\u001b[1;34m(self, parent, controller)\u001b[0m\n\u001b[0;32m     21\u001b[0m         \u001b[1;31m#entry1 = {self.mname:1, self.temp:2, self.bwidth:3, self.ie:4}\u001b[0m\u001b[1;33m\u001b[0m\u001b[1;33m\u001b[0m\u001b[0m\n\u001b[0;32m     22\u001b[0m         \u001b[1;31m#print(entry1.keys())\u001b[0m\u001b[1;33m\u001b[0m\u001b[1;33m\u001b[0m\u001b[0m\n\u001b[1;32m---> 23\u001b[1;33m         \u001b[0mk\u001b[0m \u001b[1;33m=\u001b[0m \u001b[1;33m{\u001b[0m\u001b[0mself\u001b[0m\u001b[1;33m.\u001b[0m\u001b[0mmname\u001b[0m\u001b[1;33m:\u001b[0m \u001b[1;36m1\u001b[0m\u001b[1;33m}\u001b[0m\u001b[1;33m\u001b[0m\u001b[0m\n\u001b[0m\u001b[0;32m     24\u001b[0m \u001b[1;33m\u001b[0m\u001b[0m\n\u001b[0;32m     25\u001b[0m     \u001b[1;32mdef\u001b[0m \u001b[0mtest_func1\u001b[0m\u001b[1;33m(\u001b[0m\u001b[0mself\u001b[0m\u001b[1;33m)\u001b[0m\u001b[1;33m:\u001b[0m\u001b[1;33m\u001b[0m\u001b[0m\n",
      "\u001b[1;31mAttributeError\u001b[0m: 'StartPage' object has no attribute 'mname'"
     ]
    }
   ],
   "source": [
    "class StartPage(Frame):\n",
    "    def __init__(self, parent, controller):\n",
    "        Frame.__init__(self, parent)\n",
    "        self.widget = FELion_widgets(self)\n",
    "        \n",
    "        # Creating labels\n",
    "        self.widget.labels('First Name: ', 0.1, 0.1, font = 'Times 12 italic', width = 100, bd = 1, relief = SOLID)\n",
    "        self.widget.labels('Last Name: ', 0.1, 0.2, font = 'Times 12 italic', width = 100)\n",
    "\n",
    "        #Creating Entry widgets\n",
    "        self.firstName = Entry_widgets(self,'Entry',  'John ', 0.4, 0.1, height = 25, width = 100)\n",
    "        self.lastName = Entry_widgets(self,'Entry', 'Doe', 0.4, 0.2, height = 25, width = 100)\n",
    "        \n",
    "        #Creating buttons\n",
    "        self.widget.buttons('Print', 0.2, 0.5, self.test_func1)\n",
    "        self.widget.buttons('Open', 0.4, 0.5, self.filelists)\n",
    "        \n",
    "        # Check_button widget\n",
    "        self.check1 = Entry_widgets(self,'Check', 'plot', 0.1, 0.7, default = True)\n",
    "        \n",
    "    def test_func1(self):\n",
    "        test_func(self.firstName.get(), self.lastName.get())\n",
    "        print(self.check1.get())\n",
    "        print(self.radio1.get())\n",
    "    \n",
    "    def filename_location(self):\n",
    "        \n",
    "        self.fname, self.location = self.widget.open_dir(pow_files_type)\n",
    "        print('Filename: %s \\nLocation: %s \\n'%(self.fname, self.location))\n",
    "    \n",
    "    def filelists(self):\n",
    "        \n",
    "        self.filelists, self.location = self.widget.openfilelist(all_files_type)\n",
    "        print('Filelists: {}, \\nLocation: {}'.format(self.filelists, self.location))\n",
    "        \n",
    "            \n",
    "root = FELion()\n",
    "\n",
    "root.mainloop()"
   ]
  },
  {
   "cell_type": "code",
   "execution_count": 6,
   "metadata": {},
   "outputs": [],
   "source": [
    "def test_func(f, l):\n",
    "    print('Hey ', f + l)"
   ]
  },
  {
   "cell_type": "code",
   "execution_count": 37,
   "metadata": {},
   "outputs": [
    {
     "data": {
      "text/plain": [
       "(array([0.54718766, 0.60890912, 0.90687856, 0.03951962, 0.54069073,\n",
       "        0.14344658, 0.66689994, 0.69492885, 0.95627704, 0.24391349]),\n",
       " array([0.03951962, 0.54069073, 0.14344658, 0.66689994, 0.69492885,\n",
       "        0.95627704, 0.24391349]))"
      ]
     },
     "execution_count": 37,
     "metadata": {},
     "output_type": "execute_result"
    }
   ],
   "source": [
    "import numpy as np\n",
    "temp = np.random.rand(10)\n",
    "temp, temp[3:]"
   ]
  },
  {
   "cell_type": "code",
   "execution_count": 65,
   "metadata": {},
   "outputs": [
    {
     "name": "stdout",
     "output_type": "stream",
     "text": [
      "mname <class 'str'>\n",
      "None\n",
      "temp <class 'str'>\n",
      "None\n",
      "bwidth <class 'str'>\n",
      "None\n",
      "ie <class 'str'>\n",
      "None\n"
     ]
    }
   ],
   "source": [
    "k = {'mname':None, 'temp':None, 'bwidth':None, 'ie':None}\n",
    "list(k.keys()), list(k.values())\n",
    "\n",
    "for i in k:\n",
    "    print(i, type(i))\n",
    "    print(k[i])"
   ]
  },
  {
   "cell_type": "code",
   "execution_count": 7,
   "metadata": {},
   "outputs": [
    {
     "data": {
      "text/plain": [
       "True"
      ]
     },
     "execution_count": 7,
     "metadata": {},
     "output_type": "execute_result"
    }
   ],
   "source": [
    "temp = 1,\n",
    "isinstance(temp, tuple)"
   ]
  }
 ],
 "metadata": {
  "kernelspec": {
   "display_name": "Python 3",
   "language": "python",
   "name": "python3"
  },
  "language_info": {
   "codemirror_mode": {
    "name": "ipython",
    "version": 3
   },
   "file_extension": ".py",
   "mimetype": "text/x-python",
   "name": "python",
   "nbconvert_exporter": "python",
   "pygments_lexer": "ipython3",
   "version": "3.7.1"
  }
 },
 "nbformat": 4,
 "nbformat_minor": 2
}
