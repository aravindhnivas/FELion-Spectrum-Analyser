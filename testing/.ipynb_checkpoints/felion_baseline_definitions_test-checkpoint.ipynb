{
 "cells": [
  {
   "cell_type": "code",
   "execution_count": 196,
   "metadata": {},
   "outputs": [],
   "source": [
    "import matplotlib.pyplot as plt\n",
    "import numpy as np\n",
    "\n",
    "from matplotlib.lines import Line2D"
   ]
  },
  {
   "cell_type": "code",
   "execution_count": 142,
   "metadata": {
    "scrolled": false
   },
   "outputs": [],
   "source": [
    "filename = \"./_datas/felixfile.felix\"\n",
    "data = np.genfromtxt(filename)\n",
    "wn, count, sa = data[:,0], data[:,2], data[:,3]\n",
    "\n",
    "temp = data[:,0], data[:,2], data[:,3]\n",
    "res = np.take(temp, temp[0].argsort(), 1)"
   ]
  },
  {
   "cell_type": "code",
   "execution_count": 143,
   "metadata": {},
   "outputs": [],
   "source": [
    "def felix_read_file_original(fname):\n",
    "    \"\"\"\n",
    "    Reads data from felix meassurement file\n",
    "    Input: filename\n",
    "    Output: data[0,1]   0 - wavenumber, 1 - intensity\n",
    "    \"\"\"\n",
    "    \n",
    "    sa_factor = 1.0\n",
    "    #open file and skip sharps\n",
    "    wl, cnt, sa = [],[],[]\n",
    "    f = open(fname)\n",
    "    for line in f:\n",
    "        if line[0] == '#':\n",
    "            if line.find(\"3HARM\")==1:\n",
    "                sa_factor=2.0\n",
    "            continue\n",
    "        else:\n",
    "            if len(line.split()) < 4: continue;\n",
    "            x, y, z, q, *rest = line.split()\n",
    "            wl.append(float(x))\n",
    "            cnt.append(float(z))\n",
    "            sa.append(float(q)*sa_factor)\n",
    "    \n",
    "    f.close()\n",
    "    data = np.array([wl, cnt, sa])\n",
    "\n",
    "    indices = data[0].argsort()\n",
    "    wl_min_f = data[0][indices[0]]\n",
    "    wl_max_f = data[0][indices[-1]]\n",
    "    print(\"--------------------------------------------------------------------------------\")\n",
    "    print('FILE: ', fname, '\\tWavelength in file:' , wl_min_f, '-', wl_max_f, 'PONTS: ', len(data[0][:]))\n",
    "    \n",
    "    res = np.take(data, indices, 1)\n",
    "    return res"
   ]
  },
  {
   "cell_type": "code",
   "execution_count": 173,
   "metadata": {},
   "outputs": [],
   "source": [
    "\n",
    "def GuessBaseLine(data, pps = 5, npts=18):\n",
    "    PPS = pps\n",
    "    NUM_POINTS = npts\n",
    "    \n",
    "    max_n = len(data[0]) - PPS\n",
    "    Bx, By = [data[0][0]-0.1], [data[1][0]]\n",
    "    \n",
    "    for i in range(0, max_n, int(max_n/NUM_POINTS)):\n",
    "        x = data[0][i:i+PPS].mean()\n",
    "        y = data[1][i:i+PPS].mean()\n",
    "        Bx.append(x)\n",
    "        By.append(y)\n",
    "    Bx.append(data[0][-1]+0.1)\n",
    "    By.append(data[1][-1])\n",
    "\n",
    "    return np.array(Bx), np.array(By)"
   ]
  },
  {
   "cell_type": "code",
   "execution_count": 144,
   "metadata": {},
   "outputs": [],
   "source": [
    "def felix_read_file_modified(fname):\n",
    "    file = np.genfromtxt(fname)\n",
    "    wn, count, sa = file[:,0], file[:,2], file[:,3]\n",
    "    data = wn, count, sa\n",
    "    data = np.take(data, data[0].argsort(), 1)\n",
    "    return data"
   ]
  },
  {
   "cell_type": "code",
   "execution_count": 146,
   "metadata": {},
   "outputs": [
    {
     "name": "stdout",
     "output_type": "stream",
     "text": [
      "--------------------------------------------------------------------------------\n",
      "FILE:  ./_datas/felixfile.felix \tWavelength in file: 550.116856 - 1800.003744 PONTS:  624\n"
     ]
    }
   ],
   "source": [
    "original = felix_read_file_original(filename)\n",
    "modified = felix_read_file_modified(filename)"
   ]
  },
  {
   "cell_type": "code",
   "execution_count": 193,
   "metadata": {},
   "outputs": [
    {
     "data": {
      "text/plain": [
       "551.1274915"
      ]
     },
     "execution_count": 193,
     "metadata": {},
     "output_type": "execute_result"
    }
   ],
   "source": [
    "data = felix_read_file_modified(filename)\n",
    "x = data[0][0:5].mean()\n",
    "x\n",
    "data[0][0:2].mean()"
   ]
  },
  {
   "cell_type": "code",
   "execution_count": 243,
   "metadata": {
    "scrolled": false
   },
   "outputs": [
    {
     "data": {
      "image/png": "[encoded data removed]",
      "text/plain": [
       "<Figure size 432x288 with 1 Axes>"
      ]
     },
     "metadata": {
      "needs_background": "light"
     },
     "output_type": "display_data"
    }
   ],
   "source": []
  },
  {
   "cell_type": "code",
   "execution_count": null,
   "metadata": {},
   "outputs": [],
   "source": []
  },
  {
   "cell_type": "code",
   "execution_count": 232,
   "metadata": {},
   "outputs": [
    {
     "data": {
      "text/plain": [
       "array([0, 1, 2, 3, 4, 5, 6, 7, 8, 9])"
      ]
     },
     "execution_count": 232,
     "metadata": {},
     "output_type": "execute_result"
    }
   ],
   "source": [
    "np.arange(0, 10)"
   ]
  }
 ],
 "metadata": {
  "kernelspec": {
   "display_name": "Python 3",
   "language": "python",
   "name": "python3"
  },
  "language_info": {
   "codemirror_mode": {
    "name": "ipython",
    "version": 3
   },
   "file_extension": ".py",
   "mimetype": "text/x-python",
   "name": "python",
   "nbconvert_exporter": "python",
   "pygments_lexer": "ipython3",
   "version": "3.7.0"
  }
 },
 "nbformat": 4,
 "nbformat_minor": 2
}
