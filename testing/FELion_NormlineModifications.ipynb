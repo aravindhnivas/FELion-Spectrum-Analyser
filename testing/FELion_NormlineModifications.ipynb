{
 "cells": [
  {
   "cell_type": "code",
   "execution_count": 22,
   "metadata": {},
   "outputs": [
    {
     "data": {
      "text/plain": [
       "(['16_11_18-1.png', '16_11_18-2.png', 'depletion.png'], str)"
      ]
     },
     "execution_count": 22,
     "metadata": {},
     "output_type": "execute_result"
    }
   ],
   "source": [
    "import os\n",
    "import glob2\n",
    "\n",
    "location = 'D:\\\\FELion-Spectrum-Analyser\\\\testing\\\\_datas'\n",
    "os.chdir(location)\n",
    "\n",
    "png = glob2.glob('*.png')\n",
    "png, type(png[0])"
   ]
  },
  {
   "cell_type": "code",
   "execution_count": 23,
   "metadata": {},
   "outputs": [
    {
     "data": {
      "text/plain": [
       "['01_06_18-1.mass',\n",
       " '04_06_18-1.mass',\n",
       " '04_06_18-2.mass',\n",
       " '07_03_19-7.mass',\n",
       " '19_11_18-5.mass',\n",
       " '21_11_18-10.mass',\n",
       " 'massScan.mass']"
      ]
     },
     "execution_count": 23,
     "metadata": {},
     "output_type": "execute_result"
    }
   ],
   "source": [
    "from glob2 import glob as find\n",
    "from os.path import join\n",
    "\n",
    "find('*.mass')"
   ]
  },
  {
   "cell_type": "code",
   "execution_count": 24,
   "metadata": {},
   "outputs": [
    {
     "data": {
      "text/plain": [
       "'D:\\\\FELion-Spectrum-Analyser\\\\testing\\\\_datas\\\\OUT\\\\pow.pdf'"
      ]
     },
     "execution_count": 24,
     "metadata": {},
     "output_type": "execute_result"
    }
   ],
   "source": [
    "fname = 'pow'\n",
    "location+\"/OUT/{}.pdf\".format(fname)\n",
    "join(location, 'OUT', fname+'.pdf')"
   ]
  },
  {
   "cell_type": "code",
   "execution_count": 25,
   "metadata": {},
   "outputs": [],
   "source": [
    "file = '01_06_18-1.mass'\n",
    "file1 = 'powerfile.pow'\n",
    "\n",
    "string = '#SHOTS'\n",
    "string1 = '#'\n",
    "\n",
    "with open(file, 'r') as f:\n",
    "    info = f.readlines()\n",
    "\n",
    "#for n, i in enumerate(info):\n",
    "#    print(n, i)"
   ]
  },
  {
   "cell_type": "code",
   "execution_count": 26,
   "metadata": {},
   "outputs": [],
   "source": [
    "import pandas as pd\n",
    "\n",
    "df = pd.read_csv('massScan.mass')\n"
   ]
  },
  {
   "cell_type": "code",
   "execution_count": 84,
   "metadata": {},
   "outputs": [],
   "source": [
    "class add:\n",
    "    def __init__(self, x, y):\n",
    "        self.x = x\n",
    "        self.y = y\n",
    "        \n",
    "    def result(self):\n",
    "        return self.x + self.y\n",
    "    \n",
    "    def __repr__(self):\n",
    "        return '{}({}, {})'.format(add.__name__, self.x, self.y)\n",
    "\n"
   ]
  },
  {
   "cell_type": "code",
   "execution_count": 92,
   "metadata": {},
   "outputs": [
    {
     "name": "stdout",
     "output_type": "stream",
     "text": [
      "A.a()\n",
      "B.b()\n",
      "<class '__main__.A'>\n",
      "  I was called by <class '__main__.A'>.a()\n"
     ]
    }
   ],
   "source": [
    "import inspect\n",
    "\n",
    "class A:\n",
    "    def a(self):\n",
    "        print(\"A.a()\")\n",
    "        B().b()\n",
    "\n",
    "        \n",
    "class B:\n",
    "    def b(self):\n",
    "        print(\"B.b()\")\n",
    "        stack = inspect.stack()\n",
    "        print(stack[1][0].f_locals[\"self\"].__class__)\n",
    "        the_class = stack[1][0].f_locals[\"self\"].__class__\n",
    "        the_method = stack[1][0].f_code.co_name\n",
    "        print(\"  I was called by {}.{}()\".format(str(the_class), the_method))\n",
    "\n",
    "A().a()"
   ]
  },
  {
   "cell_type": "code",
   "execution_count": 96,
   "metadata": {},
   "outputs": [],
   "source": [
    "from tkinter import *\n",
    "\n",
    "master = Tk()\n",
    "\n",
    "w = Scale(master, from_=0, to=100)\n",
    "w.pack()\n",
    "\n",
    "w = Scale(master, from_=0, to=200, orient=HORIZONTAL)\n",
    "w.pack()\n",
    "\n",
    "mainloop()"
   ]
  },
  {
   "cell_type": "code",
   "execution_count": 135,
   "metadata": {},
   "outputs": [
    {
     "data": {
      "text/plain": [
       "<matplotlib.lines.Line2D at 0x1e799484080>"
      ]
     },
     "execution_count": 135,
     "metadata": {},
     "output_type": "execute_result"
    },
    {
     "data": {
      "image/png": "[encoded data removed]",
      "text/plain": [
       "<Figure size 432x288 with 1 Axes>"
      ]
     },
     "metadata": {
      "needs_background": "light"
     },
     "output_type": "display_data"
    }
   ],
   "source": [
    "import matplotlib.pyplot as plt\n",
    "plt.axvline(0.4)\n",
    "plt.axvline(0.3, color = 'C0')"
   ]
  },
  {
   "cell_type": "code",
   "execution_count": 128,
   "metadata": {},
   "outputs": [
    {
     "data": {
      "text/plain": [
       "(cycler('color', ['b', 'g', 'r', 'c', 'm', 'y', 'k']),)"
      ]
     },
     "execution_count": 128,
     "metadata": {},
     "output_type": "execute_result"
    }
   ],
   "source": [
    "from cycler import cycler\n",
    "cycler(color='bgrcmyk'),"
   ]
  },
  {
   "cell_type": "code",
   "execution_count": 142,
   "metadata": {},
   "outputs": [
    {
     "data": {
      "text/plain": [
       "['C0', 'C1', 'C2', 'C3', 'C4', 'C5', 'C6', 'C7', 'C8', 'C9']"
      ]
     },
     "execution_count": 142,
     "metadata": {},
     "output_type": "execute_result"
    }
   ],
   "source": [
    "colors = []\n",
    "for i in range(10):\n",
    "    c = 'C%i'%i\n",
    "    colors.append(c)\n",
    "colors"
   ]
  },
  {
   "cell_type": "code",
   "execution_count": 148,
   "metadata": {},
   "outputs": [],
   "source": [
    "import tkinter as tk\n",
    "\n",
    "class Example(tk.Frame):\n",
    "    def __init__(self, *args, **kwargs):\n",
    "        tk.Frame.__init__(self, *args, **kwargs)\n",
    "        self.l1 = tk.Label(self, text=\"Hover over me\")\n",
    "        self.l2 = tk.Label(self, text=\"\", width=40)\n",
    "        self.l1.pack(side=\"top\")\n",
    "        self.l2.pack(side=\"top\", fill=\"x\")\n",
    "\n",
    "        self.l1.bind(\"<Enter>\", self.on_enter)\n",
    "        self.l1.bind(\"<Leave>\", self.on_leave)\n",
    "\n",
    "    def on_enter(self, event):\n",
    "        self.l2.configure(text=\"Hello world\")\n",
    "\n",
    "    def on_leave(self, enter):\n",
    "        self.l2.configure(text=\"\")\n",
    "\n",
    "if __name__ == \"__main__\":\n",
    "    root = tk.Tk()\n",
    "    Example(root).pack(side=\"top\", fill=\"both\", expand=\"true\")\n",
    "    root.mainloop()"
   ]
  },
  {
   "cell_type": "code",
   "execution_count": 231,
   "metadata": {},
   "outputs": [],
   "source": [
    "class P:\n",
    "    def __init__(self,x):\n",
    "        self.x = x\n",
    "    \n",
    "    @property\n",
    "    def get(self):\n",
    "        return self.__x\n",
    "    \n",
    "    @get.setter\n",
    "    def x(self, x):\n",
    "        if x < 0:\n",
    "            self.__x = 0\n",
    "        elif x > 1000:\n",
    "            self.__x = 1000\n",
    "        else:\n",
    "            self.__x = x"
   ]
  },
  {
   "cell_type": "code",
   "execution_count": 234,
   "metadata": {},
   "outputs": [
    {
     "data": {
      "text/plain": [
       "40"
      ]
     },
     "execution_count": 234,
     "metadata": {},
     "output_type": "execute_result"
    }
   ],
   "source": [
    "p1 = P(x = 0)\n",
    "p1.x = 40\n",
    "p1.x"
   ]
  }
 ],
 "metadata": {
  "kernelspec": {
   "display_name": "Python 3",
   "language": "python",
   "name": "python3"
  },
  "language_info": {
   "codemirror_mode": {
    "name": "ipython",
    "version": 3
   },
   "file_extension": ".py",
   "mimetype": "text/x-python",
   "name": "python",
   "nbconvert_exporter": "python",
   "pygments_lexer": "ipython3",
   "version": "3.7.0"
  }
 },
 "nbformat": 4,
 "nbformat_minor": 2
}
