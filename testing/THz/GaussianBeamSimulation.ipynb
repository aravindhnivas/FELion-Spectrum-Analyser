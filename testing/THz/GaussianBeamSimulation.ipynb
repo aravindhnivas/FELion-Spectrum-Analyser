{
 "cells": [
  {
   "cell_type": "code",
   "execution_count": 1,
   "metadata": {},
   "outputs": [],
   "source": [
    "from sympy.physics.optics import RayTransferMatrix, ThinLens, BeamParameter, FreeSpace\n",
    "from sympy import symbols, init_printing, pi, sqrt, pprint, solveset, S, plot, cos, Eq\n",
    "from scipy.constants import c\n",
    "import matplotlib.pyplot as plt\n",
    "from matplotlib.ticker import (MultipleLocator, FormatStrFormatter,\n",
    "                               AutoMinorLocator)\n",
    "import numpy as np\n",
    "\n",
    "init_printing()\n",
    "\n",
    "from ipywidgets.widgets import (\n",
    "    IntSlider,\n",
    "    FloatLogSlider,\n",
    "    FloatSlider,\n",
    "    interactive_output,\n",
    "    FloatRangeSlider,\n",
    "    BoundedFloatText,\n",
    "    Checkbox,\n",
    "    HBox,\n",
    "    VBox,\n",
    "    IntRangeSlider,\n",
    "    BoundedIntText,\n",
    "    Text,\n",
    "    Button,\n",
    "    Label,\n",
    "    Select,\n",
    "    Layout\n",
    ")\n",
    "from IPython.display import display\n",
    "import datetime, os\n",
    "from os.path import isdir\n",
    "from pathlib import Path"
   ]
  },
  {
   "cell_type": "code",
   "execution_count": 2,
   "metadata": {},
   "outputs": [
    {
     "name": "stdout",
     "output_type": "stream",
     "text": [
      "Confocal length: $Z_c$, \n",
      "Radius of the curvature of beam wave front: \n",
      "R(z) and the Beam radius: w(z) are defined such as: \n",
      "\n"
     ]
    },
    {
     "data": {
      "image/png": "[encoded data removed]",
      "text/latex": [
       "$$\\left ( \\frac{\\pi w_{0}^{2}}{lam}, \\quad w_{0} \\sqrt{\\frac{lam^{2} z^{2}}{\\pi^{2} w_{0}^{4}} + 1}\\right )$$"
      ],
      "text/plain": [
       "⎛                _____________⎞\n",
       "⎜    2          ╱    2  2     ⎟\n",
       "⎜π⋅w₀          ╱  lam ⋅z      ⎟\n",
       "⎜─────, w₀⋅   ╱   ─────── + 1 ⎟\n",
       "⎜ lam        ╱      2   4     ⎟\n",
       "⎝          ╲╱      π ⋅w₀      ⎠"
      ]
     },
     "execution_count": 2,
     "metadata": {},
     "output_type": "execute_result"
    }
   ],
   "source": [
    "save_location = \"D:\\SurfDrive\\backup_for_surfacePro\\Work\\THz_setup\\Simulations\"\n",
    "\n",
    "w, lam, w0, z = symbols(\"w, lam, w0, z\", positive=True)\n",
    "\n",
    "# defining the confocal length, R(z) and w(z) in sympy\n",
    "z_r = pi * w0 ** 2 / lam\n",
    "#R = z * (1 + (z_r / z) ** 2)\n",
    "w = w0 * sqrt(1 + (z / z_r) ** 2)\n",
    "\n",
    "\n",
    "\n",
    "# Defining functions\n",
    "def ghz_cm(x):\n",
    "    return c * 1e2 / x * 1e-9\n",
    "\n",
    "\n",
    "print(\\\n",
    "    \"Confocal length: $Z_c$, \\\n",
    "\\nRadius of the curvature of beam wave front: \\\n",
    "\\nR(z) and the Beam radius: w(z) are defined such as: \\n\"\n",
    ")\n",
    "\n",
    "z_r, w"
   ]
  },
  {
   "cell_type": "markdown",
   "metadata": {},
   "source": [
    "# Simulating Gaussian beam propagation from inside FELion Trap\n",
    "\n",
    "We will try to obtain the optimum conditions such the waist radius w0 and distance to the w0 from outside mirror, etc."
   ]
  },
  {
   "cell_type": "code",
   "execution_count": 3,
   "metadata": {},
   "outputs": [
    {
     "data": {
      "application/vnd.jupyter.widget-view+json": {
       "model_id": "c865845623b44b408e2b423dcc878463",
       "version_major": 2,
       "version_minor": 0
      },
      "text/plain": [
       "VBox(children=(HBox(children=(BoundedFloatText(value=0.3, description='w0:', max=1.0, min=0.1, step=0.01), Int…"
      ]
     },
     "metadata": {},
     "output_type": "display_data"
    }
   ],
   "source": [
    "class gaussian_simulation:\n",
    "    def __init__(self):\n",
    "\n",
    "        W = BoundedFloatText(value=0.3, min=0.1, max=1, step=0.01, description=\"w0:\")\n",
    "        L = IntRangeSlider(\n",
    "            value=[400, 1100], min=100, max=1500, step=1, description=\"GHz\"\n",
    "        )\n",
    "        \n",
    "        width = BoundedIntText(value=7, min=5, max=25, step=1, description=\"width\")\n",
    "        height = BoundedIntText(value=5, min=5, max=25, step=1, description=\"height\")\n",
    "        dpi = BoundedIntText(value=200, min=70, max=250, step=1, description=\"Dpi\")\n",
    "\n",
    "        entry1 = BoundedFloatText(\n",
    "            value=-9, min=-11, max=10, step=0.1, description=\"Entry1\"\n",
    "        )\n",
    "        Mirror = BoundedIntText(value=11, min=10, max=20, step=1, description=\"Mirror Position\")\n",
    "        \n",
    "        self.save_name = Text(value=\"\")\n",
    "\n",
    "        save_button = Button(description=\"Save\", layout={\"width\": \"300px\"})\n",
    "\n",
    "        save_button.on_click(self.save_plot)\n",
    "\n",
    "        self.print_save = Label(value=\"Status: \")\n",
    "\n",
    "        row1 = HBox([W, L])\n",
    "        row2 = HBox([width, height, dpi])\n",
    "        row3 = HBox([entry1, Mirror])\n",
    "\n",
    "        out = interactive_output(\n",
    "            self.simulate,\n",
    "            {\n",
    "                \"w0_\": W,\n",
    "                \"wn\": L,\n",
    "                \"width\": width,\n",
    "                \"height\": height,\n",
    "                \"dpi\": dpi,\n",
    "                \"entry1\": entry1,\n",
    "                \"mirror\":Mirror\n",
    "            },\n",
    "        )\n",
    "\n",
    "        display(\n",
    "            VBox(\n",
    "                [row1, row2, row3, out, self.save_name, save_button, self.print_save]\n",
    "            )\n",
    "        )\n",
    "\n",
    "    def save_plot(self, event):\n",
    "        if not isdir('./Simulations'):\n",
    "            os.mkdir('./Simulations')\n",
    "\n",
    "        self.fig0.savefig(f\"./Simulations/{self.save_name.value}.png\")\n",
    "        self.fig0.savefig(f\"./Simulations/{self.save_name.value}.pdf\")\n",
    "\n",
    "        t = datetime.datetime.now()\n",
    "        self.print_save.value = f'File \"{self.save_name.value}.png\" Saved; {t.ctime()}'\n",
    "\n",
    "    def beam_plot(self, ax, w0_, wn):\n",
    "               \n",
    "        self.gaussian_beam(w0_, wn)\n",
    "        \n",
    "        markers = '--'\n",
    "        line_width = 1\n",
    "        alpha = 0.7\n",
    "\n",
    "        for c, beam in enumerate(self.beams):\n",
    "            color = f\"C{c}\"\n",
    "            ax.plot(\n",
    "                z_,\n",
    "                beam,\n",
    "                markers+color, lw=line_width, alpha=alpha,\n",
    "                label=f\"{self.wn[c]:.2f} GHz ({ghz_cm(self.wn[c])*10:.2f} mm)\",\n",
    "                zorder=1\n",
    "            )\n",
    "            ax.plot(-z_, -beam, markers+color, lw=line_width, alpha=alpha, zorder=1)\n",
    "            ax.plot(-z_, beam, markers+color, lw=line_width, alpha=alpha, zorder=1)\n",
    "            ax.plot(z_, -beam, markers+color, lw=line_width, alpha=alpha, zorder=1)\n",
    "\n",
    "    def simulate(self, w0_, wn, width, height, dpi, entry1, mirror):\n",
    "        \n",
    "        entry1 = round(entry1, 1)\n",
    "        entry2 = round(10.4 - abs(entry1), 1)\n",
    "\n",
    "        self.fig0, ax0 = plt.subplots(figsize=(width, height), dpi=dpi)\n",
    "        self.beam_plot(ax0, w0_, wn)\n",
    "\n",
    "        ax0.hlines(0, xmin=-z_.max(), xmax=z_.max())\n",
    "\n",
    "        ## Annotation begins\n",
    "        \n",
    "        fontsz = 6\n",
    "\n",
    "        # Distance b/w two entry points\n",
    "        ax0.hlines(-0.2, xmin=entry1, xmax=entry2)\n",
    "        plt.annotate(\n",
    "            s=f\"d={(entry2-entry1)}\",\n",
    "            xy=(0, 0),\n",
    "            xytext=(-3, -0.1),\n",
    "            ha=\"center\",\n",
    "            va=\"center\",\n",
    "            fontsize=fontsz\n",
    "        )\n",
    "\n",
    "        # Annotate beam waist\n",
    "        ax0.vlines(x=0, ymin=0, ymax=w0_)\n",
    "        plt.annotate(\n",
    "            s=\"$w_0^{in}$=%.2f cm\"%w0_,\n",
    "            xy=(0, w0_+0.2),\n",
    "            xytext=(0, 0.8),\n",
    "            ha=\"center\",\n",
    "            va=\"center\",\n",
    "            arrowprops=dict(arrowstyle=\"->\", connectionstyle=\"arc3\"),\n",
    "            fontsize=fontsz\n",
    "        )\n",
    "\n",
    "        # Annotate Entry1\n",
    "        ax0.vlines(x=entry1, ymin=-1, ymax=1)\n",
    "\n",
    "        plt.annotate(\n",
    "            s=\"Main entry window:\\ndiameter=2cm\",\n",
    "            xy=(entry1, 1),\n",
    "            xytext=(entry1 + 6, 1.1),\n",
    "            ha=\"center\",\n",
    "            va=\"center\",\n",
    "            arrowprops=dict(arrowstyle=\"->\", connectionstyle=\"arc3\"),\n",
    "            fontsize=fontsz\n",
    "        )\n",
    "\n",
    "        # Annotate Entry2\n",
    "        ax0.vlines(x=entry2, ymin=-0.43, ymax=0.43)\n",
    "\n",
    "        plt.annotate(\n",
    "            s=\"Trap bender entry:\\ndiameter=0.86cm\",\n",
    "            xy=(entry2, -0.43),\n",
    "            xytext=(entry2 - 3, -0.8),\n",
    "            ha=\"center\",\n",
    "            va=\"center\",\n",
    "            # rotation = 30,\n",
    "            arrowprops=dict(arrowstyle=\"->\", connectionstyle=\"arc3\"),\n",
    "            fontsize=fontsz\n",
    "        )\n",
    "        \n",
    "        # Inner entry: diameter: 0.64cm\n",
    "        ax0.vlines(x=entry2+0.7, ymin=-0.32, ymax=0.32)\n",
    "\n",
    "        # Annotate z-position\n",
    "\n",
    "        plt.annotate(s=\"z=0\", xy=(0, 0), xytext=(0, -0.05), ha=\"center\", va=\"center\",fontsize=fontsz)\n",
    "\n",
    "        plt.annotate(\n",
    "            s=f\"z={entry1}\",\n",
    "            xy=(entry1, 0),\n",
    "            xytext=(entry1 - 2, -0.2),\n",
    "            ha=\"center\",\n",
    "            va=\"center\",\n",
    "            arrowprops=dict(arrowstyle=\"->\", connectionstyle=\"arc3\"),\n",
    "            fontsize=fontsz\n",
    "        )\n",
    "        \n",
    "        # d_in window\n",
    "        mirror_pos = entry1-mirror\n",
    "        ax0.vlines(x=mirror_pos, ymin=-self.beams.max(), ymax=self.beams.max())\n",
    "        \n",
    "        plt.annotate(\n",
    "            s=\"Mirror($d_{in}$) at %.1f cm\"%mirror_pos,\n",
    "            xy=(mirror_pos+5, -self.beams.max()),\n",
    "            ha=\"center\",\n",
    "            va=\"center\",\n",
    "            arrowprops=dict(arrowstyle=\"->\", connectionstyle=\"arc3\"),\n",
    "            fontsize=fontsz\n",
    "        )\n",
    "\n",
    "        ## Annotation ends\n",
    "\n",
    "        ax0.set_xlabel(\"z direction : Beam Propagation (cm)\")\n",
    "        ax0.set_ylabel(\"w(z) : Gaussian Beam radius (cm)\")\n",
    "        ax0.set_title(f\"Gaussian Beam simulation: {wn[0]}-{wn[-1]} GHz\")\n",
    "        ax0.legend(bbox_to_anchor=(0.16, 0.86), ncol=3, fontsize=5)\n",
    "        ax0.xaxis.set_minor_locator(AutoMinorLocator())\n",
    "        \n",
    "        plt.show()\n",
    "        # plt.close()\n",
    "\n",
    "        self.save_name.value = f\"{w0_}cm-{wn[0]}-{wn[-1]}GHz_simulation\"\n",
    "\n",
    "    def gaussian_beam(self, w0_, wn):\n",
    "\n",
    "        global w, z_\n",
    "        \n",
    "        # Defining the z-propagation range\n",
    "        z_ = np.linspace(0, 25, 10)\n",
    "\n",
    "        self.wn = np.linspace(*wn, 10)\n",
    "\n",
    "        beam = []\n",
    "        beams = []\n",
    "\n",
    "        for l in self.wn:\n",
    "\n",
    "            temp = []\n",
    "            beam = []\n",
    "\n",
    "            for i in z_:\n",
    "                temp = float(w.subs({w0: w0_, lam: ghz_cm(l), z: i}).evalf())\n",
    "                beam.append(temp)\n",
    "            beams.append(beam)\n",
    "\n",
    "        self.beams = np.array(beams)\n",
    "#%matplotlib widget\n",
    "%matplotlib inline\n",
    "start = gaussian_simulation()"
   ]
  },
  {
   "cell_type": "code",
   "execution_count": null,
   "metadata": {},
   "outputs": [],
   "source": []
  },
  {
   "cell_type": "markdown",
   "metadata": {
    "toc-hr-collapsed": true
   },
   "source": [
    "# Ellipsoidal mirror (Goldsmith, 1998)\n",
    "\n",
    "An ellipsoidal mirror in the geometrical optics limit, transforms radiation from a point source at one focal point to a point source located at the second focal point; this is true for any part of the ellipsoidal surface of revolution,\n",
    "formed by rotating the ellipse about the line joining its foci. \n",
    "\n",
    "First consider a lens that has a focal length equal to the distance from the first focal point to the center of the part of the ellipsoidal surface being used (R1). \n",
    "This lens will collimate the radiation from the first focal point into a parallel beam. \n",
    "\n",
    "If we immediately follow this first lens by a second, having focal length equal to the distance from the center of the mirror to the second focal point (R2) , the second lens will bring the parallel beam to a focus at the desired position. \n",
    "\n"
   ]
  },
  {
   "cell_type": "markdown",
   "metadata": {
    "toc-hr-collapsed": true
   },
   "source": [
    "## Thin lens\n",
    "ABCD matrix for thin lens of focal length $f_{lens}$"
   ]
  },
  {
   "cell_type": "code",
   "execution_count": 4,
   "metadata": {},
   "outputs": [
    {
     "data": {
      "image/png": "[encoded data removed]",
      "text/latex": [
       "$$\\left[\\begin{matrix}1 & 0\\\\- \\frac{1}{f_{lens}} & 1\\end{matrix}\\right]$$"
      ],
      "text/plain": [
       "⎡  1    0⎤\n",
       "⎢        ⎥\n",
       "⎢ -1     ⎥\n",
       "⎢─────  1⎥\n",
       "⎣fₗₑₙₛ   ⎦"
      ]
     },
     "execution_count": 4,
     "metadata": {},
     "output_type": "execute_result"
    }
   ],
   "source": [
    "f_lens = symbols('f_lens')\n",
    "M_lens = ThinLens(f_lens)\n",
    "M_lens"
   ]
  },
  {
   "cell_type": "markdown",
   "metadata": {},
   "source": [
    "## Elliptical mirror effective focal length\n",
    "\n",
    "Thus, the ABCD matrix for an ellipsoidal mirror is the product of two matrices, each representing a thin lens, and having zero separation:\n",
    "where R1 and R2 are the distances from the center of the section of the ellipsoid used to the respective foci"
   ]
  },
  {
   "cell_type": "code",
   "execution_count": 5,
   "metadata": {},
   "outputs": [
    {
     "data": {
      "image/png": "[encoded data removed]",
      "text/latex": [
       "$$\\left[\\begin{matrix}1 & 0\\\\- \\frac{1}{R_{2}} - \\frac{1}{R_{1}} & 1\\end{matrix}\\right]$$"
      ],
      "text/plain": [
       "⎡    1      0⎤\n",
       "⎢            ⎥\n",
       "⎢  1    1    ⎥\n",
       "⎢- ── - ──  1⎥\n",
       "⎣  R₂   R₁   ⎦"
      ]
     },
     "execution_count": 5,
     "metadata": {},
     "output_type": "execute_result"
    }
   ],
   "source": [
    "R1, R2 = symbols('R1, R2')\n",
    "M_l1 = ThinLens(R1)\n",
    "M_l2 = ThinLens(R2)\n",
    "M_d = FreeSpace(0)\n",
    "M_ellipsoid = M_l2*M_d*M_l1\n",
    "M_ellipsoid"
   ]
  },
  {
   "cell_type": "markdown",
   "metadata": {},
   "source": [
    "So that comparing with the expression for the thin lens, we see that the Effective focal length of an elliptical mirror: f_ellipsoid is given by"
   ]
  },
  {
   "cell_type": "code",
   "execution_count": 6,
   "metadata": {},
   "outputs": [
    {
     "name": "stdout",
     "output_type": "stream",
     "text": [
      "\n",
      "\n"
     ]
    },
    {
     "data": {
      "image/png": "[encoded data removed]",
      "text/latex": [
       "$$\\frac{R_{1} R_{2}}{R_{1} + R_{2}}$$"
      ],
      "text/plain": [
       " R₁⋅R₂ \n",
       "───────\n",
       "R₁ + R₂"
      ]
     },
     "execution_count": 6,
     "metadata": {},
     "output_type": "execute_result"
    }
   ],
   "source": [
    "f_ellipsoid = 1/(1/R1+1/R2)\n",
    "print('\\n')\n",
    "f_ellipsoid.simplify()"
   ]
  },
  {
   "cell_type": "markdown",
   "metadata": {
    "toc-hr-collapsed": false
   },
   "source": [
    "# Mode Matching (Goldsmith 1998)\n",
    "\n",
    "Quasioptical system designers are often required to couple the power in a beam (e.g., that produced by a feed hom) to a specified beam waist radius (e.g., that required by some component in a receiver system). Dealing with beam transformation from this perspective is often called mode matching"
   ]
  },
  {
   "cell_type": "markdown",
   "metadata": {
    "toc-hr-collapsed": true
   },
   "source": [
    "## Case 1:\n",
    "In practice most often the case is: We are given the input and output waist radii, and thus the magnification, together with the input distance. Solving for the required focal length, we obtain"
   ]
  },
  {
   "cell_type": "code",
   "execution_count": 7,
   "metadata": {},
   "outputs": [],
   "source": [
    "M, E, d_in, d_out, w0_in, w0_out, Z_c = symbols('M, E, d_in, d_out, w0_in, w0_out, Z_c')\n",
    "\n",
    "fp = Z_c*(d_in/(E*Z_c))*(1+sqrt(1-E*(1+(d_in/Z_c)**-2)))\n",
    "fm = Z_c*(d_in/(E*Z_c))*(1-sqrt(1-E*(1+(d_in/Z_c)**-2)))"
   ]
  },
  {
   "cell_type": "markdown",
   "metadata": {},
   "source": [
    "Positive and negative focus \"f\" for M>1"
   ]
  },
  {
   "cell_type": "code",
   "execution_count": 8,
   "metadata": {},
   "outputs": [
    {
     "data": {
      "image/png": "[encoded data removed]",
      "text/latex": [
       "$$\\left ( \\frac{d_{in}}{E} \\left(- \\sqrt{- E \\left(\\frac{Z_{c}^{2}}{d_{in}^{2}} + 1\\right) + 1} + 1\\right), \\quad \\frac{d_{in}}{E} \\left(\\sqrt{- E \\left(\\frac{Z_{c}^{2}}{d_{in}^{2}} + 1\\right) + 1} + 1\\right)\\right )$$"
      ],
      "text/plain": [
       "⎛    ⎛        ____________________    ⎞      ⎛      ____________________    ⎞⎞\n",
       "⎜    ⎜       ╱     ⎛   2    ⎞         ⎟      ⎜     ╱     ⎛   2    ⎞         ⎟⎟\n",
       "⎜    ⎜      ╱      ⎜Z_c     ⎟         ⎟      ⎜    ╱      ⎜Z_c     ⎟         ⎟⎟\n",
       "⎜dᵢₙ⋅⎜-    ╱   - E⋅⎜──── + 1⎟ + 1  + 1⎟  dᵢₙ⋅⎜   ╱   - E⋅⎜──── + 1⎟ + 1  + 1⎟⎟\n",
       "⎜    ⎜    ╱        ⎜   2    ⎟         ⎟      ⎜  ╱        ⎜   2    ⎟         ⎟⎟\n",
       "⎜    ⎝  ╲╱         ⎝dᵢₙ     ⎠         ⎠      ⎝╲╱         ⎝dᵢₙ     ⎠         ⎠⎟\n",
       "⎜──────────────────────────────────────, ────────────────────────────────────⎟\n",
       "⎝                  E                                      E                  ⎠"
      ]
     },
     "execution_count": 8,
     "metadata": {},
     "output_type": "execute_result"
    }
   ],
   "source": [
    "fm, fp"
   ]
  },
  {
   "cell_type": "code",
   "execution_count": 9,
   "metadata": {},
   "outputs": [
    {
     "name": "stdout",
     "output_type": "stream",
     "text": [
      "For M=1\n",
      "Focus is given by:\n"
     ]
    },
    {
     "data": {
      "image/png": "[encoded data removed]",
      "text/latex": [
       "$$\\frac{Z_{c}^{2} \\left(1 + \\frac{d_{in}^{2}}{Z_{c}^{2}}\\right)}{2 d_{in}}$$"
      ],
      "text/plain": [
       "     ⎛       2⎞\n",
       "   2 ⎜    dᵢₙ ⎟\n",
       "Z_c ⋅⎜1 + ────⎟\n",
       "     ⎜       2⎟\n",
       "     ⎝    Z_c ⎠\n",
       "───────────────\n",
       "     2⋅dᵢₙ     "
      ]
     },
     "execution_count": 9,
     "metadata": {},
     "output_type": "execute_result"
    }
   ],
   "source": [
    "f1 = Z_c*(1+(d_in/Z_c)**2)/(2*d_in/Z_c)\n",
    "print('For M=1\\nFocus is given by:')\n",
    "f1"
   ]
  },
  {
   "cell_type": "markdown",
   "metadata": {
    "toc-hr-collapsed": true
   },
   "source": [
    "Assuming for the case of our ellipse, \n",
    "$$d_{in} = R1$$  $$f = f_{ellipsoid}$$ \n",
    "\n",
    "we can solve for R2 i.e., $d_{out}$\n",
    "\n",
    "\n",
    "The eccentricity can also be defined in terms of R1, R2, and the angle α between input and output beams (Goldsmith, 1998)"
   ]
  },
  {
   "cell_type": "code",
   "execution_count": 10,
   "metadata": {},
   "outputs": [
    {
     "data": {
      "image/png": "[encoded data removed]",
      "text/latex": [
       "$$\\frac{1}{R_{1} + R_{2}} \\sqrt{R_{1}^{2} - 2 R_{1} R_{2} \\cos{\\left (\\alpha \\right )} + R_{2}^{2}}$$"
      ],
      "text/plain": [
       "   ____________________________\n",
       "  ╱   2                      2 \n",
       "╲╱  R₁  - 2⋅R₁⋅R₂⋅cos(α) + R₂  \n",
       "───────────────────────────────\n",
       "            R₁ + R₂            "
      ]
     },
     "execution_count": 10,
     "metadata": {},
     "output_type": "execute_result"
    }
   ],
   "source": [
    "alpha = symbols('alpha')\n",
    "e_ellipsoid = sqrt(R1**2 + R2**2 - 2*R1*R2*cos(alpha))/(R1 + R2)\n",
    "e_ellipsoid"
   ]
  },
  {
   "cell_type": "code",
   "execution_count": 11,
   "metadata": {},
   "outputs": [
    {
     "name": "stdout",
     "output_type": "stream",
     "text": [
      "Eccentricity of an elliptical mirror is already defined as :\n",
      "\n"
     ]
    },
    {
     "data": {
      "image/png": "[encoded data removed]",
      "text/latex": [
       "$$\\sqrt{1 - \\frac{b^{2}}{a^{2}}}$$"
      ],
      "text/plain": [
       "      ________\n",
       "     ╱      2 \n",
       "    ╱      b  \n",
       "   ╱   1 - ── \n",
       "  ╱         2 \n",
       "╲╱         a  "
      ]
     },
     "execution_count": 11,
     "metadata": {},
     "output_type": "execute_result"
    }
   ],
   "source": [
    "a, b = symbols('a, b')\n",
    "print('Eccentricity of an elliptical mirror is already defined as :\\n')\n",
    "\n",
    "e_standard = sqrt(1-b**2/a**2)\n",
    "e_standard"
   ]
  },
  {
   "cell_type": "markdown",
   "metadata": {},
   "source": [
    "where a and b are the semi-major and semi-minor axis respectivey."
   ]
  },
  {
   "cell_type": "code",
   "execution_count": 12,
   "metadata": {},
   "outputs": [
    {
     "name": "stdout",
     "output_type": "stream",
     "text": [
      "The semi-major axis a is also defined as: \n",
      "\n"
     ]
    },
    {
     "data": {
      "image/png": "[encoded data removed]",
      "text/latex": [
       "$$\\frac{R_{1}}{2} + \\frac{R_{2}}{2}$$"
      ],
      "text/plain": [
       "R₁   R₂\n",
       "── + ──\n",
       "2    2 "
      ]
     },
     "execution_count": 12,
     "metadata": {},
     "output_type": "execute_result"
    }
   ],
   "source": [
    "print('The semi-major axis a is also defined as: \\n')\n",
    "a = (R1 + R2)/2\n",
    "a"
   ]
  },
  {
   "cell_type": "code",
   "execution_count": 13,
   "metadata": {},
   "outputs": [],
   "source": [
    "class f_soln:\n",
    "    def __init__(self):\n",
    "        mag = BoundedFloatText(\n",
    "            value=0.41, min=0.1, max=10, step=0.01, description=\"M: \"\n",
    "        )\n",
    "        W = BoundedFloatText(\n",
    "            value=0.34, min=0.1, max=1, step=0.01, description=\"w0_in: \"\n",
    "        )\n",
    "        R1 = BoundedFloatText(value=18, min=5, max=20, step=0.1, description=\"R1: \")\n",
    "        L = IntRangeSlider(\n",
    "            value=[325, 500], min=50, max=1500, step=1, description=\"GHz\"\n",
    "        )\n",
    "\n",
    "        width = BoundedIntText(value=10, min=5, max=25, step=1, description=\"width\")\n",
    "        height = BoundedIntText(value=6, min=5, max=25, step=1, description=\"height\")\n",
    "        dpi = BoundedIntText(value=100, min=70, max=250, step=1, description=\"Dpi\")\n",
    "\n",
    "        self.save_name = Text(value=\"\")\n",
    "\n",
    "        save_button = Button(description=\"Save\", layout={\"width\": \"300px\"})\n",
    "\n",
    "        save_button.on_click(self.save_plot)\n",
    "\n",
    "        self.print_save = Label(value=\"Status: \")\n",
    "\n",
    "        row1 = HBox([width, height, dpi])\n",
    "        row2 = HBox([mag, W, R1, L])\n",
    "\n",
    "        out = interactive_output(\n",
    "            self.plot,\n",
    "            {\n",
    "                \"M\": mag,\n",
    "                \"r1\": R1,\n",
    "                \"w0_in\": W,\n",
    "                \"lam\": L,\n",
    "                \"width\": width,\n",
    "                \"height\": height,\n",
    "                \"dpi\": dpi,\n",
    "            },\n",
    "        )\n",
    "\n",
    "        display(VBox([row1, row2, out, self.save_name, save_button, self.print_save]))\n",
    "\n",
    "    def plot(self, M, r1, w0_in, lam, width, height, dpi):\n",
    "\n",
    "        wn = np.linspace(*lam, 50)\n",
    "\n",
    "        x, y1, y2 = [], [], []\n",
    "        no_soln, soln = [], []\n",
    "        for l in wn:\n",
    "            zc = np.pi * w0_in ** 2 / ghz_cm(l)\n",
    "\n",
    "            temp0 = r1 / zc\n",
    "            x.append(temp0)\n",
    "\n",
    "            try:\n",
    "\n",
    "                if not M == 1:\n",
    "                    temp1 = fm / zc\n",
    "                    temp1_1 = float(\n",
    "                        temp1.subs({E: 1 - M ** -2, d_in: r1, Z_c: zc}).evalf()\n",
    "                    )\n",
    "                elif M == 1:\n",
    "                    temp1 = f1 / Zc\n",
    "                    temp1_1 = float(temp1.subs({d_in: r1, Z_c: zc}).evalf())\n",
    "\n",
    "                y1.append(temp1_1)\n",
    "                soln.append(round(l, 2))\n",
    "            except:\n",
    "                no_soln.append(round(l, 2))\n",
    "\n",
    "        self.fig, axs = plt.subplots(figsize=(width, height), dpi=dpi)\n",
    "\n",
    "        x_ = x[: len(y1)]\n",
    "        axs.plot(x_, y1, color='C0', label=f\"f/$Z_c$; $w0(trap)$={w0_in}cm;\" + \"$d_{in}$=%.2f cm\" % r1,)\n",
    "        \n",
    "        axs.legend()\n",
    "        axs.grid()\n",
    "        axs.set_xlabel(\"$d_{in}$/$Z_c$\")\n",
    "        axs.set_ylabel(\"f/$Z_c$\", color='C0')\n",
    "        axs.set_title(\n",
    "            f\"For M={M}: Solution exist for {soln[0]}-{soln[-1]} GHz\"\n",
    "        )\n",
    "        axs.tick_params(axis='y', labelcolor='C0')\n",
    "        \n",
    "        \n",
    "        if len(no_soln) > 0 and len(soln) > 0:\n",
    "            print(f\"\\nSolution: Exists for {soln[0]}-{soln[-1]} GHz\\n\")\n",
    "\n",
    "            print(f\"Does not exist for: {no_soln[0]}-{no_soln[-1]} GHz\\n\")\n",
    "        if len(soln) < 1:\n",
    "            print(f\"x: {x}\\ny: {y1}\")\n",
    "\n",
    "        # Finding R2 position:\n",
    "        x_ = np.array(x_)\n",
    "        y1 = np.array(y1)\n",
    "        r2 = r1 / ((x_ / y1) - 1)\n",
    "        r2_ind = np.logical_and(r2 <= 50, r2 > 0)\n",
    "        \n",
    "        axs1 = axs.twinx()\n",
    "        axs1.plot(x_[r2_ind], r2[r2_ind], color='C1', label=\"$d_{out}$\")\n",
    "        \n",
    "        axs1.set_ylabel('$d_{out}$ (cm)', color='C1')\n",
    "        axs1.tick_params(axis='y', labelcolor='C1')\n",
    "        axs1.legend()\n",
    "        \n",
    "        #self.fig.legend()\n",
    "        \n",
    "        try:\n",
    "            self.save_name.value = f\"M-{M}_{soln[0]}-{soln[-1]}GHz_din_{r1}cm\"\n",
    "        except:\n",
    "            pass\n",
    "        plt.show()\n",
    "\n",
    "    def save_plot(self, event):\n",
    "\n",
    "        self.fig.savefig(f\"./{self.save_name.value}.png\")\n",
    "\n",
    "        t = datetime.datetime.now()\n",
    "        self.print_save.value = f'File \"{self.save_name.value}.png\" Saved; {t.ctime()}'"
   ]
  },
  {
   "cell_type": "markdown",
   "metadata": {},
   "source": [
    "## Simulation to determine optimal focal length solution for elliptical mirror."
   ]
  },
  {
   "cell_type": "code",
   "execution_count": 14,
   "metadata": {},
   "outputs": [
    {
     "data": {
      "application/vnd.jupyter.widget-view+json": {
       "model_id": "b214add79328443f809fffff6559a971",
       "version_major": 2,
       "version_minor": 0
      },
      "text/plain": [
       "VBox(children=(HBox(children=(BoundedIntText(value=10, description='width', max=25, min=5), BoundedIntText(val…"
      ]
     },
     "metadata": {},
     "output_type": "display_data"
    }
   ],
   "source": [
    "start = f_soln()"
   ]
  },
  {
   "cell_type": "markdown",
   "metadata": {},
   "source": [
    "The above simulation shows that we might need different focal length R2 for different wavelength, so we cannot use this method. Let us examine another case as defined below."
   ]
  },
  {
   "cell_type": "markdown",
   "metadata": {},
   "source": [
    "## Case 2:\n",
    "\n",
    "The input and output distance to waist is a fixed sum d, then the expression for input and output distance is given by:"
   ]
  },
  {
   "cell_type": "code",
   "execution_count": 15,
   "metadata": {},
   "outputs": [
    {
     "data": {
      "image/png": "[encoded data removed]",
      "text/latex": [
       "$$\\left ( d_{in} = f - \\frac{1}{M} \\sqrt{f^{2} - f_{0}^{2}}, \\quad d_{in} = f + \\frac{1}{M} \\sqrt{f^{2} - f_{0}^{2}}, \\quad d_{out} = - M \\sqrt{f^{2} - f_{0}^{2}} + f, \\quad d_{out} = M \\sqrt{f^{2} - f_{0}^{2}} + f, \\quad d_{out} = M^{2} \\left(d_{in} - f\\right) + f, \\quad Rz = z \\left(\\frac{Z_{c}^{2}}{z^{2}} + 1\\right), \\quad Wz = w_{0} \\sqrt{1 + \\frac{z^{2}}{Z_{c}^{2}}}\\right )$$"
      ],
      "text/plain": [
       "⎛             __________               __________                             \n",
       "⎜            ╱  2     2               ╱  2     2                 __________   \n",
       "⎜          ╲╱  f  - f₀              ╲╱  f  - f₀                 ╱  2     2    \n",
       "⎜dᵢₙ = f - ─────────────, dᵢₙ = f + ─────────────, dₒᵤₜ = - M⋅╲╱  f  - f₀   + \n",
       "⎜                M                        M                                   \n",
       "⎝                                                                             \n",
       "\n",
       "                                                                              \n",
       "               __________                                      ⎛   2    ⎞     \n",
       "              ╱  2     2               2                       ⎜Z_c     ⎟     \n",
       "f, dₒᵤₜ = M⋅╲╱  f  - f₀   + f, dₒᵤₜ = M ⋅(dᵢₙ - f) + f, Rz = z⋅⎜──── + 1⎟, Wz \n",
       "                                                               ⎜  2     ⎟     \n",
       "                                                               ⎝ z      ⎠     \n",
       "\n",
       "           __________⎞\n",
       "          ╱       2  ⎟\n",
       "         ╱       z   ⎟\n",
       "= w₀⋅   ╱   1 + ──── ⎟\n",
       "       ╱           2 ⎟\n",
       "     ╲╱         Z_c  ⎠"
      ]
     },
     "execution_count": 15,
     "metadata": {},
     "output_type": "execute_result"
    }
   ],
   "source": [
    "f, f0, d, M, d_in, d_out, R_z, Z_c, Z_r = symbols(\"f, f0, d, M, d_in, d_out, R_z, Z_c, Z_r\")\n",
    "Wz, Rz = symbols('Wz, Rz')\n",
    "\n",
    "eq_din_m = Eq(d_in, f - sqrt(f ** 2 - f0 ** 2) / M)\n",
    "eq_din_p = Eq(d_in, f + sqrt(f ** 2 - f0 ** 2) / M)\n",
    "\n",
    "eq_dout_m = Eq(d_out, f - sqrt(f ** 2 - f0 ** 2) * M)\n",
    "eq_dout_p = Eq(d_out, f + sqrt(f ** 2 - f0 ** 2) * M)\n",
    "\n",
    "eq_dout_din = Eq(d_out, f * (1 + M ** 2 * (d_in / f - 1)))\n",
    "eq_Rz = Eq(Rz, z * (1 + (Z_c / z) ** 2))\n",
    "eq_Wz = Eq(Wz, w0*sqrt(1+(z/Z_c)**2))\n",
    "\n",
    "eq_din_m, eq_din_p, eq_dout_m, eq_dout_p, eq_dout_din.simplify(), eq_Rz, eq_Wz"
   ]
  },
  {
   "cell_type": "code",
   "execution_count": 16,
   "metadata": {},
   "outputs": [
    {
     "data": {
      "image/png": "[encoded data removed]",
      "text/latex": [
       "$$\\left ( \\left\\{f + \\frac{1}{M^{2}} \\left(d_{out} - f\\right)\\right\\}, \\quad \\left\\{M^{2} \\left(d_{in} - f\\right) + f\\right\\}\\right )$$"
      ],
      "text/plain": [
       "⎛⎧    dₒᵤₜ - f⎫  ⎧ 2              ⎫⎞\n",
       "⎜⎪f + ────────⎪, ⎨M ⋅(dᵢₙ - f) + f⎬⎟\n",
       "⎜⎨        2   ⎬  ⎩                ⎭⎟\n",
       "⎜⎪       M    ⎪                    ⎟\n",
       "⎝⎩            ⎭                    ⎠"
      ]
     },
     "execution_count": 16,
     "metadata": {},
     "output_type": "execute_result"
    }
   ],
   "source": [
    "solveset(eq_dout_din, d_in), solveset(eq_dout_din, d_out)"
   ]
  },
  {
   "cell_type": "markdown",
   "metadata": {},
   "source": [
    "We will now try to find the focal length for an optimal d_out corresponds to M (which provides w_out since we already know w_in) using the known set d_in value (from trap) and \n",
    "$$f0 = \\pi*(w0_{in}*w0_{out})/\\lambda$$"
   ]
  },
  {
   "cell_type": "code",
   "execution_count": 17,
   "metadata": {},
   "outputs": [
    {
     "data": {
      "image/png": "[encoded data removed]",
      "text/latex": [
       "$$\\left ( d_{in} = f \\left(\\sqrt{- \\frac{Z_{r}^{2}}{f^{2}} + \\frac{1}{M^{2}}} + 1\\right), \\quad d_{out} = f \\left(M^{2} \\left(\\frac{d_{in}}{f} - 1\\right) + 1\\right), \\quad d_{out} = f \\left(M^{2} \\sqrt{- \\frac{Z_{r}^{2}}{f^{2}} + \\frac{1}{M^{2}}} + 1\\right)\\right )$$"
      ],
      "text/plain": [
       "⎛        ⎛      ____________    ⎞                                        ⎛    \n",
       "⎜        ⎜     ╱     2          ⎟                                        ⎜    \n",
       "⎜        ⎜    ╱    Zᵣ    1      ⎟           ⎛ 2 ⎛dᵢₙ    ⎞    ⎞           ⎜ 2  \n",
       "⎜dᵢₙ = f⋅⎜   ╱   - ─── + ──  + 1⎟, dₒᵤₜ = f⋅⎜M ⋅⎜─── - 1⎟ + 1⎟, dₒᵤₜ = f⋅⎜M ⋅ \n",
       "⎜        ⎜  ╱        2    2     ⎟           ⎝   ⎝ f     ⎠    ⎠           ⎜    \n",
       "⎝        ⎝╲╱        f    M      ⎠                                        ⎝   ╲\n",
       "\n",
       "     ____________    ⎞⎞\n",
       "    ╱     2          ⎟⎟\n",
       "   ╱    Zᵣ    1      ⎟⎟\n",
       "  ╱   - ─── + ──  + 1⎟⎟\n",
       " ╱        2    2     ⎟⎟\n",
       "╱        f    M      ⎠⎠"
      ]
     },
     "execution_count": 17,
     "metadata": {},
     "output_type": "execute_result"
    }
   ],
   "source": [
    "eq_dout2 = Eq(d_out, f * (1 + (M ** 2 * (d_in / f - 1))))\n",
    "eq_din2 = Eq(d_in, f * (1 + sqrt(M ** -2 - (Z_r / f) ** 2)))\n",
    "Rz = z * (1 + (Z_c / z) ** 2) # Radius of curvature\n",
    "eq_din2, eq_dout2, eq_dout2.subs({d_in:eq_din2.rhs})"
   ]
  },
  {
   "cell_type": "code",
   "execution_count": 57,
   "metadata": {},
   "outputs": [],
   "source": [
    "class f_case2:\n",
    "    def __init__(self):\n",
    "\n",
    "        # Beam properties\n",
    "        Win = BoundedFloatText(\n",
    "            value=0.34, min=0.1, max=1, step=0.01, description=\"$w0_{in}$: \"\n",
    "        )\n",
    "        Wout = BoundedFloatText(\n",
    "            value=0.15, min=0.01, max=1, step=0.01, description=\"$w0_{out}$: \"\n",
    "        )\n",
    "        D1 = BoundedFloatText(\n",
    "            value=20, min=5, max=30, step=0.1, description=\"$d_{in}$: \"\n",
    "        )\n",
    "        L = IntRangeSlider(\n",
    "            value=[325, 500], min=50, max=1500, step=1, description=\"GHz\"\n",
    "        )\n",
    "\n",
    "        # subplot adjust\n",
    "        plot0_top = BoundedFloatText(\n",
    "            value=0.79, min=0, max=1, step=0.01, description=\"top-sub\"\n",
    "        )\n",
    "        plot0_bottom = BoundedFloatText(\n",
    "            value=0.1, min=0, max=1, step=0.01, description=\"bottom-sub\"\n",
    "        )\n",
    "        plot0_left = BoundedFloatText(\n",
    "            value=0.1, min=0, max=1, step=0.01, description=\"left-sub\"\n",
    "        )\n",
    "        plot0_right = BoundedFloatText(\n",
    "            value=0.9, min=0, max=1, step=0.01, description=\"right-sub\"\n",
    "        )\n",
    "        plot0_wspace = BoundedFloatText(\n",
    "            value=0.34, min=0, max=1, step=0.01, description=\"wspace-sub\"\n",
    "        )\n",
    "\n",
    "        # Legend label adjust\n",
    "        Lg_X = BoundedFloatText(value=0.2, min=0.1, max=2, step=0.1, description=\"lg_x\")\n",
    "        Lg_Y = BoundedFloatText(value=0.8, min=0, max=2, step=0.1, description=\"lg_y\")\n",
    "        Lg_X1 = BoundedFloatText(value=1, min=0.1, max=2, step=0.1, description=\"lg_x\")\n",
    "        Lg_Y1 = BoundedFloatText(value=1, min=0, max=2, step=0.1, description=\"lg_y\")\n",
    "\n",
    "        # Figure property adjust\n",
    "        width = BoundedIntText(value=15, min=5, max=25, step=1, description=\"width\")\n",
    "        height = BoundedIntText(value=6, min=5, max=25, step=1, description=\"height\")\n",
    "        dpi = BoundedIntText(value=100, min=70, max=300, step=1, description=\"Dpi\")\n",
    "\n",
    "        # Figure Label adjust\n",
    "        Xlabel = Text(value=\"Frequency (GHz)\")\n",
    "        Ylabel_0 = Text(value=\" + ve f (cm)\")\n",
    "        Ylabel_1 = Text(value=\" - ve f (cm)\")\n",
    "        Title = Text(\n",
    "            value=\"Determining focal length (f) from given M and $d_{in}$ then calculating $d_{out}$\"\n",
    "        )\n",
    "\n",
    "        # Widget to save plot1\n",
    "        self.save_name = Text(value=\"\")\n",
    "        save_button = Button(description=\"Save\", layout={\"width\": \"300px\"})\n",
    "        save_button.on_click(self.save_plot)\n",
    "        self.print_save = Label(value=\"Status: \")\n",
    "\n",
    "        # Plot 2 widgets\n",
    "        self.focal_list1 = Select(\n",
    "            options=[\"1\"],\n",
    "            description=\"+ve F:\",\n",
    "            layout=Layout(width=\"30%\", height=\"160px\"),\n",
    "        )\n",
    "        self.focal_list2 = Select(\n",
    "            options=[\"2\"],\n",
    "            description=\"-ve F:\",\n",
    "            layout=Layout(width=\"30%\", height=\"160px\"),\n",
    "        )\n",
    "        custom = Checkbox(value=True, description=\"f-Auto\")\n",
    "        f1 = BoundedFloatText(value=5, min=1, max=25, step=0.1, description=\"f (+ve) \")\n",
    "        f2 = BoundedFloatText(\n",
    "            value=-15, min=-25, max=-1, step=0.1, description=\"f(-ve): \"\n",
    "        )\n",
    "        Alpha = BoundedFloatText(\n",
    "            value=90, min=0, max=360, step=1, description=r\"2\\(\\theta\\)\"\n",
    "        )\n",
    "\n",
    "        # Widget to save plot2\n",
    "\n",
    "        self.save_name1 = Text(value=\"\")\n",
    "        save_button1 = Button(description=\"Save\", layout={\"width\": \"300px\"})\n",
    "        save_button1.on_click(self.save_plot1)\n",
    "        self.print_save1 = Label(value=\"Status: \")\n",
    "\n",
    "        # Making interactive outputs\n",
    "        out = interactive_output(\n",
    "            self.plot,\n",
    "            {\n",
    "                \"d1\": D1,\n",
    "                \"w0_in\": Win,\n",
    "                \"w0_out\": Wout,\n",
    "                \"lam\": L,\n",
    "                \"width\": width,\n",
    "                \"height\": height,\n",
    "                \"dpi\": dpi,\n",
    "                \"xlabel\": Xlabel,\n",
    "                \"ylabel_0\": Ylabel_0,\n",
    "                \"ylabel_1\": Ylabel_1,\n",
    "                \"title\": Title,\n",
    "                \"lg_x\": Lg_X,\n",
    "                \"lg_y\": Lg_Y,\n",
    "                \"top\": plot0_top,\n",
    "                \"bottom\": plot0_bottom,\n",
    "                \"left\": plot0_left,\n",
    "                \"right\": plot0_right,\n",
    "                \"wspace\": plot0_wspace,\n",
    "            },\n",
    "        )\n",
    "        out1 = interactive_output(\n",
    "            self.plot2,\n",
    "            {\n",
    "                \"focal_list1\": self.focal_list1,\n",
    "                \"focal_list2\": self.focal_list2,\n",
    "                \"d1\": D1,\n",
    "                \"width\": width,\n",
    "                \"height\": height,\n",
    "                \"dpi\": dpi,\n",
    "                \"lam\": L,\n",
    "                \"w0_in\": Win,\n",
    "                \"w0_out\": Wout,\n",
    "                \"lg_x\": Lg_X1,\n",
    "                \"lg_y\": Lg_Y1,\n",
    "                \"f_auto\": custom,\n",
    "                \"f_manual1\": f1,\n",
    "                \"f_manual2\": f2,\n",
    "                \"theta\": Alpha,\n",
    "            },\n",
    "        )\n",
    "\n",
    "        # Widget to save plot3\n",
    "        self.save_name2 = Text(value=\"\")\n",
    "        save_button2 = Button(description=\"Save\", layout={\"width\": \"300px\"})\n",
    "        save_button2.on_click(self.save_plot2)\n",
    "        self.print_save2 = Label(value=\"Status: \")\n",
    "\n",
    "        out2 = interactive_output(\n",
    "            self.new_beams_fn,\n",
    "            {\n",
    "                \"f_auto\": custom,\n",
    "                \"focal_list1\": self.focal_list1,\n",
    "                \"focal_list2\": self.focal_list2,\n",
    "                \"f_manual1\": f1,\n",
    "                \"f_manual2\": f2,\n",
    "                \"win_new\": Win,\n",
    "                \"w_out_use\": Wout,\n",
    "                \"d1_in\": D1,\n",
    "                \"width\": width,\n",
    "                \"height\": height,\n",
    "                \"dpi\": dpi,\n",
    "            },\n",
    "        )\n",
    "\n",
    "        # Alignment of widgets\n",
    "        row1 = HBox([width, height, dpi])\n",
    "        row2 = HBox([Win, Wout, D1, L])\n",
    "        row3 = HBox([Xlabel, VBox([Ylabel_0, Ylabel_1]), Title])\n",
    "        row4 = HBox([out])\n",
    "        row5 = HBox(\n",
    "            [\n",
    "                Lg_X,\n",
    "                Lg_Y,\n",
    "                VBox([plot0_top, plot0_bottom, plot0_left, plot0_right, plot0_wspace]),\n",
    "            ]\n",
    "        )\n",
    "        row6 = VBox([self.save_name, save_button, self.print_save])\n",
    "        row7 = HBox([self.focal_list1, self.focal_list2])\n",
    "        row8 = HBox([out1])\n",
    "        row9 = HBox([Lg_X1, Lg_Y1])\n",
    "        row10 = HBox(\n",
    "            [\n",
    "                VBox([self.save_name1, save_button1, self.print_save1]),\n",
    "                VBox([custom, f1, f2, Alpha]),\n",
    "            ]\n",
    "        )\n",
    "        row11 = VBox([out2])\n",
    "        row12 = VBox([self.save_name2, save_button2, self.print_save2])\n",
    "\n",
    "        display(\n",
    "            VBox(\n",
    "                [\n",
    "                    row1,\n",
    "                    row2,\n",
    "                    row3,\n",
    "                    row4,\n",
    "                    row5,\n",
    "                    row6,\n",
    "                    row7,\n",
    "                    row8,\n",
    "                    row9,\n",
    "                    row10,\n",
    "                    row11,\n",
    "                    row12,\n",
    "                ]\n",
    "            )\n",
    "        )\n",
    "\n",
    "    def plot(\n",
    "        self,\n",
    "        d1,\n",
    "        w0_in,\n",
    "        w0_out,\n",
    "        lam,\n",
    "        width,\n",
    "        height,\n",
    "        dpi,\n",
    "        xlabel,\n",
    "        ylabel_0,\n",
    "        ylabel_1,\n",
    "        title,\n",
    "        lg_x,\n",
    "        lg_y,\n",
    "        top,\n",
    "        bottom,\n",
    "        left,\n",
    "        right,\n",
    "        wspace,\n",
    "    ):\n",
    "\n",
    "        M_ = w0_out / w0_in\n",
    "        lam = np.linspace(*lam, 10)\n",
    "\n",
    "        f0_ = []\n",
    "        f_m, f_p = [], []\n",
    "        d_out_m, d_out_p = [], []\n",
    "        no_soln, soln = [], []\n",
    "\n",
    "        freq = []\n",
    "\n",
    "        for l in lam:\n",
    "            tempx = (np.pi * w0_in * w0_out) / ghz_cm(l)\n",
    "\n",
    "            try:\n",
    "                f0_.append(tempx)\n",
    "                tempy = solveset(\n",
    "                    eq_din_p.subs({M: M_, d_in: d1, f0: tempx}), f\n",
    "                )  # find focal length, f,  from d_in (+ve) equation\n",
    "\n",
    "                tempy_m = float(tempy.args[0])  # Negative f\n",
    "                tempy_p = float(tempy.args[1])  # Positive f\n",
    "\n",
    "                f_m.append(tempy_m)\n",
    "                f_p.append(tempy_p)\n",
    "\n",
    "                temp_dout_m = float(\n",
    "                    eq_dout_p.subs({M: M_, f: tempy_m, f0: tempx}).rhs\n",
    "                )  # finding d_out (equation corresponds to same sign as d_in: +ve) from the calculated -ve f\n",
    "                temp_dout_p = float(\n",
    "                    eq_dout_p.subs({M: M_, f: tempy_p, f0: tempx}).rhs\n",
    "                )  # finding d_out (equation corresponds to same sign as d_in: +ve) from the calculated +ve f\n",
    "\n",
    "                d_out_m.append(temp_dout_m)\n",
    "                d_out_p.append(temp_dout_p)\n",
    "\n",
    "                soln.append(l)\n",
    "                freq.append(l)\n",
    "\n",
    "            except:\n",
    "                no_soln.append(l)\n",
    "\n",
    "        f0_ = np.array(f0_)\n",
    "        f_m = np.array(f_m)\n",
    "        f_p = np.array(f_p)\n",
    "        d_out_m = np.array(d_out_m)\n",
    "        d_out_p = np.array(d_out_p)\n",
    "\n",
    "        print(f\"f0: {f0_}\")\n",
    "        print(f\"Frequencies: {lam}\")\n",
    "        print(f\"\\n+ve focus: {f_p}\\n-ve focus: {f_m}\\n\")\n",
    "        print(f\"\\nd_out_+ve: {d_out_p}\\nd_out_-ve: {d_out_m}\\n\")\n",
    "\n",
    "        self.focal_list1.options = f_p\n",
    "        self.focal_list2.options = f_m\n",
    "\n",
    "        if len(no_soln) > 0 and len(soln) > 0:\n",
    "            print(f\"\\nSolution: Exists for {soln[0]}-{soln[-1]} GHz\\n\")\n",
    "            print(f\"nSolution does not exist for: {no_soln[0]}-{no_soln[-1]} GHz\\n\")\n",
    "        elif len(soln) > 0:\n",
    "            print(f\"Solution: Exists for {soln[0]}-{soln[-1]} GHz\")\n",
    "\n",
    "        # self.fig, ax = plt.subplots(nrows=1, ncols=2, figsize=(width, height), dpi=dpi)\n",
    "        self.fig, ax = plt.subplots(nrows=1, ncols=2, figsize=(width, height), dpi=dpi)\n",
    "        plt.suptitle(\n",
    "            title\n",
    "            + \"\\n$w^{in}_{0}$: %.2f cm, $w^{out}_{0}$: %.3f cm, $d_{in}$: %.2f cm; [%i-%i] GHz\"\n",
    "            % (w0_in, w0_out, d1, lam[0], lam[-1])\n",
    "        )\n",
    "\n",
    "        plt.subplots_adjust(\n",
    "            top=top, bottom=bottom, left=left, right=right, wspace=wspace\n",
    "        )\n",
    "        ax0, ax1 = ax  # , ax.twinx()\n",
    "\n",
    "        # Subplot 1: Positve focus\n",
    "\n",
    "        ax0.plot(freq, f_p, \"--\", color=\"C0\", label=\"+ve f\")\n",
    "\n",
    "        ax0.tick_params(axis=\"y\", labelcolor=\"C0\")\n",
    "        ax0.grid()\n",
    "        ax0.set_xlabel(xlabel)\n",
    "        ax0.set_ylabel(ylabel_0, color=\"C0\")\n",
    "\n",
    "        ax0_1 = ax0.twinx()\n",
    "        ax0_1.plot(freq, d_out_p, \"o\", color=\"C1\", label=\"+ $d_{out}$\")\n",
    "        ax0_1.plot(freq, -d_out_m, \"x\", color=\"C2\", label=\"|-$d_{out}$|\")\n",
    "\n",
    "        ax0_1.grid()\n",
    "        ax0_1.tick_params(axis=\"y\", labelcolor=\"C1\")\n",
    "        ax0_1.set_ylabel(\"+ve $d_{out} (cm)$\", color=\"C1\")\n",
    "\n",
    "        # Plotting f0\n",
    "        ax0_2 = ax0.twiny()\n",
    "        ax0_2.plot(f0_, f_p, \".\", color=\"C0\")\n",
    "        ax0_2.set_xlabel(\"$f_0$ (cm)\")\n",
    "\n",
    "        # Subplot 2: Negative focus\n",
    "\n",
    "        ax1.plot(freq, f_m, \"--\", color=\"C3\", label=\" -ve f\")\n",
    "\n",
    "        ax1.set_ylabel(ylabel_1, color=\"C3\")\n",
    "        ax1.set_xlabel(xlabel)\n",
    "        ax1.grid()\n",
    "        ax1.tick_params(axis=\"y\", labelcolor=\"C3\")\n",
    "\n",
    "        ax1_1 = ax1.twinx()\n",
    "        ax1_1.plot(freq, d_out_m, \"o\", color=\"C4\", label=\" - $d_{out}$\")\n",
    "\n",
    "        ax1_1.grid()\n",
    "        ax1_1.tick_params(axis=\"y\", labelcolor=\"C4\")\n",
    "        ax1_1.set_ylabel(\"-ve $d_{out} (cm)$\", color=\"C4\")\n",
    "\n",
    "        # Plotting f0\n",
    "        ax1_2 = ax1.twiny()\n",
    "        ax1_2.plot(f0_, f_m, \".\", color=\"C3\")\n",
    "        ax1_2.set_xlabel(\"$f_0$ (cm)\")\n",
    "\n",
    "        # Placing Legends\n",
    "        ax0.legend(bbox_to_anchor=(lg_x, lg_y))\n",
    "        ax0_1.legend(bbox_to_anchor=(lg_x, lg_y - 0.1))\n",
    "\n",
    "        ax1.legend(bbox_to_anchor=(1 - lg_x, lg_y))\n",
    "        ax1_1.legend(bbox_to_anchor=(1 - lg_x, lg_y - 0.1))\n",
    "\n",
    "        # plt.tight_layout()\n",
    "\n",
    "        self.save_name.value = f\"f_for_{lam[0]}-{lam[-1]}GHz\"\n",
    "\n",
    "    def plot2(\n",
    "        self,\n",
    "        focal_list1,\n",
    "        focal_list2,\n",
    "        d1,\n",
    "        width,\n",
    "        height,\n",
    "        dpi,\n",
    "        lam,\n",
    "        w0_in,\n",
    "        w0_out,\n",
    "        lg_x,\n",
    "        lg_y,\n",
    "        f_auto,\n",
    "        f_manual1,\n",
    "        f_manual2,\n",
    "        theta,\n",
    "    ):\n",
    "\n",
    "        if not f_auto:\n",
    "            focal_list1, focal_list2 = f_manual1, f_manual2\n",
    "\n",
    "        M_ = w0_out / w0_in\n",
    "        lam = np.linspace(*lam, 10)\n",
    "        effective_f = float(f_ellipsoid.subs({R1: focal_list1, R2: focal_list2}))\n",
    "\n",
    "        d_out_f0 = []\n",
    "        d_out_values1, d_out_values2 = [], []\n",
    "        freq, error_freq = [], []\n",
    "\n",
    "        for wn in lam:\n",
    "            try:\n",
    "\n",
    "                temp_f0 = (np.pi * w0_in * w0_out) / ghz_cm(wn)\n",
    "\n",
    "                temp_dout1 = float(\n",
    "                    eq_dout_p.subs({M: M_, f0: temp_f0, f: focal_list1}).rhs\n",
    "                )\n",
    "                temp_dout2 = float(\n",
    "                    eq_dout_p.subs({M: M_, f0: temp_f0, f: focal_list2}).rhs\n",
    "                )\n",
    "\n",
    "                d_out_values1.append(temp_dout1)\n",
    "                d_out_values2.append(temp_dout2)\n",
    "\n",
    "                freq.append(wn)\n",
    "                d_out_f0.append(temp_f0)\n",
    "\n",
    "            except Exception as e:\n",
    "                print(f\"Error: {e}\\n\")\n",
    "                error_freq.append(wn)\n",
    "\n",
    "        d_out_values1 = np.array(d_out_values1)  # +ve\n",
    "        d_out_values2 = np.array(d_out_values2)  # -ve\n",
    "        d_out_f0 = np.array(d_out_f0)\n",
    "\n",
    "        # Making Plots\n",
    "\n",
    "        self.fig1, axs = plt.subplots(figsize=(width, height), dpi=dpi)\n",
    "\n",
    "        # Plot 1 +ve d_out\n",
    "\n",
    "        axs.plot(\n",
    "            freq, d_out_values1, color=\"C0\", label=f\"f(+ve) = {focal_list1:.2f} cm\"\n",
    "        )\n",
    "\n",
    "        axs.grid()\n",
    "        axs.tick_params(axis=\"y\", labelcolor=\"C0\")\n",
    "        axs.set_ylabel(\"$d_{out}$ from +ve focus (cm)\", color=\"C0\")\n",
    "        axs.set_xlabel(\"Frequency (GHz)\")\n",
    "        axs.set_title(\n",
    "            \"Determining $d_{out}$ from a fixed $f$ and $d_{in}$\\n$w^{in}_{0}$: %.2f cm, $w^{out}_{0}$: %.3f cm, $d_{in}$: %.2f cm, [%i-%i] GHz\"\n",
    "            % (w0_in, w0_out, d1, lam[0], lam[-1])\n",
    "        )\n",
    "\n",
    "        # Plot 2 (twinx) -ve d_out\n",
    "        axs1 = axs.twinx()\n",
    "        axs1.plot(\n",
    "            freq, d_out_values2, \"x\", color=\"C1\", label=f\"f(-ve) = {focal_list2:.2f} cm\"\n",
    "        )\n",
    "\n",
    "        axs1.grid()\n",
    "        axs1.tick_params(axis=\"y\", labelcolor=\"C1\")\n",
    "        axs1.set_ylabel(\"$d_{out}$ from -ve focus (cm)\", color=\"C1\")\n",
    "\n",
    "        # Placing Legends\n",
    "        axs.legend(bbox_to_anchor=(lg_x, lg_y))\n",
    "        axs1.legend(bbox_to_anchor=(lg_x, lg_y - 0.1))\n",
    "\n",
    "        self.save_name1.value = f\"d_out_for_{lam[0]}-{lam[-1]}GHz\"\n",
    "\n",
    "    def new_beams_fn(\n",
    "        self,\n",
    "        f_auto,\n",
    "        focal_list1,\n",
    "        focal_list2,\n",
    "        f_manual1,\n",
    "        f_manual2,\n",
    "        win_new,\n",
    "        w_out_use,\n",
    "        d1_in,\n",
    "        width,\n",
    "        height,\n",
    "        dpi,\n",
    "    ):\n",
    "\n",
    "        colors = \"C0, C1, C2, C3, C4, C5, C6, C7, C8, C9\".split(\", \")\n",
    "\n",
    "        if f_auto:\n",
    "            f_manual1, f_manual2 = focal_list1, focal_list2\n",
    "\n",
    "        print(f\"Focii: f_+ = {f_manual1:.2f}cm; f_- = {f_manual2:.2f}cm\\n\")\n",
    "\n",
    "        size = 5  # no. of wn\n",
    "\n",
    "        self.fig2, ((ax3, ax4), (ax5, ax6)) = plt.subplots(\n",
    "            nrows=2,\n",
    "            ncols=2,\n",
    "            figsize=(width + 5, height + 5),\n",
    "            dpi=dpi,\n",
    "            sharey=True,\n",
    "            # sharex=True,\n",
    "            constrained_layout=True,\n",
    "            gridspec_kw={\"wspace\": 0, \"hspace\": 0.2},\n",
    "        )\n",
    "\n",
    "        # 3-sets of wavelength range for 3-different horn\n",
    "        wn_set1 = np.linspace(325, 500, size)\n",
    "        wn_set2 = np.linspace(500, 750, size)\n",
    "        wn_set3 = np.linspace(750, 1100, size)\n",
    "        wn_list = np.array([wn_set1, wn_set2, wn_set3])\n",
    "\n",
    "        # 3-sets of horns waist for different wavelength\n",
    "        w0_out_list = [0.15, 0.099, 0.066]\n",
    "\n",
    "        # In-use\n",
    "        f_in_use = f_manual1\n",
    "\n",
    "        # Making empty array\n",
    "        d2 = []\n",
    "        d2_temp = []\n",
    "\n",
    "        d1 = []\n",
    "        d1_temp = []\n",
    "\n",
    "        f0_full_range = []\n",
    "        f0_full_range_temp = []\n",
    "\n",
    "        new_beam = []\n",
    "        num = 0\n",
    "\n",
    "        for w0_out_new in w0_out_list:\n",
    "            wn_new_list = wn_list[num]\n",
    "            M_ = w0_out_new / win_new\n",
    "\n",
    "            print(f\"w_out: {w0_out_new}\\nM={M_}\\nwn: {wn_new_list}\\n\")\n",
    "\n",
    "            num += 1\n",
    "\n",
    "            for wn_new in wn_new_list:\n",
    "                temp_f0 = (np.pi * win_new * w0_out_new) / ghz_cm(wn_new)\n",
    "                f0_full_range_temp.append(temp_f0)\n",
    "\n",
    "                temp_dout = float(eq_dout_p.subs({M: M_, f0: temp_f0, f: f_in_use}).rhs)\n",
    "                d2_temp.append(temp_dout)\n",
    "\n",
    "                temp_din = float(eq_din_p.subs({M: M_, f0: temp_f0, f: f_in_use}).rhs)\n",
    "                d1_temp.append(temp_din)\n",
    "\n",
    "                ################################################################################################################\n",
    "\n",
    "            f0_full_range.append(f0_full_range_temp)\n",
    "            d2.append(d2_temp)\n",
    "            d1.append(d1_temp)\n",
    "\n",
    "            print(f\"d_out: {d2_temp}\\nf0: {f0_full_range_temp}\\nd_in: {d1_temp}\\n\")\n",
    "\n",
    "            f0_full_range_temp = []\n",
    "            d2_temp = []\n",
    "            d1_temp = []\n",
    "\n",
    "            #####################################################################################################################\n",
    "        #########################################################################################################################\n",
    "\n",
    "        d1 = np.array(d1)\n",
    "        d2 = np.array(d2)\n",
    "        f0_full_range = np.array(f0_full_range)\n",
    "\n",
    "        d1_beam = []\n",
    "        d2_beam = []\n",
    "        d2_beam_optimal = []\n",
    "        d2_required = []\n",
    "\n",
    "        num = 0\n",
    "        for w0_out_new in w0_out_list:\n",
    "\n",
    "            wn_new_list = wn_list[num]\n",
    "            d_in_new_list = d1[num]\n",
    "            d_out_new_list = d2[num]\n",
    "\n",
    "            mrkr = [\".-\", \"x-\", \"--\"]\n",
    "            c = 0\n",
    "\n",
    "            d2_beam_optimal_temp = []\n",
    "            d2_req_temp = []\n",
    "\n",
    "            for wn_new, d_out_new, d_in_new in zip(\n",
    "                wn_new_list, d_out_new_list, d_in_new_list\n",
    "            ):\n",
    "\n",
    "                #####################################################################################################################\n",
    "\n",
    "                # Calculating d2 optimal beam from optimal d_out (d2)\n",
    "                optimal_d2 = d2[0, 0]\n",
    "\n",
    "                d2_optimal_array = np.linspace(0, d_out_new, size)\n",
    "                d2_beam_optimal_calculation = np.array(\n",
    "                    [\n",
    "                        float(\n",
    "                            w.subs({w0: w0_out_new, lam: ghz_cm(wn_new), z: i}).evalf()\n",
    "                        )\n",
    "                        for i in d2_optimal_array\n",
    "                    ]\n",
    "                )\n",
    "\n",
    "                d2_beam_optimal_temp.append(d2_beam_optimal_calculation)\n",
    "\n",
    "                d2_plot = np.linspace(optimal_d2 - d_out_new, optimal_d2, size)\n",
    "\n",
    "                ax3.plot(\n",
    "                    d2_plot,\n",
    "                    d2_beam_optimal_calculation,\n",
    "                    colors[c] + mrkr[num],\n",
    "                    zorder=1,\n",
    "                    label=wn_new,\n",
    "                )\n",
    "                ax3.plot(\n",
    "                    d2_plot,\n",
    "                    -d2_beam_optimal_calculation,\n",
    "                    colors[c] + mrkr[num],\n",
    "                    zorder=1,\n",
    "                )\n",
    "\n",
    "                # Calculating d2 optimal beam from optimal d_in (d1)\n",
    "\n",
    "                d1_optimal_array = np.linspace(\n",
    "                    d_in_new - d1_in, d_in_new, size\n",
    "                )  # d1_in is the fixed distance from trap to mirror\n",
    "                d1_beam_trap_calculation = np.array(\n",
    "                    [\n",
    "                        float(w.subs({w0: win_new, lam: ghz_cm(wn_new), z: i}).evalf())\n",
    "                        for i in d1_optimal_array\n",
    "                    ]\n",
    "                )\n",
    "\n",
    "                d1_plot = np.linspace(0, d1_in, size)\n",
    "                ax4.plot(\n",
    "                    d1_plot, d1_beam_trap_calculation, colors[c] + mrkr[num], zorder=1\n",
    "                )\n",
    "                ax4.plot(\n",
    "                    d1_plot, -d1_beam_trap_calculation, colors[c] + mrkr[num], zorder=1\n",
    "                )\n",
    "\n",
    "                # Making d1 propagates the way we want (i.e., 0 to d1_in, the fixed distance from trap to mirror)\n",
    "                d1_fixed = np.linspace(0, d1_in, size)\n",
    "\n",
    "                d1_beam_trap_required = np.array(\n",
    "                    [\n",
    "                        float(w.subs({w0: win_new, lam: ghz_cm(wn_new), z: i}).evalf())\n",
    "                        for i in d1_fixed\n",
    "                    ]\n",
    "                )\n",
    "\n",
    "                ax6.plot(\n",
    "                    d1_fixed, d1_beam_trap_required, colors[c] + mrkr[num], zorder=1\n",
    "                )\n",
    "                ax6.plot(\n",
    "                    d1_fixed, -d1_beam_trap_required, colors[c] + mrkr[num], zorder=1\n",
    "                )\n",
    "\n",
    "                # Now from the position in mirror d_in, we calculate the required d_out distance (NOTE: This is not from optimal solution).\n",
    "                wz_at_mirror_for_d2 = d1_beam_trap_required[-1]\n",
    "                zc_w_out = (np.pi * w0_out_new ** 2) / ghz_cm(wn_new)\n",
    "\n",
    "                d2_wz_required_position = float(\n",
    "                    solveset(\n",
    "                        eq_Wz.subs(\n",
    "                            {Wz: wz_at_mirror_for_d2, w0: w0_out_new, Z_c: zc_w_out}\n",
    "                        ),\n",
    "                        z,\n",
    "                    ).args[-1]\n",
    "                )\n",
    "                d2_req_temp.append(d2_wz_required_position)\n",
    "\n",
    "                d2_required_array = np.linspace(0, d2_wz_required_position, size)\n",
    "\n",
    "                d2_beam_trap_required = np.array(\n",
    "                    [\n",
    "                        float(\n",
    "                            w.subs({w0: w0_out_new, lam: ghz_cm(wn_new), z: i}).evalf()\n",
    "                        )\n",
    "                        for i in d2_required_array\n",
    "                    ]\n",
    "                )\n",
    "\n",
    "                d2_new_pos = optimal_d2 - d2_wz_required_position\n",
    "                d2_plot = np.linspace(d2_new_pos, optimal_d2, size)\n",
    "\n",
    "                ax5.plot(\n",
    "                    d2_plot, d2_beam_trap_required, colors[c] + mrkr[num], zorder=1\n",
    "                )\n",
    "                ax5.plot(\n",
    "                    d2_plot, -d2_beam_trap_required, colors[c] + mrkr[num], zorder=1\n",
    "                )\n",
    "\n",
    "                c += 1\n",
    "\n",
    "                #####################################################################################################################\n",
    "            #########################################################################################################################\n",
    "\n",
    "            d2_beam_optimal.append(d2_beam_optimal_temp)\n",
    "            d2_required.append(d2_req_temp)\n",
    "\n",
    "            ax5.vlines(d2_new_pos, ymin=-w0_out_new, ymax=w0_out_new)\n",
    "            ax5.annotate(f\"$w_0$:{w0_out_new}\", xy=(d2_new_pos + 0.5, 0))\n",
    "\n",
    "            num += 1\n",
    "\n",
    "            #####################################################################################################################\n",
    "        #########################################################################################################################\n",
    "\n",
    "        d2_beam_optimal = np.array(d2_beam_optimal)\n",
    "        d2_required = np.array(d2_required)\n",
    "        \n",
    "        #########################################################################################################################\n",
    "        \n",
    "        ## Plot configuration\n",
    "\n",
    "        # ax3\n",
    "        ax3.set(title=\"THz source to Mirror\\noptimal $d_{out}$ from calculation\", ylabel=\"w(z)-Beam Radius (cm)\")\n",
    "        ax3.legend(ncol=3)\n",
    "        ax3.set_xlim(right=d2[0, 0])\n",
    "\n",
    "        # ax4\n",
    "        ax4.set(\n",
    "            title=\"Mirror to Trap ($d_{in}$=%.1fcm, \" % d1_in\n",
    "        )\n",
    "        ax4.set_xlim(right=d1_in)\n",
    "        ax4.legend(\n",
    "            title=f\"$f_+$ = {f_manual1:.2f}cm\\n$f_-$ = {f_manual2:.2f}cm\",\n",
    "            loc=\"upper right\",\n",
    "        )\n",
    "\n",
    "        # ax5\n",
    "        ax5.set(title=\"THz source to Mirror\\nRequired $d_{out}$ (not from calculation)\", xlabel=\"$d_{out}$ (cm)\", ylabel=\"w(z)-Beam Radius (cm)\")\n",
    "        ax5.set_xlim(right=d2[0, 0])\n",
    "\n",
    "        # ax6\n",
    "        ax6.set(xlabel=\"$d_{in}$ (cm)\")\n",
    "        ax6.set_xlim(right=d1_in)\n",
    "\n",
    "        for axes in (ax3, ax4, ax5, ax6):\n",
    "            axes.grid()\n",
    "            axes.xaxis.set_minor_locator(AutoMinorLocator())\n",
    "\n",
    "        for axes in (ax4, ax6):\n",
    "            axes.vlines(0, ymin=-win_new, ymax=win_new)\n",
    "            axes.annotate(f\"$w_0$:{win_new}\", xy=(3, 0))\n",
    "            axes.invert_xaxis()\n",
    "\n",
    "        #########################################################################################################################\n",
    "\n",
    "        print(\n",
    "            f\"\\nBeam radius(At mirror):\\n{d2_beam_optimal[:, :, -1]}\\nMirror size required >= {(d2_beam_optimal[:, :, -1].max()*3):.2f}cm\\n\"\n",
    "        )\n",
    "        print(f\"d_out we require: {d2_required}\\n\")\n",
    "        print(f\"\\nd_out: {d2}\\n\\nd_in: {d1}\\n\\nwn: {wn_list}\\n\\nf0: {f0_full_range}\")\n",
    "        \n",
    "        self.save_name2.value = f\"calibrated_d_out_for_325-1100 GHz\"\n",
    "\n",
    "    def save_plot(self, event):\n",
    "\n",
    "        try:\n",
    "            if not isdir(\"./Simulations\"):\n",
    "                os.mkdir(\"./Simulations\")\n",
    "\n",
    "            self.fig.savefig(f\"./Simulations/{self.save_name.value}.png\")\n",
    "            self.fig.savefig(f\"./Simulations/{self.save_name.value}.pdf\")\n",
    "\n",
    "            t = datetime.datetime.now()\n",
    "            self.print_save.value = (\n",
    "                f'File \"{self.save_name.value}.png\" Saved; {t.ctime()}'\n",
    "            )\n",
    "\n",
    "        except:\n",
    "            self.print_save2.value = \"Error Occured.\"\n",
    "\n",
    "    def save_plot1(self, event):\n",
    "\n",
    "        try:\n",
    "            if not isdir(\"./Simulations\"):\n",
    "                os.mkdir(\"./Simulations\")\n",
    "\n",
    "            self.fig1.savefig(f\"./Simulations/{self.save_name1.value}.png\")\n",
    "            self.fig1.savefig(f\"./Simulations/{self.save_name1.value}.pdf\")\n",
    "\n",
    "            t = datetime.datetime.now()\n",
    "            self.print_save1.value = (\n",
    "                f'File \"{self.save_name1.value}.png\" Saved; {t.ctime()}'\n",
    "            )\n",
    "\n",
    "        except:\n",
    "            self.print_save2.value = \"Error Occured.\"\n",
    "\n",
    "    def save_plot2(self, event):\n",
    "\n",
    "        try:\n",
    "            if not isdir(\"./Simulations\"):\n",
    "                os.mkdir(\"./Simulations\")\n",
    "\n",
    "            self.fig2.savefig(f\"./Simulations/{self.save_name2.value}.png\")\n",
    "            self.fig2.savefig(f\"./Simulations/{self.save_name2.value}.pdf\")\n",
    "\n",
    "            t = datetime.datetime.now()\n",
    "            self.print_save2.value = (\n",
    "                f'File \"{self.save_name2.value}.png\" Saved; {t.ctime()}'\n",
    "            )\n",
    "\n",
    "        except:\n",
    "            self.print_save2.value = \"Error Occured.\""
   ]
  },
  {
   "cell_type": "code",
   "execution_count": 60,
   "metadata": {},
   "outputs": [
    {
     "data": {
      "application/vnd.jupyter.widget-view+json": {
       "model_id": "ccbb003399d8470f840ebf5419c5ad7b",
       "version_major": 2,
       "version_minor": 0
      },
      "text/plain": [
       "VBox(children=(HBox(children=(BoundedIntText(value=15, description='width', max=25, min=5), BoundedIntText(val…"
      ]
     },
     "metadata": {},
     "output_type": "display_data"
    }
   ],
   "source": [
    "#%matplotlib widget\n",
    "%matplotlib inline\n",
    "start = f_case2()"
   ]
  },
  {
   "cell_type": "code",
   "execution_count": 20,
   "metadata": {},
   "outputs": [
    {
     "name": "stdout",
     "output_type": "stream",
     "text": [
      "Beam distance from Mirror to waist: 44.26873828918886cm\n"
     ]
    }
   ],
   "source": [
    "wz_at_mirror = 1.17958883\n",
    "w0_temp = 0.34\n",
    "wn_temp = 1100\n",
    "zc_temp = (np.pi*w0_temp**2)/ghz_cm(wn_temp)\n",
    "\n",
    "z_calculated = float(solveset(eq_Wz.subs({Wz:wz_at_mirror, w0:w0_temp, Z_c:zc_temp}), z).args[-1])\n",
    "print(f\"Beam distance from Mirror to waist: {z_calculated}cm\")"
   ]
  },
  {
   "cell_type": "code",
   "execution_count": 21,
   "metadata": {},
   "outputs": [
    {
     "data": {
      "image/png": "[encoded data removed]",
      "text/latex": [
       "$$d_{out} = f \\left(M^{2} \\left(\\frac{d_{in}}{f} - 1\\right) + 1\\right)$$"
      ],
      "text/plain": [
       "         ⎛ 2 ⎛dᵢₙ    ⎞    ⎞\n",
       "dₒᵤₜ = f⋅⎜M ⋅⎜─── - 1⎟ + 1⎟\n",
       "         ⎝   ⎝ f     ⎠    ⎠"
      ]
     },
     "execution_count": 21,
     "metadata": {},
     "output_type": "execute_result"
    }
   ],
   "source": [
    "eq_dout_din"
   ]
  },
  {
   "cell_type": "code",
   "execution_count": 22,
   "metadata": {},
   "outputs": [
    {
     "data": {
      "image/png": "[encoded data removed]",
      "text/latex": [
       "$$\\left ( 20.00866859285686, \\quad 20.003642518254267\\right )$$"
      ],
      "text/plain": [
       "(20.00866859285686, 20.003642518254267)"
      ]
     },
     "execution_count": 22,
     "metadata": {},
     "output_type": "execute_result"
    }
   ],
   "source": [
    "float(solveset(eq_dout_din.subs({f:6.29, d_out:8.960156084249821, M:0.15/0.34}), d_in).args[0]), float(solveset(eq_dout_din.subs({f:-15.96, d_out:-8.960156084249821, M:0.15/0.34}), d_in).args[0])"
   ]
  },
  {
   "cell_type": "code",
   "execution_count": 23,
   "metadata": {},
   "outputs": [
    {
     "data": {
      "image/png": "[encoded data removed]",
      "text/latex": [
       "$$d_{out} = 8.95846885813149$$"
      ],
      "text/plain": [
       "dₒᵤₜ = 8.95846885813149"
      ]
     },
     "execution_count": 23,
     "metadata": {},
     "output_type": "execute_result"
    }
   ],
   "source": [
    "eq_dout_din.subs({f:6.29, d_in:20, M:0.15/0.34})"
   ]
  },
  {
   "cell_type": "code",
   "execution_count": 24,
   "metadata": {},
   "outputs": [
    {
     "data": {
      "image/png": "[encoded data removed]",
      "text/latex": [
       "$$\\left ( d_{out} = 7.45238503460208, \\quad d_{out} = -12.911176816609\\right )$$"
      ],
      "text/plain": [
       "(dₒᵤₜ = 7.45238503460208, dₒᵤₜ = -12.911176816609)"
      ]
     },
     "execution_count": 24,
     "metadata": {},
     "output_type": "execute_result"
    }
   ],
   "source": [
    "eq_dout_din.subs({f:6.29, d_in:20, M:0.099/0.34}), eq_dout_din.subs({f:-15.96, d_in:20, M:0.099/0.34})"
   ]
  },
  {
   "cell_type": "code",
   "execution_count": 25,
   "metadata": {},
   "outputs": [
    {
     "data": {
      "image/png": "[encoded data removed]",
      "text/latex": [
       "$$-5.5$$"
      ],
      "text/plain": [
       "-5.5"
      ]
     },
     "execution_count": 25,
     "metadata": {},
     "output_type": "execute_result"
    }
   ],
   "source": [
    "7.4-12.9"
   ]
  },
  {
   "cell_type": "code",
   "execution_count": 26,
   "metadata": {},
   "outputs": [
    {
     "data": {
      "image/png": "[encoded data removed]",
      "text/latex": [
       "$$\\left ( w_{0} \\sqrt{\\frac{lam^{2} z^{2}}{\\pi^{2} w_{0}^{4}} + 1}, \\quad R_{z}\\right )$$"
      ],
      "text/plain": [
       "⎛         _____________     ⎞\n",
       "⎜        ╱    2  2          ⎟\n",
       "⎜       ╱  lam ⋅z           ⎟\n",
       "⎜w₀⋅   ╱   ─────── + 1 , R_z⎟\n",
       "⎜     ╱      2   4          ⎟\n",
       "⎝   ╲╱      π ⋅w₀           ⎠"
      ]
     },
     "execution_count": 26,
     "metadata": {},
     "output_type": "execute_result"
    }
   ],
   "source": [
    "w, R_z,"
   ]
  },
  {
   "cell_type": "code",
   "execution_count": 27,
   "metadata": {},
   "outputs": [
    {
     "data": {
      "text/plain": [
       "array([-4.86300745, -4.8881506 , -4.91442598, -4.94181552, -4.9703008 ,\n",
       "       -4.99986309, -5.03048341, -5.06214255, -5.09482116, -5.12849974])"
      ]
     },
     "execution_count": 27,
     "metadata": {},
     "output_type": "execute_result"
    }
   ],
   "source": [
    "temp = '-4.86300745 -4.8881506 -4.91442598 -4.94181552 -4.9703008  -4.99986309   -5.03048341   -5.06214255 -5.09482116 -5.12849974'.split(' ')\n",
    "temp = np.array([np.float(i) for i in temp if len(i)>0])\n",
    "temp"
   ]
  },
  {
   "cell_type": "code",
   "execution_count": 28,
   "metadata": {},
   "outputs": [
    {
     "data": {
      "text/plain": [
       "(10, array([ 0,  2,  3,  1,  5,  3,  1,  2, 10]))"
      ]
     },
     "execution_count": 28,
     "metadata": {},
     "output_type": "execute_result"
    }
   ],
   "source": [
    "temp0 = np.array([0, 2, 3])\n",
    "temp1 = np.array([1, 5, 3])\n",
    "temp2 = np.array([1, 2, 10])\n",
    "\n",
    "temp = np.array([temp0, temp1, temp2])\n",
    "temp.max(), temp.flatten()"
   ]
  },
  {
   "cell_type": "code",
   "execution_count": 29,
   "metadata": {},
   "outputs": [
    {
     "data": {
      "text/plain": [
       "(array([400.        , 411.11111111, 422.22222222, 433.33333333,\n",
       "        444.44444444, 455.55555556, 466.66666667, 477.77777778,\n",
       "        488.88888889, 500.        ]),\n",
       " array([400, 410, 420, 430, 440, 450, 460, 470, 480, 490, 500]))"
      ]
     },
     "execution_count": 29,
     "metadata": {},
     "output_type": "execute_result"
    }
   ],
   "source": [
    "np.linspace(400, 500, 10), np.arange(400, 510, 10)"
   ]
  },
  {
   "cell_type": "code",
   "execution_count": 30,
   "metadata": {},
   "outputs": [
    {
     "data": {
      "image/png": "[encoded data removed]",
      "text/latex": [
       "$$d_{in} = f + \\frac{1}{M} \\sqrt{f^{2} - f_{0}^{2}}$$"
      ],
      "text/plain": [
       "             __________\n",
       "            ╱  2     2 \n",
       "          ╲╱  f  - f₀  \n",
       "dᵢₙ = f + ─────────────\n",
       "                M      "
      ]
     },
     "execution_count": 30,
     "metadata": {},
     "output_type": "execute_result"
    }
   ],
   "source": [
    "eq_din_p"
   ]
  },
  {
   "cell_type": "code",
   "execution_count": 31,
   "metadata": {},
   "outputs": [
    {
     "data": {
      "image/png": "[encoded data removed]",
      "text/latex": [
       "$$\\left ( d_{in} = 21.0000000048811, \\quad d_{in} = 21.000000001601\\right )$$"
      ],
      "text/plain": [
       "(dᵢₙ = 21.0000000048811, dᵢₙ = 21.000000001601)"
      ]
     },
     "execution_count": 31,
     "metadata": {},
     "output_type": "execute_result"
    }
   ],
   "source": [
    "eq_din_p.subs({M:0.15/0.3, f0:1.88626052, f:7.16841458}), eq_din_p.subs({M:0.15/0.3, f0:1.88626052, f:-21.16841458})"
   ]
  },
  {
   "cell_type": "code",
   "execution_count": 32,
   "metadata": {},
   "outputs": [
    {
     "data": {
      "image/png": "[encoded data removed]",
      "text/latex": [
       "$$\\left ( d_{out} = M \\sqrt{f^{2} - f_{0}^{2}} + f, \\quad d_{out} = 10.6263109362203, \\quad d_{out} = -10.6263109345997\\right )$$"
      ],
      "text/plain": [
       "⎛            __________                                                       \n",
       "⎜           ╱  2     2                                                        \n",
       "⎝dₒᵤₜ = M⋅╲╱  f  - f₀   + f, dₒᵤₜ = 10.6263109362203, dₒᵤₜ = -10.6263109345997\n",
       "\n",
       "⎞\n",
       "⎟\n",
       "⎠"
      ]
     },
     "execution_count": 32,
     "metadata": {},
     "output_type": "execute_result"
    }
   ],
   "source": [
    "eq_dout_p, eq_dout_p.subs({M:0.15/0.3, f0:1.88626052, f:7.16841458}), eq_dout_p.subs({M:0.15/0.3, f0:1.88626052, f:-21.16841458})"
   ]
  },
  {
   "cell_type": "code",
   "execution_count": 33,
   "metadata": {},
   "outputs": [
    {
     "data": {
      "text/plain": [
       "-1"
      ]
     },
     "execution_count": 33,
     "metadata": {},
     "output_type": "execute_result"
    }
   ],
   "source": [
    "temp = np.array([-1, -2, -3])\n",
    "temp.max()"
   ]
  },
  {
   "cell_type": "code",
   "execution_count": 34,
   "metadata": {},
   "outputs": [
    {
     "data": {
      "image/png": "[encoded data removed]",
      "text/latex": [
       "$$\\left ( d_{out} = f \\left(M^{2} \\left(\\frac{d_{in}}{f} - 1\\right) + 1\\right), \\quad d_{out} = 10.626310935, \\quad d_{out} = -10.626310935\\right )$$"
      ],
      "text/plain": [
       "⎛         ⎛ 2 ⎛dᵢₙ    ⎞    ⎞                                           ⎞\n",
       "⎜dₒᵤₜ = f⋅⎜M ⋅⎜─── - 1⎟ + 1⎟, dₒᵤₜ = 10.626310935, dₒᵤₜ = -10.626310935⎟\n",
       "⎝         ⎝   ⎝ f     ⎠    ⎠                                           ⎠"
      ]
     },
     "execution_count": 34,
     "metadata": {},
     "output_type": "execute_result"
    }
   ],
   "source": [
    "eq_dout2 = Eq(d_out, f*(1+(M**2*(d_in/f - 1))))\n",
    "eq_dout2, eq_dout2.subs({M:0.15/0.3, f:7.16841458, d_in:21}), eq_dout2.subs({M:0.15/0.3, f:-21.16841458, d_in:21})"
   ]
  },
  {
   "cell_type": "code",
   "execution_count": 35,
   "metadata": {},
   "outputs": [
    {
     "data": {
      "image/png": "[encoded data removed]",
      "text/latex": [
       "$$\\left ( d_{in} = f \\left(\\sqrt{- \\frac{Z_{c}^{2}}{f^{2}} + \\frac{1}{M^{2}}} + 1\\right), \\quad d_{out} = f \\left(M^{2} \\left(\\frac{d_{in}}{f} - 1\\right) + 1\\right)\\right )$$"
      ],
      "text/plain": [
       "⎛        ⎛      _____________    ⎞                             ⎞\n",
       "⎜        ⎜     ╱      2          ⎟                             ⎟\n",
       "⎜        ⎜    ╱    Z_c    1      ⎟           ⎛ 2 ⎛dᵢₙ    ⎞    ⎞⎟\n",
       "⎜dᵢₙ = f⋅⎜   ╱   - ──── + ──  + 1⎟, dₒᵤₜ = f⋅⎜M ⋅⎜─── - 1⎟ + 1⎟⎟\n",
       "⎜        ⎜  ╱        2     2     ⎟           ⎝   ⎝ f     ⎠    ⎠⎟\n",
       "⎝        ⎝╲╱        f     M      ⎠                             ⎠"
      ]
     },
     "execution_count": 35,
     "metadata": {},
     "output_type": "execute_result"
    }
   ],
   "source": [
    "eq_dout2 = Eq(d_out, f*(1+(M**2*(d_in/f - 1))))\n",
    "eq_din2 = Eq(d_in, f*(1+sqrt(M**-2-(Z_c/f)**2)))\n",
    "eq_din2, eq_dout2"
   ]
  },
  {
   "cell_type": "code",
   "execution_count": 36,
   "metadata": {},
   "outputs": [
    {
     "data": {
      "image/png": "[encoded data removed]",
      "text/latex": [
       "$$\\left ( w_{0} \\sqrt{\\frac{lam^{2} z^{2}}{\\pi^{2} w_{0}^{4}} + 1}, \\quad 0.1 \\sqrt{1 + \\frac{34035.6990764239}{\\pi^{2}}}\\right )$$"
      ],
      "text/plain": [
       "⎛         _____________                                 ⎞\n",
       "⎜        ╱    2  2                ______________________⎟\n",
       "⎜       ╱  lam ⋅z                ╱     34035.6990764239 ⎟\n",
       "⎜w₀⋅   ╱   ─────── + 1 , 0.1⋅   ╱  1 + ──────────────── ⎟\n",
       "⎜     ╱      2   4             ╱               2        ⎟\n",
       "⎝   ╲╱      π ⋅w₀            ╲╱               π         ⎠"
      ]
     },
     "execution_count": 36,
     "metadata": {},
     "output_type": "execute_result"
    }
   ],
   "source": [
    "w, w.subs({z:20, lam:ghz_cm(325), w0:0.1})"
   ]
  },
  {
   "cell_type": "code",
   "execution_count": 37,
   "metadata": {},
   "outputs": [
    {
     "data": {
      "image/png": "[encoded data removed]",
      "text/latex": [
       "$$\\emptyset$$"
      ],
      "text/plain": [
       "∅"
      ]
     },
     "execution_count": 37,
     "metadata": {},
     "output_type": "execute_result"
    }
   ],
   "source": [
    "solveset(w.subs({z:20, lam:ghz_cm(325)}), w0)"
   ]
  },
  {
   "cell_type": "code",
   "execution_count": 38,
   "metadata": {},
   "outputs": [
    {
     "data": {
      "image/png": "[encoded data removed]",
      "text/latex": [
       "$$\\left ( d_{in} = f + \\frac{1}{M} \\sqrt{f^{2} - f_{0}^{2}}, \\quad d_{in} = f \\left(\\sqrt{- \\frac{\\pi^{2} w_{0}^{4}}{f^{2} lam^{2}} + \\frac{1}{M^{2}}} + 1\\right)\\right )$$"
      ],
      "text/plain": [
       "⎛             __________          ⎛      ________________    ⎞⎞\n",
       "⎜            ╱  2     2           ⎜     ╱     2   4          ⎟⎟\n",
       "⎜          ╲╱  f  - f₀            ⎜    ╱     π ⋅w₀    1      ⎟⎟\n",
       "⎜dᵢₙ = f + ─────────────, dᵢₙ = f⋅⎜   ╱   - ─────── + ──  + 1⎟⎟\n",
       "⎜                M                ⎜  ╱       2    2    2     ⎟⎟\n",
       "⎝                                 ⎝╲╱       f ⋅lam    M      ⎠⎠"
      ]
     },
     "execution_count": 38,
     "metadata": {},
     "output_type": "execute_result"
    }
   ],
   "source": [
    "eq_din_p, eq_din2.subs({Z_c:z_r})"
   ]
  },
  {
   "cell_type": "code",
   "execution_count": 39,
   "metadata": {},
   "outputs": [
    {
     "data": {
      "image/png": "[encoded data removed]",
      "text/latex": [
       "$$d_{in} = f \\left(\\sqrt{- \\frac{\\pi^{2} w_{0}^{4}}{f^{2} lam^{2}} + \\frac{1}{M^{2}}} + 1\\right)$$"
      ],
      "text/plain": [
       "        ⎛      ________________    ⎞\n",
       "        ⎜     ╱     2   4          ⎟\n",
       "        ⎜    ╱     π ⋅w₀    1      ⎟\n",
       "dᵢₙ = f⋅⎜   ╱   - ─────── + ──  + 1⎟\n",
       "        ⎜  ╱       2    2    2     ⎟\n",
       "        ⎝╲╱       f ⋅lam    M      ⎠"
      ]
     },
     "execution_count": 39,
     "metadata": {},
     "output_type": "execute_result"
    }
   ],
   "source": [
    "eq_din2_1 = Eq(d_in, eq_din2.subs({Z_c:z_r}).rhs)\n",
    "eq_din2_1"
   ]
  },
  {
   "cell_type": "code",
   "execution_count": 40,
   "metadata": {},
   "outputs": [
    {
     "data": {
      "image/png": "[encoded data removed]",
      "text/latex": [
       "$$\\left ( d_{out} = M \\sqrt{f^{2} - f_{0}^{2}} + f, \\quad d_{out} = f \\left(M^{2} \\left(\\frac{d_{in}}{f} - 1\\right) + 1\\right)\\right )$$"
      ],
      "text/plain": [
       "⎛            __________                                 ⎞\n",
       "⎜           ╱  2     2                ⎛ 2 ⎛dᵢₙ    ⎞    ⎞⎟\n",
       "⎜dₒᵤₜ = M⋅╲╱  f  - f₀   + f, dₒᵤₜ = f⋅⎜M ⋅⎜─── - 1⎟ + 1⎟⎟\n",
       "⎝                                     ⎝   ⎝ f     ⎠    ⎠⎠"
      ]
     },
     "execution_count": 40,
     "metadata": {},
     "output_type": "execute_result"
    }
   ],
   "source": [
    "eq_dout_p, eq_dout2"
   ]
  },
  {
   "cell_type": "code",
   "execution_count": 41,
   "metadata": {},
   "outputs": [
    {
     "data": {
      "image/png": "[encoded data removed]",
      "text/latex": [
       "$$d_{out} = 37.7837295018876$$"
      ],
      "text/plain": [
       "dₒᵤₜ = 37.7837295018876"
      ]
     },
     "execution_count": 41,
     "metadata": {},
     "output_type": "execute_result"
    }
   ],
   "source": [
    "eq_dout2.subs({d_in:8.96015608, M:0.34/0.099, f:6.29})"
   ]
  },
  {
   "cell_type": "code",
   "execution_count": 42,
   "metadata": {},
   "outputs": [
    {
     "data": {
      "image/png": "[encoded data removed]",
      "text/latex": [
       "$$\\left ( z \\left(\\frac{Z_{c}^{2}}{z^{2}} + 1\\right), \\quad \\frac{\\pi w_{0}^{2}}{lam}\\right )$$"
      ],
      "text/plain": [
       "⎛  ⎛   2    ⎞      2⎞\n",
       "⎜  ⎜Z_c     ⎟  π⋅w₀ ⎟\n",
       "⎜z⋅⎜──── + 1⎟, ─────⎟\n",
       "⎜  ⎜  2     ⎟   lam ⎟\n",
       "⎝  ⎝ z      ⎠       ⎠"
      ]
     },
     "execution_count": 42,
     "metadata": {},
     "output_type": "execute_result"
    }
   ],
   "source": [
    "Rz = z * (1 + (Z_c / z) ** 2)\n",
    "Rz, z_r"
   ]
  },
  {
   "cell_type": "code",
   "execution_count": 43,
   "metadata": {},
   "outputs": [
    {
     "data": {
      "image/png": "[encoded data removed]",
      "text/latex": [
       "$$\\left ( z \\left(\\frac{Z_{c}^{2}}{z^{2}} + 1\\right), \\quad \\frac{Z_{c}^{2}}{10} + 10\\right )$$"
      ],
      "text/plain": [
       "⎛  ⎛   2    ⎞     2     ⎞\n",
       "⎜  ⎜Z_c     ⎟  Z_c      ⎟\n",
       "⎜z⋅⎜──── + 1⎟, ──── + 10⎟\n",
       "⎜  ⎜  2     ⎟   10      ⎟\n",
       "⎝  ⎝ z      ⎠           ⎠"
      ]
     },
     "execution_count": 43,
     "metadata": {},
     "output_type": "execute_result"
    }
   ],
   "source": [
    "Rz, Rz.subs({z:10})"
   ]
  },
  {
   "cell_type": "code",
   "execution_count": null,
   "metadata": {},
   "outputs": [],
   "source": []
  },
  {
   "cell_type": "code",
   "execution_count": 44,
   "metadata": {},
   "outputs": [
    {
     "data": {
      "text/plain": [
       "(array([[4]], dtype=int64), array([[19]]))"
      ]
     },
     "execution_count": 44,
     "metadata": {},
     "output_type": "execute_result"
    }
   ],
   "source": [
    "temp = np.array([10, 12, 11, 14, 19, 20])\n",
    "ind = np.argwhere(temp==19)\n",
    "ind, temp[ind]"
   ]
  },
  {
   "cell_type": "code",
   "execution_count": 45,
   "metadata": {},
   "outputs": [
    {
     "data": {
      "image/png": "[encoded data removed]",
      "text/latex": [
       "$$Wz = w_{0} \\sqrt{1 + \\frac{z^{2}}{Z_{c}^{2}}}$$"
      ],
      "text/plain": [
       "              __________\n",
       "             ╱       2  \n",
       "            ╱       z   \n",
       "Wz = w₀⋅   ╱   1 + ──── \n",
       "          ╱           2 \n",
       "        ╲╱         Z_c  "
      ]
     },
     "execution_count": 45,
     "metadata": {},
     "output_type": "execute_result"
    }
   ],
   "source": [
    "eq_Wz"
   ]
  },
  {
   "cell_type": "code",
   "execution_count": 46,
   "metadata": {},
   "outputs": [
    {
     "data": {
      "text/plain": [
       "[Text(0, 0, '1'),\n",
       " Text(0, 0, '2'),\n",
       " Text(0, 0, '3'),\n",
       " Text(0, 0, '4'),\n",
       " Text(0, 0, '5'),\n",
       " Text(0, 0, '6')]"
      ]
     },
     "execution_count": 46,
     "metadata": {},
     "output_type": "execute_result"
    },
    {
     "data": {
      "image/png": "[encoded data removed]",
      "text/plain": [
       "<Figure size 432x288 with 4 Axes>"
      ]
     },
     "metadata": {
      "needs_background": "light"
     },
     "output_type": "display_data"
    }
   ],
   "source": [
    "fig, ((ax0, ax1), (ax2, ax3)) = plt.subplots(nrows=2, ncols=2, sharey=True, gridspec_kw=dict(hspace=0, wspace=0))\n",
    "ax0.plot([1, 2, 3], [1, 2, 3])\n",
    "ax1.plot([1, 2, 3], [1, 2, 20])\n",
    "ax2.plot([1, 2, 20], [1, 2, 1])\n",
    "ax3.plot([1, 2, 3], [1, 2, 20])\n",
    "\n",
    "ax3.set_xticklabels([1, 2, 3, 4, 5, 6])"
   ]
  },
  {
   "cell_type": "code",
   "execution_count": null,
   "metadata": {},
   "outputs": [],
   "source": []
  },
  {
   "cell_type": "code",
   "execution_count": null,
   "metadata": {},
   "outputs": [],
   "source": []
  },
  {
   "cell_type": "code",
   "execution_count": null,
   "metadata": {},
   "outputs": [],
   "source": []
  },
  {
   "cell_type": "code",
   "execution_count": null,
   "metadata": {},
   "outputs": [],
   "source": []
  },
  {
   "cell_type": "code",
   "execution_count": null,
   "metadata": {},
   "outputs": [],
   "source": []
  },
  {
   "cell_type": "code",
   "execution_count": null,
   "metadata": {},
   "outputs": [],
   "source": []
  },
  {
   "cell_type": "code",
   "execution_count": null,
   "metadata": {},
   "outputs": [],
   "source": []
  },
  {
   "cell_type": "code",
   "execution_count": null,
   "metadata": {},
   "outputs": [],
   "source": []
  },
  {
   "cell_type": "code",
   "execution_count": null,
   "metadata": {},
   "outputs": [],
   "source": []
  },
  {
   "cell_type": "code",
   "execution_count": null,
   "metadata": {},
   "outputs": [],
   "source": []
  },
  {
   "cell_type": "code",
   "execution_count": null,
   "metadata": {},
   "outputs": [],
   "source": []
  },
  {
   "cell_type": "code",
   "execution_count": null,
   "metadata": {},
   "outputs": [],
   "source": []
  },
  {
   "cell_type": "code",
   "execution_count": null,
   "metadata": {},
   "outputs": [],
   "source": []
  },
  {
   "cell_type": "code",
   "execution_count": null,
   "metadata": {},
   "outputs": [],
   "source": []
  },
  {
   "cell_type": "code",
   "execution_count": null,
   "metadata": {},
   "outputs": [],
   "source": []
  },
  {
   "cell_type": "code",
   "execution_count": null,
   "metadata": {},
   "outputs": [],
   "source": []
  },
  {
   "cell_type": "code",
   "execution_count": null,
   "metadata": {},
   "outputs": [],
   "source": []
  },
  {
   "cell_type": "code",
   "execution_count": null,
   "metadata": {},
   "outputs": [],
   "source": []
  },
  {
   "cell_type": "code",
   "execution_count": null,
   "metadata": {},
   "outputs": [],
   "source": []
  },
  {
   "cell_type": "code",
   "execution_count": null,
   "metadata": {},
   "outputs": [],
   "source": []
  },
  {
   "cell_type": "code",
   "execution_count": null,
   "metadata": {},
   "outputs": [],
   "source": []
  },
  {
   "cell_type": "code",
   "execution_count": null,
   "metadata": {},
   "outputs": [],
   "source": []
  },
  {
   "cell_type": "code",
   "execution_count": null,
   "metadata": {},
   "outputs": [],
   "source": []
  },
  {
   "cell_type": "code",
   "execution_count": null,
   "metadata": {},
   "outputs": [],
   "source": []
  },
  {
   "cell_type": "code",
   "execution_count": null,
   "metadata": {},
   "outputs": [],
   "source": []
  },
  {
   "cell_type": "code",
   "execution_count": null,
   "metadata": {},
   "outputs": [],
   "source": []
  },
  {
   "cell_type": "code",
   "execution_count": null,
   "metadata": {},
   "outputs": [],
   "source": []
  },
  {
   "cell_type": "code",
   "execution_count": null,
   "metadata": {},
   "outputs": [],
   "source": []
  },
  {
   "cell_type": "code",
   "execution_count": null,
   "metadata": {},
   "outputs": [],
   "source": []
  },
  {
   "cell_type": "code",
   "execution_count": null,
   "metadata": {},
   "outputs": [],
   "source": []
  },
  {
   "cell_type": "code",
   "execution_count": null,
   "metadata": {},
   "outputs": [],
   "source": []
  },
  {
   "cell_type": "code",
   "execution_count": null,
   "metadata": {},
   "outputs": [],
   "source": []
  },
  {
   "cell_type": "code",
   "execution_count": null,
   "metadata": {},
   "outputs": [],
   "source": []
  },
  {
   "cell_type": "code",
   "execution_count": null,
   "metadata": {},
   "outputs": [],
   "source": []
  },
  {
   "cell_type": "code",
   "execution_count": null,
   "metadata": {},
   "outputs": [],
   "source": []
  },
  {
   "cell_type": "code",
   "execution_count": null,
   "metadata": {},
   "outputs": [],
   "source": []
  },
  {
   "cell_type": "code",
   "execution_count": null,
   "metadata": {},
   "outputs": [],
   "source": []
  },
  {
   "cell_type": "code",
   "execution_count": null,
   "metadata": {},
   "outputs": [],
   "source": []
  },
  {
   "cell_type": "code",
   "execution_count": null,
   "metadata": {},
   "outputs": [],
   "source": []
  },
  {
   "cell_type": "code",
   "execution_count": null,
   "metadata": {},
   "outputs": [],
   "source": []
  },
  {
   "cell_type": "code",
   "execution_count": null,
   "metadata": {},
   "outputs": [],
   "source": []
  },
  {
   "cell_type": "code",
   "execution_count": null,
   "metadata": {},
   "outputs": [],
   "source": []
  },
  {
   "cell_type": "code",
   "execution_count": null,
   "metadata": {},
   "outputs": [],
   "source": []
  },
  {
   "cell_type": "code",
   "execution_count": null,
   "metadata": {},
   "outputs": [],
   "source": []
  }
 ],
 "metadata": {
  "kernelspec": {
   "display_name": "Python 3",
   "language": "python",
   "name": "python3"
  },
  "language_info": {
   "codemirror_mode": {
    "name": "ipython",
    "version": 3
   },
   "file_extension": ".py",
   "mimetype": "text/x-python",
   "name": "python",
   "nbconvert_exporter": "python",
   "pygments_lexer": "ipython3",
   "version": "3.7.3"
  }
 },
 "nbformat": 4,
 "nbformat_minor": 2
}
