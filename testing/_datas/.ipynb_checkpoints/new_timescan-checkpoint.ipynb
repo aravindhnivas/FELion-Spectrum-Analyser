{
 "cells": [
  {
   "cell_type": "code",
   "execution_count": 76,
   "metadata": {},
   "outputs": [],
   "source": [
    "import numpy as np\n",
    "import matplotlib.pyplot as plt\n",
    "from uncertainties import unumpy as unp"
   ]
  },
  {
   "cell_type": "code",
   "execution_count": null,
   "metadata": {},
   "outputs": [],
   "source": []
  },
  {
   "cell_type": "code",
   "execution_count": 93,
   "metadata": {},
   "outputs": [
    {
     "name": "stdout",
     "output_type": "stream",
     "text": [
      "#mass18.70:\t4\n",
      "\n",
      "#mass24.70:\t4\n",
      "\n",
      "#mass25.70:\t4\n",
      "\n",
      "#mass27.70:\t4\n",
      "\n",
      "#mass28.70:\t4\n",
      "\n",
      "#mass40.70:\t4\n",
      "\n",
      "#mass52.70:\t4\n",
      "\n"
     ]
    }
   ],
   "source": [
    "def get_skip_line(scanfile):\n",
    "    with open(scanfile, 'r') as f:\n",
    "        skip = 0\n",
    "        for line in f:\n",
    "            if len(line)>1:\n",
    "                line = line.strip()\n",
    "                if line == 'ALL:':\n",
    "                    print(f'\\n{line} found at line no. {skip+1}\\n')\n",
    "                    return skip + 1\n",
    "            skip += 1\n",
    "    return f'ALL: is not found in the file'\n",
    "\n",
    "def get_iterations(scanfile):\n",
    "    iterations = np.array([])\n",
    "    with open(scanfile, 'r') as f:\n",
    "        for line in f:\n",
    "            if line.startswith('#mass'):\n",
    "                print(line)\n",
    "                iterations = np.append(iterations, line.split(':')[-1]).astype(np.int64)\n",
    "            else: continue\n",
    "    return iterations\n",
    "iterations = get_iterations(scanfile)"
   ]
  },
  {
   "cell_type": "code",
   "execution_count": 127,
   "metadata": {},
   "outputs": [
    {
     "name": "stdout",
     "output_type": "stream",
     "text": [
      "\n",
      "ALL: found at line no. 34\n",
      "\n",
      "#mass18.70:\t4\n",
      "\n",
      "#mass24.70:\t4\n",
      "\n",
      "#mass25.70:\t4\n",
      "\n",
      "#mass27.70:\t4\n",
      "\n",
      "#mass28.70:\t4\n",
      "\n",
      "#mass40.70:\t4\n",
      "\n",
      "#mass52.70:\t4\n",
      "\n",
      "File shape: (588, 3)\n",
      "\n",
      "Time: [  0.   5.  10.  15.  20.  25.  30.  35.  40.  45.  50.  55.  60.  65.\n",
      "  70.  75.  80.  85.  90.  95. 100.]\t(21,)\n",
      "\n",
      "### START 0 ###\n",
      "\n",
      "Before: data[:, 2][0:84]\n",
      "\n",
      "After: j: 84\n",
      "\n",
      "Mass 0: [1.25 0.   0.   0.   0.   0.   0.   0.25 0.   0.25 0.25 0.25 0.   1.\n",
      " 2.   3.25 1.   0.5  1.25 0.75 1.  ]\t(21,)\n",
      "\n",
      "Error 0: [2.16506351 0.         0.         0.         0.         0.\n",
      " 0.         0.4330127  0.         0.4330127  0.4330127  0.4330127\n",
      " 0.         1.22474487 2.12132034 4.49305019 0.70710678 0.5\n",
      " 1.08972474 0.8291562  0.70710678]\t(21,)\n",
      "\n",
      "Before\n",
      "Mean: (21,)\t Error: (21,)\n",
      "\n",
      "Total Mass: [18.7]\n",
      "\n",
      "### END 0 ###\n",
      "\n",
      "\n",
      "### START 1 ###\n",
      "\n",
      "Before: data[:, 2][84:168]\n",
      "\n",
      "After: j: 168\n",
      "\n",
      "Mass 1: [1605.   2768.   2214.   1551.25 1937.   2398.   2863.25 3175.5  3357.75\n",
      " 3462.5  3621.75 3666.5  3640.   3653.5  3593.25 3575.5  3557.   3489.\n",
      " 3483.25 3449.75 3530.75]\t(21,)\n",
      "\n",
      "Error 1: [ 46.86683262  93.35148633  70.92249291  45.29003754 108.12030337\n",
      "  82.15229759  65.58343922  66.76263925  66.19053935  23.28626204\n",
      "  69.1063492   55.02045074  46.77071733  70.95949549  85.01286667\n",
      "  88.80456069  13.94632568  92.92201031  71.87619564  80.51203326\n",
      "  19.58794272]\t(21,)\n",
      "\n",
      "Before\n",
      "Mean: (42,)\t Error: (42,)\n",
      "\n",
      "Total Mass: [18.7 24.7]\n",
      "\n",
      "### END 1 ###\n",
      "\n",
      "\n",
      "### START 2 ###\n",
      "\n",
      "Before: data[:, 2][168:252]\n",
      "\n",
      "After: j: 252\n",
      "\n",
      "Mass 2: [ 13.25  30.5   32.25  17.5   22.25  33.25  47.25  58.    66.    82.75\n",
      "  99.   110.25 129.25 141.75 156.25 137.75 177.25 179.5  174.   171.25\n",
      " 196.25]\t(21,)\n",
      "\n",
      "Error 2: [ 1.92028644  8.55862138  1.63935963  1.11803399  4.656984    4.656984\n",
      "  5.2141634   9.40744386  2.54950976  7.15454401  9.92471662 10.54454835\n",
      " 11.66994002 18.59267329 12.57726123 21.33512362 28.52520815 18.9802529\n",
      " 11.89537725 19.8037244   4.49305019]\t(21,)\n",
      "\n",
      "Before\n",
      "Mean: (63,)\t Error: (63,)\n",
      "\n",
      "Total Mass: [18.7 24.7 25.7]\n",
      "\n",
      "### END 2 ###\n",
      "\n",
      "\n",
      "### START 3 ###\n",
      "\n",
      "Before: data[:, 2][252:336]\n",
      "\n",
      "After: j: 336\n",
      "\n",
      "Mass 3: [0.   0.5  0.   0.   0.   0.25 0.   0.   0.   0.   0.   0.   4.25 0.5\n",
      " 0.75 0.75 0.5  1.75 3.5  0.75 1.25]\t(21,)\n",
      "\n",
      "Error 3: [0.         0.8660254  0.         0.         0.         0.4330127\n",
      " 0.         0.         0.         0.         0.         0.\n",
      " 7.36121593 0.8660254  0.8291562  0.8291562  0.8660254  3.03108891\n",
      " 5.5        0.4330127  1.63935963]\t(21,)\n",
      "\n",
      "Before\n",
      "Mean: (84,)\t Error: (84,)\n",
      "\n",
      "Total Mass: [18.7 24.7 25.7 27.7]\n",
      "\n",
      "### END 3 ###\n",
      "\n",
      "\n",
      "### START 4 ###\n",
      "\n",
      "Before: data[:, 2][336:420]\n",
      "\n",
      "After: j: 420\n",
      "\n",
      "Mass 4: [ 0.    0.    0.    0.    0.25  0.    1.25  3.75  2.    1.75  4.5   7.5\n",
      "  9.25  7.5   7.75 15.75 10.5  11.25  8.    5.    7.75]\t(21,)\n",
      "\n",
      "Error 4: [ 0.          0.          0.          0.          0.4330127   0.\n",
      "  1.29903811  1.08972474  1.87082869  0.8291562   2.06155281  2.06155281\n",
      "  6.29980158  3.35410197  4.02336923 11.16635572  2.87228132  3.76662979\n",
      "  1.87082869  2.12132034  2.16506351]\t(21,)\n",
      "\n",
      "Before\n",
      "Mean: (105,)\t Error: (105,)\n",
      "\n",
      "Total Mass: [18.7 24.7 25.7 27.7 28.7]\n",
      "\n",
      "### END 4 ###\n",
      "\n",
      "\n",
      "### START 5 ###\n",
      "\n",
      "Before: data[:, 2][420:504]\n",
      "\n",
      "After: j: 504\n",
      "\n",
      "Mass 5: [0.   0.5  0.   0.   0.   0.   0.   2.   0.5  0.25 1.   0.25 3.   0.\n",
      " 0.75 1.   1.25 5.   0.75 0.5  1.5 ]\t(21,)\n",
      "\n",
      "Error 5: [0.         0.8660254  0.         0.         0.         0.\n",
      " 0.         3.46410162 0.8660254  0.4330127  1.73205081 0.4330127\n",
      " 4.63680925 0.         0.4330127  0.70710678 1.63935963 6.44204936\n",
      " 0.8291562  0.5        1.6583124 ]\t(21,)\n",
      "\n",
      "Before\n",
      "Mean: (126,)\t Error: (126,)\n",
      "\n",
      "Total Mass: [18.7 24.7 25.7 27.7 28.7 40.7]\n",
      "\n",
      "### END 5 ###\n",
      "\n",
      "\n",
      "### START 6 ###\n",
      "\n",
      "Before: data[:, 2][504:588]\n",
      "\n",
      "After: j: 588\n",
      "\n",
      "Mass 6: [0.   0.   2.75 0.   0.   0.   0.   0.   0.25 0.   0.25 0.   0.25 0.\n",
      " 0.25 7.75 1.   2.25 0.   0.   3.  ]\t(21,)\n",
      "\n",
      "Error 6: [0.         0.         4.76313972 0.         0.         0.\n",
      " 0.         0.         0.4330127  0.         0.4330127  0.\n",
      " 0.4330127  0.         0.4330127  8.13557005 1.73205081 3.89711432\n",
      " 0.         0.         4.63680925]\t(21,)\n",
      "\n",
      "Before\n",
      "Mean: (147,)\t Error: (147,)\n",
      "\n",
      "Total Mass: [18.7 24.7 25.7 27.7 28.7 40.7 52.7]\n",
      "\n",
      "### END 6 ###\n",
      "\n",
      "\n",
      "After\n",
      "Mean: (7, 21)\t Error: (7, 21)\n",
      "\n",
      "Mean with error: (7, 21)\n",
      "Sum with error: (21,)\n"
     ]
    }
   ],
   "source": [
    "scanfile = '05_03_19-4.scan'\n",
    "\n",
    "# Getting skip_line to reach the data points\n",
    "# Getting iterations of each mass timescan\n",
    "skip = get_skip_line(scanfile)\n",
    "iterations = get_iterations(scanfile)\n",
    "\n",
    "# opening File\n",
    "data = np.genfromtxt(scanfile, skip_header = skip)\n",
    "print(f'File shape: {data.shape}\\n')\n",
    "\n",
    "# Calculating the time step cycle and total no of masses (run)\n",
    "cycle = int(len(data)/iterations.sum())\n",
    "run = len(iterations)\n",
    "\n",
    "# Time\n",
    "time = data[:, 1][: cycle]\n",
    "print(f'Time: {time}\\t{time.shape}\\n')\n",
    "\n",
    "# Calculating mean and std_devs\n",
    "j = 0\n",
    "mean, error = [], []\n",
    "mass = []\n",
    "for num, iteration in enumerate(iterations):\n",
    "    \n",
    "    k = iteration*cycle\n",
    "    \n",
    "    print(f'### START {num} ###\\n')\n",
    "    print(f'Before: data[:, 2][{j}:{k+j}]\\n')\n",
    "    \n",
    "    mass_value = data[:, 0][j: k+j][0]\n",
    "    mass_sort = data[:, 2][j:k+j].reshape(iteration, cycle).mean(axis = 0)\n",
    "    error_sort = data[:, 2][j:k+j].reshape(iteration, cycle).std(axis = 0)\n",
    "    \n",
    "    mass = np.append(mass, mass_value)\n",
    "    mean = np.append(mean, mass_sort)\n",
    "    error = np.append(error, error_sort)\n",
    "    \n",
    "    j = k + j\n",
    "    \n",
    "    print(f'After: j: {j}\\n')\n",
    "    print(f'Mass {num}: {mass_sort}\\t{mass_sort.shape}\\n')\n",
    "    print(f'Error {num}: {error_sort}\\t{error_sort.shape}\\n')\n",
    "    print(f'Before\\nMean: {mean.shape}\\t Error: {error.shape}\\n')\n",
    "    print(f'Total Mass: {mass}\\n')\n",
    "    print(f'### END {num} ###\\n\\n')\n",
    "\n",
    "mean = mean.reshape(run, cycle)\n",
    "error = error.reshape(run, cycle)\n",
    "\n",
    "print(f'After\\nMean: {mean.shape}\\t Error: {error.shape}\\n')\n",
    "\n",
    "# calculating the SUM\n",
    "mean_with_error = unp.uarray(mean, error)\n",
    "sum_mean_with_error = mean_with_error.sum(axis = 0)\n",
    "print(f'Mean with error: {mean_with_error.shape}\\nSum with error: {sum_mean_with_error.shape}')"
   ]
  },
  {
   "cell_type": "code",
   "execution_count": 113,
   "metadata": {},
   "outputs": [
    {
     "data": {
      "text/plain": [
       "((588,), array([18.7, 24.7, 25.7, 27.7, 28.7, 40.7, 52.7]), 21.0)"
      ]
     },
     "execution_count": 113,
     "metadata": {},
     "output_type": "execute_result"
    }
   ],
   "source": [
    "data.T[0].shape, data.T[0].reshape(run, 84).T[0], "
   ]
  },
  {
   "cell_type": "code",
   "execution_count": null,
   "metadata": {},
   "outputs": [],
   "source": [
    "data.T[0].reshape(len(iterations), len(time)*iteration)"
   ]
  },
  {
   "cell_type": "code",
   "execution_count": 128,
   "metadata": {},
   "outputs": [
    {
     "data": {
      "text/plain": [
       "(array([1., 2., 3.]), array([0.1, 0.2, 0.3]))"
      ]
     },
     "execution_count": 128,
     "metadata": {},
     "output_type": "execute_result"
    }
   ],
   "source": [
    "from uncertainties import unumpy as unp\n",
    "temp = unp.uarray([1, 2, 3], [0.1, 0.2, 0.3])\n",
    "unp.nominal_values(temp), unp.std_devs(temp)"
   ]
  },
  {
   "cell_type": "code",
   "execution_count": 120,
   "metadata": {},
   "outputs": [
    {
     "data": {
      "text/plain": [
       "array([  0.,   5.,  10.,  15.,  20.,  25.,  30.,  35.,  40.,  45.,  50.,\n",
       "        55.,  60.,  65.,  70.,  75.,  80.,  85.,  90.,  95., 100.])"
      ]
     },
     "execution_count": 120,
     "metadata": {},
     "output_type": "execute_result"
    }
   ],
   "source": [
    "data[:, 1][: cycle]"
   ]
  },
  {
   "cell_type": "code",
   "execution_count": 105,
   "metadata": {},
   "outputs": [
    {
     "data": {
      "text/plain": [
       "84"
      ]
     },
     "execution_count": 105,
     "metadata": {},
     "output_type": "execute_result"
    }
   ],
   "source": [
    "4*21"
   ]
  },
  {
   "cell_type": "code",
   "execution_count": 33,
   "metadata": {},
   "outputs": [
    {
     "data": {
      "text/plain": [
       "array([84, 84, 84, 84, 84, 84, 84], dtype=int64)"
      ]
     },
     "execution_count": 33,
     "metadata": {},
     "output_type": "execute_result"
    }
   ],
   "source": [
    "iterations*len(time)"
   ]
  },
  {
   "cell_type": "code",
   "execution_count": null,
   "metadata": {},
   "outputs": [],
   "source": []
  },
  {
   "cell_type": "code",
   "execution_count": null,
   "metadata": {},
   "outputs": [],
   "source": []
  },
  {
   "cell_type": "code",
   "execution_count": null,
   "metadata": {},
   "outputs": [],
   "source": []
  }
 ],
 "metadata": {
  "kernelspec": {
   "display_name": "Python 3",
   "language": "python",
   "name": "python3"
  },
  "language_info": {
   "codemirror_mode": {
    "name": "ipython",
    "version": 3
   },
   "file_extension": ".py",
   "mimetype": "text/x-python",
   "name": "python",
   "nbconvert_exporter": "python",
   "pygments_lexer": "ipython3",
   "version": "3.7.0"
  }
 },
 "nbformat": 4,
 "nbformat_minor": 2
}
