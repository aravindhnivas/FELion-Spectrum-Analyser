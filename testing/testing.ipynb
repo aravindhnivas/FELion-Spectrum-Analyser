{
 "cells": [
  {
   "cell_type": "markdown",
   "metadata": {},
   "source": [
    "Making a GUI"
   ]
  },
  {
   "cell_type": "code",
   "execution_count": 40,
   "metadata": {},
   "outputs": [],
   "source": [
    "from tkinter import *\n",
    "from tkinter import ttk, messagebox, filedialog\n",
    "from tkfilebrowser import askopenfilenames\n",
    "import os\n",
    "from os.path import join"
   ]
  },
  {
   "cell_type": "code",
   "execution_count": 124,
   "metadata": {},
   "outputs": [],
   "source": [
    "filelist, fnames = [], []\n",
    "\n",
    "def test_func():\n",
    "    \n",
    "    global filelist, fnames\n",
    "    \n",
    "    filelist = askopenfilenames(initialdir='/', initialfile='tmp',\n",
    "                                filetypes=[(\"All files\", \"*\"), (\"All files\", \"*\")])\n",
    "    \n",
    "    filelist = list(filelist)\n",
    "    \n",
    "    \n",
    "    for i in filelist:\n",
    "        \n",
    "        location = i.split(os.sep)\n",
    "        \n",
    "        filename = location[-1]\n",
    "        fnames.append(filename)\n",
    "        \n",
    "        del location[-1]\n",
    "        location = join(*location)\n",
    "        \n",
    "    print(\"\\nLocation: \", location, \"\\nFilelists: \", fnames)    \n",
    "    label_test.config(text = '\\n'.join(fnames))"
   ]
  },
  {
   "cell_type": "code",
   "execution_count": 126,
   "metadata": {},
   "outputs": [
    {
     "name": "stdout",
     "output_type": "stream",
     "text": [
      "D:\\\n",
      "D:\\FELion-Spectrum-Analyser\n",
      "\n",
      "Location:  D:FELion-Spectrum-Analyser \n",
      "Filelists:  ['.gitignore', 'compile.py', 'install.bat', 'LICENSE', '.gitignore', 'compile.py', 'install.bat', 'LICENSE', 'README.md']\n"
     ]
    }
   ],
   "source": [
    "root = Tk()\n",
    "root.geometry(\"400x400\")\n",
    "\n",
    "#frame\n",
    "frame = Frame(root, bg = \"sea green\")\n",
    "frame.pack(side = 'top', fill = \"both\", expand = True)\n",
    "\n",
    "#label\n",
    "label = Label(frame, text = \"testing\")\n",
    "label.place(relx = 0.1, rely=0.1)\n",
    "\n",
    "label_test1 = Label(frame, text = 'Filelists: ')\n",
    "label_test1.place(relx = 0.1, rely = 0.2)\n",
    "\n",
    "label_test = Label(frame)\n",
    "label_test.place(relx = 0.1, rely = 0.3)\n",
    "\n",
    "#button\n",
    "button = ttk.Button(frame, text = \"test Button\", command = lambda: test_func())\n",
    "button.place(relx = 0.3, rely = 0.1)\n",
    "\n",
    "root.mainloop()"
   ]
  },
  {
   "cell_type": "code",
   "execution_count": 123,
   "metadata": {},
   "outputs": [
    {
     "name": "stdout",
     "output_type": "stream",
     "text": [
      "apple\n",
      "orange\n"
     ]
    }
   ],
   "source": [
    "file = ['apple', 'orange']\n",
    "print(\"\\n\".join(file))"
   ]
  },
  {
   "cell_type": "code",
   "execution_count": 120,
   "metadata": {},
   "outputs": [],
   "source": [
    "test"
   ]
  }
 ],
 "metadata": {
  "kernelspec": {
   "display_name": "Python 3",
   "language": "python",
   "name": "python3"
  },
  "language_info": {
   "codemirror_mode": {
    "name": "ipython",
    "version": 3
   },
   "file_extension": ".py",
   "mimetype": "text/x-python",
   "name": "python",
   "nbconvert_exporter": "python",
   "pygments_lexer": "ipython3",
   "version": "3.7.0"
  }
 },
 "nbformat": 4,
 "nbformat_minor": 2
}
