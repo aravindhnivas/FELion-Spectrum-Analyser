{
 "cells": [
  {
   "cell_type": "code",
   "execution_count": 9,
   "metadata": {},
   "outputs": [],
   "source": [
    "from sympy import symbols, init_printing\n",
    "init_printing()"
   ]
  },
  {
   "cell_type": "code",
   "execution_count": 12,
   "metadata": {},
   "outputs": [
    {
     "data": {
      "image/png": "[encoded data removed]",
      "text/latex": [
       "$$dt_{0}^{4} + 4 dt_{0}^{3} t_{0} + 6 dt_{0}^{2} t_{0}^{2} + 4 dt_{0} t_{0}^{3} + t_{0}^{4}$$"
      ],
      "text/plain": [
       "   4        3           2   2           3     4\n",
       "dt₀  + 4⋅dt₀ ⋅t₀ + 6⋅dt₀ ⋅t₀  + 4⋅dt₀⋅t₀  + t₀ "
      ]
     },
     "execution_count": 12,
     "metadata": {},
     "output_type": "execute_result"
    }
   ],
   "source": [
    "t1, t0, dt0 = symbols('t1, t0, dt0')\n",
    "eq = (t0+dt0)**4\n",
    "eq.expand()"
   ]
  },
  {
   "cell_type": "code",
   "execution_count": null,
   "metadata": {},
   "outputs": [],
   "source": []
  }
 ],
 "metadata": {
  "kernelspec": {
   "display_name": "Python 3",
   "language": "python",
   "name": "python3"
  },
  "language_info": {
   "codemirror_mode": {
    "name": "ipython",
    "version": 3
   },
   "file_extension": ".py",
   "mimetype": "text/x-python",
   "name": "python",
   "nbconvert_exporter": "python",
   "pygments_lexer": "ipython3",
   "version": "3.7.3"
  }
 },
 "nbformat": 4,
 "nbformat_minor": 2
}
