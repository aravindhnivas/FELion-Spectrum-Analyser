{
 "cells": [
  {
   "cell_type": "code",
   "execution_count": 7,
   "metadata": {},
   "outputs": [],
   "source": [
    "from pathlib import Path as path\n",
    "import os"
   ]
  },
  {
   "cell_type": "code",
   "execution_count": 96,
   "metadata": {},
   "outputs": [
    {
     "name": "stdout",
     "output_type": "stream",
     "text": [
      "Location: D:\\FELion-Spectrum-Analyser\\testing\\THz\n",
      "Home: C:\\Users\\admin-aravindh\n",
      "Join Path (example, such as ): D:\\FELion-Spectrum-Analyser\\testing\\THz\\testing\\python.py\n"
     ]
    },
    {
     "data": {
      "text/plain": [
       "('python.py',\n",
       " 'python',\n",
       " '.py',\n",
       " WindowsPath('D:/FELion-Spectrum-Analyser/testing/THz/testing'),\n",
       " 'D:\\\\',\n",
       " WindowsPath('D:/FELion-Spectrum-Analyser/testing/THz'),\n",
       " 'D:')"
      ]
     },
     "execution_count": 96,
     "metadata": {},
     "output_type": "execute_result"
    }
   ],
   "source": [
    "location = path.cwd()\n",
    "print(f'Location: {location}')\n",
    "\n",
    "user_home_dir = path.home()\n",
    "print(f'Home: {user_home_dir}')\n",
    "\n",
    "join_path = location.joinpath('testing', 'python.py')\n",
    "print(f'Join Path (example, such as ): {join_path}')\n",
    "\n",
    "join_path.name, join_path.stem, join_path.suffix, join_path.parent, join_path.anchor,join_path.parent.parent, join_path.drive"
   ]
  },
  {
   "cell_type": "code",
   "execution_count": 214,
   "metadata": {},
   "outputs": [
    {
     "data": {
      "text/plain": [
       "(WindowsPath('D:/FELion-Spectrum-Analyser/testing/THz/testing/python.md'),\n",
       " WindowsPath('D:/FELion-Spectrum-Analyser/testing/THz/testing/python.md'),\n",
       " [WindowsPath('D:/FELion-Spectrum-Analyser/testing/THz/testing'),\n",
       "  WindowsPath('D:/FELion-Spectrum-Analyser/testing/THz'),\n",
       "  WindowsPath('D:/FELion-Spectrum-Analyser/testing'),\n",
       "  WindowsPath('D:/FELion-Spectrum-Analyser'),\n",
       "  WindowsPath('D:/')],\n",
       " False)"
      ]
     },
     "execution_count": 214,
     "metadata": {},
     "output_type": "execute_result"
    }
   ],
   "source": [
    "join_path.with_suffix('.md'), join_path.with_name('python.md'), list(join_path.parents), join_path.exists()"
   ]
  },
  {
   "cell_type": "code",
   "execution_count": 144,
   "metadata": {},
   "outputs": [
    {
     "data": {
      "text/plain": [
       "[WindowsPath('D:/FELion-Spectrum-Analyser/testing/THz/GaussianBeamSimulation.ipynb'),\n",
       " WindowsPath('D:/FELion-Spectrum-Analyser/testing/THz/gaussopt_example.ipynb'),\n",
       " WindowsPath('D:/FELion-Spectrum-Analyser/testing/THz/opt.ipynb'),\n",
       " WindowsPath('D:/FELion-Spectrum-Analyser/testing/THz/pathlib_module_tutorials.ipynb'),\n",
       " WindowsPath('D:/FELion-Spectrum-Analyser/testing/THz/Untitled.ipynb'),\n",
       " WindowsPath('D:/FELion-Spectrum-Analyser/testing/THz/Untitled1.ipynb')]"
      ]
     },
     "execution_count": 144,
     "metadata": {},
     "output_type": "execute_result"
    }
   ],
   "source": [
    "list(location.glob('*.ipynb'))"
   ]
  },
  {
   "cell_type": "code",
   "execution_count": 147,
   "metadata": {},
   "outputs": [
    {
     "data": {
      "text/plain": [
       "[WindowsPath('D:/FELion-Spectrum-Analyser/testing/THz/.ipynb_checkpoints'),\n",
       " WindowsPath('D:/FELion-Spectrum-Analyser/testing/THz/GaussianBeamSimulation.ipynb'),\n",
       " WindowsPath('D:/FELion-Spectrum-Analyser/testing/THz/GaussianBeamSimulation.pdf'),\n",
       " WindowsPath('D:/FELion-Spectrum-Analyser/testing/THz/gaussopt_example.ipynb'),\n",
       " WindowsPath('D:/FELion-Spectrum-Analyser/testing/THz/horns.pdf'),\n",
       " WindowsPath('D:/FELion-Spectrum-Analyser/testing/THz/horn_beam_waist.xlsx'),\n",
       " WindowsPath('D:/FELion-Spectrum-Analyser/testing/THz/opt.ipynb'),\n",
       " WindowsPath('D:/FELion-Spectrum-Analyser/testing/THz/pathlib_module_tutorials.ipynb'),\n",
       " WindowsPath('D:/FELion-Spectrum-Analyser/testing/THz/rezonator-1.7.116.375.exe'),\n",
       " WindowsPath('D:/FELion-Spectrum-Analyser/testing/THz/Simulations'),\n",
       " WindowsPath('D:/FELion-Spectrum-Analyser/testing/THz/Untitled.ipynb'),\n",
       " WindowsPath('D:/FELion-Spectrum-Analyser/testing/THz/Untitled1.ipynb'),\n",
       " WindowsPath('D:/FELion-Spectrum-Analyser/testing/THz/.ipynb_checkpoints/GaussianBeamSimulation-checkpoint.ipynb'),\n",
       " WindowsPath('D:/FELion-Spectrum-Analyser/testing/THz/.ipynb_checkpoints/gaussopt_example-checkpoint.ipynb'),\n",
       " WindowsPath('D:/FELion-Spectrum-Analyser/testing/THz/.ipynb_checkpoints/opt-checkpoint.ipynb'),\n",
       " WindowsPath('D:/FELion-Spectrum-Analyser/testing/THz/.ipynb_checkpoints/pathlib_module_tutorials-checkpoint.ipynb'),\n",
       " WindowsPath('D:/FELion-Spectrum-Analyser/testing/THz/.ipynb_checkpoints/Untitled-checkpoint.ipynb'),\n",
       " WindowsPath('D:/FELion-Spectrum-Analyser/testing/THz/.ipynb_checkpoints/Untitled1-checkpoint.ipynb'),\n",
       " WindowsPath('D:/FELion-Spectrum-Analyser/testing/THz/Simulations/0.34cm-325-1100GHz_simulation.png'),\n",
       " WindowsPath('D:/FELion-Spectrum-Analyser/testing/THz/Simulations/d_out_for_325.0-500.0GHz.png'),\n",
       " WindowsPath('D:/FELion-Spectrum-Analyser/testing/THz/Simulations/d_out_for_500.0-750.0GHz.png'),\n",
       " WindowsPath('D:/FELion-Spectrum-Analyser/testing/THz/Simulations/d_out_for_500.0-750.0GHz_1.png'),\n",
       " WindowsPath('D:/FELion-Spectrum-Analyser/testing/THz/Simulations/d_out_for_750.0-1100.0GHz.png'),\n",
       " WindowsPath('D:/FELion-Spectrum-Analyser/testing/THz/Simulations/d_out_for_750.0-1100.0GHz_1.png'),\n",
       " WindowsPath('D:/FELion-Spectrum-Analyser/testing/THz/Simulations/f_for_325.0-500.0GHz.png'),\n",
       " WindowsPath('D:/FELion-Spectrum-Analyser/testing/THz/Simulations/f_for_500.0-750.0GHz.png'),\n",
       " WindowsPath('D:/FELion-Spectrum-Analyser/testing/THz/Simulations/f_for_750.0-1100.0GHz.png')]"
      ]
     },
     "execution_count": 147,
     "metadata": {},
     "output_type": "execute_result"
    }
   ],
   "source": [
    "list(location.rglob('*'))"
   ]
  },
  {
   "cell_type": "markdown",
   "metadata": {},
   "source": [
    "## Directories and files can be deleted using .rmdir() and .unlink() respectively. (Again, be careful!)"
   ]
  },
  {
   "cell_type": "code",
   "execution_count": 127,
   "metadata": {},
   "outputs": [
    {
     "data": {
      "text/plain": [
       "[WindowsPath('D:/FELion-Spectrum-Analyser/testing/THz/.ipynb_checkpoints'),\n",
       " WindowsPath('D:/FELion-Spectrum-Analyser/testing/THz/GaussianBeamSimulation.ipynb'),\n",
       " WindowsPath('D:/FELion-Spectrum-Analyser/testing/THz/GaussianBeamSimulation.pdf'),\n",
       " WindowsPath('D:/FELion-Spectrum-Analyser/testing/THz/gaussopt_example.ipynb'),\n",
       " WindowsPath('D:/FELion-Spectrum-Analyser/testing/THz/horns.pdf'),\n",
       " WindowsPath('D:/FELion-Spectrum-Analyser/testing/THz/horn_beam_waist.xlsx'),\n",
       " WindowsPath('D:/FELion-Spectrum-Analyser/testing/THz/opt.ipynb'),\n",
       " WindowsPath('D:/FELion-Spectrum-Analyser/testing/THz/pathlib_module_tutorials.ipynb'),\n",
       " WindowsPath('D:/FELion-Spectrum-Analyser/testing/THz/rezonator-1.7.116.375.exe'),\n",
       " WindowsPath('D:/FELion-Spectrum-Analyser/testing/THz/Simulations'),\n",
       " WindowsPath('D:/FELion-Spectrum-Analyser/testing/THz/Untitled.ipynb'),\n",
       " WindowsPath('D:/FELion-Spectrum-Analyser/testing/THz/Untitled1.ipynb')]"
      ]
     },
     "execution_count": 127,
     "metadata": {},
     "output_type": "execute_result"
    }
   ],
   "source": [
    "list(location.iterdir())"
   ]
  },
  {
   "cell_type": "code",
   "execution_count": 211,
   "metadata": {},
   "outputs": [
    {
     "data": {
      "text/plain": [
       "False"
      ]
     },
     "execution_count": 211,
     "metadata": {},
     "output_type": "execute_result"
    }
   ],
   "source": [
    "# cheking whether it is a file or directory\n",
    "location.is_dir()\n",
    "location.is_file()"
   ]
  },
  {
   "cell_type": "code",
   "execution_count": null,
   "metadata": {},
   "outputs": [],
   "source": []
  },
  {
   "cell_type": "code",
   "execution_count": null,
   "metadata": {},
   "outputs": [],
   "source": []
  },
  {
   "cell_type": "code",
   "execution_count": 154,
   "metadata": {},
   "outputs": [
    {
     "data": {
      "text/plain": [
       "Counter({'': 2, '.ipynb': 6, '.pdf': 2, '.xlsx': 1, '.exe': 1})"
      ]
     },
     "execution_count": 154,
     "metadata": {},
     "output_type": "execute_result"
    }
   ],
   "source": [
    "import collections as collect\n",
    "\n",
    "file_types = collect.Counter(f.suffix for f in location.iterdir())\n",
    "file_types"
   ]
  },
  {
   "cell_type": "markdown",
   "metadata": {},
   "source": [
    "# Last modified file"
   ]
  },
  {
   "cell_type": "code",
   "execution_count": 175,
   "metadata": {},
   "outputs": [
    {
     "name": "stdout",
     "output_type": "stream",
     "text": [
      "2019-05-15 11:57:05.969376: D:\\FELion-Spectrum-Analyser\\testing\\THz\\pathlib_module_tutorials.ipynb\n"
     ]
    }
   ],
   "source": [
    "from datetime import datetime\n",
    "\n",
    "time, file_path = max((f.stat().st_mtime, f) for f in location.iterdir())\n",
    "time = datetime.fromtimestamp(time)\n",
    "\n",
    "print(f\"{time}: {file_path}\")"
   ]
  },
  {
   "cell_type": "code",
   "execution_count": 213,
   "metadata": {},
   "outputs": [
    {
     "name": "stdout",
     "output_type": "stream",
     "text": [
      "os.stat_result(st_mode=33206, st_ino=1688849860396200, st_dev=2525670316, st_nlink=1, st_uid=0, st_gid=0, st_size=11229, st_atime=1557911926, st_mtime=1557914714, st_ctime=1557911926)\n"
     ]
    },
    {
     "data": {
      "text/plain": [
       "(True, True)"
      ]
     },
     "execution_count": 213,
     "metadata": {},
     "output_type": "execute_result"
    }
   ],
   "source": [
    "file = location / 'pathlib_module_tutorials.ipynb'\n",
    "print(file.stat())\n",
    "file.is_file(), file.exists()"
   ]
  },
  {
   "cell_type": "code",
   "execution_count": 199,
   "metadata": {},
   "outputs": [
    {
     "data": {
      "text/plain": [
       "9.9501953125"
      ]
     },
     "execution_count": 199,
     "metadata": {},
     "output_type": "execute_result"
    }
   ],
   "source": [
    "file.stat().st_size # in bytes\n",
    "file.stat().st_size/1024 # in KB"
   ]
  },
  {
   "cell_type": "markdown",
   "metadata": {},
   "source": [
    "# Create a Unique File Name"
   ]
  },
  {
   "cell_type": "code",
   "execution_count": 250,
   "metadata": {},
   "outputs": [
    {
     "data": {
      "text/plain": [
       "WindowsPath('D:/FELion-Spectrum-Analyser/testing/THz/test001.txt')"
      ]
     },
     "execution_count": 250,
     "metadata": {},
     "output_type": "execute_result"
    }
   ],
   "source": [
    "def unique_path(directory, name_pattern):\n",
    "    counter = 0\n",
    "    while True:\n",
    "        counter += 1\n",
    "        path = directory / name_pattern.format(counter)\n",
    "        if not path.exists():\n",
    "            return path\n",
    "\n",
    "new_file = unique_path(location, 'test{:03d}.txt')\n",
    "\n",
    "# If the directory already contains the files test001.txt and test002.txt, the above code will set path to test003.txt.\n",
    "\n",
    "new_file"
   ]
  },
  {
   "cell_type": "code",
   "execution_count": 230,
   "metadata": {},
   "outputs": [
    {
     "data": {
      "text/plain": [
       "WindowsPath('D:/FELion-Spectrum-Analyser/testing/THz/pathlib_module_tutorials.ipynb/test')"
      ]
     },
     "execution_count": 230,
     "metadata": {},
     "output_type": "execute_result"
    }
   ],
   "source": [
    "location/'pathlib_module_tutorials.ipynb'/'test'"
   ]
  },
  {
   "cell_type": "code",
   "execution_count": null,
   "metadata": {},
   "outputs": [],
   "source": []
  },
  {
   "cell_type": "code",
   "execution_count": null,
   "metadata": {},
   "outputs": [],
   "source": []
  },
  {
   "cell_type": "code",
   "execution_count": null,
   "metadata": {},
   "outputs": [],
   "source": []
  }
 ],
 "metadata": {
  "kernelspec": {
   "display_name": "Python 3",
   "language": "python",
   "name": "python3"
  },
  "language_info": {
   "codemirror_mode": {
    "name": "ipython",
    "version": 3
   },
   "file_extension": ".py",
   "mimetype": "text/x-python",
   "name": "python",
   "nbconvert_exporter": "python",
   "pygments_lexer": "ipython3",
   "version": "3.7.3"
  }
 },
 "nbformat": 4,
 "nbformat_minor": 2
}
