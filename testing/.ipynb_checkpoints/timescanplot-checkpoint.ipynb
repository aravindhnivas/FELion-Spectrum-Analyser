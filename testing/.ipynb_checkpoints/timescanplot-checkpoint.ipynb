{
 "cells": [
  {
   "cell_type": "code",
   "execution_count": 1,
   "metadata": {},
   "outputs": [],
   "source": [
    "import matplotlib.pyplot as plt\n",
    "import numpy as np\n",
    "import os\n",
    "from scipy.optimize import curve_fit\n",
    "import math as m"
   ]
  },
  {
   "cell_type": "code",
   "execution_count": 2,
   "metadata": {},
   "outputs": [
    {
     "data": {
      "text/plain": [
       "['.ipynb_checkpoints',\n",
       " '08_01_19-3.scan',\n",
       " '09_01_19-1.scan',\n",
       " '09_01_19-3.scan',\n",
       " '11_01_19-3.scan',\n",
       " '11_01_19-4.scan',\n",
       " '11_01_19-4.scan.png',\n",
       " 'Baseline.bat',\n",
       " 'errorBar.ipynb',\n",
       " 'FELion_avgSpec.py',\n",
       " 'FELion_baseline.py',\n",
       " 'FELion_GUI_Baseline_v2.py',\n",
       " 'FELion_GUI_v2.py',\n",
       " 'FELion_Icon.ico',\n",
       " 'FELion_massSpec.py',\n",
       " 'FELion_normline.py',\n",
       " 'FELion_power.py',\n",
       " 'FELion_sa.py',\n",
       " 'GUI_Baseline.py',\n",
       " 'GUI_Normline.py',\n",
       " 'GUI_Powerfile.py',\n",
       " 'GUI_settings.py',\n",
       " 'GUI_test1.py',\n",
       " 'just_avg.py',\n",
       " 'LICENSE',\n",
       " 'Normline.bat',\n",
       " 'Powerfile.bat',\n",
       " 'README.md',\n",
       " 'test_baseline.bat',\n",
       " 'test_normline.bat',\n",
       " 'test_run.py',\n",
       " 'timescanplot.ipynb',\n",
       " '__pycache__']"
      ]
     },
     "execution_count": 2,
     "metadata": {},
     "output_type": "execute_result"
    }
   ],
   "source": [
    "os.listdir()"
   ]
  },
  {
   "cell_type": "code",
   "execution_count": 126,
   "metadata": {
    "scrolled": false
   },
   "outputs": [
    {
     "ename": "ValueError",
     "evalue": "too many values to unpack (expected 3)",
     "output_type": "error",
     "traceback": [
      "\u001b[1;31m---------------------------------------------------------------------------\u001b[0m",
      "\u001b[1;31mValueError\u001b[0m                                Traceback (most recent call last)",
      "\u001b[1;32m<ipython-input-126-b7981f1ae507>\u001b[0m in \u001b[0;36m<module>\u001b[1;34m()\u001b[0m\n\u001b[0;32m     36\u001b[0m \u001b[0mmass_values\u001b[0m \u001b[1;33m=\u001b[0m \u001b[1;33m[\u001b[0m\u001b[0mi\u001b[0m\u001b[1;33m[\u001b[0m\u001b[1;36m0\u001b[0m\u001b[1;33m]\u001b[0m\u001b[1;33m[\u001b[0m\u001b[1;36m0\u001b[0m\u001b[1;33m]\u001b[0m \u001b[1;32mfor\u001b[0m \u001b[0mi\u001b[0m \u001b[1;32min\u001b[0m \u001b[0mmass\u001b[0m\u001b[1;33m]\u001b[0m\u001b[1;33m\u001b[0m\u001b[1;33m\u001b[0m\u001b[0m\n\u001b[0;32m     37\u001b[0m \u001b[1;33m\u001b[0m\u001b[0m\n\u001b[1;32m---> 38\u001b[1;33m \u001b[0mx\u001b[0m\u001b[1;33m,\u001b[0m \u001b[0mtime\u001b[0m\u001b[1;33m,\u001b[0m \u001b[0mmass_count\u001b[0m \u001b[1;33m=\u001b[0m \u001b[1;33m[\u001b[0m\u001b[0mzip\u001b[0m\u001b[1;33m(\u001b[0m\u001b[1;33m*\u001b[0m\u001b[0mmass\u001b[0m\u001b[1;33m)\u001b[0m \u001b[1;32mfor\u001b[0m \u001b[0mi\u001b[0m \u001b[1;32min\u001b[0m \u001b[0mrange\u001b[0m\u001b[1;33m(\u001b[0m\u001b[0mno_of_mass\u001b[0m\u001b[1;33m)\u001b[0m\u001b[1;33m]\u001b[0m\u001b[1;33m\u001b[0m\u001b[1;33m\u001b[0m\u001b[0m\n\u001b[0m",
      "\u001b[1;31mValueError\u001b[0m: too many values to unpack (expected 3)"
     ]
    }
   ],
   "source": [
    "filename = \"11_01_19-3.scan\"\n",
    "\n",
    "f = open(filename)\n",
    "no_of_mass = 0\n",
    "start = False\n",
    "raw_datas = []\n",
    "iterations = []\n",
    "for line in f:\n",
    "    \n",
    "    if line.find(\"#mass\")>=0:\n",
    "        no_of_mass += 1\n",
    "        tmp = line.split(\":\")[-1].strip()\n",
    "        iterations.append(int(tmp))\n",
    "        \n",
    "    if not line[0] == \"#\" and not line == \"\\n\":\n",
    "        if line.strip() == \"ALL:\":\n",
    "            start = True\n",
    "        if start:\n",
    "            raw_datas.append(line)\n",
    "del raw_datas[0]\n",
    "\n",
    "f.close()\n",
    "\n",
    "all_datas = [[float(j) for j in i.split()] for i in raw_datas]\n",
    "data_run_cycle = int(len(all_datas)/sum(iterations))\n",
    "\n",
    "mass = [[] for i in range(no_of_mass)]\n",
    "k =0\n",
    "m = 0\n",
    "for i in iterations:\n",
    "    j = i*data_run_cycle\n",
    "    mass[m] = all_datas[k:k+j]\n",
    "    k += j\n",
    "    m += 1\n",
    "    \n",
    "mass_values = [i[0][0] for i in mass]\n",
    "\n"
   ]
  },
  {
   "cell_type": "code",
   "execution_count": 175,
   "metadata": {
    "scrolled": false
   },
   "outputs": [],
   "source": [
    "mass_count = []\n",
    "for i in range(no_of_mass):\n",
    "    x = [list(j) for j in zip(*mass[i])]\n",
    "    tmp = [i for i in x[2]]\n",
    "    mass_count.append(tmp)\n"
   ]
  },
  {
   "cell_type": "code",
   "execution_count": 185,
   "metadata": {},
   "outputs": [],
   "source": [
    "mass_count[1][0]+mass_count[1][16]\n",
    "mass_count[1][31]\n",
    "mass_mean = [[] for i in range(no_of_mass)]\n",
    "for i in range(no_of_mass):\n",
    "    for j in range(data_run_cycle):\n",
    "        for k in range(iterations[i]):\n",
    "            pass"
   ]
  }
 ],
 "metadata": {
  "kernelspec": {
   "display_name": "Python 3",
   "language": "python",
   "name": "python3"
  },
  "language_info": {
   "codemirror_mode": {
    "name": "ipython",
    "version": 3
   },
   "file_extension": ".py",
   "mimetype": "text/x-python",
   "name": "python",
   "nbconvert_exporter": "python",
   "pygments_lexer": "ipython3",
   "version": "3.7.1"
  }
 },
 "nbformat": 4,
 "nbformat_minor": 2
}
