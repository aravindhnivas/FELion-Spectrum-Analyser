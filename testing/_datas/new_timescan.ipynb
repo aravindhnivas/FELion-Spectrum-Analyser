{
 "cells": [
  {
   "cell_type": "code",
   "execution_count": 6,
   "metadata": {},
   "outputs": [],
   "source": [
    "import numpy as np\n",
    "import matplotlib.pyplot as plt\n",
    "import io"
   ]
  },
  {
   "cell_type": "code",
   "execution_count": 19,
   "metadata": {},
   "outputs": [
    {
     "data": {
      "text/plain": [
       "array([1619.5 , 2799.5 , 2249.  , 1568.75, 1959.5 , 2431.5 , 2911.75,\n",
       "       3239.5 , 3426.5 , 3547.5 , 3726.75, 3784.75, 3786.  , 3804.25,\n",
       "       3761.  , 3741.75, 3748.5 , 3689.25, 3670.75, 3628.  , 3741.5 ])"
      ]
     },
     "execution_count": 19,
     "metadata": {},
     "output_type": "execute_result"
    }
   ],
   "source": [
    "scanfile = '05_03_19-4.scan'\n",
    "\n",
    "data1 = []\n",
    "with open(scanfile, 'r') as f:\n",
    "    start = False\n",
    "    for line in f:\n",
    "        if len(line)>1:\n",
    "            line1 = line.split()[0]\n",
    "            if line1 == '#Time':\n",
    "                start = True\n",
    "            if start:\n",
    "                line2 = line.strip()\n",
    "                if line2 == 'ALL:':\n",
    "                    break\n",
    "                data1 = np.append(data1, line)\n",
    "data1 = np.genfromtxt(data1)\n",
    "sum_data = data1[:, -1]\n",
    "sum_data"
   ]
  },
  {
   "cell_type": "code",
   "execution_count": 72,
   "metadata": {},
   "outputs": [],
   "source": [
    "def get_skip_line(scanfile):\n",
    "    with open(scanfile, 'r') as f:\n",
    "        skip = 0\n",
    "        for line in f:\n",
    "            if len(line)>1:\n",
    "                line = line.strip()\n",
    "                if line == 'ALL:':\n",
    "                    print(f'\\n{line} found at line no. {skip+1}\\n')\n",
    "                    return skip + 1\n",
    "            skip += 1\n",
    "    return f'ALL: is not found in the file'\n",
    "\n",
    "def get_iterations(scanfile):\n",
    "    iterations = np.array([])\n",
    "    with open(scanfile, 'r') as f:\n",
    "        for line in f:\n",
    "            if line.startswith('#mass'):\n",
    "                iterations = np.append(iterations, line.split(':')[-1]).astype(np.int64)\n",
    "            else: continue\n",
    "    return iterations"
   ]
  },
  {
   "cell_type": "code",
   "execution_count": 91,
   "metadata": {},
   "outputs": [
    {
     "name": "stdout",
     "output_type": "stream",
     "text": [
      "\n",
      "ALL: found at line no. 34\n",
      "\n",
      "[[ 18.7   0.    5. ]\n",
      " [ 18.7   5.    0. ]\n",
      " [ 18.7  10.    0. ]\n",
      " ...\n",
      " [ 52.7  90.    0. ]\n",
      " [ 52.7  95.    0. ]\n",
      " [ 52.7 100.    0. ]]; (588, 3)\n",
      "[[ 18.7  18.7  18.7 ...  52.7  52.7  52.7]\n",
      " [  0.    5.   10.  ...  90.   95.  100. ]\n",
      " [  5.    0.    0.  ...   0.    0.    0. ]]; (3, 588)\n",
      "Time: [40.7 18.7 52.7 24.7 25.7 27.7 28.7]\n",
      "(7,)\n",
      "\n",
      "Time: [  0.   5.  10.  15.  20.  25.  30.  35.  40.  45.  50.  55.  60.  65.\n",
      "  70.  75.  80.  85.  90.  95. 100.]\n",
      "(21,)\n",
      "\n"
     ]
    }
   ],
   "source": [
    "scanfile = '05_03_19-4.scan'\n",
    "\n",
    "# Getting skip_line to reach the data points\n",
    "# Getting iterations of each mass timescan\n",
    "skip = get_skip_line(scanfile)\n",
    "iterations = get_iterations(scanfile)\n",
    "\n",
    "# opening File\n",
    "file = np.genfromtxt(scanfile, skip_header = skip)\n",
    "print(f'{file}; {file.shape}\\n{file.T}; {file.T.shape}')\n",
    "\n",
    "# Tranforming file shape\n",
    "file_trans = file.T\n",
    "\n",
    "# Mass\n",
    "masses = np.array(list(set(file_trans[0])))\n",
    "print(f'Time: {masses}\\n{masses.shape}\\n')\n",
    "\n",
    "# Time\n",
    "time = np.array(list(set(file_trans[1])))\n",
    "print(f'Time: {time}\\n{time.shape}\\n')"
   ]
  },
  {
   "cell_type": "code",
   "execution_count": 90,
   "metadata": {},
   "outputs": [
    {
     "data": {
      "text/plain": [
       "((21,), (7,), (7,), (588, 3), 588)"
      ]
     },
     "execution_count": 90,
     "metadata": {},
     "output_type": "execute_result"
    }
   ],
   "source": [
    "time.shape, masses.shape, iterations.shape, file.shape, 4*21*7"
   ]
  },
  {
   "cell_type": "code",
   "execution_count": 125,
   "metadata": {},
   "outputs": [
    {
     "name": "stdout",
     "output_type": "stream",
     "text": [
      "84\n",
      "84\n",
      "84\n",
      "84\n",
      "84\n",
      "84\n",
      "84\n"
     ]
    },
    {
     "data": {
      "text/plain": [
       "((588, 3), (3, 588), array([[ 18.7,  18.7,  18.7, ...,  52.7,  52.7,  52.7],\n",
       "        [  0. ,   5. ,  10. , ...,  90. ,  95. , 100. ],\n",
       "        [  5. ,   0. ,   0. , ...,   0. ,   0. ,   0. ]]), 81.0, 21.0)"
      ]
     },
     "execution_count": 125,
     "metadata": {},
     "output_type": "execute_result"
    }
   ],
   "source": [
    "for iteration in iterations:\n",
    "    print(iteration*len(time))\n",
    "file.shape, file_trans.shape, file_trans, 4*21*27/iterations.sum(), len(file)/iterations.sum()"
   ]
  },
  {
   "cell_type": "code",
   "execution_count": 123,
   "metadata": {},
   "outputs": [
    {
     "data": {
      "text/plain": [
       "array([ True,  True,  True,  True,  True,  True,  True,  True,  True,\n",
       "        True,  True,  True,  True,  True,  True,  True,  True,  True,\n",
       "        True,  True,  True,  True,  True,  True,  True,  True,  True,\n",
       "        True,  True,  True,  True,  True,  True,  True,  True,  True,\n",
       "        True,  True,  True,  True,  True,  True,  True,  True,  True,\n",
       "        True,  True,  True,  True,  True,  True,  True,  True,  True,\n",
       "        True,  True,  True,  True,  True,  True,  True,  True,  True,\n",
       "        True,  True,  True,  True,  True,  True,  True,  True,  True,\n",
       "        True,  True,  True,  True,  True,  True,  True,  True,  True,\n",
       "        True,  True,  True,  True,  True,  True,  True,  True,  True,\n",
       "        True,  True,  True,  True,  True,  True,  True,  True,  True,\n",
       "        True,  True,  True,  True,  True,  True,  True,  True,  True,\n",
       "        True,  True,  True,  True,  True,  True,  True,  True,  True,\n",
       "        True,  True,  True,  True,  True,  True,  True,  True,  True,\n",
       "        True,  True,  True,  True,  True,  True,  True,  True,  True,\n",
       "        True,  True,  True,  True,  True,  True,  True,  True,  True,\n",
       "        True,  True,  True,  True,  True,  True,  True,  True,  True,\n",
       "        True,  True,  True,  True,  True,  True,  True,  True,  True,\n",
       "        True,  True,  True,  True,  True,  True,  True,  True,  True,\n",
       "        True,  True,  True,  True,  True,  True,  True,  True,  True,\n",
       "        True,  True,  True,  True,  True,  True,  True,  True,  True,\n",
       "        True,  True,  True,  True,  True,  True,  True,  True,  True,\n",
       "        True,  True,  True,  True,  True,  True,  True,  True,  True,\n",
       "        True,  True,  True,  True,  True,  True,  True,  True,  True,\n",
       "        True,  True,  True,  True,  True,  True,  True,  True,  True,\n",
       "        True,  True,  True,  True,  True,  True,  True,  True,  True,\n",
       "        True,  True,  True,  True,  True,  True,  True,  True,  True,\n",
       "        True,  True,  True,  True,  True,  True,  True,  True,  True,\n",
       "        True,  True,  True,  True,  True,  True,  True,  True,  True,\n",
       "        True,  True,  True,  True,  True,  True,  True,  True,  True,\n",
       "        True,  True,  True,  True,  True,  True,  True,  True,  True,\n",
       "        True,  True,  True,  True,  True,  True,  True,  True,  True,\n",
       "        True,  True,  True,  True,  True,  True,  True,  True,  True,\n",
       "        True,  True,  True,  True,  True,  True,  True,  True,  True,\n",
       "        True,  True,  True,  True,  True,  True,  True,  True,  True,\n",
       "        True,  True,  True,  True,  True,  True,  True,  True,  True,\n",
       "        True,  True,  True,  True,  True,  True,  True,  True,  True,\n",
       "        True,  True,  True,  True,  True,  True,  True,  True,  True,\n",
       "        True,  True,  True,  True,  True,  True,  True,  True,  True,\n",
       "        True,  True,  True,  True,  True,  True,  True,  True,  True,\n",
       "        True,  True,  True,  True,  True,  True,  True,  True,  True,\n",
       "        True,  True,  True,  True,  True,  True,  True,  True,  True,\n",
       "        True,  True,  True,  True,  True,  True,  True,  True,  True,\n",
       "        True,  True,  True,  True,  True,  True,  True,  True,  True,\n",
       "        True,  True,  True,  True,  True,  True,  True,  True,  True,\n",
       "        True,  True,  True,  True,  True,  True,  True,  True,  True,\n",
       "        True,  True,  True,  True,  True,  True,  True,  True,  True,\n",
       "        True,  True,  True,  True,  True,  True,  True,  True,  True,\n",
       "        True,  True,  True,  True,  True,  True,  True,  True,  True,\n",
       "        True,  True,  True,  True,  True,  True,  True,  True,  True,\n",
       "        True,  True,  True,  True,  True,  True,  True,  True,  True,\n",
       "        True,  True,  True,  True,  True,  True,  True,  True,  True,\n",
       "        True,  True,  True,  True,  True,  True,  True,  True,  True,\n",
       "        True,  True,  True,  True,  True,  True,  True,  True,  True,\n",
       "        True,  True,  True,  True,  True,  True,  True,  True,  True,\n",
       "        True,  True,  True,  True,  True,  True,  True,  True,  True,\n",
       "        True,  True,  True,  True,  True,  True,  True,  True,  True,\n",
       "        True,  True,  True,  True,  True,  True,  True,  True,  True,\n",
       "        True,  True,  True,  True,  True,  True,  True,  True,  True,\n",
       "        True,  True,  True,  True,  True,  True,  True,  True,  True,\n",
       "        True,  True,  True,  True,  True,  True,  True,  True,  True,\n",
       "        True,  True,  True,  True,  True,  True,  True,  True,  True,\n",
       "        True,  True,  True,  True,  True,  True,  True,  True,  True,\n",
       "        True,  True,  True,  True,  True,  True,  True,  True,  True,\n",
       "        True,  True,  True,  True,  True,  True,  True,  True,  True,\n",
       "        True,  True,  True])"
      ]
     },
     "execution_count": 123,
     "metadata": {},
     "output_type": "execute_result"
    }
   ],
   "source": []
  },
  {
   "cell_type": "code",
   "execution_count": null,
   "metadata": {},
   "outputs": [],
   "source": []
  },
  {
   "cell_type": "code",
   "execution_count": null,
   "metadata": {},
   "outputs": [],
   "source": []
  },
  {
   "cell_type": "code",
   "execution_count": null,
   "metadata": {},
   "outputs": [],
   "source": []
  },
  {
   "cell_type": "code",
   "execution_count": null,
   "metadata": {},
   "outputs": [],
   "source": []
  },
  {
   "cell_type": "code",
   "execution_count": null,
   "metadata": {},
   "outputs": [],
   "source": []
  },
  {
   "cell_type": "code",
   "execution_count": null,
   "metadata": {},
   "outputs": [],
   "source": []
  },
  {
   "cell_type": "code",
   "execution_count": null,
   "metadata": {},
   "outputs": [],
   "source": []
  },
  {
   "cell_type": "code",
   "execution_count": null,
   "metadata": {},
   "outputs": [],
   "source": []
  },
  {
   "cell_type": "code",
   "execution_count": null,
   "metadata": {},
   "outputs": [],
   "source": []
  },
  {
   "cell_type": "code",
   "execution_count": null,
   "metadata": {},
   "outputs": [],
   "source": []
  }
 ],
 "metadata": {
  "kernelspec": {
   "display_name": "Python 3",
   "language": "python",
   "name": "python3"
  },
  "language_info": {
   "codemirror_mode": {
    "name": "ipython",
    "version": 3
   },
   "file_extension": ".py",
   "mimetype": "text/x-python",
   "name": "python",
   "nbconvert_exporter": "python",
   "pygments_lexer": "ipython3",
   "version": "3.7.0"
  }
 },
 "nbformat": 4,
 "nbformat_minor": 2
}
