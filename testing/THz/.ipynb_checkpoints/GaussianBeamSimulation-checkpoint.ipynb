{
 "cells": [
  {
   "cell_type": "code",
   "execution_count": 84,
   "metadata": {},
   "outputs": [],
   "source": [
    "from sympy.physics.optics import RayTransferMatrix, ThinLens, BeamParameter, FreeSpace\n",
    "from sympy import symbols, init_printing, pi, sqrt, pprint, solveset, S, plot, cos, Eq\n",
    "from scipy.constants import c\n",
    "import matplotlib.pyplot as plt\n",
    "import numpy as np\n",
    "\n",
    "init_printing()\n",
    "\n",
    "from ipywidgets.widgets import (\n",
    "    IntSlider,\n",
    "    FloatLogSlider,\n",
    "    FloatSlider,\n",
    "    interactive_output,\n",
    "    FloatRangeSlider,\n",
    "    BoundedFloatText,\n",
    "    Checkbox,\n",
    "    HBox,\n",
    "    VBox,\n",
    "    IntRangeSlider,\n",
    "    BoundedIntText,\n",
    "    Text,\n",
    "    Button,\n",
    "    Label,\n",
    "    Select,\n",
    "    Layout\n",
    ")\n",
    "from IPython.display import display\n",
    "import datetime, os"
   ]
  },
  {
   "cell_type": "code",
   "execution_count": 2,
   "metadata": {},
   "outputs": [
    {
     "name": "stdout",
     "output_type": "stream",
     "text": [
      "Confocal length: $Z_c$, \n",
      "Radius of the curvature of beam wave front: \n",
      "R(z) and the Beam radius: w(z) are defined such as: \n",
      "\n"
     ]
    },
    {
     "data": {
      "image/png": "[encoded data removed]",
      "text/latex": [
       "$$\\left ( \\frac{\\pi w_{0}^{2}}{lam}, \\quad z \\left(1 + \\frac{\\pi^{2} w_{0}^{4}}{lam^{2} z^{2}}\\right), \\quad w_{0} \\sqrt{\\frac{lam^{2} z^{2}}{\\pi^{2} w_{0}^{4}} + 1}\\right )$$"
      ],
      "text/plain": [
       "⎛                                 _____________⎞\n",
       "⎜    2    ⎛      2   4⎞          ╱    2  2     ⎟\n",
       "⎜π⋅w₀     ⎜     π ⋅w₀ ⎟         ╱  lam ⋅z      ⎟\n",
       "⎜─────, z⋅⎜1 + ───────⎟, w₀⋅   ╱   ─────── + 1 ⎟\n",
       "⎜ lam     ⎜       2  2⎟       ╱      2   4     ⎟\n",
       "⎝         ⎝    lam ⋅z ⎠     ╲╱      π ⋅w₀      ⎠"
      ]
     },
     "execution_count": 2,
     "metadata": {},
     "output_type": "execute_result"
    }
   ],
   "source": [
    "w, lam, w0, z = symbols(\"w, lam, w0, z\", positive=True)\n",
    "\n",
    "# defining the confocal length, R(z) and w(z) in sympy\n",
    "z_r = pi * w0 ** 2 / lam\n",
    "R = z * (1 + (z_r / z) ** 2)\n",
    "w = w0 * sqrt(1 + (z / z_r) ** 2)\n",
    "\n",
    "# Defining the z-propagation range\n",
    "z_ = np.linspace(0, 20, 10)\n",
    "\n",
    "# Defining functions\n",
    "def ghz_cm(x):\n",
    "    return c * 1e2 / x * 1e-9\n",
    "\n",
    "\n",
    "print(\\\n",
    "    \"Confocal length: $Z_c$, \\\n",
    "\\nRadius of the curvature of beam wave front: \\\n",
    "\\nR(z) and the Beam radius: w(z) are defined such as: \\n\"\n",
    ")\n",
    "\n",
    "z_r, R, w"
   ]
  },
  {
   "cell_type": "code",
   "execution_count": 3,
   "metadata": {},
   "outputs": [],
   "source": [
    "class gaussian_simulation:\n",
    "    def __init__(self):\n",
    "\n",
    "        W = BoundedFloatText(value=0.37, min=0.1, max=1, step=0.01, description=\"w0:\")\n",
    "        L = IntRangeSlider(\n",
    "            value=[380, 1200], min=100, max=1500, step=1, description=\"GHz\"\n",
    "        )\n",
    "\n",
    "        width = BoundedIntText(value=16, min=5, max=25, step=1, description=\"width\")\n",
    "        height = BoundedIntText(value=9, min=5, max=25, step=1, description=\"height\")\n",
    "        dpi = BoundedIntText(value=106, min=70, max=250, step=1, description=\"Dpi\")\n",
    "\n",
    "        entry1 = BoundedFloatText(\n",
    "            value=-8.4, min=-10, max=10, step=0.1, description=\"Entry1\"\n",
    "        )\n",
    "        entry2 = BoundedFloatText(\n",
    "            value=2, min=0, max=10, step=0.1, description=\"Entry2\"\n",
    "        )\n",
    "\n",
    "        self.save_name = Text(value=\"\")\n",
    "\n",
    "        save_button = Button(description=\"Save\", layout={\"width\": \"300px\"})\n",
    "\n",
    "        save_button.on_click(self.save_plot)\n",
    "\n",
    "        self.print_save = Label(value=\"Status: \")\n",
    "\n",
    "        row1 = HBox([W, L])\n",
    "        row2 = HBox([width, height, dpi])\n",
    "        row3 = HBox([entry1, entry2])\n",
    "\n",
    "        out = interactive_output(\n",
    "            self.simulate,\n",
    "            {\n",
    "                \"w0_\": W,\n",
    "                \"wn\": L,\n",
    "                \"width\": width,\n",
    "                \"height\": height,\n",
    "                \"dpi\": dpi,\n",
    "                \"entry1\": entry1,\n",
    "                \"entry2\": entry2,\n",
    "            },\n",
    "        )\n",
    "\n",
    "        display(\n",
    "            VBox(\n",
    "                [row1, row2, row3, out, self.save_name, save_button, self.print_save]\n",
    "            )\n",
    "        )\n",
    "\n",
    "    def save_plot(self, event):\n",
    "\n",
    "        self.fig0.savefig(f\"./{self.save_name.value}.png\")\n",
    "\n",
    "        t = datetime.datetime.now()\n",
    "        self.print_save.value = f'File \"{self.save_name.value}.png\" Saved; {t.ctime()}'\n",
    "\n",
    "    def beam_plot(self, ax, w0_, wn):\n",
    "\n",
    "        self.gaussian_beam(w0_, wn)\n",
    "\n",
    "        for c, beam in enumerate(self.beams):\n",
    "            color = f\"C{c}\"\n",
    "            ax.plot(\n",
    "                z_,\n",
    "                beam,\n",
    "                f\"--{color}\",\n",
    "                label=f\"{self.wn[c]:.2f} GHz ({ghz_cm(self.wn[c])*10:.2f} mm)\",\n",
    "            )\n",
    "            ax.plot(-z_, -beam, f\"--{color}\")\n",
    "            ax.plot(-z_, beam, f\"--{color}\")\n",
    "            ax.plot(z_, -beam, f\"--{color}\")\n",
    "\n",
    "    def simulate(self, w0_, wn, width, height, dpi, entry1, entry2):\n",
    "\n",
    "        self.fig0, ax0 = plt.subplots(figsize=(width, height), dpi=dpi)\n",
    "        self.beam_plot(ax0, w0_, wn)\n",
    "\n",
    "        ax0.hlines(0, xmin=-z_.max(), xmax=z_.max())\n",
    "\n",
    "        ## Annotation begins\n",
    "\n",
    "        # Distance b/w two entry points\n",
    "        ax0.hlines(-0.2, xmin=entry1, xmax=entry2)\n",
    "        plt.annotate(\n",
    "            s=f\"d={(entry2-entry1):.2f}\",\n",
    "            xy=(0, 0),\n",
    "            xytext=(0, -0.3),\n",
    "            ha=\"center\",\n",
    "            va=\"center\",\n",
    "        )\n",
    "\n",
    "        # Annotate beam waist\n",
    "        ax0.vlines(x=0, ymin=0, ymax=w0_)\n",
    "        plt.annotate(\n",
    "            s=f\"w0={w0_} cm\",\n",
    "            xy=(0, w0_),\n",
    "            xytext=(0, 0.7),\n",
    "            ha=\"center\",\n",
    "            va=\"center\",\n",
    "            arrowprops=dict(arrowstyle=\"->\", connectionstyle=\"arc3\"),\n",
    "        )\n",
    "\n",
    "        # Annotate Entry1\n",
    "        ax0.vlines(x=entry1, ymin=-1, ymax=1)\n",
    "\n",
    "        plt.annotate(\n",
    "            s=\"Main entry window: diameter=2cm\",\n",
    "            xy=(entry1, 1),\n",
    "            xytext=(entry1 + 5, 1.1),\n",
    "            ha=\"center\",\n",
    "            va=\"center\",\n",
    "            arrowprops=dict(arrowstyle=\"->\", connectionstyle=\"arc3\"),\n",
    "        )\n",
    "\n",
    "        # Annotate Entry2\n",
    "        ax0.vlines(x=entry2, ymin=-0.43, ymax=0.43)\n",
    "\n",
    "        plt.annotate(\n",
    "            s=\"Trap bender entry: diameter=0.86cm\",\n",
    "            xy=(entry2, -0.43),\n",
    "            xytext=(entry2 - 5, -0.7),\n",
    "            ha=\"center\",\n",
    "            va=\"center\",\n",
    "            # rotation = 30,\n",
    "            arrowprops=dict(arrowstyle=\"->\", connectionstyle=\"arc3\"),\n",
    "        )\n",
    "\n",
    "        # Annotate z-position\n",
    "\n",
    "        plt.annotate(s=\"z=0\", xy=(0, 0), xytext=(0, -0.05), ha=\"center\", va=\"center\")\n",
    "\n",
    "        plt.annotate(\n",
    "            s=f\"z={entry2}\",\n",
    "            xy=(entry2, 0),\n",
    "            xytext=(entry2 + 2, -0.2),\n",
    "            ha=\"center\",\n",
    "            va=\"center\",\n",
    "            arrowprops=dict(arrowstyle=\"->\", connectionstyle=\"arc3\"),\n",
    "        )\n",
    "\n",
    "        plt.annotate(\n",
    "            s=f\"z={entry1}\",\n",
    "            xy=(entry1, 0),\n",
    "            xytext=(entry1 - 2, -0.2),\n",
    "            ha=\"center\",\n",
    "            va=\"center\",\n",
    "            arrowprops=dict(arrowstyle=\"->\", connectionstyle=\"arc3\"),\n",
    "        )\n",
    "\n",
    "        ## Annotation ends\n",
    "\n",
    "        ax0.set_xlabel(\"z direction : Beam Propagation (cm)\")\n",
    "        ax0.set_ylabel(\"w(z) : Gaussian Beam radius (cm)\")\n",
    "        ax0.set_title(f\"Gaussian Beam simulation: {wn[0]}-{wn[-1]} GHz\")\n",
    "        ax0.legend()\n",
    "        plt.show()\n",
    "        # plt.close()\n",
    "\n",
    "        self.save_name.value = f\"{w0_}cm-{wn[0]}-{wn[-1]}GHz_simulation\"\n",
    "\n",
    "    def gaussian_beam(self, w0_, wn):\n",
    "\n",
    "        global w, z_\n",
    "\n",
    "        self.wn = np.linspace(*wn, 10)\n",
    "\n",
    "        beam = []\n",
    "        beams = []\n",
    "\n",
    "        for l in self.wn:\n",
    "\n",
    "            temp = []\n",
    "            beam = []\n",
    "\n",
    "            for i in z_:\n",
    "                temp = float(w.subs({w0: w0_, lam: ghz_cm(l), z: i}).evalf())\n",
    "                beam.append(temp)\n",
    "            beams.append(beam)\n",
    "\n",
    "        self.beams = np.array(beams)"
   ]
  },
  {
   "cell_type": "markdown",
   "metadata": {},
   "source": [
    "# Simulating Gaussian beam propagation from inside FELion Trap\n",
    "\n",
    "We will try to obtain the optimum conditions such the waist radius w0 and distance to the w0 from outside mirror, etc."
   ]
  },
  {
   "cell_type": "code",
   "execution_count": 4,
   "metadata": {},
   "outputs": [
    {
     "data": {
      "application/vnd.jupyter.widget-view+json": {
       "model_id": "21b0353d02e941bd9c5763b5f9b9d95e",
       "version_major": 2,
       "version_minor": 0
      },
      "text/plain": [
       "VBox(children=(HBox(children=(BoundedFloatText(value=0.37, description='w0:', max=1.0, min=0.1, step=0.01), In…"
      ]
     },
     "metadata": {},
     "output_type": "display_data"
    }
   ],
   "source": [
    "#%matplotlib widget\n",
    "%matplotlib inline\n",
    "start = gaussian_simulation()"
   ]
  },
  {
   "cell_type": "markdown",
   "metadata": {
    "toc-hr-collapsed": true
   },
   "source": [
    "# Ellipsoidal mirror (Goldsmith, 1998)\n",
    "\n",
    "An ellipsoidal mirror in the geometrical optics limit, transforms radiation from a point source at one focal point to a point source located at the second focal point; this is true for any part of the ellipsoidal surface of revolution,\n",
    "formed by rotating the ellipse about the line joining its foci. \n",
    "\n",
    "First consider a lens that has a focal length equal to the distance from the first focal point to the center of the part of the ellipsoidal surface being used (R1). \n",
    "This lens will collimate the radiation from the first focal point into a parallel beam. \n",
    "\n",
    "If we immediately follow this first lens by a second, having focal length equal to the distance from the center of the mirror to the second focal point (R2) , the second lens will bring the parallel beam to a focus at the desired position. \n",
    "\n"
   ]
  },
  {
   "cell_type": "markdown",
   "metadata": {
    "toc-hr-collapsed": true
   },
   "source": [
    "## Thin lens\n",
    "ABCD matrix for thin lens of focal length $f_{lens}$"
   ]
  },
  {
   "cell_type": "code",
   "execution_count": 5,
   "metadata": {},
   "outputs": [
    {
     "data": {
      "image/png": "[encoded data removed]",
      "text/latex": [
       "$$\\left[\\begin{matrix}1 & 0\\\\- \\frac{1}{f_{lens}} & 1\\end{matrix}\\right]$$"
      ],
      "text/plain": [
       "⎡  1    0⎤\n",
       "⎢        ⎥\n",
       "⎢ -1     ⎥\n",
       "⎢─────  1⎥\n",
       "⎣fₗₑₙₛ   ⎦"
      ]
     },
     "execution_count": 5,
     "metadata": {},
     "output_type": "execute_result"
    }
   ],
   "source": [
    "f_lens = symbols('f_lens')\n",
    "M_lens = ThinLens(f_lens)\n",
    "M_lens"
   ]
  },
  {
   "cell_type": "markdown",
   "metadata": {},
   "source": [
    "## Elliptical mirror effective focal length\n",
    "\n",
    "Thus, the ABCD matrix for an ellipsoidal mirror is the product of two matrices, each representing a thin lens, and having zero separation:\n",
    "where R1 and R2 are the distances from the center of the section of the ellipsoid used to the respective foci"
   ]
  },
  {
   "cell_type": "code",
   "execution_count": 6,
   "metadata": {},
   "outputs": [
    {
     "data": {
      "image/png": "[encoded data removed]",
      "text/latex": [
       "$$\\left[\\begin{matrix}1 & 0\\\\- \\frac{1}{R_{2}} - \\frac{1}{R_{1}} & 1\\end{matrix}\\right]$$"
      ],
      "text/plain": [
       "⎡    1      0⎤\n",
       "⎢            ⎥\n",
       "⎢  1    1    ⎥\n",
       "⎢- ── - ──  1⎥\n",
       "⎣  R₂   R₁   ⎦"
      ]
     },
     "execution_count": 6,
     "metadata": {},
     "output_type": "execute_result"
    }
   ],
   "source": [
    "R1, R2 = symbols('R1, R2')\n",
    "M_l1 = ThinLens(R1)\n",
    "M_l2 = ThinLens(R2)\n",
    "M_d = FreeSpace(0)\n",
    "M_ellipsoid = M_l2*M_d*M_l1\n",
    "M_ellipsoid"
   ]
  },
  {
   "cell_type": "markdown",
   "metadata": {},
   "source": [
    "So that comparing with the expression for the thin lens, we see that the Effective focal length of an elliptical mirror: f_ellipsoid is given by"
   ]
  },
  {
   "cell_type": "code",
   "execution_count": 7,
   "metadata": {},
   "outputs": [
    {
     "name": "stdout",
     "output_type": "stream",
     "text": [
      "\n",
      "\n"
     ]
    },
    {
     "data": {
      "image/png": "[encoded data removed]",
      "text/latex": [
       "$$\\frac{R_{1} R_{2}}{R_{1} + R_{2}}$$"
      ],
      "text/plain": [
       " R₁⋅R₂ \n",
       "───────\n",
       "R₁ + R₂"
      ]
     },
     "execution_count": 7,
     "metadata": {},
     "output_type": "execute_result"
    }
   ],
   "source": [
    "f_ellipsoid = 1/(1/R1+1/R2)\n",
    "print('\\n')\n",
    "f_ellipsoid.simplify()"
   ]
  },
  {
   "cell_type": "markdown",
   "metadata": {
    "toc-hr-collapsed": false
   },
   "source": [
    "# Mode Matching (Goldsmith 1998)\n",
    "\n",
    "Quasioptical system designers are often required to couple the power in a beam (e.g., that produced by a feed hom) to a specified beam waist radius (e.g., that required by some component in a receiver system). Dealing with beam transformation from this perspective is often called mode matching"
   ]
  },
  {
   "cell_type": "markdown",
   "metadata": {
    "toc-hr-collapsed": true
   },
   "source": [
    "## Case 1:\n",
    "In practice most often the case is: We are given the input and output waist radii, and thus the magnification, together with the input distance. Solving for the required focal length, we obtain"
   ]
  },
  {
   "cell_type": "code",
   "execution_count": 8,
   "metadata": {},
   "outputs": [],
   "source": [
    "M, E, d_in, d_out, w0_in, w0_out, Z_c = symbols('M, E, d_in, d_out, w0_in, w0_out, Z_c')\n",
    "\n",
    "fp = Z_c*(d_in/(E*Z_c))*(1+sqrt(1-E*(1+(d_in/Z_c)**-2)))\n",
    "fm = Z_c*(d_in/(E*Z_c))*(1-sqrt(1-E*(1+(d_in/Z_c)**-2)))"
   ]
  },
  {
   "cell_type": "markdown",
   "metadata": {},
   "source": [
    "Positive and negative focus \"f\" for M>1"
   ]
  },
  {
   "cell_type": "code",
   "execution_count": 9,
   "metadata": {},
   "outputs": [
    {
     "data": {
      "image/png": "[encoded data removed]",
      "text/latex": [
       "$$\\left ( \\frac{d_{in}}{E} \\left(- \\sqrt{- E \\left(\\frac{Z_{c}^{2}}{d_{in}^{2}} + 1\\right) + 1} + 1\\right), \\quad \\frac{d_{in}}{E} \\left(\\sqrt{- E \\left(\\frac{Z_{c}^{2}}{d_{in}^{2}} + 1\\right) + 1} + 1\\right)\\right )$$"
      ],
      "text/plain": [
       "⎛    ⎛        ____________________    ⎞      ⎛      ____________________    ⎞⎞\n",
       "⎜    ⎜       ╱     ⎛   2    ⎞         ⎟      ⎜     ╱     ⎛   2    ⎞         ⎟⎟\n",
       "⎜    ⎜      ╱      ⎜Z_c     ⎟         ⎟      ⎜    ╱      ⎜Z_c     ⎟         ⎟⎟\n",
       "⎜dᵢₙ⋅⎜-    ╱   - E⋅⎜──── + 1⎟ + 1  + 1⎟  dᵢₙ⋅⎜   ╱   - E⋅⎜──── + 1⎟ + 1  + 1⎟⎟\n",
       "⎜    ⎜    ╱        ⎜   2    ⎟         ⎟      ⎜  ╱        ⎜   2    ⎟         ⎟⎟\n",
       "⎜    ⎝  ╲╱         ⎝dᵢₙ     ⎠         ⎠      ⎝╲╱         ⎝dᵢₙ     ⎠         ⎠⎟\n",
       "⎜──────────────────────────────────────, ────────────────────────────────────⎟\n",
       "⎝                  E                                      E                  ⎠"
      ]
     },
     "execution_count": 9,
     "metadata": {},
     "output_type": "execute_result"
    }
   ],
   "source": [
    "fm, fp"
   ]
  },
  {
   "cell_type": "code",
   "execution_count": 10,
   "metadata": {},
   "outputs": [
    {
     "name": "stdout",
     "output_type": "stream",
     "text": [
      "For M=1\n",
      "Focus is given by:\n"
     ]
    },
    {
     "data": {
      "image/png": "[encoded data removed]",
      "text/latex": [
       "$$\\frac{Z_{c}^{2} \\left(1 + \\frac{d_{in}^{2}}{Z_{c}^{2}}\\right)}{2 d_{in}}$$"
      ],
      "text/plain": [
       "     ⎛       2⎞\n",
       "   2 ⎜    dᵢₙ ⎟\n",
       "Z_c ⋅⎜1 + ────⎟\n",
       "     ⎜       2⎟\n",
       "     ⎝    Z_c ⎠\n",
       "───────────────\n",
       "     2⋅dᵢₙ     "
      ]
     },
     "execution_count": 10,
     "metadata": {},
     "output_type": "execute_result"
    }
   ],
   "source": [
    "f1 = Z_c*(1+(d_in/Z_c)**2)/(2*d_in/Z_c)\n",
    "print('For M=1\\nFocus is given by:')\n",
    "f1"
   ]
  },
  {
   "cell_type": "markdown",
   "metadata": {
    "toc-hr-collapsed": true
   },
   "source": [
    "Assuming for the case of our ellipse, \n",
    "$$d_{in} = R1$$  $$f = f_{ellipsoid}$$ \n",
    "\n",
    "we can solve for R2 i.e., $d_{out}$\n",
    "\n",
    "\n",
    "The eccentricity can also be defined in terms of R1, R2, and the angle α between input and output beams (Goldsmith, 1998)"
   ]
  },
  {
   "cell_type": "code",
   "execution_count": 11,
   "metadata": {},
   "outputs": [
    {
     "data": {
      "image/png": "[encoded data removed]",
      "text/latex": [
       "$$\\frac{1}{R_{1} + R_{2}} \\left(R_{1}^{2} - 2 R_{1} R_{2} \\cos{\\left (\\alpha \\right )} + R_{2}^{2}\\right)$$"
      ],
      "text/plain": [
       "  2                      2\n",
       "R₁  - 2⋅R₁⋅R₂⋅cos(α) + R₂ \n",
       "──────────────────────────\n",
       "         R₁ + R₂          "
      ]
     },
     "execution_count": 11,
     "metadata": {},
     "output_type": "execute_result"
    }
   ],
   "source": [
    "alpha = symbols('alpha')\n",
    "e = (R1**2 + R2**2 - 2*R1*R2*cos(alpha))/(R1 + R2)\n",
    "e"
   ]
  },
  {
   "cell_type": "code",
   "execution_count": 12,
   "metadata": {},
   "outputs": [
    {
     "name": "stdout",
     "output_type": "stream",
     "text": [
      "For our case, alpha = 90, we get eccentricity as: \n",
      "\n"
     ]
    },
    {
     "data": {
      "image/png": "[encoded data removed]",
      "text/latex": [
       "$$\\frac{R_{1}^{2} + R_{2}^{2}}{R_{1} + R_{2}}$$"
      ],
      "text/plain": [
       "  2     2\n",
       "R₁  + R₂ \n",
       "─────────\n",
       " R₁ + R₂ "
      ]
     },
     "execution_count": 12,
     "metadata": {},
     "output_type": "execute_result"
    }
   ],
   "source": [
    "print('For our case, alpha = 90, we get eccentricity as: \\n')\n",
    "e_ellipsoid = e.subs({alpha:pi/2}).evalf()\n",
    "e_ellipsoid"
   ]
  },
  {
   "cell_type": "code",
   "execution_count": 13,
   "metadata": {},
   "outputs": [
    {
     "name": "stdout",
     "output_type": "stream",
     "text": [
      "Eccentricity of an elliptical mirror is already defined as :\n",
      "\n"
     ]
    },
    {
     "data": {
      "image/png": "[encoded data removed]",
      "text/latex": [
       "$$\\sqrt{1 - \\frac{b^{2}}{a^{2}}}$$"
      ],
      "text/plain": [
       "      ________\n",
       "     ╱      2 \n",
       "    ╱      b  \n",
       "   ╱   1 - ── \n",
       "  ╱         2 \n",
       "╲╱         a  "
      ]
     },
     "execution_count": 13,
     "metadata": {},
     "output_type": "execute_result"
    }
   ],
   "source": [
    "a, b = symbols('a, b')\n",
    "print('Eccentricity of an elliptical mirror is already defined as :\\n')\n",
    "\n",
    "e_standard = sqrt(1-b**2/a**2)\n",
    "e_standard"
   ]
  },
  {
   "cell_type": "markdown",
   "metadata": {},
   "source": [
    "where a and b are the semi-major and semi-minor axis respectivey."
   ]
  },
  {
   "cell_type": "code",
   "execution_count": 14,
   "metadata": {},
   "outputs": [
    {
     "name": "stdout",
     "output_type": "stream",
     "text": [
      "The semi-major axis a is also defined as: \n",
      "\n"
     ]
    },
    {
     "data": {
      "image/png": "[encoded data removed]",
      "text/latex": [
       "$$\\frac{R_{1}}{2} + \\frac{R_{2}}{2}$$"
      ],
      "text/plain": [
       "R₁   R₂\n",
       "── + ──\n",
       "2    2 "
      ]
     },
     "execution_count": 14,
     "metadata": {},
     "output_type": "execute_result"
    }
   ],
   "source": [
    "print('The semi-major axis a is also defined as: \\n')\n",
    "a = (R1 + R2)/2\n",
    "a"
   ]
  },
  {
   "cell_type": "code",
   "execution_count": 15,
   "metadata": {},
   "outputs": [],
   "source": [
    "class f_soln:\n",
    "    def __init__(self):\n",
    "        mag = BoundedFloatText(\n",
    "            value=2.05, min=0.1, max=10, step=0.01, description=\"M: \"\n",
    "        )\n",
    "        W = BoundedFloatText(\n",
    "            value=0.37, min=0.1, max=1, step=0.01, description=\"w0_in: \"\n",
    "        )\n",
    "        R1 = BoundedFloatText(value=12, min=5, max=20, step=0.1, description=\"R1: \")\n",
    "        L = IntRangeSlider(\n",
    "            value=[50, 1000], min=50, max=1500, step=1, description=\"GHz\"\n",
    "        )\n",
    "\n",
    "        width = BoundedIntText(value=10, min=5, max=25, step=1, description=\"width\")\n",
    "        height = BoundedIntText(value=6, min=5, max=25, step=1, description=\"height\")\n",
    "        dpi = BoundedIntText(value=100, min=70, max=250, step=1, description=\"Dpi\")\n",
    "\n",
    "        self.save_name = Text(value=\"\")\n",
    "\n",
    "        save_button = Button(description=\"Save\", layout={\"width\": \"300px\"})\n",
    "\n",
    "        save_button.on_click(self.save_plot)\n",
    "\n",
    "        self.print_save = Label(value=\"Status: \")\n",
    "\n",
    "        row1 = HBox([width, height, dpi])\n",
    "        row2 = HBox([mag, W, R1, L])\n",
    "\n",
    "        out = interactive_output(\n",
    "            self.plot,\n",
    "            {\n",
    "                \"M\": mag,\n",
    "                \"r1\": R1,\n",
    "                \"w0_in\": W,\n",
    "                \"lam\": L,\n",
    "                \"width\": width,\n",
    "                \"height\": height,\n",
    "                \"dpi\": dpi,\n",
    "            },\n",
    "        )\n",
    "\n",
    "        display(VBox([row1, row2, out, self.save_name, save_button, self.print_save]))\n",
    "\n",
    "    def plot(self, M, r1, w0_in, lam, width, height, dpi):\n",
    "\n",
    "        wn = np.linspace(*lam, 50)\n",
    "\n",
    "        x, y1, y2 = [], [], []\n",
    "        no_soln, soln = [], []\n",
    "        for l in wn:\n",
    "            zc = np.pi * w0_in ** 2 / ghz_cm(l)\n",
    "\n",
    "            temp0 = r1 / zc\n",
    "            x.append(temp0)\n",
    "\n",
    "            try:\n",
    "\n",
    "                if not M == 1:\n",
    "                    temp1 = fm / zc\n",
    "                    temp1_1 = float(\n",
    "                        temp1.subs({E: 1 - M ** -2, d_in: r1, Z_c: zc}).evalf()\n",
    "                    )\n",
    "                elif M == 1:\n",
    "                    temp1 = f1 / Zc\n",
    "                    temp1_1 = float(temp1.subs({d_in: r1, Z_c: zc}).evalf())\n",
    "\n",
    "                y1.append(temp1_1)\n",
    "                soln.append(round(l, 2))\n",
    "            except:\n",
    "                no_soln.append(round(l, 2))\n",
    "\n",
    "        self.fig, axs = plt.subplots(figsize=(width, height), dpi=dpi)\n",
    "\n",
    "        x_ = x[: len(y1)]\n",
    "        axs.plot(x_, y1, color='C0', label=f\"f/$Z_c$; $w0(trap)$={w0_in}cm;\" + \"$d_{in}$=%.2f cm\" % r1,)\n",
    "        \n",
    "        axs.legend()\n",
    "        axs.grid()\n",
    "        axs.set_xlabel(\"$d_{in}$/$Z_c$\")\n",
    "        axs.set_ylabel(\"f/$Z_c$\", color='C0')\n",
    "        axs.set_title(\n",
    "            f\"For M={M}: Solution exist for {soln[0]}-{soln[-1]} GHz\"\n",
    "        )\n",
    "        axs.tick_params(axis='y', labelcolor='C0')\n",
    "        \n",
    "        \n",
    "        if len(no_soln) > 0 and len(soln) > 0:\n",
    "            print(f\"\\nSolution: Exists for {soln[0]}-{soln[-1]} GHz\\n\")\n",
    "\n",
    "            print(f\"Does not exist for: {no_soln[0]}-{no_soln[-1]} GHz\\n\")\n",
    "        if len(soln) < 1:\n",
    "            print(f\"x: {x}\\ny: {y1}\")\n",
    "\n",
    "        # Finding R2 position:\n",
    "        x_ = np.array(x_)\n",
    "        y1 = np.array(y1)\n",
    "        r2 = r1 / ((x_ / y1) - 1)\n",
    "        r2_ind = np.logical_and(r2 <= 50, r2 > 0)\n",
    "        \n",
    "        axs1 = axs.twinx()\n",
    "        axs1.plot(x_[r2_ind], r2[r2_ind], color='C1', label=\"$d_{out}$ filtered by: <=50 and >0\")\n",
    "        \n",
    "        axs1.set_ylabel('$d_{out}$ (cm)', color='C1')\n",
    "        axs1.tick_params(axis='y', labelcolor='C1')\n",
    "        axs1.legend()\n",
    "        \n",
    "        #self.fig.legend()\n",
    "        \n",
    "        try:\n",
    "            self.save_name.value = f\"M-{M}_{soln[0]}-{soln[-1]}GHz_din_{r1}cm\"\n",
    "        except:\n",
    "            pass\n",
    "        plt.show()\n",
    "\n",
    "    def save_plot(self, event):\n",
    "\n",
    "        self.fig.savefig(f\"./{self.save_name.value}.png\")\n",
    "\n",
    "        t = datetime.datetime.now()\n",
    "        self.print_save.value = f'File \"{self.save_name.value}.png\" Saved; {t.ctime()}'"
   ]
  },
  {
   "cell_type": "markdown",
   "metadata": {},
   "source": [
    "## Simulation to determine optimal focal length solution for elliptical mirror."
   ]
  },
  {
   "cell_type": "code",
   "execution_count": 16,
   "metadata": {},
   "outputs": [
    {
     "data": {
      "application/vnd.jupyter.widget-view+json": {
       "model_id": "1ab38c2bb9cd4c75b3e79ce543f4b953",
       "version_major": 2,
       "version_minor": 0
      },
      "text/plain": [
       "VBox(children=(HBox(children=(BoundedIntText(value=10, description='width', max=25, min=5), BoundedIntText(val…"
      ]
     },
     "metadata": {},
     "output_type": "display_data"
    }
   ],
   "source": [
    "start = f_soln()"
   ]
  },
  {
   "cell_type": "markdown",
   "metadata": {},
   "source": [
    "The above simulation shows that we might need different focal length R2 for different wavelength, so we cannot use this method. Let us examine another case as defined below."
   ]
  },
  {
   "cell_type": "markdown",
   "metadata": {},
   "source": [
    "## Case 2:\n",
    "\n",
    "The input and output distance to waist is a fixed sum d, then the expression for input and output distance is given by:"
   ]
  },
  {
   "cell_type": "code",
   "execution_count": 17,
   "metadata": {},
   "outputs": [
    {
     "data": {
      "image/png": "[encoded data removed]",
      "text/latex": [
       "$$\\left ( d_{in} = f - \\frac{1}{M} \\sqrt{f^{2} - f_{0}^{2}}, \\quad d_{in} = f + \\frac{1}{M} \\sqrt{f^{2} - f_{0}^{2}}, \\quad d_{out} = - M \\sqrt{f^{2} - f_{0}^{2}} + f, \\quad d_{out} = M \\sqrt{f^{2} - f_{0}^{2}} + f\\right )$$"
      ],
      "text/plain": [
       "⎛             __________               __________                             \n",
       "⎜            ╱  2     2               ╱  2     2                 __________   \n",
       "⎜          ╲╱  f  - f₀              ╲╱  f  - f₀                 ╱  2     2    \n",
       "⎜dᵢₙ = f - ─────────────, dᵢₙ = f + ─────────────, dₒᵤₜ = - M⋅╲╱  f  - f₀   + \n",
       "⎝                M                        M                                   \n",
       "\n",
       "                             ⎞\n",
       "               __________    ⎟\n",
       "              ╱  2     2     ⎟\n",
       "f, dₒᵤₜ = M⋅╲╱  f  - f₀   + f⎟\n",
       "                             ⎠"
      ]
     },
     "execution_count": 17,
     "metadata": {},
     "output_type": "execute_result"
    }
   ],
   "source": [
    "f, f0, d, M, d_in, d_out = symbols(\"f, f0, d, M, d_in, d_out\")\n",
    "\n",
    "eq_din_m = Eq(d_in, f - sqrt(f ** 2 - f0 ** 2) / M)\n",
    "eq_din_p = Eq(d_in, f + sqrt(f ** 2 - f0 ** 2) / M)\n",
    "\n",
    "eq_dout_m = Eq(d_out, f - sqrt(f ** 2 - f0 ** 2) * M)\n",
    "eq_dout_p = Eq(d_out, f + sqrt(f ** 2 - f0 ** 2) * M)\n",
    "\n",
    "eq_din_m, eq_din_p, eq_dout_m, eq_dout_p"
   ]
  },
  {
   "cell_type": "markdown",
   "metadata": {},
   "source": [
    "We will now try to find the focal length for an optimal d_out corresponds to M (which provides w_out since we already know w_in) using the known set d_in value (from trap) and \n",
    "$$f0 = \\pi*(w0_{in}*w0_{out})/\\lambda$$"
   ]
  },
  {
   "cell_type": "code",
   "execution_count": 211,
   "metadata": {},
   "outputs": [],
   "source": [
    "class f_case2:\n",
    "    def __init__(self):\n",
    "        Win = BoundedFloatText(\n",
    "            value=0.37, min=0.1, max=1, step=0.01, description=\"w0_in: \"\n",
    "        )\n",
    "        Wout = BoundedFloatText(\n",
    "            value=0.15, min=0.01, max=1, step=0.01, description=\"w0_out: \"\n",
    "        )\n",
    "        D1 = BoundedFloatText(value=18, min=5, max=20, step=0.1, description=\"R1: \")\n",
    "        L = IntRangeSlider(\n",
    "            value=[325, 500], min=50, max=1500, step=1, description=\"GHz\"\n",
    "        )\n",
    "\n",
    "        width = BoundedIntText(value=15, min=5, max=25, step=1, description=\"width\")\n",
    "        height = BoundedIntText(value=6, min=5, max=25, step=1, description=\"height\")\n",
    "        dpi = BoundedIntText(value=106, min=70, max=250, step=1, description=\"Dpi\")\n",
    "\n",
    "        Xlabel = Text(value=\"f0 (cm)\")\n",
    "        Ylabel_0 = Text(value=\"+ve f (cm)\")\n",
    "        Ylabel_1 = Text(value=\"-ve f (cm)\")\n",
    "        Title = Text(\n",
    "            value=\"Determining focal length from given M and $d_{in}$ then calculating $d_{out}$\\nNOTE: |+$d_{out}$|=|-$d_{out}$|\"\n",
    "        )\n",
    "\n",
    "        self.save_name = Text(value=\"\")\n",
    "\n",
    "        save_button = Button(description=\"Save\", layout={\"width\": \"300px\"})\n",
    "\n",
    "        save_button.on_click(self.save_plot)\n",
    "\n",
    "        self.print_save = Label(value=\"Status: \")\n",
    "\n",
    "        self.focal_list1 = Select(\n",
    "            options=[\"1\"],\n",
    "            description=\"+ve F:\",\n",
    "            layout=Layout(width=\"30%\", height=\"160px\"),\n",
    "        )\n",
    "\n",
    "        self.focal_list2 = Select(\n",
    "            options=[\"2\"],\n",
    "            description=\"-ve F:\",\n",
    "            layout=Layout(width=\"30%\", height=\"160px\"),\n",
    "        )\n",
    "\n",
    "        self.save_name1 = Text(value=\"\")\n",
    "\n",
    "        save_button1 = Button(description=\"Save\", layout={\"width\": \"300px\"})\n",
    "\n",
    "        save_button1.on_click(self.save_plot1)\n",
    "\n",
    "        self.print_save1 = Label(value=\"Status: \")\n",
    "\n",
    "        out = interactive_output(\n",
    "            self.plot,\n",
    "            {\n",
    "                \"d1\": D1,\n",
    "                \"w0_in\": Win,\n",
    "                \"w0_out\": Wout,\n",
    "                \"lam\": L,\n",
    "                \"width\": width,\n",
    "                \"height\": height,\n",
    "                \"dpi\": dpi,\n",
    "                \"xlabel\": Xlabel,\n",
    "                \"ylabel_0\": Ylabel_0,\n",
    "                \"ylabel_1\": Ylabel_1,\n",
    "                \"title\": Title,\n",
    "            },\n",
    "        )\n",
    "        \n",
    "        out1 = interactive_output(self.plot2, {\"focal_list\":self.focal_list1})\n",
    "\n",
    "        # Alignment of widgets\n",
    "\n",
    "        row1 = HBox([width, height, dpi])\n",
    "        row2 = HBox([Win, Wout, D1, L])\n",
    "        row3 = HBox([Xlabel, VBox([Ylabel_0, Ylabel_1]), Title])\n",
    "        row4 = HBox([out])\n",
    "        row5 = VBox([self.save_name, save_button, self.print_save])\n",
    "        row6 = HBox([self.focal_list1, self.focal_list2])\n",
    "        row7 = VBox([self.save_name1, save_button1, self.print_save1])\n",
    "\n",
    "        display(VBox([row1, row2, row3, row4, row5, row6, out1, row7]))\n",
    "\n",
    "    def plot(\n",
    "        self,\n",
    "        d1,\n",
    "        w0_in,\n",
    "        w0_out,\n",
    "        lam,\n",
    "        width,\n",
    "        height,\n",
    "        dpi,\n",
    "        xlabel,\n",
    "        ylabel_0,\n",
    "        ylabel_1,\n",
    "        title,\n",
    "    ):\n",
    "\n",
    "        M_ = w0_out / w0_in\n",
    "        lam = np.linspace(*lam, 10)\n",
    "\n",
    "        f0_ = []\n",
    "        f_m, f_p = [], []\n",
    "        d_out_m, d_out_p = [], []\n",
    "        no_soln, soln = [], []\n",
    "\n",
    "        for l in lam:\n",
    "            tempx = (np.pi * w0_in * w0_out) / ghz_cm(l)\n",
    "\n",
    "            try:\n",
    "                f0_.append(tempx)\n",
    "                tempy = solveset(eq_din_p.subs({M: M_, d_in: d1, f0: tempx}), f)\n",
    "\n",
    "                tempy_m = float(tempy.args[0])\n",
    "                tempy_p = float(tempy.args[1])\n",
    "\n",
    "                f_m.append(tempy_m)\n",
    "                f_p.append(tempy_p)\n",
    "\n",
    "                temp_dout_m = float(eq_dout_p.subs({M: M_, f: tempy_m, f0: tempx}).rhs)\n",
    "\n",
    "                temp_dout_p = float(eq_dout_p.subs({M: M_, f: tempy_p, f0: tempx}).rhs)\n",
    "\n",
    "                d_out_m.append(temp_dout_m)\n",
    "                d_out_p.append(temp_dout_p)\n",
    "\n",
    "                soln.append(l)\n",
    "\n",
    "            except:\n",
    "                no_soln.append(l)\n",
    "\n",
    "        f0_ = np.array(f0_)\n",
    "        f_m = np.array(f_m)\n",
    "        f_p = np.array(f_p)\n",
    "        d_out_m = np.array(d_out_m)\n",
    "        d_out_p = np.array(d_out_p)\n",
    "\n",
    "        self.focal_list1.options = np.around(f_p, 2)\n",
    "        self.focal_list2.options = np.around(f_m, 2)\n",
    "\n",
    "        if len(no_soln) > 0 and len(soln) > 0:\n",
    "            print(f\"\\nSolution: Exists for {soln[0]}-{soln[-1]} GHz\\n\")\n",
    "            print(f\"nSolution does not exist for: {no_soln[0]}-{no_soln[-1]} GHz\\n\")\n",
    "        elif len(soln) > 0:\n",
    "            print(f\"Solution: Exists for {soln[0]}-{soln[-1]} GHz\")\n",
    "\n",
    "        self.fig, ax = plt.subplots(nrows=1, ncols=2, figsize=(width, height), dpi=dpi)\n",
    "        plt.suptitle(title)\n",
    "        ax0, ax1 = ax\n",
    "\n",
    "        # Subplot 1: Positve focus\n",
    "\n",
    "        ax0.plot(f0_, f_p, label=\"+ve f\")\n",
    "        ax0.plot(f0_, d_out_p, label=\"+ $d_{out}$\")\n",
    "        ax0.plot(f0_, -d_out_m, \"x\", label=\"|-$d_{out}$|\")\n",
    "\n",
    "        ax0.legend()\n",
    "        ax0.grid()\n",
    "        ax0.set_xlabel(xlabel)\n",
    "        ax0.set_ylabel(ylabel_0)\n",
    "\n",
    "        # Subplot 2: Negative focus\n",
    "\n",
    "        ax1.plot(f0_, f_m, label=\"-ve f\")\n",
    "        ax1.plot(f0_, d_out_m, label=\"- $d_{out}$\")\n",
    "\n",
    "        ax1.legend()\n",
    "        ax1.set_ylabel(ylabel_1)\n",
    "        ax1.set_xlabel(xlabel)\n",
    "        ax1.grid()\n",
    "        \n",
    "        self.save_name.value = (\n",
    "            f\"w0_in-{w0_in}_w0_out-{w0_out}_M-{M_:.2f}_{lam[0]}-{lam[-1]}GHz\"\n",
    "        )\n",
    "    \n",
    "        self.width, self.height, self.dpi, self.lam, self.w0_in, self.w0_out, self.M_ = width, height, dpi, lam, w0_in, w0_out, M_\n",
    "    \n",
    "    def plot2(self, focal_list):\n",
    "        # New figure for constant d_out for a given focal length\n",
    "\n",
    "        #self.fig1, axs = plt.subplots(figsize=(self.width, self.height), dpi=self.dpi)\n",
    "        \n",
    "        d_out_values = []\n",
    "        freq, error_freq = [], []\n",
    "        print(f\"Focal length: {focal_list}\")\n",
    "        for wn in self.lam:\n",
    "            try:\n",
    "                temp_f0 = (np.pi * self.w0_in * self.w0_out) / ghz_cm(wn)\n",
    "                print(f'f0: {temp_f0}')\n",
    "                \n",
    "                temp_dout = float(eq_dout_p.subs({M:self.M_, f0:temp_f0, f:focal_list}).rhs)\n",
    "                \n",
    "                print(temp_dout)\n",
    "                \n",
    "                #d_out_values.append()\n",
    "                #freq.append(wn)\n",
    "                \n",
    "            except Exception as e:\n",
    "                print(f\"Error: {e}\\n\")\n",
    "                error_freq.append(wn)\n",
    "                \n",
    "                \n",
    "        print(f\"Freq: {freq}\\nd_out: {d_out_values}\\n\")\n",
    "        \n",
    "        if len(error_freq)>0: \n",
    "            print(f'Solution does not exist for {error_freq}')\n",
    "        \n",
    "        #axs.plot(freq, d_out_values, label='d_out')\n",
    "        \n",
    "    def save_plot(self, event):\n",
    "\n",
    "        self.fig.savefig(f\"./{self.save_name.value}.png\")\n",
    "\n",
    "        t = datetime.datetime.now()\n",
    "        self.print_save.value = f'File \"{self.save_name.value}.png\" Saved; {t.ctime()}'\n",
    "\n",
    "    def save_plot1(self, event):\n",
    "\n",
    "        self.fig1.savefig(f\"./{self.save_name1.value}.png\")\n",
    "\n",
    "        t = datetime.datetime.now()\n",
    "        self.print_save.value = f'File \"{self.save_name1.value}.png\" Saved; {t.ctime()}'"
   ]
  },
  {
   "cell_type": "code",
   "execution_count": 212,
   "metadata": {},
   "outputs": [
    {
     "data": {
      "application/vnd.jupyter.widget-view+json": {
       "model_id": "2a45498c2202431bb5576df37c883b68",
       "version_major": 2,
       "version_minor": 0
      },
      "text/plain": [
       "VBox(children=(HBox(children=(BoundedIntText(value=15, description='width', max=25, min=5), BoundedIntText(val…"
      ]
     },
     "metadata": {},
     "output_type": "display_data"
    }
   ],
   "source": [
    "#%matplotlib widget\n",
    "%matplotlib inline\n",
    "start = f_case2()"
   ]
  },
  {
   "cell_type": "code",
   "execution_count": 201,
   "metadata": {},
   "outputs": [
    {
     "data": {
      "image/png": "[encoded data removed]",
      "text/latex": [
       "$$8.31931024229188$$"
      ],
      "text/plain": [
       "8.31931024229188"
      ]
     },
     "execution_count": 201,
     "metadata": {},
     "output_type": "execute_result"
    }
   ],
   "source": [
    "eq_dout_p.subs({M:0.41, f0:2, f:6}).rhs.evalf()"
   ]
  },
  {
   "cell_type": "code",
   "execution_count": 208,
   "metadata": {},
   "outputs": [
    {
     "data": {
      "image/png": "[encoded data removed]",
      "text/latex": [
       "$$M$$"
      ],
      "text/plain": [
       "M"
      ]
     },
     "execution_count": 208,
     "metadata": {},
     "output_type": "execute_result"
    }
   ],
   "source": [
    "M"
   ]
  },
  {
   "cell_type": "code",
   "execution_count": 165,
   "metadata": {},
   "outputs": [
    {
     "data": {
      "application/vnd.jupyter.widget-view+json": {
       "model_id": "952313eec5654678a733802392cf7b88",
       "version_major": 2,
       "version_minor": 0
      },
      "text/plain": [
       "Select(description='OS:', options=('Linux', 'Windows', 'OSX'), value='Linux')"
      ]
     },
     "metadata": {},
     "output_type": "display_data"
    },
    {
     "data": {
      "application/vnd.jupyter.widget-view+json": {
       "model_id": "b20cec05b32f48c09957f2cb3eeff89a",
       "version_major": 2,
       "version_minor": 0
      },
      "text/plain": [
       "Output()"
      ]
     },
     "metadata": {},
     "output_type": "display_data"
    },
    {
     "data": {
      "application/vnd.jupyter.widget-view+json": {
       "model_id": "101ca937231a497b8f7ea0a7a4bcfdab",
       "version_major": 2,
       "version_minor": 0
      },
      "text/plain": [
       "Output()"
      ]
     },
     "metadata": {},
     "output_type": "display_data"
    }
   ],
   "source": [
    "def test(x):    \n",
    "    print(x)\n",
    "def test1(x):    \n",
    "    print(x+\"Hi\")\n",
    "    \n",
    "test_ = ['Linux', 'Windows', 'OSX']\n",
    "\n",
    "temp = Select(\n",
    "    options=test_,\n",
    "    description='OS:')\n",
    "\n",
    "test_1 = ['L', 'Windows', 'OSX']\n",
    "\n",
    "temp1 = Select(\n",
    "    options=test_1,\n",
    "    description='OS:')\n",
    "\n",
    "out = interactive_output(test, {'x':temp})\n",
    "out2 = interactive_output(test1, {'x':temp1})\n",
    "\n",
    "display(temp, out, out2)"
   ]
  },
  {
   "cell_type": "code",
   "execution_count": null,
   "metadata": {},
   "outputs": [],
   "source": []
  },
  {
   "cell_type": "code",
   "execution_count": null,
   "metadata": {},
   "outputs": [],
   "source": []
  },
  {
   "cell_type": "code",
   "execution_count": null,
   "metadata": {},
   "outputs": [],
   "source": []
  },
  {
   "cell_type": "code",
   "execution_count": null,
   "metadata": {},
   "outputs": [],
   "source": []
  },
  {
   "cell_type": "code",
   "execution_count": null,
   "metadata": {},
   "outputs": [],
   "source": []
  },
  {
   "cell_type": "code",
   "execution_count": null,
   "metadata": {},
   "outputs": [],
   "source": []
  },
  {
   "cell_type": "code",
   "execution_count": null,
   "metadata": {},
   "outputs": [],
   "source": []
  },
  {
   "cell_type": "code",
   "execution_count": null,
   "metadata": {},
   "outputs": [],
   "source": []
  },
  {
   "cell_type": "code",
   "execution_count": null,
   "metadata": {},
   "outputs": [],
   "source": []
  },
  {
   "cell_type": "code",
   "execution_count": null,
   "metadata": {},
   "outputs": [],
   "source": []
  }
 ],
 "metadata": {
  "kernelspec": {
   "display_name": "Python 3",
   "language": "python",
   "name": "python3"
  },
  "language_info": {
   "codemirror_mode": {
    "name": "ipython",
    "version": 3
   },
   "file_extension": ".py",
   "mimetype": "text/x-python",
   "name": "python",
   "nbconvert_exporter": "python",
   "pygments_lexer": "ipython3",
   "version": "3.7.3"
  }
 },
 "nbformat": 4,
 "nbformat_minor": 2
}
